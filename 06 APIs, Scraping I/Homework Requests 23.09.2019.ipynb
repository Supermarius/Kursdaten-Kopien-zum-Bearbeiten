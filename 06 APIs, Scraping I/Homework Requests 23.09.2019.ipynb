{
 "cells": [
  {
   "cell_type": "markdown",
   "metadata": {},
   "source": [
    "Importiere die requests Library"
   ]
  },
  {
   "cell_type": "code",
   "execution_count": 1,
   "metadata": {},
   "outputs": [],
   "source": [
    "import requests"
   ]
  },
  {
   "cell_type": "markdown",
   "metadata": {},
   "source": [
    "Importiere die Pandas Library in der Kurzform."
   ]
  },
  {
   "cell_type": "code",
   "execution_count": 2,
   "metadata": {},
   "outputs": [],
   "source": [
    "import pandas as pd"
   ]
  },
  {
   "cell_type": "markdown",
   "metadata": {},
   "source": [
    "1. Unter Verwendung der [USGS.gov Earthquake API](https://earthquake.usgs.gov) ziehe heraus, wieviele Erdbeben sich im August 2018 ereignet haben?"
   ]
  },
  {
   "cell_type": "code",
   "execution_count": 3,
   "metadata": {},
   "outputs": [
    {
     "name": "stdout",
     "output_type": "stream",
     "text": [
      "17045\n"
     ]
    }
   ],
   "source": [
    "datum1 = \"2018-08-01\"\n",
    "datum2 = \"2018-08-31\"\n",
    "\n",
    "url_start = \"https://earthquake.usgs.gov/fdsnws/event/1/count?starttime=\"\n",
    "url_middle = \"&endtime=\"\n",
    "\n",
    "erdbeben = requests.get(url_start + datum1 + url_middle + datum2)\n",
    "\n",
    "print(erdbeben.text)"
   ]
  },
  {
   "cell_type": "markdown",
   "metadata": {},
   "source": [
    "2. Mache das gleiche für August 2017, 2016, 2015?"
   ]
  },
  {
   "cell_type": "code",
   "execution_count": 4,
   "metadata": {},
   "outputs": [
    {
     "name": "stdout",
     "output_type": "stream",
     "text": [
      "12300\n"
     ]
    }
   ],
   "source": [
    "datum1 = \"2017-08-01\"\n",
    "datum2 = \"2017-08-31\"\n",
    "\n",
    "erdbeben = requests.get(url_start + datum1 + url_middle + datum2)\n",
    "\n",
    "print(erdbeben.text)"
   ]
  },
  {
   "cell_type": "code",
   "execution_count": 5,
   "metadata": {},
   "outputs": [
    {
     "name": "stdout",
     "output_type": "stream",
     "text": [
      "10878\n"
     ]
    }
   ],
   "source": [
    "datum1 = \"2016-08-01\"\n",
    "datum2 = \"2016-08-31\"\n",
    "\n",
    "erdbeben = requests.get(url_start + datum1 + url_middle + datum2)\n",
    "\n",
    "print(erdbeben.text)"
   ]
  },
  {
   "cell_type": "code",
   "execution_count": 6,
   "metadata": {},
   "outputs": [
    {
     "name": "stdout",
     "output_type": "stream",
     "text": [
      "9981\n"
     ]
    }
   ],
   "source": [
    "datum1 = \"2015-08-01\"\n",
    "datum2 = \"2015-08-31\"\n",
    "\n",
    "erdbeben = requests.get(url_start + datum1 + url_middle + datum2)\n",
    "\n",
    "print(erdbeben.text)"
   ]
  },
  {
   "cell_type": "markdown",
   "metadata": {},
   "source": [
    "#### Retos kompakte Lösung:"
   ]
  },
  {
   "cell_type": "code",
   "execution_count": 7,
   "metadata": {},
   "outputs": [
    {
     "name": "stdout",
     "output_type": "stream",
     "text": [
      "2015: 9981\n",
      "2016: 10878\n",
      "2017: 12300\n",
      "2018: 17045\n"
     ]
    }
   ],
   "source": [
    "# https://earthquake.usgs.gov/fdsnws/event/1/count?starttime=2014-01-01&endtime=2014-01-02\n",
    "import requests\n",
    "import pandas as pd\n",
    "base = \"https://earthquake.usgs.gov/fdsnws/event/1/\"\n",
    "action = \"count?\"\n",
    "# Url = \"starttime=2018-09-25&endtime=2018-09-30-25&endtime=2018-09-30\"\n",
    "for jahr in range(2015, 2019):\n",
    "    \n",
    "    url = base + action + \"starttime=\" + str(jahr) + \"-08-01&endtime=\" + str(jahr) + \"-08-31\"\n",
    "    \n",
    "    response = requests.get(url)\n",
    "    print(str(jahr) + \": \" + str(response.text))"
   ]
  },
  {
   "cell_type": "markdown",
   "metadata": {},
   "source": [
    "3. Zeige nur die Erdbeben an, die in den letzten 5 Jahren eine Mindeststärke von 5,5 hatten? (Neue Parameter kannst Du mit den Zeichen \"&\" ergänzen. Lese Dich in die Dokumentation ein, um noch mehr Parameter kennezulernen)"
   ]
  },
  {
   "cell_type": "markdown",
   "metadata": {},
   "source": [
    "#### Mein Versuch:\n",
    "Zwei Probleme: 1. Ich frage sämtliche Beben ab (ohne Magnituden-Beschränkung) und überlaste damit das System. 2. Ich wandle immer wieder im Loop drin den requesteten Text per Json um in Dictionarys, statt das am Anfang zu machen."
   ]
  },
  {
   "cell_type": "code",
   "execution_count": null,
   "metadata": {},
   "outputs": [],
   "source": [
    "erdbeben = requests.get(\"https://earthquake.usgs.gov/fdsnws/event/1/query?format=geojson&starttime=2014-09-23&endtime=2014-09-25\")\n",
    "\n",
    "liste = []\n",
    "\n",
    "for beben in range(0, int(len(erdbeben.json()[\"features\"]))):\n",
    "    magnitude = erdbeben.json()[\"features\"][int(beben)][\"properties\"][\"mag\"]\n",
    "      \n",
    "    if float(magnitude) >= 5.5:\n",
    "        place = erdbeben.json()[\"features\"][int(beben)][\"properties\"][\"place\"]\n",
    "        time = erdbeben.json()[\"features\"][int(beben)][\"properties\"][\"time\"]\n",
    "        \n",
    "        mini_dict = {\"Ort\": place, \"Zeit\": time, \"Stärke\": magnitude}\n",
    "  \n",
    "        liste.append(mini_dict)\n",
    "\n",
    "pd.DataFrame(liste)"
   ]
  },
  {
   "cell_type": "markdown",
   "metadata": {},
   "source": [
    "#### Step-by-step-Verbesserung meines Versuchs:\n",
    "(scheitert an Datenmenge)"
   ]
  },
  {
   "cell_type": "code",
   "execution_count": 62,
   "metadata": {},
   "outputs": [
    {
     "data": {
      "text/plain": [
       "dict_keys(['type', 'metadata', 'features', 'bbox'])"
      ]
     },
     "execution_count": 62,
     "metadata": {},
     "output_type": "execute_result"
    }
   ],
   "source": [
    "### befehl .keys() zeigt Keys eines Dictionarys an\n",
    "\n",
    "erdbeben = requests.get(\"https://earthquake.usgs.gov/fdsnws/event/1/query?format=geojson&starttime=2014-09-23&endtime=2014-09-25\")\n",
    "erdbeben = erdbeben.json()\n",
    "erdbeben.keys()"
   ]
  },
  {
   "cell_type": "code",
   "execution_count": 40,
   "metadata": {},
   "outputs": [
    {
     "ename": "JSONDecodeError",
     "evalue": "Expecting value: line 1 column 1 (char 0)",
     "output_type": "error",
     "traceback": [
      "\u001b[0;31m---------------------------------------------------------------------------\u001b[0m",
      "\u001b[0;31mJSONDecodeError\u001b[0m                           Traceback (most recent call last)",
      "\u001b[0;32m<ipython-input-40-e810788da4d7>\u001b[0m in \u001b[0;36m<module>\u001b[0;34m\u001b[0m\n\u001b[1;32m      1\u001b[0m \u001b[0;31m# machen wir eine Liste mit den einzelnen Erdbeben und erledigen schon die ganze json-Transormation ein für allemal:\u001b[0m\u001b[0;34m\u001b[0m\u001b[0;34m\u001b[0m\u001b[0;34m\u001b[0m\u001b[0m\n\u001b[1;32m      2\u001b[0m \u001b[0merdbeben\u001b[0m \u001b[0;34m=\u001b[0m \u001b[0mrequests\u001b[0m\u001b[0;34m.\u001b[0m\u001b[0mget\u001b[0m\u001b[0;34m(\u001b[0m\u001b[0;34m\"https://earthquake.usgs.gov/fdsnws/event/1/query?format=geojson&starttime=2014-09-24&endtime=2019-09-24\"\u001b[0m\u001b[0;34m)\u001b[0m\u001b[0;34m\u001b[0m\u001b[0;34m\u001b[0m\u001b[0m\n\u001b[0;32m----> 3\u001b[0;31m \u001b[0merdbeben\u001b[0m \u001b[0;34m=\u001b[0m \u001b[0merdbeben\u001b[0m\u001b[0;34m.\u001b[0m\u001b[0mjson\u001b[0m\u001b[0;34m(\u001b[0m\u001b[0;34m)\u001b[0m\u001b[0;34m\u001b[0m\u001b[0;34m\u001b[0m\u001b[0m\n\u001b[0m\u001b[1;32m      4\u001b[0m \u001b[0merdbeben\u001b[0m\u001b[0;34m.\u001b[0m\u001b[0mkeys\u001b[0m\u001b[0;34m(\u001b[0m\u001b[0;34m)\u001b[0m\u001b[0;34m\u001b[0m\u001b[0;34m\u001b[0m\u001b[0m\n\u001b[1;32m      5\u001b[0m \u001b[0merdbebenliste\u001b[0m \u001b[0;34m=\u001b[0m \u001b[0merdbeben\u001b[0m\u001b[0;34m[\u001b[0m\u001b[0;34m'features'\u001b[0m\u001b[0;34m]\u001b[0m\u001b[0;34m\u001b[0m\u001b[0;34m\u001b[0m\u001b[0m\n",
      "\u001b[0;32m//anaconda3/lib/python3.7/site-packages/requests/models.py\u001b[0m in \u001b[0;36mjson\u001b[0;34m(self, **kwargs)\u001b[0m\n\u001b[1;32m    895\u001b[0m                     \u001b[0;31m# used.\u001b[0m\u001b[0;34m\u001b[0m\u001b[0;34m\u001b[0m\u001b[0;34m\u001b[0m\u001b[0m\n\u001b[1;32m    896\u001b[0m                     \u001b[0;32mpass\u001b[0m\u001b[0;34m\u001b[0m\u001b[0;34m\u001b[0m\u001b[0m\n\u001b[0;32m--> 897\u001b[0;31m         \u001b[0;32mreturn\u001b[0m \u001b[0mcomplexjson\u001b[0m\u001b[0;34m.\u001b[0m\u001b[0mloads\u001b[0m\u001b[0;34m(\u001b[0m\u001b[0mself\u001b[0m\u001b[0;34m.\u001b[0m\u001b[0mtext\u001b[0m\u001b[0;34m,\u001b[0m \u001b[0;34m**\u001b[0m\u001b[0mkwargs\u001b[0m\u001b[0;34m)\u001b[0m\u001b[0;34m\u001b[0m\u001b[0;34m\u001b[0m\u001b[0m\n\u001b[0m\u001b[1;32m    898\u001b[0m \u001b[0;34m\u001b[0m\u001b[0m\n\u001b[1;32m    899\u001b[0m     \u001b[0;34m@\u001b[0m\u001b[0mproperty\u001b[0m\u001b[0;34m\u001b[0m\u001b[0;34m\u001b[0m\u001b[0m\n",
      "\u001b[0;32m//anaconda3/lib/python3.7/json/__init__.py\u001b[0m in \u001b[0;36mloads\u001b[0;34m(s, encoding, cls, object_hook, parse_float, parse_int, parse_constant, object_pairs_hook, **kw)\u001b[0m\n\u001b[1;32m    346\u001b[0m             \u001b[0mparse_int\u001b[0m \u001b[0;32mis\u001b[0m \u001b[0;32mNone\u001b[0m \u001b[0;32mand\u001b[0m \u001b[0mparse_float\u001b[0m \u001b[0;32mis\u001b[0m \u001b[0;32mNone\u001b[0m \u001b[0;32mand\u001b[0m\u001b[0;34m\u001b[0m\u001b[0;34m\u001b[0m\u001b[0m\n\u001b[1;32m    347\u001b[0m             parse_constant is None and object_pairs_hook is None and not kw):\n\u001b[0;32m--> 348\u001b[0;31m         \u001b[0;32mreturn\u001b[0m \u001b[0m_default_decoder\u001b[0m\u001b[0;34m.\u001b[0m\u001b[0mdecode\u001b[0m\u001b[0;34m(\u001b[0m\u001b[0ms\u001b[0m\u001b[0;34m)\u001b[0m\u001b[0;34m\u001b[0m\u001b[0;34m\u001b[0m\u001b[0m\n\u001b[0m\u001b[1;32m    349\u001b[0m     \u001b[0;32mif\u001b[0m \u001b[0mcls\u001b[0m \u001b[0;32mis\u001b[0m \u001b[0;32mNone\u001b[0m\u001b[0;34m:\u001b[0m\u001b[0;34m\u001b[0m\u001b[0;34m\u001b[0m\u001b[0m\n\u001b[1;32m    350\u001b[0m         \u001b[0mcls\u001b[0m \u001b[0;34m=\u001b[0m \u001b[0mJSONDecoder\u001b[0m\u001b[0;34m\u001b[0m\u001b[0;34m\u001b[0m\u001b[0m\n",
      "\u001b[0;32m//anaconda3/lib/python3.7/json/decoder.py\u001b[0m in \u001b[0;36mdecode\u001b[0;34m(self, s, _w)\u001b[0m\n\u001b[1;32m    335\u001b[0m \u001b[0;34m\u001b[0m\u001b[0m\n\u001b[1;32m    336\u001b[0m         \"\"\"\n\u001b[0;32m--> 337\u001b[0;31m         \u001b[0mobj\u001b[0m\u001b[0;34m,\u001b[0m \u001b[0mend\u001b[0m \u001b[0;34m=\u001b[0m \u001b[0mself\u001b[0m\u001b[0;34m.\u001b[0m\u001b[0mraw_decode\u001b[0m\u001b[0;34m(\u001b[0m\u001b[0ms\u001b[0m\u001b[0;34m,\u001b[0m \u001b[0midx\u001b[0m\u001b[0;34m=\u001b[0m\u001b[0m_w\u001b[0m\u001b[0;34m(\u001b[0m\u001b[0ms\u001b[0m\u001b[0;34m,\u001b[0m \u001b[0;36m0\u001b[0m\u001b[0;34m)\u001b[0m\u001b[0;34m.\u001b[0m\u001b[0mend\u001b[0m\u001b[0;34m(\u001b[0m\u001b[0;34m)\u001b[0m\u001b[0;34m)\u001b[0m\u001b[0;34m\u001b[0m\u001b[0;34m\u001b[0m\u001b[0m\n\u001b[0m\u001b[1;32m    338\u001b[0m         \u001b[0mend\u001b[0m \u001b[0;34m=\u001b[0m \u001b[0m_w\u001b[0m\u001b[0;34m(\u001b[0m\u001b[0ms\u001b[0m\u001b[0;34m,\u001b[0m \u001b[0mend\u001b[0m\u001b[0;34m)\u001b[0m\u001b[0;34m.\u001b[0m\u001b[0mend\u001b[0m\u001b[0;34m(\u001b[0m\u001b[0;34m)\u001b[0m\u001b[0;34m\u001b[0m\u001b[0;34m\u001b[0m\u001b[0m\n\u001b[1;32m    339\u001b[0m         \u001b[0;32mif\u001b[0m \u001b[0mend\u001b[0m \u001b[0;34m!=\u001b[0m \u001b[0mlen\u001b[0m\u001b[0;34m(\u001b[0m\u001b[0ms\u001b[0m\u001b[0;34m)\u001b[0m\u001b[0;34m:\u001b[0m\u001b[0;34m\u001b[0m\u001b[0;34m\u001b[0m\u001b[0m\n",
      "\u001b[0;32m//anaconda3/lib/python3.7/json/decoder.py\u001b[0m in \u001b[0;36mraw_decode\u001b[0;34m(self, s, idx)\u001b[0m\n\u001b[1;32m    353\u001b[0m             \u001b[0mobj\u001b[0m\u001b[0;34m,\u001b[0m \u001b[0mend\u001b[0m \u001b[0;34m=\u001b[0m \u001b[0mself\u001b[0m\u001b[0;34m.\u001b[0m\u001b[0mscan_once\u001b[0m\u001b[0;34m(\u001b[0m\u001b[0ms\u001b[0m\u001b[0;34m,\u001b[0m \u001b[0midx\u001b[0m\u001b[0;34m)\u001b[0m\u001b[0;34m\u001b[0m\u001b[0;34m\u001b[0m\u001b[0m\n\u001b[1;32m    354\u001b[0m         \u001b[0;32mexcept\u001b[0m \u001b[0mStopIteration\u001b[0m \u001b[0;32mas\u001b[0m \u001b[0merr\u001b[0m\u001b[0;34m:\u001b[0m\u001b[0;34m\u001b[0m\u001b[0;34m\u001b[0m\u001b[0m\n\u001b[0;32m--> 355\u001b[0;31m             \u001b[0;32mraise\u001b[0m \u001b[0mJSONDecodeError\u001b[0m\u001b[0;34m(\u001b[0m\u001b[0;34m\"Expecting value\"\u001b[0m\u001b[0;34m,\u001b[0m \u001b[0ms\u001b[0m\u001b[0;34m,\u001b[0m \u001b[0merr\u001b[0m\u001b[0;34m.\u001b[0m\u001b[0mvalue\u001b[0m\u001b[0;34m)\u001b[0m \u001b[0;32mfrom\u001b[0m \u001b[0;32mNone\u001b[0m\u001b[0;34m\u001b[0m\u001b[0;34m\u001b[0m\u001b[0m\n\u001b[0m\u001b[1;32m    356\u001b[0m         \u001b[0;32mreturn\u001b[0m \u001b[0mobj\u001b[0m\u001b[0;34m,\u001b[0m \u001b[0mend\u001b[0m\u001b[0;34m\u001b[0m\u001b[0;34m\u001b[0m\u001b[0m\n",
      "\u001b[0;31mJSONDecodeError\u001b[0m: Expecting value: line 1 column 1 (char 0)"
     ]
    }
   ],
   "source": [
    "# machen wir eine Liste mit den einzelnen Erdbeben und erledigen schon die ganze json-Transormation ein für allemal:\n",
    "erdbeben = requests.get(\"https://earthquake.usgs.gov/fdsnws/event/1/query?format=geojson&starttime=2014-09-24&endtime=2019-09-24\")\n",
    "erdbeben = erdbeben.json()\n",
    "erdbeben.keys()\n",
    "erdbebenliste = erdbeben['features']\n",
    "\n",
    "leereliste = []\n",
    "\n",
    "for erdbeben in erdbebenliste:\n",
    "    mag = erdbeben['properties']['mag']\n",
    "    place = erdbeben['properties']['place']\n",
    "    time = erdbeben['properties']['time']\n",
    "    ### print(mag) ->> hier haben wir zur Fehlerfindung die Ergebnisse ausgedruckt.\n",
    "    \n",
    "    ### hier gehts darum, einen offensichtlich bestehenden Fehler bei den Magnituden zu umgehen\n",
    "    try:\n",
    "        if mag >= 5.5:\n",
    "            mini_dict = {\"Ort\": place, \"Zeit\": time, \"Stärke\": mag}\n",
    "            leereliste.append(mini_dict)\n",
    "    except:\n",
    "        \"SyntaxError\"\n",
    "\n",
    "pd.DataFrame(leereliste)[-10:]\n",
    "\n",
    "### Problem: Die Datenmenge ist zu gross, get nicht. Deshalb Lösung mit "
   ]
  },
  {
   "cell_type": "markdown",
   "metadata": {},
   "source": [
    "#### Die überlegene Lösung: im Request schon die Magnitude eingeben"
   ]
  },
  {
   "cell_type": "code",
   "execution_count": 52,
   "metadata": {},
   "outputs": [
    {
     "data": {
      "text/html": [
       "<div>\n",
       "<style scoped>\n",
       "    .dataframe tbody tr th:only-of-type {\n",
       "        vertical-align: middle;\n",
       "    }\n",
       "\n",
       "    .dataframe tbody tr th {\n",
       "        vertical-align: top;\n",
       "    }\n",
       "\n",
       "    .dataframe thead th {\n",
       "        text-align: right;\n",
       "    }\n",
       "</style>\n",
       "<table border=\"1\" class=\"dataframe\">\n",
       "  <thead>\n",
       "    <tr style=\"text-align: right;\">\n",
       "      <th></th>\n",
       "      <th>Ort</th>\n",
       "      <th>Stärke</th>\n",
       "      <th>Zeit</th>\n",
       "    </tr>\n",
       "  </thead>\n",
       "  <tbody>\n",
       "    <tr>\n",
       "      <th>2222</th>\n",
       "      <td>71km S of Paratunka, Russia</td>\n",
       "      <td>5.7</td>\n",
       "      <td>1412254625750</td>\n",
       "    </tr>\n",
       "    <tr>\n",
       "      <th>2223</th>\n",
       "      <td>16km N of Kandrian, Papua New Guinea</td>\n",
       "      <td>6.0</td>\n",
       "      <td>1412134731760</td>\n",
       "    </tr>\n",
       "    <tr>\n",
       "      <th>2224</th>\n",
       "      <td>265km SE of Lambasa, Fiji</td>\n",
       "      <td>5.5</td>\n",
       "      <td>1412116467030</td>\n",
       "    </tr>\n",
       "    <tr>\n",
       "      <th>2225</th>\n",
       "      <td>Carlsberg Ridge</td>\n",
       "      <td>5.5</td>\n",
       "      <td>1412095556230</td>\n",
       "    </tr>\n",
       "    <tr>\n",
       "      <th>2226</th>\n",
       "      <td>105km WNW of Hofn, Iceland</td>\n",
       "      <td>5.6</td>\n",
       "      <td>1411998181660</td>\n",
       "    </tr>\n",
       "    <tr>\n",
       "      <th>2227</th>\n",
       "      <td>221km WNW of Pangai, Tonga</td>\n",
       "      <td>5.7</td>\n",
       "      <td>1411885415750</td>\n",
       "    </tr>\n",
       "    <tr>\n",
       "      <th>2228</th>\n",
       "      <td>285km ENE of Port Blair, India</td>\n",
       "      <td>5.5</td>\n",
       "      <td>1411705284080</td>\n",
       "    </tr>\n",
       "    <tr>\n",
       "      <th>2229</th>\n",
       "      <td>96km WNW of Willow, Alaska</td>\n",
       "      <td>6.2</td>\n",
       "      <td>1411667477606</td>\n",
       "    </tr>\n",
       "    <tr>\n",
       "      <th>2230</th>\n",
       "      <td>157km SSW of Gizo, Solomon Islands</td>\n",
       "      <td>6.1</td>\n",
       "      <td>1411636430000</td>\n",
       "    </tr>\n",
       "    <tr>\n",
       "      <th>2231</th>\n",
       "      <td>56km NW of San Antonio de los Cobres, Argentina</td>\n",
       "      <td>6.2</td>\n",
       "      <td>1411557375010</td>\n",
       "    </tr>\n",
       "  </tbody>\n",
       "</table>\n",
       "</div>"
      ],
      "text/plain": [
       "                                                  Ort  Stärke           Zeit\n",
       "2222                      71km S of Paratunka, Russia     5.7  1412254625750\n",
       "2223             16km N of Kandrian, Papua New Guinea     6.0  1412134731760\n",
       "2224                        265km SE of Lambasa, Fiji     5.5  1412116467030\n",
       "2225                                  Carlsberg Ridge     5.5  1412095556230\n",
       "2226                       105km WNW of Hofn, Iceland     5.6  1411998181660\n",
       "2227                       221km WNW of Pangai, Tonga     5.7  1411885415750\n",
       "2228                   285km ENE of Port Blair, India     5.5  1411705284080\n",
       "2229                       96km WNW of Willow, Alaska     6.2  1411667477606\n",
       "2230               157km SSW of Gizo, Solomon Islands     6.1  1411636430000\n",
       "2231  56km NW of San Antonio de los Cobres, Argentina     6.2  1411557375010"
      ]
     },
     "execution_count": 52,
     "metadata": {},
     "output_type": "execute_result"
    }
   ],
   "source": [
    "erdbeben = requests.get(\"https://earthquake.usgs.gov/fdsnws/event/1/query?format=geojson&starttime=2014-09-24&endtime=2019-09-24&minmagnitude=5.5\")\n",
    "erdbeben = erdbeben.json()\n",
    "erdbeben.keys()\n",
    "erdbebenliste = erdbeben['features']\n",
    "\n",
    "leereliste = []\n",
    "\n",
    "for erdbeben in erdbebenliste:\n",
    "    mag = erdbeben['properties']['mag']\n",
    "    place = erdbeben['properties']['place']\n",
    "    time = erdbeben['properties']['time']\n",
    "    \n",
    "    mini_dict = {\"Ort\": place, \"Zeit\": time, \"Stärke\": mag}\n",
    "    leereliste.append(mini_dict)\n",
    " \n",
    "pd.DataFrame(leereliste)[-10:]"
   ]
  },
  {
   "cell_type": "markdown",
   "metadata": {},
   "source": [
    "4. Zeige eine Liste der 10 stärksten Erdbeben des laufenden Jahres an. (Nicht vergessen, nun musst Du die Methode wechseln. Nicht mehr \"count\", sondern \"query\")."
   ]
  },
  {
   "cell_type": "code",
   "execution_count": null,
   "metadata": {},
   "outputs": [],
   "source": [
    "### Versuch mit if-Schleife: neue Beben nur in liste, wenn Magnitude grösser als letztes\n",
    "\n",
    "erdbeben = requests.get(\"https://earthquake.usgs.gov/fdsnws/event/1/query?format=geojson&starttime=2019-01-01&endtime=2019-01-02\")\n",
    "\n",
    "liste = []\n",
    "magnitude_last = 0\n",
    "\n",
    "for beben in range(0, int(len(erdbeben.json()[\"features\"]))):\n",
    "    magnitude = erdbeben.json()[\"features\"][int(beben)][\"properties\"][\"mag\"]\n",
    "    place = erdbeben.json()[\"features\"][int(beben)][\"properties\"][\"place\"]\n",
    "    time = erdbeben.json()[\"features\"][int(beben)][\"properties\"][\"time\"]\n",
    "                   \n",
    "    mini_dict = {\"Ort\": place, \"Zeit\": time, \"Stärke\": magnitude}\n",
    "    if int(magnitude) > int(magnitude_last):\n",
    "        liste.append(mini_dict)\n",
    "        magnitude_last = magnitude\n",
    "    else:\n",
    "        continue\n",
    "\n",
    "pd.DataFrame(liste)[-10:]"
   ]
  },
  {
   "cell_type": "markdown",
   "metadata": {},
   "source": [
    "#### Neuer Anlauf"
   ]
  },
  {
   "cell_type": "code",
   "execution_count": 22,
   "metadata": {},
   "outputs": [],
   "source": [
    "erdbeben = requests.get(\"https://earthquake.usgs.gov/fdsnws/event/1/query?format=geojson&starttime=2019-01-01&endtime=2019-09-23\")"
   ]
  },
  {
   "cell_type": "code",
   "execution_count": 24,
   "metadata": {},
   "outputs": [
    {
     "data": {
      "text/html": [
       "<div>\n",
       "<style scoped>\n",
       "    .dataframe tbody tr th:only-of-type {\n",
       "        vertical-align: middle;\n",
       "    }\n",
       "\n",
       "    .dataframe tbody tr th {\n",
       "        vertical-align: top;\n",
       "    }\n",
       "\n",
       "    .dataframe thead th {\n",
       "        text-align: right;\n",
       "    }\n",
       "</style>\n",
       "<table border=\"1\" class=\"dataframe\">\n",
       "  <thead>\n",
       "    <tr style=\"text-align: right;\">\n",
       "      <th></th>\n",
       "      <th>Ort</th>\n",
       "      <th>Stärke</th>\n",
       "      <th>Zeit</th>\n",
       "    </tr>\n",
       "  </thead>\n",
       "  <tbody>\n",
       "    <tr>\n",
       "      <th>250</th>\n",
       "      <td>Southern East Pacific Rise</td>\n",
       "      <td>4.80</td>\n",
       "      <td>1546302085050</td>\n",
       "    </tr>\n",
       "    <tr>\n",
       "      <th>252</th>\n",
       "      <td>28km ENE of Port-Olry, Vanuatu</td>\n",
       "      <td>4.80</td>\n",
       "      <td>1546301045950</td>\n",
       "    </tr>\n",
       "    <tr>\n",
       "      <th>245</th>\n",
       "      <td>61km SSW of Lithakia, Greece</td>\n",
       "      <td>4.30</td>\n",
       "      <td>1546304596820</td>\n",
       "    </tr>\n",
       "    <tr>\n",
       "      <th>249</th>\n",
       "      <td>69km E of Whittier, Alaska</td>\n",
       "      <td>2.40</td>\n",
       "      <td>1546302737136</td>\n",
       "    </tr>\n",
       "    <tr>\n",
       "      <th>246</th>\n",
       "      <td>82km N of Yakutat, Alaska</td>\n",
       "      <td>1.50</td>\n",
       "      <td>1546303785784</td>\n",
       "    </tr>\n",
       "    <tr>\n",
       "      <th>248</th>\n",
       "      <td>163km E of Chitina, Alaska</td>\n",
       "      <td>1.50</td>\n",
       "      <td>1546302847356</td>\n",
       "    </tr>\n",
       "    <tr>\n",
       "      <th>247</th>\n",
       "      <td>34km NNW of Valdez, Alaska</td>\n",
       "      <td>1.40</td>\n",
       "      <td>1546303645230</td>\n",
       "    </tr>\n",
       "    <tr>\n",
       "      <th>253</th>\n",
       "      <td>35km WSW of Nikiski, Alaska</td>\n",
       "      <td>1.40</td>\n",
       "      <td>1546301040765</td>\n",
       "    </tr>\n",
       "    <tr>\n",
       "      <th>251</th>\n",
       "      <td>23km NNE of Badger, Alaska</td>\n",
       "      <td>1.10</td>\n",
       "      <td>1546301771244</td>\n",
       "    </tr>\n",
       "    <tr>\n",
       "      <th>244</th>\n",
       "      <td>7km WNW of The Geysers, CA</td>\n",
       "      <td>1.06</td>\n",
       "      <td>1546304617740</td>\n",
       "    </tr>\n",
       "  </tbody>\n",
       "</table>\n",
       "</div>"
      ],
      "text/plain": [
       "                                Ort  Stärke           Zeit\n",
       "250      Southern East Pacific Rise    4.80  1546302085050\n",
       "252  28km ENE of Port-Olry, Vanuatu    4.80  1546301045950\n",
       "245    61km SSW of Lithakia, Greece    4.30  1546304596820\n",
       "249      69km E of Whittier, Alaska    2.40  1546302737136\n",
       "246       82km N of Yakutat, Alaska    1.50  1546303785784\n",
       "248      163km E of Chitina, Alaska    1.50  1546302847356\n",
       "247      34km NNW of Valdez, Alaska    1.40  1546303645230\n",
       "253     35km WSW of Nikiski, Alaska    1.40  1546301040765\n",
       "251      23km NNE of Badger, Alaska    1.10  1546301771244\n",
       "244      7km WNW of The Geysers, CA    1.06  1546304617740"
      ]
     },
     "execution_count": 24,
     "metadata": {},
     "output_type": "execute_result"
    }
   ],
   "source": [
    "erdbeben = requests.get(\"https://earthquake.usgs.gov/fdsnws/event/1/query?format=geojson&starttime=2019-01-01&endtime=2019-01-02\")\n",
    "\n",
    "liste = []\n",
    "\n",
    "for beben in range(0, int(len(erdbeben.json()[\"features\"]))):\n",
    "    magnitude = erdbeben.json()[\"features\"][int(beben)][\"properties\"][\"mag\"]\n",
    "    place = erdbeben.json()[\"features\"][int(beben)][\"properties\"][\"place\"]\n",
    "    time = erdbeben.json()[\"features\"][int(beben)][\"properties\"][\"time\"]\n",
    "                   \n",
    "    mini_dict = {\"Ort\": place, \"Zeit\": time, \"Stärke\": magnitude}\n",
    "  \n",
    "    liste.append(mini_dict)\n",
    "\n",
    "Tabelle = pd.DataFrame(liste)[-10:]\n",
    "\n",
    "Tabelle.sort_values(by=[\"Stärke\"], ascending = False)"
   ]
  },
  {
   "cell_type": "markdown",
   "metadata": {},
   "source": [
    "#### Die überlegene Lösung: Request direkt mit Magnitude ergänzen"
   ]
  },
  {
   "cell_type": "code",
   "execution_count": 84,
   "metadata": {},
   "outputs": [
    {
     "data": {
      "text/html": [
       "<div>\n",
       "<style scoped>\n",
       "    .dataframe tbody tr th:only-of-type {\n",
       "        vertical-align: middle;\n",
       "    }\n",
       "\n",
       "    .dataframe tbody tr th {\n",
       "        vertical-align: top;\n",
       "    }\n",
       "\n",
       "    .dataframe thead th {\n",
       "        text-align: right;\n",
       "    }\n",
       "</style>\n",
       "<table border=\"1\" class=\"dataframe\">\n",
       "  <thead>\n",
       "    <tr style=\"text-align: right;\">\n",
       "      <th></th>\n",
       "      <th>Ort</th>\n",
       "      <th>Stärke</th>\n",
       "      <th>Zeit</th>\n",
       "    </tr>\n",
       "  </thead>\n",
       "  <tbody>\n",
       "    <tr>\n",
       "      <th>1826</th>\n",
       "      <td>48km W of Illapel, Chile</td>\n",
       "      <td>8.3</td>\n",
       "      <td>1442444072860</td>\n",
       "    </tr>\n",
       "    <tr>\n",
       "      <th>954</th>\n",
       "      <td>101km SSW of Tres Picos, Mexico</td>\n",
       "      <td>8.2</td>\n",
       "      <td>1504846159180</td>\n",
       "    </tr>\n",
       "    <tr>\n",
       "      <th>555</th>\n",
       "      <td>286km NNE of Ndoi Island, Fiji</td>\n",
       "      <td>8.2</td>\n",
       "      <td>1534637980670</td>\n",
       "    </tr>\n",
       "    <tr>\n",
       "      <th>154</th>\n",
       "      <td>78km SE of Lagunas, Peru</td>\n",
       "      <td>8.0</td>\n",
       "      <td>1558856475073</td>\n",
       "    </tr>\n",
       "    <tr>\n",
       "      <th>787</th>\n",
       "      <td>280km SE of Kodiak, Alaska</td>\n",
       "      <td>7.9</td>\n",
       "      <td>1516699900890</td>\n",
       "    </tr>\n",
       "    <tr>\n",
       "      <th>1170</th>\n",
       "      <td>35km WNW of Panguna, Papua New Guinea</td>\n",
       "      <td>7.9</td>\n",
       "      <td>1485059422960</td>\n",
       "    </tr>\n",
       "    <tr>\n",
       "      <th>506</th>\n",
       "      <td>102km ESE of Suva, Fiji</td>\n",
       "      <td>7.9</td>\n",
       "      <td>1536248958710</td>\n",
       "    </tr>\n",
       "    <tr>\n",
       "      <th>1229</th>\n",
       "      <td>54km E of Taron, Papua New Guinea</td>\n",
       "      <td>7.9</td>\n",
       "      <td>1481971870500</td>\n",
       "    </tr>\n",
       "    <tr>\n",
       "      <th>2009</th>\n",
       "      <td>36km E of Khudi, Nepal</td>\n",
       "      <td>7.8</td>\n",
       "      <td>1429942285950</td>\n",
       "    </tr>\n",
       "    <tr>\n",
       "      <th>1551</th>\n",
       "      <td>27km SSE of Muisne, Ecuador</td>\n",
       "      <td>7.8</td>\n",
       "      <td>1460851116980</td>\n",
       "    </tr>\n",
       "  </tbody>\n",
       "</table>\n",
       "</div>"
      ],
      "text/plain": [
       "                                        Ort  Stärke           Zeit\n",
       "1826               48km W of Illapel, Chile     8.3  1442444072860\n",
       "954         101km SSW of Tres Picos, Mexico     8.2  1504846159180\n",
       "555          286km NNE of Ndoi Island, Fiji     8.2  1534637980670\n",
       "154                78km SE of Lagunas, Peru     8.0  1558856475073\n",
       "787              280km SE of Kodiak, Alaska     7.9  1516699900890\n",
       "1170  35km WNW of Panguna, Papua New Guinea     7.9  1485059422960\n",
       "506                 102km ESE of Suva, Fiji     7.9  1536248958710\n",
       "1229      54km E of Taron, Papua New Guinea     7.9  1481971870500\n",
       "2009                 36km E of Khudi, Nepal     7.8  1429942285950\n",
       "1551            27km SSE of Muisne, Ecuador     7.8  1460851116980"
      ]
     },
     "execution_count": 84,
     "metadata": {},
     "output_type": "execute_result"
    }
   ],
   "source": [
    "erdbeben = requests.get(\"https://earthquake.usgs.gov/fdsnws/event/1/query?format=geojson&starttime=2014-09-24&endtime=2019-09-24&minmagnitude=5.5\")\n",
    "erdbeben = erdbeben.json()\n",
    "erdbeben.keys()\n",
    "erdbebenliste = erdbeben['features']\n",
    "\n",
    "leereliste = []\n",
    "\n",
    "for erdbeben in erdbebenliste:\n",
    "    mag = erdbeben['properties']['mag']\n",
    "    place = erdbeben['properties']['place']\n",
    "    time = erdbeben['properties']['time']\n",
    "    \n",
    "    mini_dict = {\"Ort\": place, \"Zeit\": time, \"Stärke\": mag}\n",
    "    leereliste.append(mini_dict)\n",
    " \n",
    "Tabelle = pd.DataFrame(leereliste)\n",
    "\n",
    "Tabelle.sort_values(by=[\"Stärke\"], ascending = False)[:10]"
   ]
  },
  {
   "cell_type": "markdown",
   "metadata": {},
   "source": [
    "5. Wo haben sich diese Erdbeben ereignet?"
   ]
  },
  {
   "cell_type": "code",
   "execution_count": null,
   "metadata": {},
   "outputs": [],
   "source": []
  },
  {
   "cell_type": "code",
   "execution_count": null,
   "metadata": {},
   "outputs": [],
   "source": []
  },
  {
   "cell_type": "markdown",
   "metadata": {},
   "source": [
    "6. Ziehe auch die Zeit mit heraus?"
   ]
  },
  {
   "cell_type": "code",
   "execution_count": null,
   "metadata": {},
   "outputs": [],
   "source": []
  },
  {
   "cell_type": "markdown",
   "metadata": {},
   "source": [
    "7. Konvertiere die Unix Zeit zu leserlichen Zeit? (Suche nicht zu lange, schau mal an, wies im Pandas aussieht.)"
   ]
  },
  {
   "cell_type": "code",
   "execution_count": 82,
   "metadata": {},
   "outputs": [
    {
     "data": {
      "text/html": [
       "<div>\n",
       "<style scoped>\n",
       "    .dataframe tbody tr th:only-of-type {\n",
       "        vertical-align: middle;\n",
       "    }\n",
       "\n",
       "    .dataframe tbody tr th {\n",
       "        vertical-align: top;\n",
       "    }\n",
       "\n",
       "    .dataframe thead th {\n",
       "        text-align: right;\n",
       "    }\n",
       "</style>\n",
       "<table border=\"1\" class=\"dataframe\">\n",
       "  <thead>\n",
       "    <tr style=\"text-align: right;\">\n",
       "      <th></th>\n",
       "      <th>Ort</th>\n",
       "      <th>Stärke</th>\n",
       "      <th>Zeit</th>\n",
       "    </tr>\n",
       "  </thead>\n",
       "  <tbody>\n",
       "    <tr>\n",
       "      <th>1826</th>\n",
       "      <td>48km W of Illapel, Chile</td>\n",
       "      <td>8.3</td>\n",
       "      <td>2015-09-16 22:54:32</td>\n",
       "    </tr>\n",
       "    <tr>\n",
       "      <th>2497</th>\n",
       "      <td>94km NW of Iquique, Chile</td>\n",
       "      <td>8.2</td>\n",
       "      <td>2014-04-01 23:46:47</td>\n",
       "    </tr>\n",
       "    <tr>\n",
       "      <th>954</th>\n",
       "      <td>101km SSW of Tres Picos, Mexico</td>\n",
       "      <td>8.2</td>\n",
       "      <td>2017-09-08 04:49:19</td>\n",
       "    </tr>\n",
       "    <tr>\n",
       "      <th>555</th>\n",
       "      <td>286km NNE of Ndoi Island, Fiji</td>\n",
       "      <td>8.2</td>\n",
       "      <td>2018-08-19 00:19:40</td>\n",
       "    </tr>\n",
       "    <tr>\n",
       "      <th>154</th>\n",
       "      <td>78km SE of Lagunas, Peru</td>\n",
       "      <td>8.0</td>\n",
       "      <td>2019-05-26 07:41:15</td>\n",
       "    </tr>\n",
       "    <tr>\n",
       "      <th>1170</th>\n",
       "      <td>35km WNW of Panguna, Papua New Guinea</td>\n",
       "      <td>7.9</td>\n",
       "      <td>2017-01-22 04:30:22</td>\n",
       "    </tr>\n",
       "    <tr>\n",
       "      <th>1229</th>\n",
       "      <td>54km E of Taron, Papua New Guinea</td>\n",
       "      <td>7.9</td>\n",
       "      <td>2016-12-17 10:51:10</td>\n",
       "    </tr>\n",
       "    <tr>\n",
       "      <th>787</th>\n",
       "      <td>280km SE of Kodiak, Alaska</td>\n",
       "      <td>7.9</td>\n",
       "      <td>2018-01-23 09:31:40</td>\n",
       "    </tr>\n",
       "    <tr>\n",
       "      <th>2349</th>\n",
       "      <td>19km SE of Little Sitkin Island, Alaska</td>\n",
       "      <td>7.9</td>\n",
       "      <td>2014-06-23 20:53:09</td>\n",
       "    </tr>\n",
       "    <tr>\n",
       "      <th>506</th>\n",
       "      <td>102km ESE of Suva, Fiji</td>\n",
       "      <td>7.9</td>\n",
       "      <td>2018-09-06 15:49:18</td>\n",
       "    </tr>\n",
       "  </tbody>\n",
       "</table>\n",
       "</div>"
      ],
      "text/plain": [
       "                                          Ort  Stärke                 Zeit\n",
       "1826                 48km W of Illapel, Chile     8.3  2015-09-16 22:54:32\n",
       "2497                94km NW of Iquique, Chile     8.2  2014-04-01 23:46:47\n",
       "954           101km SSW of Tres Picos, Mexico     8.2  2017-09-08 04:49:19\n",
       "555            286km NNE of Ndoi Island, Fiji     8.2  2018-08-19 00:19:40\n",
       "154                  78km SE of Lagunas, Peru     8.0  2019-05-26 07:41:15\n",
       "1170    35km WNW of Panguna, Papua New Guinea     7.9  2017-01-22 04:30:22\n",
       "1229        54km E of Taron, Papua New Guinea     7.9  2016-12-17 10:51:10\n",
       "787                280km SE of Kodiak, Alaska     7.9  2018-01-23 09:31:40\n",
       "2349  19km SE of Little Sitkin Island, Alaska     7.9  2014-06-23 20:53:09\n",
       "506                   102km ESE of Suva, Fiji     7.9  2018-09-06 15:49:18"
      ]
     },
     "execution_count": 82,
     "metadata": {},
     "output_type": "execute_result"
    }
   ],
   "source": [
    "from datetime import datetime\n",
    "\n",
    "erdbeben = requests.get(\"https://earthquake.usgs.gov/fdsnws/event/1/query?format=geojson&starttime=2014-01-01&endtime=2019-09-24&minmagnitude=5.5\")\n",
    "erdbeben = erdbeben.json()\n",
    "erdbeben.keys()\n",
    "erdbebenliste = erdbeben['features']\n",
    "\n",
    "leereliste = []\n",
    "\n",
    "for erdbeben in erdbebenliste:\n",
    "    mag = erdbeben['properties']['mag']\n",
    "    place = erdbeben['properties']['place']\n",
    "    time = str(erdbeben['properties']['time'])[:-3]\n",
    "    time = datetime.utcfromtimestamp(int(time)).strftime(\"%Y-%m-%d %H:%M:%S\")\n",
    "   \n",
    "    mini_dict = {\"Ort\": place, \"Zeit\": time, \"Stärke\": mag}\n",
    "    leereliste.append(mini_dict)\n",
    " \n",
    "Tabelle = pd.DataFrame(leereliste)\n",
    "\n",
    "Tabelle = Tabelle.sort_values(by=[\"Stärke\"], ascending = False)[:10]\n",
    "\n",
    "Tabelle\n"
   ]
  },
  {
   "cell_type": "code",
   "execution_count": null,
   "metadata": {},
   "outputs": [],
   "source": []
  },
  {
   "cell_type": "code",
   "execution_count": null,
   "metadata": {},
   "outputs": [],
   "source": []
  },
  {
   "cell_type": "code",
   "execution_count": null,
   "metadata": {},
   "outputs": [],
   "source": []
  },
  {
   "cell_type": "code",
   "execution_count": null,
   "metadata": {},
   "outputs": [],
   "source": []
  }
 ],
 "metadata": {
  "kernelspec": {
   "display_name": "Python 3",
   "language": "python",
   "name": "python3"
  },
  "language_info": {
   "codemirror_mode": {
    "name": "ipython",
    "version": 3
   },
   "file_extension": ".py",
   "mimetype": "text/x-python",
   "name": "python",
   "nbconvert_exporter": "python",
   "pygments_lexer": "ipython3",
   "version": "3.7.3"
  }
 },
 "nbformat": 4,
 "nbformat_minor": 2
}
