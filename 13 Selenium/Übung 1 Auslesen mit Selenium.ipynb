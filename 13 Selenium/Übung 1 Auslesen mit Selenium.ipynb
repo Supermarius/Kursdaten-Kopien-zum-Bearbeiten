{
 "cells": [
  {
   "cell_type": "code",
   "execution_count": 1,
   "metadata": {},
   "outputs": [],
   "source": [
    "from selenium import webdriver\n",
    "from selenium.webdriver.common.keys import Keys   # erlaubt Begriff an best. Stelle einzufügen\n",
    "from selenium.webdriver.common.by import By\n",
    "from selenium.webdriver.support.ui import Select  #erlaubt Pulldownmenus zu operieren\n",
    "import time  # um Zeitpausen einzubauen, damit er z.Bsp. die Website laden kann\n",
    "import pandas as pd\n",
    "from bs4 import BeautifulSoup"
   ]
  },
  {
   "cell_type": "markdown",
   "metadata": {},
   "source": [
    "Wir starten den Browser (Chrome):"
   ]
  },
  {
   "cell_type": "code",
   "execution_count": 2,
   "metadata": {},
   "outputs": [],
   "source": [
    "driver = webdriver.Chrome(executable_path=\"/usr/local/bin/chromedriver\")"
   ]
  },
  {
   "cell_type": "markdown",
   "metadata": {},
   "source": [
    "Dann öffnen wir die Website:"
   ]
  },
  {
   "cell_type": "code",
   "execution_count": 3,
   "metadata": {},
   "outputs": [],
   "source": [
    "driver.get(\"https://www.zefix.ch\")"
   ]
  },
  {
   "cell_type": "markdown",
   "metadata": {},
   "source": [
    "Weil der Compi etwas Zeit braucht, um die Seite zu laden, geben wir ihm mit **sleep** eine kurze Wartepause:"
   ]
  },
  {
   "cell_type": "code",
   "execution_count": 4,
   "metadata": {},
   "outputs": [],
   "source": [
    "time.sleep(2)"
   ]
  },
  {
   "cell_type": "markdown",
   "metadata": {},
   "source": [
    "Jetzt suchen wir das Eingabefeld (machen wir übder die ID, die finden wir mit dem Enntwicklertool im Browser, id=).\n",
    "Dann steuern wir es an:"
   ]
  },
  {
   "cell_type": "code",
   "execution_count": 5,
   "metadata": {},
   "outputs": [
    {
     "data": {
      "text/plain": [
       "<selenium.webdriver.remote.webelement.WebElement (session=\"646ccff4587c365ccaea29678ce35acb\", element=\"bd9b4fee-b50d-4ade-a3ee-623275dc3d46\")>"
      ]
     },
     "execution_count": 5,
     "metadata": {},
     "output_type": "execute_result"
    }
   ],
   "source": [
    "driver.find_element_by_id('firm-name-fomfield')"
   ]
  },
  {
   "cell_type": "markdown",
   "metadata": {},
   "source": [
    "Dieses Element speiechern wir jetzt unter der Variable search:"
   ]
  },
  {
   "cell_type": "code",
   "execution_count": 6,
   "metadata": {},
   "outputs": [],
   "source": [
    "search = driver.find_element_by_id('firm-name-fomfield')"
   ]
  },
  {
   "cell_type": "markdown",
   "metadata": {},
   "source": [
    "an dieses Element schicken wir jetzt einen Input mit dem Befehl **send**"
   ]
  },
  {
   "cell_type": "code",
   "execution_count": 7,
   "metadata": {},
   "outputs": [],
   "source": [
    "search.send_keys(\"Bäckerei\")"
   ]
  },
  {
   "cell_type": "markdown",
   "metadata": {},
   "source": [
    "Jetzt suchen wir auf gleiche Art den Search-Button, um die Suche abzuschicken, und definieren den:"
   ]
  },
  {
   "cell_type": "code",
   "execution_count": 8,
   "metadata": {},
   "outputs": [],
   "source": [
    "searchclick = driver.find_element_by_id(\"submit-search-btn\")"
   ]
  },
  {
   "cell_type": "markdown",
   "metadata": {},
   "source": [
    "Jetzt wollen wir draufklicken mit dem Befehl **click()**"
   ]
  },
  {
   "cell_type": "code",
   "execution_count": 9,
   "metadata": {},
   "outputs": [],
   "source": [
    "searchclick.click()"
   ]
  },
  {
   "cell_type": "markdown",
   "metadata": {},
   "source": [
    "Jetzt suchen wir den Button, um auf die nächste Seite zu kommen – der hat keine ID, sondern eine Class (btn). Weil es davon mehrere gibt, müssen wir alle rauslesen. (Generiert wird eine Liste mit allen Buttons)"
   ]
  },
  {
   "cell_type": "code",
   "execution_count": 10,
   "metadata": {},
   "outputs": [
    {
     "data": {
      "text/plain": [
       "[<selenium.webdriver.remote.webelement.WebElement (session=\"646ccff4587c365ccaea29678ce35acb\", element=\"d8499810-0524-47ac-885a-53530e872b5e\")>,\n",
       " <selenium.webdriver.remote.webelement.WebElement (session=\"646ccff4587c365ccaea29678ce35acb\", element=\"dd58f60f-f180-4f0f-b2b4-4e1c5323cceb\")>,\n",
       " <selenium.webdriver.remote.webelement.WebElement (session=\"646ccff4587c365ccaea29678ce35acb\", element=\"e3bf6605-f708-4157-8062-83bf4af41621\")>,\n",
       " <selenium.webdriver.remote.webelement.WebElement (session=\"646ccff4587c365ccaea29678ce35acb\", element=\"1cb1fb31-b0ef-4027-8a25-7dd24b8fa450\")>,\n",
       " <selenium.webdriver.remote.webelement.WebElement (session=\"646ccff4587c365ccaea29678ce35acb\", element=\"1128a249-882c-4337-8f34-0ee2a1d9585b\")>,\n",
       " <selenium.webdriver.remote.webelement.WebElement (session=\"646ccff4587c365ccaea29678ce35acb\", element=\"2384f4a3-93fe-4be5-a825-19ff43715a68\")>,\n",
       " <selenium.webdriver.remote.webelement.WebElement (session=\"646ccff4587c365ccaea29678ce35acb\", element=\"d10dd908-662b-4bf3-aa67-c493d7c0d523\")>,\n",
       " <selenium.webdriver.remote.webelement.WebElement (session=\"646ccff4587c365ccaea29678ce35acb\", element=\"443efe64-78ca-4b70-bde3-10140a31020f\")>,\n",
       " <selenium.webdriver.remote.webelement.WebElement (session=\"646ccff4587c365ccaea29678ce35acb\", element=\"16863cb8-422f-4739-b87b-56db40c63833\")>,\n",
       " <selenium.webdriver.remote.webelement.WebElement (session=\"646ccff4587c365ccaea29678ce35acb\", element=\"1427ff42-7eab-4092-8180-4dd1a9ad1533\")>,\n",
       " <selenium.webdriver.remote.webelement.WebElement (session=\"646ccff4587c365ccaea29678ce35acb\", element=\"10845734-3f8c-4a2d-9cd5-c45d94e4f063\")>,\n",
       " <selenium.webdriver.remote.webelement.WebElement (session=\"646ccff4587c365ccaea29678ce35acb\", element=\"f6135e31-94e7-4f44-910d-3b23b4cfdb21\")>,\n",
       " <selenium.webdriver.remote.webelement.WebElement (session=\"646ccff4587c365ccaea29678ce35acb\", element=\"07c4ca59-0fdb-4d55-8063-3bc27a093eff\")>,\n",
       " <selenium.webdriver.remote.webelement.WebElement (session=\"646ccff4587c365ccaea29678ce35acb\", element=\"be402874-43f5-4be1-b256-f0106a5a1e63\")>,\n",
       " <selenium.webdriver.remote.webelement.WebElement (session=\"646ccff4587c365ccaea29678ce35acb\", element=\"83691f66-8267-4150-8e2a-e736a2fe0a37\")>,\n",
       " <selenium.webdriver.remote.webelement.WebElement (session=\"646ccff4587c365ccaea29678ce35acb\", element=\"fef4310c-e705-471d-9352-9a0a24557743\")>,\n",
       " <selenium.webdriver.remote.webelement.WebElement (session=\"646ccff4587c365ccaea29678ce35acb\", element=\"974b1a1d-a35f-4355-9bb0-ea329a9cb0de\")>,\n",
       " <selenium.webdriver.remote.webelement.WebElement (session=\"646ccff4587c365ccaea29678ce35acb\", element=\"6d3f4702-bf26-4201-93d0-623574f7608c\")>,\n",
       " <selenium.webdriver.remote.webelement.WebElement (session=\"646ccff4587c365ccaea29678ce35acb\", element=\"c99264e2-0203-47e0-a530-2e8eb5057916\")>,\n",
       " <selenium.webdriver.remote.webelement.WebElement (session=\"646ccff4587c365ccaea29678ce35acb\", element=\"38a5c259-5775-4b92-8519-64d44edb045a\")>,\n",
       " <selenium.webdriver.remote.webelement.WebElement (session=\"646ccff4587c365ccaea29678ce35acb\", element=\"03e25888-7b24-42e7-912e-cc7bb9e5be96\")>,\n",
       " <selenium.webdriver.remote.webelement.WebElement (session=\"646ccff4587c365ccaea29678ce35acb\", element=\"c481de90-95da-4a27-a28c-4359febf363b\")>,\n",
       " <selenium.webdriver.remote.webelement.WebElement (session=\"646ccff4587c365ccaea29678ce35acb\", element=\"402d5822-417a-46e3-b792-f7341ae8dec5\")>,\n",
       " <selenium.webdriver.remote.webelement.WebElement (session=\"646ccff4587c365ccaea29678ce35acb\", element=\"5071a84e-e957-4e27-9ddc-4f5d9dd1acb6\")>,\n",
       " <selenium.webdriver.remote.webelement.WebElement (session=\"646ccff4587c365ccaea29678ce35acb\", element=\"762ea5e3-b405-4708-b131-7275deb02086\")>,\n",
       " <selenium.webdriver.remote.webelement.WebElement (session=\"646ccff4587c365ccaea29678ce35acb\", element=\"3575f8cc-5ce7-465d-be31-ec0585af776d\")>,\n",
       " <selenium.webdriver.remote.webelement.WebElement (session=\"646ccff4587c365ccaea29678ce35acb\", element=\"01dca416-8174-4f2e-bbea-c35adbde04c5\")>,\n",
       " <selenium.webdriver.remote.webelement.WebElement (session=\"646ccff4587c365ccaea29678ce35acb\", element=\"0acac9ea-90f4-4476-a83f-ee44509a2983\")>,\n",
       " <selenium.webdriver.remote.webelement.WebElement (session=\"646ccff4587c365ccaea29678ce35acb\", element=\"5b435e14-fe16-4463-8acc-d0f87d373273\")>,\n",
       " <selenium.webdriver.remote.webelement.WebElement (session=\"646ccff4587c365ccaea29678ce35acb\", element=\"c13d487e-e771-447b-91c1-7fe424b9fd1f\")>,\n",
       " <selenium.webdriver.remote.webelement.WebElement (session=\"646ccff4587c365ccaea29678ce35acb\", element=\"5232b67b-881f-4c0e-aa96-6028b45a09e0\")>]"
      ]
     },
     "execution_count": 10,
     "metadata": {},
     "output_type": "execute_result"
    }
   ],
   "source": [
    "buttons = driver.find_elements_by_class_name('btn')\n",
    "buttons"
   ]
  },
  {
   "cell_type": "markdown",
   "metadata": {},
   "source": [
    "Noch einfacher wäre es in diesem Fall, nach der sub-Class des Buttons zu suchen (\"icon--right\"), denn davon gibt es nur zwei:"
   ]
  },
  {
   "cell_type": "code",
   "execution_count": 11,
   "metadata": {},
   "outputs": [
    {
     "data": {
      "text/plain": [
       "[<selenium.webdriver.remote.webelement.WebElement (session=\"646ccff4587c365ccaea29678ce35acb\", element=\"d7e172d6-1042-478e-b998-da9784903ee9\")>,\n",
       " <selenium.webdriver.remote.webelement.WebElement (session=\"646ccff4587c365ccaea29678ce35acb\", element=\"53aaaaac-743a-43c0-a3dc-e378ce027670\")>]"
      ]
     },
     "execution_count": 11,
     "metadata": {},
     "output_type": "execute_result"
    }
   ],
   "source": [
    "buttons = driver.find_elements_by_class_name('icon--right')\n",
    "buttons"
   ]
  },
  {
   "cell_type": "markdown",
   "metadata": {},
   "source": [
    "Davon steuern wir den richtigen an und clicken darauf."
   ]
  },
  {
   "cell_type": "code",
   "execution_count": 12,
   "metadata": {},
   "outputs": [],
   "source": [
    "buttons[0].click()"
   ]
  },
  {
   "cell_type": "markdown",
   "metadata": {},
   "source": [
    "Und jetzt speichern wir den gesamten HTML-Code der jeweiligen Seite ab (mit **pagesource**), dies im richtigen Format (utf-8). (Format \"wb+\" ist Standard. Es heisst schreiben, binär.)"
   ]
  },
  {
   "cell_type": "code",
   "execution_count": 13,
   "metadata": {},
   "outputs": [],
   "source": [
    "page = driver.page_source.encode('utf-8')  # Hier wird der gesamte Inhalt der Webiste rausgezogen\n",
    "with open(\"eine_seite.htm\", \"wb+\") as file:\n",
    "    file.write(page)   # Das heisst: Schreibe den mit pagesource rausgezogenen Inhalt in dieneu geöffnete Seite\n",
    "    file.close()  # Und jetzt schliess diese Seite."
   ]
  },
  {
   "cell_type": "code",
   "execution_count": 14,
   "metadata": {},
   "outputs": [
    {
     "name": "stdout",
     "output_type": "stream",
     "text": [
      "01 Scraping Zefix.ipynb Untitled.ipynb          page.htm\r\n",
      "2 Htmls auslesen.ipynb  bäckereien_list.csv     \u001b[34mpages\u001b[m\u001b[m\r\n",
      "Selenium.ipynb          eine_seite.htm\r\n"
     ]
    }
   ],
   "source": [
    "!ls"
   ]
  },
  {
   "cell_type": "code",
   "execution_count": null,
   "metadata": {},
   "outputs": [],
   "source": []
  },
  {
   "cell_type": "markdown",
   "metadata": {},
   "source": [
    "### Jetzt alles zusammenhängen:\n",
    "Aufgabe: Die ersten 35 Seiten aufrufen und abspeichern."
   ]
  },
  {
   "cell_type": "code",
   "execution_count": 22,
   "metadata": {},
   "outputs": [],
   "source": [
    "driver = webdriver.Chrome(executable_path=\"/usr/local/bin/chromedriver\")\n",
    "driver.get(\"https://www.zefix.ch\")\n",
    "time.sleep(2)\n",
    "search = driver.find_element_by_id('firm-name-fomfield')\n",
    "search.send_keys(\"Bäckerei\")\n",
    "searchclick = driver.find_element_by_id(\"submit-search-btn\")\n",
    "searchclick.click()\n",
    "buttons = driver.find_elements_by_class_name('icon--right')\n",
    "\n",
    "for nummer in range(1,36):\n",
    "\n",
    "    page = driver.page_source.encode('utf-8')\n",
    "    with open(\"seite\"+str(nummer)+\".htm\", \"wb+\") as file:\n",
    "        file.write(page)\n",
    "        file.close()\n",
    "    buttons[0].click()"
   ]
  }
 ],
 "metadata": {
  "kernelspec": {
   "display_name": "Python 3",
   "language": "python",
   "name": "python3"
  },
  "language_info": {
   "codemirror_mode": {
    "name": "ipython",
    "version": 3
   },
   "file_extension": ".py",
   "mimetype": "text/x-python",
   "name": "python",
   "nbconvert_exporter": "python",
   "pygments_lexer": "ipython3",
   "version": "3.7.4"
  }
 },
 "nbformat": 4,
 "nbformat_minor": 2
}
