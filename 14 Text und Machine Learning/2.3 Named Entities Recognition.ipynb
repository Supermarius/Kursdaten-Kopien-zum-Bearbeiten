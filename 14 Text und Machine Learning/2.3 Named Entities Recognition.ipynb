{
 "cells": [
  {
   "cell_type": "markdown",
   "metadata": {},
   "source": [
    "# Named Entities Recognition with NLTK\n",
    "- Named entities sind Orte, Firmen, Organisationen, Länder, etc.. alles Eigennamen. \n",
    "- Oft sind diese Eigennamen relativ wichtig im Text. "
   ]
  },
  {
   "cell_type": "code",
   "execution_count": 1,
   "metadata": {},
   "outputs": [],
   "source": [
    "import nltk"
   ]
  },
  {
   "cell_type": "code",
   "execution_count": 2,
   "metadata": {},
   "outputs": [
    {
     "data": {
      "text/plain": [
       "[('John', 'NNP'),\n",
       " ('Smith', 'NNP'),\n",
       " ('is', 'VBZ'),\n",
       " ('from', 'IN'),\n",
       " ('the', 'DT'),\n",
       " ('United', 'NNP'),\n",
       " ('States', 'NNPS'),\n",
       " ('of', 'IN'),\n",
       " ('America', 'NNP'),\n",
       " ('and', 'CC'),\n",
       " ('works', 'VBZ'),\n",
       " ('at', 'IN'),\n",
       " ('Microsoft', 'NNP'),\n",
       " ('Research', 'NNP'),\n",
       " ('Labs', 'NNP')]"
      ]
     },
     "execution_count": 2,
     "metadata": {},
     "output_type": "execute_result"
    }
   ],
   "source": [
    "nltk.pos_tag(nltk.word_tokenize(\"John Smith is from the United States of America and works at Microsoft Research Labs\"))"
   ]
  },
  {
   "cell_type": "code",
   "execution_count": 3,
   "metadata": {},
   "outputs": [
    {
     "name": "stderr",
     "output_type": "stream",
     "text": [
      "[nltk_data] Downloading package averaged_perceptron_tagger to\n",
      "[nltk_data]     /Users/Datenjournalismus/nltk_data...\n",
      "[nltk_data]   Package averaged_perceptron_tagger is already up-to-\n",
      "[nltk_data]       date!\n",
      "[nltk_data] Downloading package maxent_ne_chunker to\n",
      "[nltk_data]     /Users/Datenjournalismus/nltk_data...\n",
      "[nltk_data]   Unzipping chunkers/maxent_ne_chunker.zip.\n",
      "[nltk_data] Downloading package words to\n",
      "[nltk_data]     /Users/Datenjournalismus/nltk_data...\n"
     ]
    },
    {
     "name": "stdout",
     "output_type": "stream",
     "text": [
      "(S\n",
      "  (PERSON John/NNP)\n",
      "  (PERSON Smith/NNP)\n",
      "  is/VBZ\n",
      "  from/IN\n",
      "  the/DT\n",
      "  (GPE United/NNP States/NNPS)\n",
      "  of/IN\n",
      "  (GPE America/NNP)\n",
      "  and/CC\n",
      "  works/VBZ\n",
      "  at/IN\n",
      "  (ORGANIZATION Microsoft/NNP Research/NNP Labs/NNP))\n"
     ]
    },
    {
     "name": "stderr",
     "output_type": "stream",
     "text": [
      "[nltk_data]   Unzipping corpora/words.zip.\n"
     ]
    }
   ],
   "source": [
    "import nltk\n",
    "nltk.download('averaged_perceptron_tagger')\n",
    "nltk.download('maxent_ne_chunker')\n",
    "nltk.download('words')\n",
    "print(nltk.ne_chunk(nltk.pos_tag(nltk.word_tokenize(\"John Smith is from the United States of America and works at Microsoft Research Labs\"))))"
   ]
  },
  {
   "cell_type": "code",
   "execution_count": 5,
   "metadata": {},
   "outputs": [
    {
     "name": "stdout",
     "output_type": "stream",
     "text": [
      "(S\n",
      "  (PERSON Johan/NNP)\n",
      "  (PERSON Meier/NNP)\n",
      "  kommt/NNP\n",
      "  aus/NN\n",
      "  (GPE Deutschland/NNP)\n",
      "  und/NN\n",
      "  arbeitet/NN\n",
      "  bei/NN\n",
      "  der/NN\n",
      "  (ORGANIZATION Forschungsabteilung/NNP)\n",
      "  von/NNP\n",
      "  Microsoft/NNP)\n"
     ]
    }
   ],
   "source": [
    "print(nltk.ne_chunk(nltk.pos_tag(nltk.word_tokenize(\"Johan Meier kommt aus Deutschland und arbeitet bei der Forschungsabteilung von Microsoft\"))))"
   ]
  },
  {
   "cell_type": "markdown",
   "metadata": {},
   "source": [
    "# Named Entities Recognition as a Service\n",
    "- Extrahieren von wichtigen sog. Named entities (cities, persons, etc..)\n",
    "- http://www.opencalais.com/opencalais-api/ (Heisst heute Refinitiv – und geht deshalb wohl nicht mehr wie bisher...)\n",
    "- http://www.opencalais.com/wp-content/uploads/folder/ThomsonReutersOpenCalaisAPIUserGuideR12_1.pdf\n",
    "- Super praktisch wenn man sehr viele Dokumente hat und aggregiert sehen möchte worüber gesprochen wird...."
   ]
  },
  {
   "cell_type": "markdown",
   "metadata": {},
   "source": [
    "```pip install httplib2```"
   ]
  },
  {
   "cell_type": "markdown",
   "metadata": {},
   "source": [
    "### Aufgabe\n",
    "Holt euch den text von http://www.spiegel.de/politik/ausland/brexit-das-endspiel-hat-begonnen-a-1238299.html mit dem readability tool."
   ]
  },
  {
   "cell_type": "code",
   "execution_count": 4,
   "metadata": {},
   "outputs": [],
   "source": [
    "text = '''Theresa May has quit the discussions in France'''"
   ]
  },
  {
   "cell_type": "code",
   "execution_count": 8,
   "metadata": {},
   "outputs": [],
   "source": [
    "import httplib2\n",
    "import json\n",
    "LOCAL_API_KEY = 's8kVFJoL3LFkMtPfBJKrJAF8BgJ7g85E' # Aquire this by registering at the Calais site\n",
    "CALAIS_TAG_API = 'https://api.thomsonreuters.com/permid/calais'\n",
    "headers = {\n",
    "    'X-AG-Access-Token': LOCAL_API_KEY,\n",
    "    'content-type': 'text/raw',\n",
    "    'outputformat': 'application/json'\n",
    "}\n",
    "http = httplib2.Http()\n",
    "response, content = http.request(CALAIS_TAG_API, 'POST', headers=headers, body=text)\n",
    "jcontent = json.loads(content.decode(\"utf-8\")) # Parse the json return into a python dict"
   ]
  },
  {
   "cell_type": "code",
   "execution_count": 9,
   "metadata": {},
   "outputs": [
    {
     "data": {
      "text/plain": [
       "{'contentType': 'text/raw',\n",
       " 'processingVer': 'AllMetadata',\n",
       " 'serverVersion': '12.9.216:216',\n",
       " 'stagsVer': 'defaultVersion',\n",
       " 'submissionDate': '2019-11-19 13:18:51.862',\n",
       " 'submitterCode': '0ca6a864-5659-789d-5f32-f365f695e757',\n",
       " 'signature': 'digestalg-1|EsAnFkGr9soGtS95EVA8X0Y1v4k=|SSfiFweMQ1Puon09LWCTBEaSl1oPpxsrHOltdTIDg6vjNSHgYMSncw==',\n",
       " 'language': 'InputTextTooShort'}"
      ]
     },
     "execution_count": 9,
     "metadata": {},
     "output_type": "execute_result"
    }
   ],
   "source": [
    "jcontent[\"doc\"][\"meta\"]"
   ]
  },
  {
   "cell_type": "code",
   "execution_count": 10,
   "metadata": {},
   "outputs": [
    {
     "ename": "AttributeError",
     "evalue": "'dict' object has no attribute 'iteritems'",
     "output_type": "error",
     "traceback": [
      "\u001b[0;31m---------------------------------------------------------------------------\u001b[0m",
      "\u001b[0;31mAttributeError\u001b[0m                            Traceback (most recent call last)",
      "\u001b[0;32m<ipython-input-10-60a55ea64710>\u001b[0m in \u001b[0;36m<module>\u001b[0;34m\u001b[0m\n\u001b[0;32m----> 1\u001b[0;31m \u001b[0;32mfor\u001b[0m \u001b[0;34m(\u001b[0m\u001b[0mk\u001b[0m\u001b[0;34m,\u001b[0m\u001b[0mv\u001b[0m\u001b[0;34m)\u001b[0m \u001b[0;32min\u001b[0m \u001b[0mjcontent\u001b[0m\u001b[0;34m.\u001b[0m\u001b[0miteritems\u001b[0m\u001b[0;34m(\u001b[0m\u001b[0;34m)\u001b[0m\u001b[0;34m:\u001b[0m\u001b[0;34m\u001b[0m\u001b[0;34m\u001b[0m\u001b[0m\n\u001b[0m\u001b[1;32m      2\u001b[0m     \u001b[0;32mtry\u001b[0m\u001b[0;34m:\u001b[0m\u001b[0;34m\u001b[0m\u001b[0;34m\u001b[0m\u001b[0m\n\u001b[1;32m      3\u001b[0m         \u001b[0mprint\u001b[0m\u001b[0;34m(\u001b[0m\u001b[0;34m\"Key: %s Type: %s Name: %s\"\u001b[0m \u001b[0;34m%\u001b[0m \u001b[0;34m(\u001b[0m\u001b[0mk\u001b[0m\u001b[0;34m,\u001b[0m\u001b[0mv\u001b[0m\u001b[0;34m[\u001b[0m\u001b[0;34m\"name\"\u001b[0m\u001b[0;34m]\u001b[0m\u001b[0;34m,\u001b[0m\u001b[0mv\u001b[0m\u001b[0;34m[\u001b[0m\u001b[0;34m\"_type\"\u001b[0m\u001b[0;34m]\u001b[0m\u001b[0;34m)\u001b[0m\u001b[0;34m)\u001b[0m\u001b[0;34m\u001b[0m\u001b[0;34m\u001b[0m\u001b[0m\n\u001b[1;32m      4\u001b[0m     \u001b[0;32mexcept\u001b[0m\u001b[0;34m:\u001b[0m\u001b[0;34m\u001b[0m\u001b[0;34m\u001b[0m\u001b[0m\n\u001b[1;32m      5\u001b[0m         \u001b[0mprint\u001b[0m\u001b[0;34m(\u001b[0m\u001b[0;34m\"No name present for entity %s\"\u001b[0m \u001b[0;34m%\u001b[0m \u001b[0mk\u001b[0m\u001b[0;34m)\u001b[0m\u001b[0;34m\u001b[0m\u001b[0;34m\u001b[0m\u001b[0m\n",
      "\u001b[0;31mAttributeError\u001b[0m: 'dict' object has no attribute 'iteritems'"
     ]
    }
   ],
   "source": [
    "for (k,v) in jcontent.iteritems():\n",
    "    try:\n",
    "        print(\"Key: %s Type: %s Name: %s\" % (k,v[\"name\"],v[\"_type\"]))\n",
    "    except:\n",
    "        print(\"No name present for entity %s\" % k)"
   ]
  },
  {
   "cell_type": "markdown",
   "metadata": {},
   "source": [
    "## Aufgabe\n",
    "- Von welchen Ländern und Unternehmen wird vor allem gesprochen?"
   ]
  },
  {
   "cell_type": "markdown",
   "metadata": {},
   "source": [
    "### Eigener Refinitiv-Test mit GR-Protokoll"
   ]
  },
  {
   "cell_type": "code",
   "execution_count": 13,
   "metadata": {},
   "outputs": [],
   "source": [
    "import textract"
   ]
  },
  {
   "cell_type": "code",
   "execution_count": 15,
   "metadata": {},
   "outputs": [],
   "source": [
    "text = textract.process(\"DocumentLoader.pdf\") "
   ]
  },
  {
   "cell_type": "code",
   "execution_count": 16,
   "metadata": {},
   "outputs": [
    {
     "data": {
      "text/plain": [
       "b'1837\\xe2\\x80\\x931850\\n\\nProtokoll 71. Sitzung\\ndes Gemeinderats von Z\\xc3\\xbcrich\\nMittwoch, 6. November 2019, 17.00 Uhr bis 20.17 Uhr, im Rathaus\\n\\nVorsitz: Pr\\xc3\\xa4sident Heinz Schatt (SVP)\\nBeschlussprotokoll: Sekret\\xc3\\xa4r Mark Richli (SP)\\nAnwesend: 119 Mitglieder\\nAbwesend: Peter Anderegg (EVP), Martin B\\xc3\\xbcrki (FDP), Raphael Kobler (FDP), Elisabeth\\nSchoch (FDP), Thomas Schwendener (SVP), Rapha\\xc3\\xabl Tschanz (FDP)\\n\\nDer Rat behandelt aus der vom Pr\\xc3\\xa4sidenten erlassenen, separat gedruckten Tagliste folgende\\nGesch\\xc3\\xa4fte:\\n1.\\n\\nMitteilungen\\n\\n2.\\n\\n2019/438 *\\n\\nWeisung vom 23.10.2019:\\nLiegenschaften Stadt Z\\xc3\\xbcrich, Quartier Seebach, Fernsehstudio\\nLeutschenbach, Nachtrag Baurechtsvertrag SRG (Schweizerische Radio- und Fernsehgesellschaft), Genehmigung\\n\\nFV\\n\\n3.\\n\\n2019/452\\n\\n(2014/335 \\xe2\\x80\\x93 Weisung vom 29.10.2014)\\nAmt f\\xc3\\xbcr St\\xc3\\xa4dtebau, Teilrevision der Bau- und Zonenordnung,\\nRekurs gegen die Umzonung des Grundst\\xc3\\xbccks Kat. Nr. FL1015\\nvon der Freihaltezone in die Landwirtschaftszone, Entscheid des\\nBaurekursgerichts des Kantons Z\\xc3\\xbcrich (BRGE Nr. 0144/2019),\\nBeschwerde an das Verwaltungsgericht des Kantons Z\\xc3\\xbcrich\\n\\n4.\\n\\n2018/141\\n\\nWeisung vom 18.04.2018:\\nPostulat von Andreas Kirstein betreffend Bericht \\xc3\\xbcber die institutionelle Neuordnung der st\\xc3\\xa4dtischen Energieproduzenten, Energieverteiler und ihre Netzstrukturen, Bericht und Abschreibung\\n\\nVIB\\n\\n5.\\n\\n2019/185\\n\\nWeisung vom 15.05.2019:\\nPostulat von Marcel B\\xc3\\xbchrig und Sven Sobernheim betreffend\\nVerkehrspriorisierungssystem SESAM f\\xc3\\xbcr VBZ-Fahrzeuge und\\nEinsatzfahrzeuge von Schutz & Rettung, Ersatz durch ein GPSbasiertes System, Bericht und Abschreibung\\n\\nVSI\\n\\n6.\\n\\n2019/269\\n\\nWeisung vom 19.06.2019:\\nSozialdepartement, Verein Kanzbi \\xe2\\x80\\x93 Interkulturelle Bibliothek f\\xc3\\xbcr\\nKinder und Jugendliche, Beitr\\xc3\\xa4ge 2020\\xe2\\x80\\x932022, Abschreibung der\\nMotion (GR Nr. 2018/460)\\n\\nVS\\n\\n1421\\n\\n\\x0c1837\\xe2\\x80\\x931837\\n\\n71. Sitzung vom 6. November 2019\\n\\n7.\\n\\n2019/379\\n\\nBeschlussantrag der SP-, Gr\\xc3\\xbcne- und AL-Fraktion und der\\nParlamentsgruppe EVP vom 11.09.2019:\\nResolution f\\xc3\\xbcr eine nukleare Abr\\xc3\\xbcstung und f\\xc3\\xbcr die Unterzeichnung des von den Vereinten Nationen verabschiedeten Vertrags\\nzum Verbot von Atomwaffen\\n\\n9.\\n\\n2018/281 E/A\\n\\nPostulat der SP-, Gr\\xc3\\xbcne- und AL-Fraktion vom 11.07.2018:\\nEngagement der Stadt zur Aufnahme von \\xc3\\xbcber das Mittelmeer\\ngefl\\xc3\\xbcchteten Menschen in geeigneten Gremien beim Bund\\n\\nVS\\n\\n* Keine materielle Behandlung\\n\\nMitteilungen\\n\\nDie Mitteilungen des Ratspr\\xc3\\xa4sidenten werden zur Kenntnis genommen.\\n\\nDubravko Sinovcic (SVP) beantragt namens der SVP-Fraktion die Absetzung von TOP\\n7, GR Nr. 2019/379, \\xc2\\xabBeschlussantrag der SP-, Gr\\xc3\\xbcne- und AL-Fraktion und der Parlamentsgruppe EVP vom 11.09.2019: Resolution f\\xc3\\xbcr eine nukleare Abr\\xc3\\xbcstung und f\\xc3\\xbcr die\\nUnterzeichnung des von den Vereinten Nationen verabschiedeten Vertrags zum Verbot\\nvon Atomwaffen\\xc2\\xbb von der heutigen Tagliste.\\nDer Rat lehnt den Antrag von Dubravko Sinovcic (SVP) mit 39 gegen 69 Stimmen (bei\\n0 Enthaltungen) ab.\\n\\nAn der nachfolgenden Fraktionserkl\\xc3\\xa4rung werden keine sprachlichen Korrekturen vorgenommen.\\n1837. 2019/477\\nErkl\\xc3\\xa4rung der SVP-Fraktion vom 06.11.2019:\\nBesetzung des Juchhof-Areals\\nNamens der SVP-Fraktion verliest Roger Bartholdi (SVP) folgende Fraktionserkl\\xc3\\xa4rung:\\nF\\xc3\\xbchrt ein Halloween-Streich zu einer jahrelangen Besetzung des Juchhofs-Areals?\\nDie SVP fordert die sofortige R\\xc3\\xa4umung des Juchhofs-Areals und damit verbunden eine Personenkontrolle,\\ndamit die Besetzerszene f\\xc3\\xbcr allf\\xc3\\xa4llige Sch\\xc3\\xa4den und staatlichen Aufwand zur Rechenschaft gezogen werden\\nkann\\nAm 31. Oktober 2019 haben Chaoten das Juchhof-Areal illegal besetzt. Kaum war die Besetzung bekannt,\\nerschien eine Medienmitteilung mit dem Titel \\xc2\\xabBesetzung des Juchhof-Areals: Tolerierung bis auf Weiteres\\xc2\\xbb\\nmit dem folgenden Zitat: \\xc2\\xabDie Besetzung wird bis auf Weiteres durch die AOZ toleriert.\\xc2\\xbb. Wahrscheinlich\\nwar die Besetzerszene von diesem Entscheid selbst \\xc3\\xbcberrascht, da sie dachten, der Halloween-Streich\\nw\\xc3\\xa4re ein kurzes Intermezzo und Recht und Ordnung w\\xc3\\xbcrde durchgesetzt und das Areal ger\\xc3\\xa4umt.\\nBereits ein Tag sp\\xc3\\xa4ter, am 1. November 2019, erschien \\xc3\\xbcber das Sozialdepartement der Stadt Z\\xc3\\xbcrich von\\nder AOZ bereits die zweite Medienmitteilung mit dem Titel \\xc2\\xabBesetzung Juch-Areal: Vorerst keine R\\xc3\\xa4umung\\xc2\\xbb\\nmit unter anderem folgendem Text: \\xc2\\xabDie laufende Planung f\\xc3\\xbcr die zuk\\xc3\\xbcnftige Nutzung des Areals f\\xc3\\xbcr die Unterbringung von Menschen aus dem Asyl- und Fl\\xc3\\xbcchtlingsbereich wird unabh\\xc3\\xa4ngig von der aktuellen Situation weiterverfolgt. Einzig die fundierte Beurteilung der letzte Woche festgestellten Sicherheitsrisiken auf\\n\\n1422\\n\\n\\x0c71. Sitzung vom 6. November 2019\\n\\n1837\\xe2\\x80\\x931839\\n\\ndem Gel\\xc3\\xa4nde und in den Geb\\xc3\\xa4uden ist aufgrund der derzeitigen Besetzung in Frage gestellt. Die Besetzerinnen und Besetzer auf dem Juchhof-Areal werden von der Fachorganisation AOZ so rasch wie m\\xc3\\xb6glich\\n\\xc3\\xbcber das allf\\xc3\\xa4llige Sicherheitsrisiko informiert\\xc2\\xbb.\\nSicherheitsrisiko reicht nicht zur R\\xc3\\xa4umung\\nOffenbar bestehen Sicherheitsrisiken, dennoch l\\xc3\\xa4sst man die Besetzerszene schalten und walten auf dem\\nAreal. Die Frage ist, wer toleriert diese Besetzung? Ist es die AOZ, die Mieterin oder die Stadt Z\\xc3\\xbcrich als Eigent\\xc3\\xbcmerin? Wer von der Stadt tr\\xc3\\xa4gt die Verantwortung, wenn eine oder mehrere Personen aufgrund der\\nSicherheitsrisiken verletzt werden? Es stellen sich zahlreiche Fragen zu dieser Besetzung, die SVP wird\\nheute einen umfangreichen Fragekatalog einreichen. Unabh\\xc3\\xa4ngig dessen Beantwortung fordert die SVP:\\nDie Durchsetzung von Recht und Gesetz. Es kann nicht angehen, dass Einbruch, Hausfriedensbruch, Sachbesch\\xc3\\xa4digungen und andere Delikte toleriert werden und die Polizei nicht einschreiten darf. Offenbar geniessen einige Personen mehr Privilegien und sind vor dem Gesetz nicht gleich, nach dem Motto \\xc2\\xabF\\xc3\\xbcr Wenige statt f\\xc3\\xbcr Alle\\xc2\\xbb.\\n\\nGesch\\xc3\\xa4fte\\n\\n1838. 2019/438\\nWeisung vom 23.10.2019:\\nLiegenschaften Stadt Z\\xc3\\xbcrich, Quartier Seebach, Fernsehstudio Leutschenbach,\\nNachtrag Baurechtsvertrag SRG (Schweizerische Radio- und Fernsehgesellschaft), Genehmigung\\nZuweisung an die SK FD gem\\xc3\\xa4ss Beschluss des B\\xc3\\xbcros vom 4. November 2019\\n\\n1839. 2019/452\\n(2014/335 \\xe2\\x80\\x93 Weisung vom 29.10.2014)\\nAmt f\\xc3\\xbcr St\\xc3\\xa4dtebau, Teilrevision der Bau- und Zonenordnung, Rekurs gegen die\\nUmzonung des Grundst\\xc3\\xbccks Kat. Nr. FL1015 von der Freihaltezone in die Landwirtschaftszone, Entscheid des Baurekursgerichts des Kantons Z\\xc3\\xbcrich (BRGE Nr.\\n0144/2019), Beschwerde an das Verwaltungsgericht des Kantons Z\\xc3\\xbcrich\\nDer Gemeinderat hat mit Beschluss vom 30. November 2016 (GRB Nr. 2458) eine \\xc3\\x84nderung der Bau- und Zonenordnung beschlossen. Bestandteil dieses Entscheids war die\\nUmzonung des Grundst\\xc3\\xbccks Kat. Nr. FL1015 von der Freihaltezone in die Landwirtschaftszone. Gegen diesen Entscheid wurde Rekurs erhoben. Mit Entscheid vom\\n18. Mai 2018 wies das Baurekursgericht des Kantons Z\\xc3\\xbcrich den Rekurs ab. Die Rekurrierenden gelangten daraufhin an das Verwaltungsgericht des Kantons Z\\xc3\\xbcrich, das die\\nStreitsache zur Neubeurteilung an das Baurekursgericht des Kantons Z\\xc3\\xbcrich zur\\xc3\\xbcckwies.\\nMit Entscheid vom 18. Oktober 2019 hat das Baurekursgericht des Kantons Z\\xc3\\xbcrich den\\nRekurs gutgeheissen. Demgem\\xc3\\xa4ss wird die mit dem Beschluss des Gemeinderats Z\\xc3\\xbcrich vom 30. November 2016 und Verf\\xc3\\xbcgung der Baudirektion des Kantons Z\\xc3\\xbcrich vom\\n5. Juli 2017 veranlasste Umzonung des Grundst\\xc3\\xbccks in die Landwirtschaftszone aufgehoben.\\n\\nDie Mehrheit des B\\xc3\\xbcros beantragt:\\nGegen den Entscheid des Baurekursgerichts des Kantons Z\\xc3\\xbcrich vom 18. Oktober 2019\\n(R1S.2018.05083, BRGE Nr. 0144/2019) zum Rekurs gegen die Teilrevision der Bau1423\\n\\n\\x0c1839\\xe2\\x80\\x931840\\n\\n71. Sitzung vom 6. November 2019\\n\\nund Zonenordnung, Umzonung des Grundst\\xc3\\xbccks Kat. Nr. FL1015 von der Freihaltezone in die Landwirtschaftszone, wird beim Verwaltungsgericht des Kantons Z\\xc3\\xbcrich\\nBeschwerde erhoben.\\nDie Minderheit des B\\xc3\\xbcros beantragt:\\nAuf eine Beschwerde gegen den Entscheid des Baurekursgerichts des Kantons Z\\xc3\\xbcrich\\nvom 18. Oktober 2019 (R1S.2018.05083, BRGE Nr. 0144/2019) zum Rekurs gegen die\\nTeilrevision der Bau- und Zonenordnung, Umzonung des Grundst\\xc3\\xbccks Kat. Nr. FL1015\\nvon der Freihaltezone in die Landwirtschaftszone, an das Verwaltungsgericht des Kantons Z\\xc3\\xbcrich wird verzichtet.\\nMehrheit:\\nMinderheit:\\nEnthaltung:\\n\\nDr. Davy Graf (SP), Referent; Roger Bartholdi (SVP), Martin B\\xc3\\xbcrki (FDP), Marco\\nDenoth (SP), Guy Krayenb\\xc3\\xbchl (GLP), Albert Leiser (FDP), Michel Urben (SP)\\nMarkus Kunz (Gr\\xc3\\xbcne), Referent; Pr\\xc3\\xa4sident Heinz Schatt (SVP), 2. Vizepr\\xc3\\xa4sident\\nMischa Schiwow (AL), Karin Meier-Bohrer (Gr\\xc3\\xbcne)\\n1. Vizepr\\xc3\\xa4sidentin Helen Glaser (SP), Mark Richli (SP)\\n\\nDer Rat stimmt dem Antrag der Mehrheit mit 85 gegen 26 Stimmen (bei 1 Enthaltungen)\\nzu.\\n\\nDamit ist beschlossen:\\nGegen den Entscheid des Baurekursgerichts des Kantons Z\\xc3\\xbcrich vom 18. Oktober 2019\\n(R1S.2018.05083, BRGE Nr. 0144/2019) zum Rekurs gegen die Teilrevision der Bauund Zonenordnung, Umzonung des Grundst\\xc3\\xbccks Kat. Nr. FL1015 von der Freihaltezone in die Landwirtschaftszone, wird beim Verwaltungsgericht des Kantons Z\\xc3\\xbcrich\\nBeschwerde erhoben.\\nMitteilung an den Stadtrat\\n\\n1840. 2018/141\\nWeisung vom 18.04.2018:\\nPostulat von Andreas Kirstein betreffend Bericht \\xc3\\xbcber die institutionelle Neuordnung der st\\xc3\\xa4dtischen Energieproduzenten, Energieverteiler und ihre Netzstrukturen, Bericht und Abschreibung\\nAntrag des Stadtrats\\n1. Vom \\xc2\\xabSchlussbericht zur Organisation der Energieversorgung Stadt Z\\xc3\\xbcrich,\\nExpertenbericht\\xc2\\xbb vom 14. Dezember 2017 wird Kenntnis genommen.\\n2. Das Postulat, GR Nr. 2016/321, von Andreas Kirstein (AL) vom 21. September 2016\\nbetreffend \\xc2\\xabBericht \\xc3\\xbcber die institutionelle Neuordnung der st\\xc3\\xa4dtischen Energieproduzenten, Energieverteiler und ihre Netzstrukturen\\xc2\\xbb wird als erledigt abgeschrieben.\\nReferent zur Vorstellung der Weisung: Andreas Kirstein (AL)\\nNamens des Stadtrats nimmt der Vorsteher des Departements der Industriellen Betriebe\\nStellung.\\n\\n1424\\n\\n\\x0c71. Sitzung vom 6. November 2019\\n\\n1840\\xe2\\x80\\x931841\\n\\nSchlussabstimmung \\xc3\\xbcber die Dispositivziffer 1\\nDie SK TED/DIB beantragt Zustimmung zur Dispositivziffer 1.\\nZustimmung:\\n\\nAndreas Kirstein (AL), Referent; Pr\\xc3\\xa4sident Matthias Probst (Gr\\xc3\\xbcne), Vizepr\\xc3\\xa4sident\\nMichael Kraft (SP), Marianne Aubert (SP), Niyazi Erdem (SP), Guido H\\xc3\\xbcni (GLP),\\nMarkus Kunz (Gr\\xc3\\xbcne), Elisabeth Schoch (FDP), Ronny Siev (GLP), Dubravko Sinovcic\\n(SVP), Roger Tognella (FDP), Michel Urben (SP), Sebastian Vogel (FDP)\\n\\nDer Rat stimmt dem Antrag der SK TED/DIB mit 116 gegen 0 Stimmen (bei 0 Enthaltungen) zu.\\n\\nSchlussabstimmung \\xc3\\xbcber die Dispositivziffer 2\\nDie SK TED/DIB beantragt Zustimmung zur Dispositivziffer 2.\\nZustimmung:\\n\\nAndreas Kirstein (AL), Referent; Pr\\xc3\\xa4sident Matthias Probst (Gr\\xc3\\xbcne), Vizepr\\xc3\\xa4sident\\nMichael Kraft (SP), Marianne Aubert (SP), Niyazi Erdem (SP), Guido H\\xc3\\xbcni (GLP),\\nMarkus Kunz (Gr\\xc3\\xbcne), Elisabeth Schoch (FDP), Ronny Siev (GLP), Dubravko Sinovcic\\n(SVP), Roger Tognella (FDP), Michel Urben (SP), Sebastian Vogel (FDP)\\n\\nDer Rat stimmt dem Antrag der SK TED/DIB mit 116 gegen 0 Stimmen (bei 0 Enthaltungen) zu.\\n\\nDamit ist in \\xc3\\x9cbereinstimmung mit dem Stadtrat beschlossen:\\n1. Vom \\xc2\\xabSchlussbericht zur Organisation der Energieversorgung Stadt Z\\xc3\\xbcrich,\\nExpertenbericht\\xc2\\xbb vom 14. Dezember 2017 wird Kenntnis genommen.\\n2. Das Postulat, GR Nr. 2016/321, von Andreas Kirstein (AL) vom 21. September 2016\\nbetreffend \\xc2\\xabBericht \\xc3\\xbcber die institutionelle Neuordnung der st\\xc3\\xa4dtischen Energieproduzenten, Energieverteiler und ihre Netzstrukturen\\xc2\\xbb wird als erledigt abgeschrieben.\\nMitteilung an den Stadtrat und amtliche Publikation am 13. November 2019\\n\\n1841. 2019/185\\nWeisung vom 15.05.2019:\\nPostulat von Marcel B\\xc3\\xbchrig und Sven Sobernheim betreffend Verkehrspriorisierungssystem SESAM f\\xc3\\xbcr VBZ-Fahrzeuge und Einsatzfahrzeuge von Schutz &\\nRettung, Ersatz durch ein GPS-basiertes System, Bericht und Abschreibung\\nAntrag des Stadtrats\\n1. Vom Bericht betreffend Verkehrspriorisierungssystem SESAM f\\xc3\\xbcr VBZ-Fahrzeuge\\nund Einsatzfahrzeuge von Schutz & Rettung, Ersatz durch ein GPS-basiertes System, wird Kenntnis genommen.\\n2. Das Postulat, GR Nr. 2016/319, von Marcel B\\xc3\\xbchrig (Gr\\xc3\\xbcne) und Sven Sobernheim\\n(GLP) vom 21. September 2016 betreffend Verkehrspriorisierungssystem SESAM\\nf\\xc3\\xbcr VBZ-Fahrzeuge und Einsatzfahrzeuge von Schutz & Rettung, Ersatz durch ein\\nGPS-basiertes System, wird als erledigt abgeschrieben.\\nReferent zur Vorstellung der Weisung: Sven Sobernheim (GLP)\\n1425\\n\\n\\x0c1841\\xe2\\x80\\x931842\\n\\n71. Sitzung vom 6. November 2019\\n\\nNamens des Stadtrats nimmt der Vorsteher des Departements der Industriellen Betriebe\\nStellung.\\n\\nSchlussabstimmung \\xc3\\xbcber die Dispositivziffer 1\\nDie SK SID/V beantragt Zustimmung zur Dispositivziffer 1.\\nZustimmung:\\n\\nAbwesend:\\n\\nSven Sobernheim (GLP), Referent; Pr\\xc3\\xa4sident Stephan Iten (SVP), Vizepr\\xc3\\xa4sident\\nPascal Lamprecht (SP), Simone Brander (SP), Sarah Breitenstein (SP), Heidi Egger\\n(SP), Andreas Egli (FDP), Hans J\\xc3\\xb6rg K\\xc3\\xa4ppeli (SP), Markus Knauss (Gr\\xc3\\xbcne), Res Marti\\n(Gr\\xc3\\xbcne), Olivia Romanelli (AL), Dominique Zygmont (FDP)\\nChristoph Marty (SVP)\\n\\nDer Rat stimmt dem Antrag der SK SID/V mit 112 gegen 0 Stimmen (bei 1 Enthaltungen) zu.\\n\\nSchlussabstimmung \\xc3\\xbcber die Dispositivziffer 2\\nDie SK SID/V beantragt Zustimmung zur Dispositivziffer 2.\\nZustimmung:\\n\\nAbwesend:\\n\\nSven Sobernheim (GLP), Referent; Pr\\xc3\\xa4sident Stephan Iten (SVP), Vizepr\\xc3\\xa4sident\\nPascal Lamprecht (SP), Simone Brander (SP), Sarah Breitenstein (SP), Heidi Egger\\n(SP), Andreas Egli (FDP), Hans J\\xc3\\xb6rg K\\xc3\\xa4ppeli (SP), Markus Knauss (Gr\\xc3\\xbcne), Res Marti\\n(Gr\\xc3\\xbcne), Olivia Romanelli (AL), Dominique Zygmont (FDP)\\nChristoph Marty (SVP)\\n\\nDer Rat stimmt dem Antrag der SK SID/V mit 107 gegen 0 Stimmen (bei 0 Enthaltungen) zu.\\n\\nDamit ist in \\xc3\\x9cbereinstimmung mit dem Stadtrat beschlossen:\\n1. Vom Bericht betreffend Verkehrspriorisierungssystem SESAM f\\xc3\\xbcr VBZ-Fahrzeuge\\nund Einsatzfahrzeuge von Schutz & Rettung, Ersatz durch ein GPS-basiertes System, wird Kenntnis genommen.\\n2. Das Postulat, GR Nr. 2016/319, von Marcel B\\xc3\\xbchrig (Gr\\xc3\\xbcne) und Sven Sobernheim\\n(GLP) vom 21. September 2016 betreffend Verkehrspriorisierungssystem SESAM\\nf\\xc3\\xbcr VBZ-Fahrzeuge und Einsatzfahrzeuge von Schutz & Rettung, Ersatz durch ein\\nGPS-basiertes System, wird als erledigt abgeschrieben.\\nMitteilung an den Stadtrat und amtliche Publikation am 13. November 2019\\n\\n1842. 2019/269\\nWeisung vom 19.06.2019:\\nSozialdepartement, Verein Kanzbi \\xe2\\x80\\x93 Interkulturelle Bibliothek f\\xc3\\xbcr Kinder und\\nJugendliche, Beitr\\xc3\\xa4ge 2020\\xe2\\x80\\x932022, Abschreibung der Motion (GR Nr. 2018/460)\\nAntrag des Stadtrats\\n1.\\n\\n1426\\n\\nDem Verein Kanzbi \\xe2\\x80\\x93 Interkulturelle Bibliothek f\\xc3\\xbcr Kinder und Jugendliche \\xe2\\x80\\x93 wird f\\xc3\\xbcr\\ndie Jahre 2020\\xe2\\x80\\x932022 ein j\\xc3\\xa4hrlicher, leistungsorientierter Maximalbeitrag von\\n\\n\\x0c71. Sitzung vom 6. November 2019\\n\\n1842\\xe2\\x80\\x931842\\n\\nFr. 113 469.\\xe2\\x80\\x93 (entsprechend dem Stand von 102,0 Punkten des Z\\xc3\\xbcrcher Index der\\nKonsumentenpreise, Basis Dezember 2015) gew\\xc3\\xa4hrt.\\nDie Kompetenz zur Festlegung der Beitragss\\xc3\\xa4tze wird dem Vorsteher des Sozialdepartements \\xc3\\xbcbertragen.\\nUnter Ausschluss des Referendums:\\n2.\\n\\nDie Dringliche Motion, GR Nr. 2018/460, von Gemeinderat Marcel Tobler (SP) und\\nGemeinderat Alan David Sangines (SP) betreffend Sicherstellung j\\xc3\\xa4hrlicher Unterst\\xc3\\xbctzung des Vereins Kanzbi ab 2019 wird als erledigt abgeschrieben.\\n\\nReferent zur Vorstellung der Weisung: Marcel Tobler (SP)\\n\\nSchlussabstimmung \\xc3\\xbcber die Dispositivziffer 1\\nDie Mehrheit der SK SD beantragt Zustimmung zur Dispositivziffer 1.\\nDie Minderheit der SK SD beantragt Ablehnung der Dispositivziffer 1.\\nMehrheit:\\n\\nMinderheit:\\nAbwesend:\\n\\nMarcel Tobler (SP), Referent; Pr\\xc3\\xa4sidentin Katharina Prelicz-Huber (Gr\\xc3\\xbcne), Vizepr\\xc3\\xa4sident Markus Baumann (GLP), Ezgi Akyol (AL), Alexander Brunner (FDP), Marco Geissb\\xc3\\xbchler (SP), Mathias Manz (SP), Marcel M\\xc3\\xbcller (FDP), Marcel Savarioud (SP) i. V. von\\nNadia Huberson (SP), Roger-Paul Speck (SP)\\nWalter Anken (SVP), Referent; Derek Richter (SVP)\\nRaphael Kobler (FDP)\\n\\nDer Rat stimmt dem Antrag der Mehrheit mit 99 gegen 16 Stimmen (bei 0 Enthaltungen)\\nzu.\\n\\nSchlussabstimmung \\xc3\\xbcber die Dispositivziffer 2\\nDie SK SD beantragt Zustimmung zur Dispositivziffer 2.\\nZustimmung:\\n\\nAbwesend:\\n\\nMarcel Tobler (SP), Referent; Pr\\xc3\\xa4sidentin Katharina Prelicz-Huber (Gr\\xc3\\xbcne), Vizepr\\xc3\\xa4sident Markus Baumann (GLP), Ezgi Akyol (AL), Walter Anken (SVP), Alexander Brunner\\n(FDP), Marco Geissb\\xc3\\xbchler (SP), Mathias Manz (SP), Marcel M\\xc3\\xbcller (FDP), Derek Richter\\n(SVP), Marcel Savarioud (SP) i. V. von Nadia Huberson (SP), Roger-Paul Speck (SP)\\nRaphael Kobler (FDP)\\n\\nDer Rat stimmt dem Antrag der SK SD mit 112 gegen 0 Stimmen (bei 0 Enthaltungen)\\nzu.\\n\\nDamit ist in \\xc3\\x9cbereinstimmung mit dem Stadtrat beschlossen:\\n1.\\n\\nDem Verein Kanzbi \\xe2\\x80\\x93 Interkulturelle Bibliothek f\\xc3\\xbcr Kinder und Jugendliche \\xe2\\x80\\x93 wird f\\xc3\\xbcr\\ndie Jahre 2020\\xe2\\x80\\x932022 ein j\\xc3\\xa4hrlicher, leistungsorientierter Maximalbeitrag von\\nFr. 113 469.\\xe2\\x80\\x93 (entsprechend dem Stand von 102,0 Punkten des Z\\xc3\\xbcrcher Index der\\nKonsumentenpreise, Basis Dezember 2015) gew\\xc3\\xa4hrt.\\nDie Kompetenz zur Festlegung der Beitragss\\xc3\\xa4tze wird dem Vorsteher des Sozialdepartements \\xc3\\xbcbertragen.\\n\\n1427\\n\\n\\x0c1842\\xe2\\x80\\x931844\\n\\n71. Sitzung vom 6. November 2019\\n\\nUnter Ausschluss des Referendums:\\n2.\\n\\nDie Dringliche Motion, GR Nr. 2018/460, von Gemeinderat Marcel Tobler (SP) und\\nGemeinderat Alan David Sangines (SP) betreffend Sicherstellung j\\xc3\\xa4hrlicher Unterst\\xc3\\xbctzung des Vereins Kanzbi ab 2019 wird als erledigt abgeschrieben.\\n\\nMitteilung an den Stadtrat und amtliche Publikation am 13. November 2019 gem\\xc3\\xa4ss\\nArt. 12 der Gemeindeordnung (Ablauf der Referendumsfrist: 13. Januar 2020)\\n\\n1843. 2019/379\\nBeschlussantrag der SP-, Gr\\xc3\\xbcne- und AL-Fraktion und der Parlamentsgruppe EVP\\nvom 11.09.2019:\\nResolution f\\xc3\\xbcr eine nukleare Abr\\xc3\\xbcstung und f\\xc3\\xbcr die Unterzeichnung des von den\\nVereinten Nationen verabschiedeten Vertrags zum Verbot von Atomwaffen\\nMarco Geissb\\xc3\\xbchler (SP) begr\\xc3\\xbcndet den Beschlussantrag (vergleiche Beschluss-Nr.\\n1652/2019).\\nDer Rat stimmt dem Beschlussantrag mit 71 gegen 0 Stimmen (bei 1 Enthaltungen) zu.\\n\\nDamit ist beschlossen:\\nDem Gemeinderat wird beantragt, eine Resolution mit folgendem Wortlaut zu verabschieden: \\xc2\\xabDie Stadt\\nZ\\xc3\\xbcrich ist zutiefst besorgt \\xc3\\xbcber die immense Bedrohung, die Atomwaffen f\\xc3\\xbcr St\\xc3\\xa4dte und Gemeinden auf der\\nganzen Welt darstellt. Wir sind fest \\xc3\\xbcberzeugt, dass unsere Einwohnerinnen und Einwohner das Recht auf\\nein Leben frei von dieser Bedrohung haben. Jeder Einsatz von Atomwaffen, ob vors\\xc3\\xa4tzlich oder versehentlich, w\\xc3\\xbcrde katastrophale, weitreichende und lang anhaltende Folgen f\\xc3\\xbcr Mensch und Umwelt nach sich ziehen. Daher begr\\xc3\\xbcssen wir den von den Vereinten Nationen verabschiedeten Vertrag zum Verbot von Atomwaffen 2017 und fordern den Bundesrat zum Beitritt auf.\\xc2\\xbb\\n\\nMitteilung an den Stadtrat\\n\\n1844. 2018/281\\nPostulat der SP-, Gr\\xc3\\xbcne- und AL-Fraktion vom 11.07.2018:\\nEngagement der Stadt zur Aufnahme von \\xc3\\xbcber das Mittelmeer gefl\\xc3\\xbcchteten\\nMenschen in geeigneten Gremien beim Bund\\nGem\\xc3\\xa4ss schriftlicher Mitteilung ist der Vorsteher des Sozialdepartements namens des\\nStadtrats bereit, das Postulat zur Pr\\xc3\\xbcfung entgegenzunehmen.\\nVera Ziswiler (SP) begr\\xc3\\xbcndet das Postulat (vergleiche Beschluss-Nr. 234/2018).\\nYasmine Bourgeois (FDP) begr\\xc3\\xbcndet den namens der FDP-Fraktion am 29. August\\n2018 gestellten Ablehnungsantrag.\\nNamens des Stadtrats nimmt der Vorsteher des Sozialdepartements Stellung.\\nDas Postulat wird mit 68 gegen 33 Stimmen (bei 11 Enthaltungen) dem Stadtrat zur\\nPr\\xc3\\xbcfung \\xc3\\xbcberwiesen.\\nMitteilung an den Stadtrat\\n\\n1428\\n\\n\\x0c71. Sitzung vom 6. November 2019\\n\\n1845\\xe2\\x80\\x931846\\n\\nEing\\xc3\\xa4nge\\nAn den nachfolgenden Texten werden keine sprachlichen Korrekturen vorgenommen.\\n1845. 2019/478\\nMotion von Dubravko Sinovcic (SVP) und Susanne Brunner (SVP) vom 06.11.2019:\\nAusgliederung des Gesch\\xc3\\xa4ftsfelds Energiedienstleistungen des ewz in eine politisch unabh\\xc3\\xa4ngige, privatrechtliche Gesellschaft\\nVon Dubravko Sinovcic (SVP) und Susanne Brunner (SVP) ist am 6. November 2019\\nfolgende Motion eingereicht worden:\\nDer Stadtrat wird beauftragt, dem Gemeinderat eine kreditschaffende Weisung vorzulegen zur Ausgliederung des Gesch\\xc3\\xa4ftsfeldes Energiedienstleistungen (Energie-Contracting und Facility-Management) des ewz\\nin eine politisch unabh\\xc3\\xa4ngige, privatrechtliche Gesellschaft.\\nBegr\\xc3\\xbcndung:\\nEine Ausgliederung des ewz in eine \\xc3\\xb6ffentlich-rechtliche Anstalt wurde im Rat aus verschiedenen Gr\\xc3\\xbcnden\\nverworfen. Das ewz wird somit in n\\xc3\\xa4chster Zukunft eine Dienstabteilung der Stadt Z\\xc3\\xbcrich bleiben. Aufgrund\\ndieser Voraussetzung stellt sich die Frage, welche Gesch\\xc3\\xa4ftsfelder das ewz bedienen soll. Aus Sicht der\\nMotion\\xc3\\xa4re hat sich das ewz auf seine staatlichen Kernaufgaben zu konzentrieren. Diese Kernaufgaben sind\\ndie Produktion, der Transport sowie die Verteilung von Strom in die Haushalte und Unternehmen der Stadt\\nZ\\xc3\\xbcrich und mit Einschr\\xc3\\xa4nkungen im Kanton Graub\\xc3\\xbcnden.\\nBeim Energie-Contracting plant, baut, betreibt und finanziert das ewz Energieversorgungsanlagen, die Eigentum des ewz sind. Im Facility-Management betreibt das ewz Anlagen, ohne deren Eigent\\xc3\\xbcmer zu sein.\\nIn diesem Bereich sind Private t\\xc3\\xa4tig. Staatliche Akteure d\\xc3\\xbcrfen Private nicht konkurrenzieren. Wenn Staatsbetriebe im privatwirtschaftlichen Bereich t\\xc3\\xa4tig sind, f\\xc3\\xbchren sie zu Wettbewerbsverzerrungen. Daneben unterliegen sie den Marktrisiken. Es ist nicht statthaft, die Steuerzahlerinnen und Steuerzahler f\\xc3\\xbcr diese Marktrisiken haftbar zu machen.\\nZudem wurden dem ewz regelm\\xc3\\xa4ssig Rahmenkredite gew\\xc3\\xa4hrt, um im Markt der Energiedienstleistungen\\nkonkurrenzf\\xc3\\xa4hig und agil zu bleiben. Somit wurde diese T\\xc3\\xa4tigkeit bereits der politischen Kontrolle weitgehend entzogen.\\nAus diesen Gr\\xc3\\xbcnden ist eine Ausgliederung und in einem zweiten Schritt die Privatisierung des Bereiches\\nEnergiedienstleistungen einzuleiten.\\n\\nMitteilung an den Stadtrat\\n1846. 2019/479\\nPostulat von Zilla Roose (SP) und Urs Helfenstein (SP) vom 06.11.2019:\\nRealisierung eines \\xc3\\xb6ffentlichen Restaurants im neuen Geb\\xc3\\xa4ude des Elektrizit\\xc3\\xa4tswerks der Stadt Z\\xc3\\xbcrich (ewz) an der Pfingstweidstrasse\\nVon Zilla Roose (SP) und Urs Helfenstein (SP) ist am 6. November 2019 folgendes\\nPostulat eingereicht worden:\\nDer Stadtrat wird aufgefordert zu pr\\xc3\\xbcfen, wie im geplanten neuen Geb\\xc3\\xa4ude des Elektrizit\\xc3\\xa4tswerks der Stadt\\nZ\\xc3\\xbcrich (ewz) an der Pfingstweidstrasse ein Restaurant realisiert werden kann, das auch \\xc3\\xb6ffentlich zug\\xc3\\xa4nglich sein wird.\\nBegr\\xc3\\xbcndung:\\nMit einer knappen Verdoppelung der Wohnbev\\xc3\\xb6lkerung und einer ebenfalls starken Zunahme der Besch\\xc3\\xa4ftigten hat sich Z\\xc3\\xbcrich West in den letzten Jahren zu einem belebten Quartier entwickelt.\\nIm Gegensatz dazu ist es in derselben Zeit nur zu einer beschr\\xc3\\xa4nkten Zunahme an Orten gekommen, an\\ndenen die Zugezogenen ihre Freizeit verbringen k\\xc3\\xb6nnen. Besonders in der Umgebung der Pfingstweidstrasse bestehen heute nur wenige Restaurants und Kaffees. Es ist daher sehr w\\xc3\\xbcnschenswert, dass\\n\\n1429\\n\\n\\x0c1846\\xe2\\x80\\x931848\\n\\n71. Sitzung vom 6. November 2019\\n\\nim geplanten Neubau des ewz ein Restaurant betrieben wird, das auch \\xc3\\xb6ffentlich zug\\xc3\\xa4nglich sein wird und\\ndamit zum Verweilen einl\\xc3\\xa4dt und zu einem st\\xc3\\xa4rkeren Austausch im Quartier beitr\\xc3\\xa4gt.\\n\\nMitteilung an den Stadtrat\\n\\n1847. 2019/480\\nPostulat von Stephan Iten (SVP) und Derek Richter (SVP) vom 06.11.2019:\\nNutzung der Busspur f\\xc3\\xbcr Velofahrende, Pilotprojekt auf der Wehntalerstrasse\\nVon Stephan Iten (SVP) und Derek Richter (SVP) ist am 6. November 2019 folgendes\\nPostulat eingereicht worden:\\nDer Stadtrat wird aufgefordert, in einem Pilotprojekt auf der Wehntalerstrasse, Abschnitt Neu-Affoltern bis\\nZehntenhausplatz, zu pr\\xc3\\xbcfen, wie Velofahrende die Busspur mitben\\xc3\\xbctzen k\\xc3\\xb6nnen. Nach Abschluss des Pilotprojekts soll ein Bericht erstellt werden, welche Erkenntnisse aus diesem Versuch gezogen werden k\\xc3\\xb6nnen und ob auch auf anderen Abschnitten diese Art der Verkehrsf\\xc3\\xbchrung einen m\\xc3\\xb6glichen Mehrwert bringen\\nw\\xc3\\xbcrde.\\nBegr\\xc3\\xbcndung:\\nDie neue, durchgehende Busspur auf der Wehntalerstrasse hat einen Spurabbau stadteinw\\xc3\\xa4rts zur Folge.\\nF\\xc3\\xbcr Velofahrende hat sich die Situation aufgrund dieser Massnahme stark verschlechtert, da der MIV aufgrund der Sicherheitslinie keine legale M\\xc3\\xb6glichkeit mehr hat, diese mit dem n\\xc3\\xb6tigen Sicherheitsabstand zu\\n\\xc3\\xbcberholen. Die Velofahrenden m\\xc3\\xbcssen gef\\xc3\\xbchlt in der Mitte der Fahrbahn fahren und werden links und rechts\\n\\xc3\\xbcberholt.\\nWeil auf der Busspur weniger Verkehr herrscht, h\\xc3\\xa4tten die Velofahrerinnen und Velofahrer mehr Verkehrsfl\\xc3\\xa4che. Ausserdem k\\xc3\\xb6nnen sich die Velofahrenden am f\\xc3\\xbcr sie gewohnten rechten Fahrbahnrand bewegen.\\nBeides ist ein Gewinn an Sicherheit f\\xc3\\xbcr alle Verkehrsteilnehmenden. Ein weiterer Vorteil w\\xc3\\xa4re auch, dass so\\ndie schnelleren E-Bikes Velos ohne Hilfsmotor konfliktfrei \\xc3\\xbcberholen k\\xc3\\xb6nnten.\\nIm Bericht soll aufgezeigt werden, welchen Mehrwert und welche Nachteile diese Art der Verkehrsf\\xc3\\xbchrung\\nmit sich bringen und bei welchen weiteren Strecken, wo aus fehlenden Platzgr\\xc3\\xbcnden ein Veloweg schwer zu\\nrealisieren ist, dieses System eingef\\xc3\\xbchrt werden k\\xc3\\xb6nnte.\\n\\nMitteilung an den Stadtrat\\n1848. 2019/481\\nPostulat von Patrik Maillard (AL) und Dr. David Garcia Nu\\xc3\\xb1ez (AL) vom 06.11.2019:\\nEvaluiertes Pilotprojekt f\\xc3\\xbcr eine Sp\\xc3\\xa4terlegung der ersten Morgenlektion auf\\nSekundarstufe\\nVon Patrik Maillard (AL) und Dr. David Garcia Nu\\xc3\\xb1ez (AL) ist am 6. November 2019\\nfolgendes Postulat eingereicht worden:\\nDer Stadtrat wird aufgefordert zu pr\\xc3\\xbcfen, wie im Rahmen eines evaluierten Pilotprojekts die erste Morgenlektion in der Sekundarstufe in der Regel von 07:30 auf 08:20 verschoben werden kann.\\nBegr\\xc3\\xbcndung:\\nIm Teenageralter ver\\xc3\\xa4ndern sich die Schlafgewohnheiten gegen\\xc3\\xbcber denjenigen von Kindern deutlich. So\\nleiden viele Jugendliche wegen fr\\xc3\\xbcher Anfangszeiten w\\xc3\\xa4hrend der Schulzeit unter einem Schlafdefizit, was\\nsowohl ihre Schulleistungen als auch ihr Wohlbefinden beeintr\\xc3\\xa4chtigt. Verschiedene Studien belegen die\\npositiven Effekte eines sp\\xc3\\xa4teren Schulbeginns bei adoleszenten Sch\\xc3\\xbclerinnen und Sch\\xc3\\xbclern. So auch eine\\nBefragung von mehr als 2\\xe2\\x80\\x99000 Sch\\xc3\\xbclerinnen und Sch\\xc3\\xbcler im Alter zwischen 13 und 18 Jahren durch Forschende der Uni Basel aus dem Jahr 2012.\\n(https://www.unibas.ch/de/Aktuell/News/Uni-Research/Sp-terer-Schulbeginn--wachere-Jugendliche---bereits-bei-Verschiebung-um-20-Minuten.html)\\nIn Seattle (USA) wurde im Herbst 2016 der Schulbeginn um eine Stunde nach hinten verschoben, was laut\\nder \\xc2\\xabSleep-more\\xc2\\xbb-Studie (mit Sch\\xc3\\xbclerinnen und Sch\\xc3\\xbclern der 10. Klasse) zu einer signifikanten Verbesserung der Leistungen f\\xc3\\xbchrte. Diese \\xe2\\x80\\x93 \\xc3\\xbcbrigens sozial weniger privilegierten \\xe2\\x80\\x93 Jugendlichen schliefen im\\n\\n1430\\n\\n\\x0c71. Sitzung vom 6. November 2019\\n\\n1848\\xe2\\x80\\x931849\\n\\nDurchschnitt 34 Minuten l\\xc3\\xa4nger als vor der Umstellung und waren im Unterricht weniger schl\\xc3\\xa4frig. Ihre schulischen Leistungen wurden um 4,5 Prozent besser eingestuft. (https://www.nzz.ch/wissenschaft/auf-denbiorhythmus-von-teenagern-abgestimmt-ld.1444069).\\nEin evaluiertes Pilotprojekt in der Stadt Z\\xc3\\xbcrich soll R\\xc3\\xbcckschl\\xc3\\xbcsse erlauben, ob sich eine Verschiebung der\\nersten Morgenlektion in Z\\xc3\\xbcrcher Sekundarschulen ebenfalls positiv auf den nat\\xc3\\xbcrlichen Biorhythmus \\xe2\\x80\\x93 und\\ndamit der erh\\xc3\\xb6hten Wachsamkeit und Leistungsf\\xc3\\xa4higkeit \\xe2\\x80\\x93 der adoleszenten Sch\\xc3\\xbclerinnen und Sch\\xc3\\xbcler\\nauswirkt, wie sich ein solch ver\\xc3\\xa4nderter Stundenplan in die Tagesschulen integrieren liesse und nicht zuletzt, welche Bilanz die Sch\\xc3\\xbclerinnen und Sch\\xc3\\xbcler selber, aber auch die Lehrkr\\xc3\\xa4fte und die Erziehungsberechtigten nach der Pilotphase ziehen.\\nEin positiver Nebeneffekt, falls die Verschiebung der ersten Morgenlektion auf Sekundarstufe in Zukunft\\nnach der Pilotphase fl\\xc3\\xa4chendeckend eingef\\xc3\\xbchrt w\\xc3\\xbcrde, w\\xc3\\xa4re auch eine gewisse Entlastung des \\xc3\\xb6ffentlichen\\nVerkehrs in den morgendlichen Stosszeiten.\\n\\nMitteilung an den Stadtrat\\n\\nDie Motion und die drei Postulate werden auf die Tagliste der n\\xc3\\xa4chsten Sitzung gesetzt.\\n1849. 2019/482\\nDringliche Schriftliche Anfrage der SVP-Fraktion und 16 Mitunterzeichnenden vom\\n06.11.2019:\\nIllegale Besetzung des Juchhof-Areals, Kenntnisstand und Kommunikation betreffend die Besetzung und die Sicherheitsrisiken auf dem Areal sowie Angaben zur\\n\\xc3\\x9cbernahme der anfallenden Kosten und Geb\\xc3\\xbchren\\nVon der SVP-Fraktion und 16 Mitunterzeichnenden ist am 6. November 2019 folgende\\nDringliche Schriftliche Anfrage eingereicht worden:\\nAm 31. Oktober 2019 haben Chaoten das Juchhof-Areal illegal besetzt. Kaum war die Besetzung bekannt,\\nerschien eine Medienmitteilung mit dem Titel \\xc2\\xabBesetzung des Juchhof-Areals: Tolerierung bis auf Weiteres\\xc2\\xbb\\nmit dem folgenden Zitat:\\xc2\\xabDie Besetzung wird bis auf Weiteres durch die AOZ toleriert.\\xc2\\xbb. Bereits ein Tag\\nsp\\xc3\\xa4ter, am 1. November 2019, erschien \\xc3\\xbcber das Sozialdepartement der Stadt Z\\xc3\\xbcrich von der AOZ bereits\\ndie zweite Medienmitteilung mit dem Titel \\xc2\\xabBesetzung Juch-Areal: Vorerst keine R\\xc3\\xa4umung\\xc2\\xbb mit unter anderem folgendem Text: \\xc2\\xabDie laufende Planung f\\xc3\\xbcr die zuk\\xc3\\xbcnftige Nutzung des Areals f\\xc3\\xbcr die Unterbringung\\nvon Menschen aus dem Asyl- und Fl\\xc3\\xbcchtlingsbereich wird unabh\\xc3\\xa4ngig von der aktuellen Situation weiterverfolgt. Einzig die fundierte Beurteilung der letzte Woche festgestellten Sicherheitsrisiken auf dem Gel\\xc3\\xa4nde\\nund in den Geb\\xc3\\xa4uden ist aufgrund der derzeitigen Besetzung in Frage gestellt. Die Besetzerinnen und Besetzer auf dem Juchhof-Areal werden von der Fachorganisation AOZ so rasch wie m\\xc3\\xb6glich \\xc3\\xbcber das allf\\xc3\\xa4llige Sicherheitsrisiko informiert\\xc2\\xbb.\\nIn diesem Zusammenhang bitten wir den Stadtrat um die Beantwortung der folgenden Fragen:\\n1. Seit wann hat die AOZ Kenntnis \\xc3\\xbcber die Besetzung?\\n2. Wann und von wem wurde der Stadtrat \\xc3\\xbcber die illegale Besetzung informiert?\\n3. Wer hat entschieden, diese zwei erw\\xc3\\xa4hnten Medienmitteilungen zu erstellen und zu ver\\xc3\\xb6ffentlichen?\\n4. Hat der Stadtrat des Sozialdepartementes diesen Medienmitteilungen der AOZ jeweils zugestimmt?\\nFalls ja, in welcher Funktion?\\n5. Wann wurde der Gesamtstadtrat \\xc3\\xbcber diese Besetzung informiert?\\n6. Im publizierten Text wird eine fundierte Beurteilung mit Sicherheitsrisiken erw\\xc3\\xa4hnt. Wann wurden diese\\nSicherheitsrisiken festgestellt? Um welche Risiken handelt es sich?\\n7. Wer hat von der AOZ gem\\xc3\\xa4ss Medienmitteilung entschieden, dass es vorerst keine R\\xc3\\xa4umung gibt?\\n8. Darf die AOZ autonom entscheiden, ob es zu einer R\\xc3\\xa4umung kommt oder nicht?\\n9. Hat die Stadt Z\\xc3\\xbcrich als Eigent\\xc3\\xbcmerin des Grundst\\xc3\\xbccks vorsorgliche Vorkehrungen gegen eine Besetzung getroffen? Falls ja, welche? Falls nein, weshalb nicht? Welche Konsequenzen werden daraus f\\xc3\\xbcr\\ndie Zukunft gezogen? Wer ist hierf\\xc3\\xbcr zust\\xc3\\xa4ndig?\\n10. Wurde der zust\\xc3\\xa4ndige Stadtrat \\xc3\\xbcber eine Nichtr\\xc3\\xa4umung miteinbezogen oder hat er gar mitentschieden?\\nFalls ja, in welcher Funktion?\\n11. Sieht der Stadtrat aufgrund der Sicherheitsrisiken kein Handlungsbedarf?\\n\\n1431\\n\\n\\x0c1849\\xe2\\x80\\x931850\\n\\n71. Sitzung vom 6. November 2019\\n\\n12. Wer haftet bei Personensch\\xc3\\xa4den die aufgrund der Sicherheitsrisiken eintreten k\\xc3\\xb6nnen?\\n13. Sind der AOZ und der Stadt Z\\xc3\\xbcrich die Personen, die das Grundst\\xc3\\xbcck besetzen, namentlich bekannt?\\nWie hoch ist die Anzahl der Besetzerinnen und Besetzer?\\n14. Kann ausgeschlossen werden, dass dem Stadtrat nahestehende Personen sich an der Besetzung beteiligen, die den Entscheid \\xc3\\xbcber die R\\xc3\\xa4umung beeinflussen k\\xc3\\xb6nnen?\\n15. Weshalb wurde das Areal nicht ger\\xc3\\xa4umt und die Gesetze durchgesetzt?\\n16. Bereits mit dem Kochareal wird ein Areal der Stadt Z\\xc3\\xbcrich seit l\\xc3\\xa4ngerer Zeit geduldet. Ist damit zu rechnen, dass das Juchhof-Areal ebenfalls \\xc3\\xbcber Jahre besetzt bleibt und diese geduldet wird?\\n17. Werden vom Stadtrat zuk\\xc3\\xbcnftig besetzte H\\xc3\\xa4user oder Areale einfach toleriert oder welche Praxis ist\\nvom Stadtrat in der Zukunft zu erwarten?\\n18. Wer bezahlt Strom und Wasser auf dem Areal? Wird dies den Besetzerinnen und Besetzer in Rechnung gestellt? Falls die Identit\\xc3\\xa4t dieser Personen nicht bekannt ist, wie ist dies m\\xc3\\xb6glich?\\n19. Wer bezahlt die Sachbesch\\xc3\\xa4digungen an den Geb\\xc3\\xa4uden?\\n20. Wer bezahlt die Entsorgung des Abfalls, welcher die Chaoten hinterlassen?\\n21. Bezahlen die Besetzerinnen und Besetzer eine Nutzungsgeb\\xc3\\xbchr oder Miete? Falls nicht, weshalb\\nnicht?\\n\\nMitteilung an den Stadtrat\\n\\nKenntnisnahmen\\n\\n1850. 2019/384\\nSchriftliche Anfrage von Dr. Christian Monn (GLP) und Isabel Garcia (GLP) vom\\n11.09.2019:\\nGrund- und Trinkwasserbelastung mit Pestiziden und deren Abbaustoffen, Ergebnisse der analysierten Quell-, See- und Grundwasserfassungen in der Stadt sowie\\nm\\xc3\\xb6gliche Auswirkungen der Klimaerw\\xc3\\xa4rmung auf die Trinkwasserqualit\\xc3\\xa4t\\nDer Stadtrat beantwortet die Schriftliche Anfrage (STRB 913 vom 23. Oktober 2019).\\n\\nN\\xc3\\xa4chste Sitzung: 13. November 2019, 17 Uhr.\\n\\n1432\\n\\n\\x0c'"
      ]
     },
     "execution_count": 16,
     "metadata": {},
     "output_type": "execute_result"
    }
   ],
   "source": [
    "text"
   ]
  },
  {
   "cell_type": "code",
   "execution_count": 18,
   "metadata": {},
   "outputs": [],
   "source": [
    "import httplib2\n",
    "import json\n",
    "LOCAL_API_KEY = 's8kVFJoL3LFkMtPfBJKrJAF8BgJ7g85E' # Aquire this by registering at the Calais site\n",
    "CALAIS_TAG_API = 'https://api.thomsonreuters.com/permid/calais'\n",
    "headers = {\n",
    "    'X-AG-Access-Token': LOCAL_API_KEY,\n",
    "    'content-type': 'text/raw',\n",
    "    'outputformat': 'application/json'\n",
    "}\n",
    "http = httplib2.Http()\n",
    "response, content = http.request(CALAIS_TAG_API, 'POST', headers=headers, body=text)\n",
    "jcontent = json.loads(content.decode(\"utf-8\")) # Parse the json return into a python dict"
   ]
  },
  {
   "cell_type": "code",
   "execution_count": 19,
   "metadata": {},
   "outputs": [
    {
     "data": {
      "text/plain": [
       "{'contentType': 'text/raw',\n",
       " 'processingVer': 'AllMetadata',\n",
       " 'serverVersion': '12.9.216:216',\n",
       " 'submissionDate': '2019-11-19 13:26:56.886',\n",
       " 'truncatedTextLength': '31626',\n",
       " 'submitterCode': '0ca6a864-5659-789d-5f32-f365f695e757',\n",
       " 'signature': 'digestalg-1|kLhT2E/SpnFXs5PFLym0rpgWfmo=|JKpx7jYgCpV4R00zKp9e/0U/sB+BXc++UUAQ96XZnf+rEhdiAjFVCg==',\n",
       " 'language': 'German'}"
      ]
     },
     "execution_count": 19,
     "metadata": {},
     "output_type": "execute_result"
    }
   ],
   "source": [
    "jcontent[\"doc\"][\"meta\"]"
   ]
  },
  {
   "cell_type": "code",
   "execution_count": 21,
   "metadata": {},
   "outputs": [
    {
     "ename": "AttributeError",
     "evalue": "'dict' object has no attribute 'iteritems'",
     "output_type": "error",
     "traceback": [
      "\u001b[0;31m---------------------------------------------------------------------------\u001b[0m",
      "\u001b[0;31mAttributeError\u001b[0m                            Traceback (most recent call last)",
      "\u001b[0;32m<ipython-input-21-22bb0d33cc99>\u001b[0m in \u001b[0;36m<module>\u001b[0;34m\u001b[0m\n\u001b[0;32m----> 1\u001b[0;31m \u001b[0;32mfor\u001b[0m \u001b[0;34m(\u001b[0m\u001b[0mk\u001b[0m\u001b[0;34m,\u001b[0m\u001b[0mv\u001b[0m\u001b[0;34m)\u001b[0m \u001b[0;32min\u001b[0m \u001b[0mjcontent\u001b[0m\u001b[0;34m.\u001b[0m\u001b[0miteritems\u001b[0m\u001b[0;34m(\u001b[0m\u001b[0;34m)\u001b[0m\u001b[0;34m:\u001b[0m\u001b[0;34m\u001b[0m\u001b[0;34m\u001b[0m\u001b[0m\n\u001b[0m\u001b[1;32m      2\u001b[0m     \u001b[0;32mtry\u001b[0m\u001b[0;34m:\u001b[0m\u001b[0;34m\u001b[0m\u001b[0;34m\u001b[0m\u001b[0m\n\u001b[1;32m      3\u001b[0m         \u001b[0mprint\u001b[0m\u001b[0;34m(\u001b[0m\u001b[0;34m\"Key: %s Type: %s Name: %s\"\u001b[0m \u001b[0;34m%\u001b[0m \u001b[0;34m(\u001b[0m\u001b[0mk\u001b[0m\u001b[0;34m[\u001b[0m\u001b[0;34m\"name\"\u001b[0m\u001b[0;34m]\u001b[0m\u001b[0;34m,\u001b[0m\u001b[0mv\u001b[0m\u001b[0;34m[\u001b[0m\u001b[0;34m\"_type\"\u001b[0m\u001b[0;34m]\u001b[0m\u001b[0;34m)\u001b[0m\u001b[0;34m)\u001b[0m\u001b[0;34m\u001b[0m\u001b[0;34m\u001b[0m\u001b[0m\n\u001b[1;32m      4\u001b[0m     \u001b[0;32mexcept\u001b[0m\u001b[0;34m:\u001b[0m\u001b[0;34m\u001b[0m\u001b[0;34m\u001b[0m\u001b[0m\n\u001b[1;32m      5\u001b[0m         \u001b[0mprint\u001b[0m\u001b[0;34m(\u001b[0m\u001b[0;34m\"No name present for entity %s\"\u001b[0m \u001b[0;34m%\u001b[0m \u001b[0mk\u001b[0m\u001b[0;34m)\u001b[0m\u001b[0;34m\u001b[0m\u001b[0;34m\u001b[0m\u001b[0m\n",
      "\u001b[0;31mAttributeError\u001b[0m: 'dict' object has no attribute 'iteritems'"
     ]
    }
   ],
   "source": [
    "for (k,v) in jcontent.iteritems():\n",
    "    try:\n",
    "        print(\"Key: %s Type: %s Name: %s\" % (k,v[\"name\"],v[\"_type\"]))\n",
    "    except:\n",
    "        print(\"No name present for entity %s\" % k)"
   ]
  },
  {
   "cell_type": "code",
   "execution_count": null,
   "metadata": {},
   "outputs": [],
   "source": []
  }
 ],
 "metadata": {
  "kernelspec": {
   "display_name": "Python 3",
   "language": "python",
   "name": "python3"
  },
  "language_info": {
   "codemirror_mode": {
    "name": "ipython",
    "version": 3
   },
   "file_extension": ".py",
   "mimetype": "text/x-python",
   "name": "python",
   "nbconvert_exporter": "python",
   "pygments_lexer": "ipython3",
   "version": "3.7.4"
  }
 },
 "nbformat": 4,
 "nbformat_minor": 2
}
