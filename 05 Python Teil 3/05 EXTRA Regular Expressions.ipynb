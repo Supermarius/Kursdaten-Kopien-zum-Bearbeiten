{
 "cells": [
  {
   "cell_type": "markdown",
   "metadata": {},
   "source": [
    "# Regular Expressions \n",
    "Ermöglicht mit sog. \"regulären Ausdrücken\" sehr flexibel, Strings zu durchsuchen."
   ]
  },
  {
   "cell_type": "markdown",
   "metadata": {},
   "source": [
    "#### Modul einbinden"
   ]
  },
  {
   "cell_type": "code",
   "execution_count": 53,
   "metadata": {},
   "outputs": [],
   "source": [
    "import re"
   ]
  },
  {
   "cell_type": "markdown",
   "metadata": {},
   "source": [
    "### Findall"
   ]
  },
  {
   "cell_type": "code",
   "execution_count": 2,
   "metadata": {},
   "outputs": [
    {
     "data": {
      "text/plain": [
       "['30', '4', '2']"
      ]
     },
     "execution_count": 2,
     "metadata": {},
     "output_type": "execute_result"
    }
   ],
   "source": [
    "sentence = \"Habe 30 Hunde, die jeweils 4 Liter Wasser brauchen und 2 kg Nahrung.\"\n",
    "re.findall(\"[0-9]+\", sentence)"
   ]
  },
  {
   "cell_type": "markdown",
   "metadata": {},
   "source": [
    "### Suche nach Zahlen"
   ]
  },
  {
   "cell_type": "code",
   "execution_count": 3,
   "metadata": {},
   "outputs": [
    {
     "data": {
      "text/plain": [
       "<re.Match object; span=(9, 11), match='30'>"
      ]
     },
     "execution_count": 3,
     "metadata": {},
     "output_type": "execute_result"
    }
   ],
   "source": [
    "sentence = \"Ich habe 30 Hunde, die jeweils 4 Liter Wasser brauchen und 2 kg Nahrung.\"\n",
    "re.search(\"[0-9]+\", sentence)"
   ]
  },
  {
   "cell_type": "markdown",
   "metadata": {},
   "source": [
    "### Suche nach Zahlen []"
   ]
  },
  {
   "cell_type": "code",
   "execution_count": 10,
   "metadata": {},
   "outputs": [
    {
     "name": "stdout",
     "output_type": "stream",
     "text": [
      "<re.Match object; span=(6, 9), match='123'>\n",
      "<re.Match object; span=(6, 9), match='123'>\n"
     ]
    }
   ],
   "source": [
    "print(re.search(\"[0123456789]+\", \"Hallo 123 Hallo\"))\n",
    "print(re.search(\"[0-9]+\", \"Hallo 123 Hallo\"))"
   ]
  },
  {
   "cell_type": "markdown",
   "metadata": {},
   "source": [
    "### Suche nach Wörtern"
   ]
  },
  {
   "cell_type": "code",
   "execution_count": 8,
   "metadata": {},
   "outputs": [
    {
     "data": {
      "text/plain": [
       "<re.Match object; span=(6, 9), match='der'>"
      ]
     },
     "execution_count": 8,
     "metadata": {},
     "output_type": "execute_result"
    }
   ],
   "source": [
    "re.search(\"der?\", \"Hallo der Hallo\")"
   ]
  },
  {
   "cell_type": "markdown",
   "metadata": {},
   "source": [
    "### Suche nach Wörtern *\n",
    "Hier muss der Buchstabe vor dem Sternchen (hier: r) null bis viel mal vorkommen."
   ]
  },
  {
   "cell_type": "code",
   "execution_count": 52,
   "metadata": {},
   "outputs": [
    {
     "name": "stdout",
     "output_type": "stream",
     "text": [
      "<re.Match object; span=(6, 8), match='de'>\n",
      "<re.Match object; span=(6, 9), match='der'>\n",
      "<re.Match object; span=(6, 16), match='derrrrrrrr'>\n"
     ]
    }
   ],
   "source": [
    "print(re.search(\"der*\", \"Hallo de Hallo\"))\n",
    "print(re.search(\"der*\", \"Hallo der Hallo der\"))\n",
    "print(re.search(\"der*\", \"Hallo derrrrrrrr Hallo\"))"
   ]
  },
  {
   "cell_type": "markdown",
   "metadata": {},
   "source": [
    "### Suche nach Wörtern +\n",
    "Hier muss der Buchstabe vor dem Sternchen (hier: r) ein- bis vielmal vorkommen."
   ]
  },
  {
   "cell_type": "code",
   "execution_count": 11,
   "metadata": {},
   "outputs": [
    {
     "name": "stdout",
     "output_type": "stream",
     "text": [
      "None\n",
      "<re.Match object; span=(6, 9), match='der'>\n",
      "<re.Match object; span=(6, 16), match='derrrrrrrr'>\n"
     ]
    }
   ],
   "source": [
    "print(re.search(\"der+\", \"Hallo de Hallo\"))\n",
    "print(re.search(\"der+\", \"Hallo der Hallo\"))\n",
    "print(re.search(\"der+\", \"Hallo derrrrrrrr Hallo\"))"
   ]
  },
  {
   "cell_type": "markdown",
   "metadata": {},
   "source": [
    "#### Weitere Infos:\n",
    "\n",
    "- https://docs.python.org/3.6/library/re.html\n",
    "- http://rubular.com"
   ]
  },
  {
   "cell_type": "markdown",
   "metadata": {},
   "source": [
    "## Übung\n",
    "\n",
    "- Kopiert einen Text aus 20 min. \n",
    "- Wie oft kommt dort das Wort \"der\" vor?"
   ]
  },
  {
   "cell_type": "code",
   "execution_count": 47,
   "metadata": {},
   "outputs": [
    {
     "name": "stdout",
     "output_type": "stream",
     "text": [
      "Welches Wort zählen?der\n",
      "2\n",
      "0\n",
      "2\n"
     ]
    }
   ],
   "source": [
    "text = '''Wenn sich Kassenpersonal die Finger abschleckt, um besser ein Plasticksäckli greifen zu können, muss man sich keine Sorgen um eine Krankheitsübertragung machen. Eklig finden es trotzdem viele: 23 Prozent der über 6700 Umfragteilnehmer. Weitere 18 Prozent finden es zwar eklig, haben aber keine Angst vor Krankheiten.\n",
    "\n",
    "Bakterien seien überall und das störe sie überhaupt nicht: Dieser Meinung sind 41 Prozent. Und 17 Prozent finden, man könne sich ja danach kurz die Hände waschen. Einige weisen das Kassenpersonal darauf hin, wenn sie so etwas sehen, nämlich ein Prozent.\n",
    "\n",
    "Fast 700 Kommentare sind eingegangen, auch dort lassen sich die verschiedensten Meinungen finden. Eine Auswahl findest du in der Bildstrecke oben.'''\n",
    "\n",
    "word = input (\"Welches Wort zählen?\")\n",
    "\n",
    "grossgeschrieben = len(re.findall(word.capitalize(), text))\n",
    "kleingeschrieben = len(re.findall(word.lower(), text))\n",
    "\n",
    "print(kleingeschrieben)\n",
    "print(grossgeschrieben)\n",
    "print(kleingeschrieben+grossgeschrieben)"
   ]
  },
  {
   "cell_type": "code",
   "execution_count": 51,
   "metadata": {},
   "outputs": [
    {
     "name": "stdout",
     "output_type": "stream",
     "text": [
      "Welches Wort zählen?der\n",
      "2\n"
     ]
    }
   ],
   "source": [
    "text = '''Wenn sich Kassenpersonal die Finger abschleckt, um besser ein Plasticksäckli greifen zu können, muss man sich keine Sorgen um eine Krankheitsübertragung machen. Eklig finden es trotzdem viele: 23 Prozent der über 6700 Umfragteilnehmer. Weitere 18 Prozent finden es zwar eklig, haben aber keine Angst vor Krankheiten.\n",
    "\n",
    "Bakterien seien überall und das störe sie überhaupt nicht: Dieser Meinung sind 41 Prozent. Und 17 Prozent finden, man könne sich ja danach kurz die Hände waschen. Einige weisen das Kassenpersonal darauf hin, wenn sie so etwas sehen, nämlich ein Prozent.\n",
    "\n",
    "Fast 700 Kommentare sind eingegangen, auch dort lassen sich die verschiedensten Meinungen finden. Eine Auswahl findest du in der Bildstrecke oben.'''\n",
    "\n",
    "word = input (\"Welches Wort zählen?\")\n",
    "\n",
    "print(len(re.findall(word, text.lower())))"
   ]
  },
  {
   "cell_type": "markdown",
   "metadata": {},
   "source": [
    "### Bonus: Plottis Wortzählmaschine"
   ]
  },
  {
   "cell_type": "code",
   "execution_count": 54,
   "metadata": {},
   "outputs": [
    {
     "name": "stdout",
     "output_type": "stream",
     "text": [
      "Wort 'sich' |  Anzahl 4 \n",
      "Wort 'die' |  Anzahl 3 \n",
      "Wort 'Prozent' |  Anzahl 3 \n",
      "Wort 'Kassenpersonal' |  Anzahl 2 \n",
      "Wort 'um' |  Anzahl 2 \n",
      "Wort 'ein' |  Anzahl 2 \n",
      "Wort 'man' |  Anzahl 2 \n",
      "Wort 'keine' |  Anzahl 2 \n",
      "Wort 'finden' |  Anzahl 2 \n",
      "Wort 'es' |  Anzahl 2 \n",
      "Wort 'der' |  Anzahl 2 \n",
      "Wort 'das' |  Anzahl 2 \n",
      "Wort 'sie' |  Anzahl 2 \n",
      "Wort 'sind' |  Anzahl 2 \n",
      "Wort 'Prozent.' |  Anzahl 2 \n",
      "Wort 'Wenn' |  Anzahl 1 \n",
      "Wort 'Finger' |  Anzahl 1 \n",
      "Wort 'abschleckt,' |  Anzahl 1 \n",
      "Wort 'besser' |  Anzahl 1 \n",
      "Wort 'Plasticksäckli' |  Anzahl 1 \n",
      "Wort 'greifen' |  Anzahl 1 \n",
      "Wort 'zu' |  Anzahl 1 \n",
      "Wort 'können,' |  Anzahl 1 \n",
      "Wort 'muss' |  Anzahl 1 \n",
      "Wort 'Sorgen' |  Anzahl 1 \n",
      "Wort 'eine' |  Anzahl 1 \n",
      "Wort 'Krankheitsübertragung' |  Anzahl 1 \n",
      "Wort 'machen.' |  Anzahl 1 \n",
      "Wort 'Eklig' |  Anzahl 1 \n",
      "Wort 'trotzdem' |  Anzahl 1 \n",
      "Wort 'viele:' |  Anzahl 1 \n",
      "Wort '23' |  Anzahl 1 \n",
      "Wort 'über' |  Anzahl 1 \n",
      "Wort '6700' |  Anzahl 1 \n",
      "Wort 'Umfragteilnehmer.' |  Anzahl 1 \n",
      "Wort 'Weitere' |  Anzahl 1 \n",
      "Wort '18' |  Anzahl 1 \n",
      "Wort 'zwar' |  Anzahl 1 \n",
      "Wort 'eklig,' |  Anzahl 1 \n",
      "Wort 'haben' |  Anzahl 1 \n",
      "Wort 'aber' |  Anzahl 1 \n",
      "Wort 'Angst' |  Anzahl 1 \n",
      "Wort 'vor' |  Anzahl 1 \n",
      "Wort 'Krankheiten.' |  Anzahl 1 \n",
      "Wort 'Bakterien' |  Anzahl 1 \n",
      "Wort 'seien' |  Anzahl 1 \n",
      "Wort 'überall' |  Anzahl 1 \n",
      "Wort 'und' |  Anzahl 1 \n",
      "Wort 'störe' |  Anzahl 1 \n",
      "Wort 'überhaupt' |  Anzahl 1 \n",
      "Wort 'nicht:' |  Anzahl 1 \n",
      "Wort 'Dieser' |  Anzahl 1 \n",
      "Wort 'Meinung' |  Anzahl 1 \n",
      "Wort '41' |  Anzahl 1 \n",
      "Wort 'Und' |  Anzahl 1 \n",
      "Wort '17' |  Anzahl 1 \n",
      "Wort 'finden,' |  Anzahl 1 \n",
      "Wort 'könne' |  Anzahl 1 \n",
      "Wort 'ja' |  Anzahl 1 \n",
      "Wort 'danach' |  Anzahl 1 \n",
      "Wort 'kurz' |  Anzahl 1 \n",
      "Wort 'Hände' |  Anzahl 1 \n",
      "Wort 'waschen.' |  Anzahl 1 \n",
      "Wort 'Einige' |  Anzahl 1 \n",
      "Wort 'weisen' |  Anzahl 1 \n",
      "Wort 'darauf' |  Anzahl 1 \n",
      "Wort 'hin,' |  Anzahl 1 \n",
      "Wort 'wenn' |  Anzahl 1 \n",
      "Wort 'so' |  Anzahl 1 \n",
      "Wort 'etwas' |  Anzahl 1 \n",
      "Wort 'sehen,' |  Anzahl 1 \n",
      "Wort 'nämlich' |  Anzahl 1 \n",
      "Wort 'Fast' |  Anzahl 1 \n",
      "Wort '700' |  Anzahl 1 \n",
      "Wort 'Kommentare' |  Anzahl 1 \n",
      "Wort 'eingegangen,' |  Anzahl 1 \n",
      "Wort 'auch' |  Anzahl 1 \n",
      "Wort 'dort' |  Anzahl 1 \n",
      "Wort 'lassen' |  Anzahl 1 \n",
      "Wort 'verschiedensten' |  Anzahl 1 \n",
      "Wort 'Meinungen' |  Anzahl 1 \n",
      "Wort 'finden.' |  Anzahl 1 \n",
      "Wort 'Eine' |  Anzahl 1 \n",
      "Wort 'Auswahl' |  Anzahl 1 \n",
      "Wort 'findest' |  Anzahl 1 \n",
      "Wort 'du' |  Anzahl 1 \n",
      "Wort 'in' |  Anzahl 1 \n",
      "Wort 'Bildstrecke' |  Anzahl 1 \n",
      "Wort 'oben.' |  Anzahl 1 \n"
     ]
    }
   ],
   "source": [
    "mydict = {}\n",
    "for word in text.split():\n",
    "    if word in mydict:\n",
    "        mydict[word] = mydict[word] +1\n",
    "    else:\n",
    "        mydict[word] = 1\n",
    "        \n",
    "def mysort(item):\n",
    "    return item[1]\n",
    "for key,value in sorted(mydict.items(), key=mysort, reverse=True):\n",
    "    print(\"Wort '%s' |  Anzahl %s \"  % (key,value))"
   ]
  },
  {
   "cell_type": "code",
   "execution_count": null,
   "metadata": {},
   "outputs": [],
   "source": []
  }
 ],
 "metadata": {
  "kernelspec": {
   "display_name": "Python 3",
   "language": "python",
   "name": "python3"
  },
  "language_info": {
   "codemirror_mode": {
    "name": "ipython",
    "version": 3
   },
   "file_extension": ".py",
   "mimetype": "text/x-python",
   "name": "python",
   "nbconvert_exporter": "python",
   "pygments_lexer": "ipython3",
   "version": "3.7.3"
  }
 },
 "nbformat": 4,
 "nbformat_minor": 2
}
