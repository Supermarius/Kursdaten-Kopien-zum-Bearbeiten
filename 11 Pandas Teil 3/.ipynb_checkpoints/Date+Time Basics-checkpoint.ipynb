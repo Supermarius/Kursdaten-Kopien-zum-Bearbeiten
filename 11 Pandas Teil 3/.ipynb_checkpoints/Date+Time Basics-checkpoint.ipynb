{
 "cells": [
  {
   "cell_type": "markdown",
   "metadata": {},
   "source": [
    "# Date+Time Basics"
   ]
  },
  {
   "cell_type": "markdown",
   "metadata": {},
   "source": [
    "**Inhalt:** Mit Zeit-Datentyp umgehen\n",
    "\n",
    "**Nötige Skills:** Erste Schritte mit Pandas\n",
    "\n",
    "**Lernziele:**\n",
    "- Text in Zeit konvertieren\n",
    "- Zeit in Text konvertieren\n",
    "- Zeit-Informationen extrahieren\n",
    "- Einfache Zeit-Operationen"
   ]
  },
  {
   "cell_type": "markdown",
   "metadata": {},
   "source": [
    "## Libraries"
   ]
  },
  {
   "cell_type": "code",
   "execution_count": 1,
   "metadata": {},
   "outputs": [],
   "source": [
    "import pandas as pd"
   ]
  },
  {
   "cell_type": "code",
   "execution_count": 2,
   "metadata": {},
   "outputs": [],
   "source": [
    "from datetime import datetime"
   ]
  },
  {
   "cell_type": "code",
   "execution_count": 3,
   "metadata": {},
   "outputs": [],
   "source": [
    "from datetime import timedelta"
   ]
  },
  {
   "cell_type": "markdown",
   "metadata": {},
   "source": [
    "## Zeitformat Codes"
   ]
  },
  {
   "cell_type": "markdown",
   "metadata": {},
   "source": [
    "Extrakt, die volle Liste: http://strftime.org/. Diese Format-Codes brauchen wir, um mit Daten zu arbeiten."
   ]
  },
  {
   "cell_type": "markdown",
   "metadata": {},
   "source": [
    "| Code | Description | *Example* |\n",
    "|--------|---------|--------|\n",
    "| **`%a`** | Weekday as locale’s abbreviated name. | *Mon* |\n",
    "| **`%A`** | Weekday as locale’s full name. | *Monday* |\n",
    "| **`%d`** | Day of the month as a zero-padded decimal number. | *30* |\n",
    "| **`%-d`** | Day of the month as a decimal number. (Platform specific) | *30* |\n",
    "| **`%b`** | Month as locale’s abbreviated name. | *Sep* |\n",
    "| **`%B`** | Month as locale’s full name. | *September* |\n",
    "| **`%m`** | Month as a zero-padded decimal number. | *09* |\n",
    "| **`%-m`** | Month as a decimal number. (Platform specific) | *9* |\n",
    "| **`%y`** | Year without century as a zero-padded decimal number. | *13* |\n",
    "| **`%Y`** | Year with century as a decimal number. | *2013* |\n",
    "| **`%H`** | Hour (24-hour clock) as a zero-padded decimal number. | *07* |\n",
    "| **`%-H`** | Hour (24-hour clock) as a decimal number. (Platform specific) | *7* |\n",
    "| **`%I`** |\tHour (12-hour clock) as a zero-padded decimal number. \t| *07* |\n",
    "| **`%-I`** |\tHour (12-hour clock) as a decimal number. (Platform specific) \t| *7* |\n",
    "| **`%p`** |\tLocale’s equivalent of either AM or PM. \t| *AM* |\n",
    "| **`%M`** | Minute as a zero-padded decimal number. | *06* |\n",
    "| **`%-M`** | Minute as a decimal number. (Platform specific) | *6* |\n",
    "| **`%S`** | Second as a zero-padded decimal number. | *05* |\n",
    "| **`%-S`** | Second as a decimal number. (Platform specific) | *5* |\n",
    "| **`%j`** | Day of the year as a zero-padded decimal number. | *273* |\n",
    "| **`%-j`** | Day of the year as a decimal number. (Platform specific) | *273* |\n",
    "| **`%U`** | Week number of the year (Sunday as the first day of the week) as a zero padded decimal number. All days in a new year preceding the first Sunday are considered to be in week 0. | *39* |\n",
    "| **`%W`** | Week number of the year (Monday as the first day of the week) as a decimal number. All days in a new year preceding the first Monday are considered to be in week 0. | *39* |\n",
    "| **`%c`** | Locale’s appropriate date and time representation. | *Mon Sep 30 07:06:05 2013* |\n",
    "| **`%x`** | Locale’s appropriate date representation. | *09/30/13* |\n",
    "| **`%X`** | Locale’s appropriate time representation. | *07:06:05* |\n",
    "| **`%%`** | A literal '%' character. | *%*"
   ]
  },
  {
   "cell_type": "markdown",
   "metadata": {},
   "source": [
    "## Text to Time"
   ]
  },
  {
   "cell_type": "markdown",
   "metadata": {},
   "source": [
    "Eine häufige Situation, wenn man von irgendwo Daten importiert:\n",
    "- Wir haben einen bestimmten String, zB: \"1981-08-23\"\n",
    "- Wir wollen den String in ein Datetime-Objekt verwandeln, um sie zu analysieren\n",
    "- Dazu benutzen wir die Pandas-Funktion `to_datetime()`"
   ]
  },
  {
   "cell_type": "code",
   "execution_count": 6,
   "metadata": {},
   "outputs": [],
   "source": [
    "my_birthday_date = pd.to_datetime('1981-08-23', format='%Y-%m-%d')"
   ]
  },
  {
   "cell_type": "markdown",
   "metadata": {},
   "source": [
    "Das Ergebnis wird uns als \"Timestamp\" angezeigt."
   ]
  },
  {
   "cell_type": "code",
   "execution_count": 7,
   "metadata": {},
   "outputs": [
    {
     "data": {
      "text/plain": [
       "Timestamp('1981-08-23 00:00:00')"
      ]
     },
     "execution_count": 7,
     "metadata": {},
     "output_type": "execute_result"
    }
   ],
   "source": [
    "my_birthday_date"
   ]
  },
  {
   "cell_type": "markdown",
   "metadata": {},
   "source": [
    "Die Funktion erkennt einige Standardformate automatisch"
   ]
  },
  {
   "cell_type": "code",
   "execution_count": 8,
   "metadata": {},
   "outputs": [],
   "source": [
    "my_date = pd.to_datetime('1981-08-23 08:15:25')"
   ]
  },
  {
   "cell_type": "code",
   "execution_count": 9,
   "metadata": {},
   "outputs": [
    {
     "data": {
      "text/plain": [
       "Timestamp('1981-08-23 08:15:25')"
      ]
     },
     "execution_count": 9,
     "metadata": {},
     "output_type": "execute_result"
    }
   ],
   "source": [
    "my_date"
   ]
  },
  {
   "cell_type": "markdown",
   "metadata": {},
   "source": [
    "**Platz** zum ausprobieren. Kreiere ein Datetime-Objekt aus folgenden Strings:"
   ]
  },
  {
   "cell_type": "code",
   "execution_count": 10,
   "metadata": {},
   "outputs": [
    {
     "data": {
      "text/plain": [
       "Timestamp('1981-08-23 00:00:00')"
      ]
     },
     "execution_count": 10,
     "metadata": {},
     "output_type": "execute_result"
    }
   ],
   "source": [
    "# Beispiel: '23.08.1981'\n",
    "my_date = pd.to_datetime('23.08.1981', format='%d.%m.%Y')\n",
    "my_date"
   ]
  },
  {
   "cell_type": "code",
   "execution_count": 16,
   "metadata": {},
   "outputs": [
    {
     "data": {
      "text/plain": [
       "Timestamp('1983-08-25 00:00:00')"
      ]
     },
     "execution_count": 16,
     "metadata": {},
     "output_type": "execute_result"
    }
   ],
   "source": [
    "# Do it yourself: 'Aug 23, 1981'\n",
    "my_date2 = pd.to_datetime('Aug 25, 1983', format=\"%b %d, %Y\")\n",
    "my_date2"
   ]
  },
  {
   "cell_type": "code",
   "execution_count": 18,
   "metadata": {},
   "outputs": [
    {
     "data": {
      "text/plain": [
       "Timestamp('2016-01-18 18:25:00')"
      ]
     },
     "execution_count": 18,
     "metadata": {},
     "output_type": "execute_result"
    }
   ],
   "source": [
    "# '18.01.2016, 18:25 Uhr'\n",
    "my_date3 = pd.to_datetime('18.01.2016, 18:25 Uhr', format = \"%d.%m.%Y, %H:%M Uhr\")\n",
    "my_date3"
   ]
  },
  {
   "cell_type": "code",
   "execution_count": 51,
   "metadata": {},
   "outputs": [
    {
     "data": {
      "text/plain": [
       "Timestamp('2014-05-05 00:00:00')"
      ]
     },
     "execution_count": 51,
     "metadata": {},
     "output_type": "execute_result"
    }
   ],
   "source": [
    "# '5. May 2014'\n",
    "my_date4 = pd.to_datetime('5. May 2014', format = \"%d. %b %Y\")\n",
    "my_date4\n"
   ]
  },
  {
   "cell_type": "code",
   "execution_count": 29,
   "metadata": {},
   "outputs": [
    {
     "name": "stdout",
     "output_type": "stream",
     "text": [
      "Collecting dateparser\n",
      "\u001b[?25l  Downloading https://files.pythonhosted.org/packages/82/9d/51126ac615bbc4418478d725a5fa1a0f112059f6f111e4b48cfbe17ef9d0/dateparser-0.7.2-py2.py3-none-any.whl (352kB)\n",
      "\u001b[K     |████████████████████████████████| 358kB 1.2MB/s eta 0:00:01\n",
      "\u001b[?25hRequirement already satisfied: pytz in /Users/Datenjournalismus/.virtualenvs/erstesVE/lib/python3.7/site-packages (from dateparser) (2019.2)\n",
      "Requirement already satisfied: python-dateutil in /Users/Datenjournalismus/.virtualenvs/erstesVE/lib/python3.7/site-packages (from dateparser) (2.8.0)\n",
      "Requirement already satisfied: tzlocal in /Users/Datenjournalismus/.virtualenvs/erstesVE/lib/python3.7/site-packages (from dateparser) (1.5.1)\n",
      "Collecting regex (from dateparser)\n",
      "\u001b[?25l  Downloading https://files.pythonhosted.org/packages/6f/a6/99eeb5904ab763db87af4bd71d9b1dfdd9792681240657a4c0a599c10a81/regex-2019.08.19.tar.gz (654kB)\n",
      "\u001b[K     |████████████████████████████████| 655kB 3.4MB/s eta 0:00:01\n",
      "\u001b[?25hRequirement already satisfied: six>=1.5 in /Users/Datenjournalismus/.virtualenvs/erstesVE/lib/python3.7/site-packages (from python-dateutil->dateparser) (1.12.0)\n",
      "Building wheels for collected packages: regex\n",
      "  Building wheel for regex (setup.py) ... \u001b[?25ldone\n",
      "\u001b[?25h  Created wheel for regex: filename=regex-2019.8.19-cp37-cp37m-macosx_10_14_x86_64.whl size=291833 sha256=25f2e267dfea46e560f9c08a5dbeaa296188e057cb82abd7d77274c26c117c67\n",
      "  Stored in directory: /Users/Datenjournalismus/Library/Caches/pip/wheels/90/04/07/b5010fb816721eb3d6dd64ed5cc8111ca23f97fdab8619b5be\n",
      "Successfully built regex\n",
      "Installing collected packages: regex, dateparser\n",
      "Successfully installed dateparser-0.7.2 regex-2019.8.19\n"
     ]
    }
   ],
   "source": [
    "!pip install dateparser"
   ]
  },
  {
   "cell_type": "code",
   "execution_count": 40,
   "metadata": {},
   "outputs": [
    {
     "data": {
      "text/plain": [
       "Timestamp('2014-05-05 00:00:00')"
      ]
     },
     "execution_count": 40,
     "metadata": {},
     "output_type": "execute_result"
    }
   ],
   "source": [
    "# '5. Mai 2014'\n",
    "# zuerst: !pip install dateparser\n",
    "import dateparser\n",
    "my_date = dateparser.parse('5. Mai 2014')\n",
    "my_date = pd.to_datetime(my_date, format = \"(%Y, %m, %d, %h, %m)\")\n",
    "my_date"
   ]
  },
  {
   "cell_type": "markdown",
   "metadata": {},
   "source": [
    "## Time to Text"
   ]
  },
  {
   "cell_type": "markdown",
   "metadata": {},
   "source": [
    "Brauchen wir typischerweise bei der Anzeige oder beim Export von DAten\n",
    "- Wir haben bereits ein Datetime-Objekt erstellt \n",
    "- jetzt wollen wir es nach einem bestimmten Schema anzeigen\n",
    "- dafür dient die Funktion `strftime()`, die jedes Datetime-Objekt hat"
   ]
  },
  {
   "cell_type": "markdown",
   "metadata": {},
   "source": [
    "Das Datums-Ojbekt haben wir bereits:"
   ]
  },
  {
   "cell_type": "code",
   "execution_count": 43,
   "metadata": {},
   "outputs": [],
   "source": [
    "my_date = pd.to_datetime('1981-08-23 08:15:25')"
   ]
  },
  {
   "cell_type": "markdown",
   "metadata": {},
   "source": [
    "Als Text:"
   ]
  },
  {
   "cell_type": "code",
   "execution_count": 44,
   "metadata": {},
   "outputs": [],
   "source": [
    "my_text = my_date.strftime(format='%Y-%m-%d')"
   ]
  },
  {
   "cell_type": "code",
   "execution_count": 45,
   "metadata": {},
   "outputs": [
    {
     "data": {
      "text/plain": [
       "'1981-08-23'"
      ]
     },
     "execution_count": 45,
     "metadata": {},
     "output_type": "execute_result"
    }
   ],
   "source": [
    "my_text"
   ]
  },
  {
   "cell_type": "markdown",
   "metadata": {},
   "source": [
    "**Quiz**: Lass `strftime()` den folgenden Text ausgeben:"
   ]
  },
  {
   "cell_type": "code",
   "execution_count": 46,
   "metadata": {},
   "outputs": [
    {
     "data": {
      "text/plain": [
       "'Aug 23, 1981'"
      ]
     },
     "execution_count": 46,
     "metadata": {},
     "output_type": "execute_result"
    }
   ],
   "source": [
    "# Beispiel: 'Aug 23, 1981'\n",
    "my_text = my_date.strftime(format='%b %d, %Y')\n",
    "my_text"
   ]
  },
  {
   "cell_type": "code",
   "execution_count": 53,
   "metadata": {},
   "outputs": [
    {
     "data": {
      "text/plain": [
       "'23.8.81, 08:15:25'"
      ]
     },
     "execution_count": 53,
     "metadata": {},
     "output_type": "execute_result"
    }
   ],
   "source": [
    "# Do it yourself: #'23.8.81, 08:15:25'\n",
    "my_text2 = my_date.strftime(format=\"%-d.%-m.%y, %H:%M:%S\")\n",
    "my_text2"
   ]
  },
  {
   "cell_type": "code",
   "execution_count": 77,
   "metadata": {},
   "outputs": [
    {
     "data": {
      "text/plain": [
       "'Sunday, 23. of August 1981, 8:15 AM'"
      ]
     },
     "execution_count": 77,
     "metadata": {},
     "output_type": "execute_result"
    }
   ],
   "source": [
    "# 'Sunday, 23. of August 1981, 8:15 AM'\n",
    "my_text3 = my_date.strftime(format=\"%A, %d. of %B %Y, %-I:%M %p\")\n",
    "my_text3"
   ]
  },
  {
   "cell_type": "markdown",
   "metadata": {},
   "source": [
    "## Time properties"
   ]
  },
  {
   "cell_type": "markdown",
   "metadata": {},
   "source": [
    "`strftime()` ist nicht die einzige Möglichkeit, Daten als Text anzuzeigen.\n",
    "\n",
    "Wir können auch direkt einzelne Eigenschaften eines Datetime-Objekts abfragen."
   ]
  },
  {
   "cell_type": "markdown",
   "metadata": {},
   "source": [
    "Taken from https://pandas.pydata.org/pandas-docs/stable/timeseries.html\n",
    "\n",
    "| Property | Description |\n",
    "|----------|------------|\n",
    "| **`.year`** | - The year of the datetime |\n",
    "| **`.month`** | - The month of the datetime |\n",
    "| **`.day`** | - The days of the datetime |\n",
    "| **`.hour`** | - The hour of the datetime |\n",
    "| **`.minute`** | - The minutes of the datetime |\n",
    "| **`.second`** | - The seconds of the datetime |\n",
    "| **`.microsecond`** | - The microseconds of the datetime |\n",
    "| **`.nanosecond`** | - The nanoseconds of the datetime |\n",
    "| **`.date`** | - Returns datetime.date (does not contain timezone information) |\n",
    "| **`.time`** | - Returns datetime.time (does not contain timezone information) |\n",
    "| **`.dayofyear`** | - The ordinal day of year |\n",
    "| **`.weekofyear`** | - The week ordinal of the year |\n",
    "| **`.week`** | - The week ordinal of the year |\n",
    "| **`.dayofweek`** | - The number of the day of the week with Monday=0, Sunday=6 |\n",
    "| **`.weekday`** | - The number of the day of the week with Monday=0, Sunday=6 |\n",
    "| **`.weekday_name`** | - The name of the day in a week (ex: Friday) |\n",
    "| **`.quarter`** | - Quarter of the date: Jan-Mar = 1, Apr-Jun = 2, etc. |\n",
    "| **`.days_in_month`** | - The number of days in the month of the datetime |\n",
    "| **`.is_month_start`** | - Logical indicating if first day of month (defined by frequency) |\n",
    "| **`.is_month_end`** | - Logical indicating if last day of month (defined by frequency) |\n",
    "| **`.is_quarter_start`** | - Logical indicating if first day of quarter (defined by frequency) |\n",
    "| **`.is_quarter_end`** | - Logical indicating if last day of quarter (defined by frequency) |\n",
    "| **`.is_year_start`** | - Logical indicating if first day of year (defined by frequency) |\n",
    "| **`.is_year_end`** | - Logical indicating if last day of year (defined by frequency) |\n",
    "| **`.is_leap_year`** | - Logical indicating if the date belongs to a leap year |"
   ]
  },
  {
   "cell_type": "markdown",
   "metadata": {},
   "source": [
    "Das funktioniert dann ganz einfach:"
   ]
  },
  {
   "cell_type": "code",
   "execution_count": 78,
   "metadata": {},
   "outputs": [
    {
     "data": {
      "text/plain": [
       "1981"
      ]
     },
     "execution_count": 78,
     "metadata": {},
     "output_type": "execute_result"
    }
   ],
   "source": [
    "my_date.year"
   ]
  },
  {
   "cell_type": "code",
   "execution_count": 79,
   "metadata": {},
   "outputs": [
    {
     "data": {
      "text/plain": [
       "23"
      ]
     },
     "execution_count": 79,
     "metadata": {},
     "output_type": "execute_result"
    }
   ],
   "source": [
    "my_date.day"
   ]
  },
  {
   "cell_type": "code",
   "execution_count": 80,
   "metadata": {},
   "outputs": [
    {
     "data": {
      "text/plain": [
       "False"
      ]
     },
     "execution_count": 80,
     "metadata": {},
     "output_type": "execute_result"
    }
   ],
   "source": [
    "my_date.is_month_start"
   ]
  },
  {
   "cell_type": "markdown",
   "metadata": {},
   "source": [
    "**Quiz**:"
   ]
  },
  {
   "cell_type": "code",
   "execution_count": 81,
   "metadata": {},
   "outputs": [
    {
     "data": {
      "text/plain": [
       "34"
      ]
     },
     "execution_count": 81,
     "metadata": {},
     "output_type": "execute_result"
    }
   ],
   "source": [
    "# In welcher Jahreswoche liegt unser Datum `my_date`?\n",
    "my_date.weekofyear"
   ]
  },
  {
   "cell_type": "code",
   "execution_count": 82,
   "metadata": {},
   "outputs": [
    {
     "data": {
      "text/plain": [
       "6"
      ]
     },
     "execution_count": 82,
     "metadata": {},
     "output_type": "execute_result"
    }
   ],
   "source": [
    "# Um was für einen Wochentag handelt es sich (Zahl)?\n",
    "my_date.dayofweek"
   ]
  },
  {
   "cell_type": "code",
   "execution_count": 83,
   "metadata": {},
   "outputs": [
    {
     "data": {
      "text/plain": [
       "False"
      ]
     },
     "execution_count": 83,
     "metadata": {},
     "output_type": "execute_result"
    }
   ],
   "source": [
    "#ists ein Schaltjahr?\n",
    "my_date.is_leap_year"
   ]
  },
  {
   "cell_type": "code",
   "execution_count": 84,
   "metadata": {},
   "outputs": [
    {
     "data": {
      "text/plain": [
       "3"
      ]
     },
     "execution_count": 84,
     "metadata": {},
     "output_type": "execute_result"
    }
   ],
   "source": [
    "#in welchem Quartal?\n",
    "my_date.quarter"
   ]
  },
  {
   "cell_type": "markdown",
   "metadata": {},
   "source": [
    "## Zeitintervalle"
   ]
  },
  {
   "cell_type": "markdown",
   "metadata": {},
   "source": [
    "\"Timedelta\" ist ein spezieller Datentyp, der kein Datum, sondern einen Zeitintervall modelliert.\n",
    "\n",
    "Wir können diesen Datentyp z.B. für Vergleiche zwischen zwei Daten brauchen. "
   ]
  },
  {
   "cell_type": "markdown",
   "metadata": {},
   "source": [
    "Die folgenden Intervalle stehen uns dabei zur Verfügung:\n",
    "\n",
    "**`weeks`** - Wochen\n",
    "\n",
    "**`days`** - Tage\n",
    "\n",
    "**`hours`** - Stunden\n",
    "\n",
    "**`minutes`** - Minuten\n",
    "\n",
    "**`seconds`** - Sekunden\n",
    "\n",
    "**`microseconds`** - Mikrosekunden"
   ]
  },
  {
   "cell_type": "markdown",
   "metadata": {},
   "source": [
    "Ein Intervall erstellen wir mit der Funktion `timedelta()`"
   ]
  },
  {
   "cell_type": "code",
   "execution_count": 85,
   "metadata": {},
   "outputs": [
    {
     "data": {
      "text/plain": [
       "datetime.timedelta(days=2)"
      ]
     },
     "execution_count": 85,
     "metadata": {},
     "output_type": "execute_result"
    }
   ],
   "source": [
    "d = timedelta(days=2)\n",
    "d"
   ]
  },
  {
   "cell_type": "code",
   "execution_count": 86,
   "metadata": {},
   "outputs": [
    {
     "data": {
      "text/plain": [
       "datetime.timedelta(seconds=3600)"
      ]
     },
     "execution_count": 86,
     "metadata": {},
     "output_type": "execute_result"
    }
   ],
   "source": [
    "d = timedelta(hours=1)\n",
    "d"
   ]
  },
  {
   "cell_type": "markdown",
   "metadata": {},
   "source": [
    "Wir können die Argumente beliebig kombinieren"
   ]
  },
  {
   "cell_type": "code",
   "execution_count": 89,
   "metadata": {},
   "outputs": [
    {
     "data": {
      "text/plain": [
       "datetime.timedelta(days=3, seconds=37510)"
      ]
     },
     "execution_count": 89,
     "metadata": {},
     "output_type": "execute_result"
    }
   ],
   "source": [
    "d = timedelta(days=3, hours=10, minutes=25, seconds=10)\n",
    "d"
   ]
  },
  {
   "cell_type": "markdown",
   "metadata": {},
   "source": [
    "Wir können ein Zeitintervall zu einem Datetime-Objekt addieren oder subtrahieren:"
   ]
  },
  {
   "cell_type": "code",
   "execution_count": 90,
   "metadata": {},
   "outputs": [
    {
     "data": {
      "text/plain": [
       "Timestamp('1981-08-26 19:40:35')"
      ]
     },
     "execution_count": 90,
     "metadata": {},
     "output_type": "execute_result"
    }
   ],
   "source": [
    "my_date + d"
   ]
  },
  {
   "cell_type": "code",
   "execution_count": 91,
   "metadata": {},
   "outputs": [
    {
     "data": {
      "text/plain": [
       "Timestamp('1981-08-19 22:50:15')"
      ]
     },
     "execution_count": 91,
     "metadata": {},
     "output_type": "execute_result"
    }
   ],
   "source": [
    "my_date - d"
   ]
  },
  {
   "cell_type": "markdown",
   "metadata": {},
   "source": [
    "Ein Timedelta erhalten wir auch, wenn wir die Differenz von zwei Daten bilden:"
   ]
  },
  {
   "cell_type": "code",
   "execution_count": 92,
   "metadata": {},
   "outputs": [],
   "source": [
    "my_date_1 = pd.to_datetime('1981-08-23', format='%Y-%m-%d')\n",
    "my_date_2 = pd.to_datetime('1981-08-25', format='%Y-%m-%d')\n",
    "d = my_date_2 - my_date_1"
   ]
  },
  {
   "cell_type": "code",
   "execution_count": 93,
   "metadata": {},
   "outputs": [
    {
     "data": {
      "text/plain": [
       "Timedelta('2 days 00:00:00')"
      ]
     },
     "execution_count": 93,
     "metadata": {},
     "output_type": "execute_result"
    }
   ],
   "source": [
    "d"
   ]
  },
  {
   "cell_type": "markdown",
   "metadata": {},
   "source": [
    "Die Info erhalten wir wiederum, indem wir die Eigenschaft abfragen:"
   ]
  },
  {
   "cell_type": "code",
   "execution_count": 94,
   "metadata": {},
   "outputs": [
    {
     "data": {
      "text/plain": [
       "2"
      ]
     },
     "execution_count": 94,
     "metadata": {},
     "output_type": "execute_result"
    }
   ],
   "source": [
    "d.days"
   ]
  },
  {
   "cell_type": "markdown",
   "metadata": {},
   "source": [
    "**Quiz:** Wie viele Tage liegen zwischen folgenden Daten?"
   ]
  },
  {
   "cell_type": "code",
   "execution_count": 104,
   "metadata": {},
   "outputs": [
    {
     "data": {
      "text/plain": [
       "-5538"
      ]
     },
     "execution_count": 104,
     "metadata": {},
     "output_type": "execute_result"
    }
   ],
   "source": [
    "my_string_1 = '2001/09/11'\n",
    "my_string_2 = '2016/11/09'\n",
    "my_date1 = pd.to_datetime(my_string_1, format=\"%Y/%m/%d\")\n",
    "my_date2 = pd.to_datetime(my_string_2, format=\"%Y/%m/%d\")\n",
    "d = my_date1 - my_date2\n",
    "d.days"
   ]
  },
  {
   "cell_type": "code",
   "execution_count": 98,
   "metadata": {},
   "outputs": [
    {
     "ename": "NameError",
     "evalue": "name 'pd_to' is not defined",
     "output_type": "error",
     "traceback": [
      "\u001b[0;31m---------------------------------------------------------------------------\u001b[0m",
      "\u001b[0;31mNameError\u001b[0m                                 Traceback (most recent call last)",
      "\u001b[0;32m<ipython-input-98-33a896d7c6bf>\u001b[0m in \u001b[0;36m<module>\u001b[0;34m\u001b[0m\n\u001b[1;32m      1\u001b[0m \u001b[0;31m#Antwort\u001b[0m\u001b[0;34m\u001b[0m\u001b[0;34m\u001b[0m\u001b[0;34m\u001b[0m\u001b[0m\n\u001b[0;32m----> 2\u001b[0;31m \u001b[0mmy_date_1\u001b[0m \u001b[0;34m=\u001b[0m \u001b[0mpd_to\u001b[0m\u001b[0;34m.\u001b[0m\u001b[0mdatetime\u001b[0m\u001b[0;34m(\u001b[0m\u001b[0mmy_string_1\u001b[0m\u001b[0;34m,\u001b[0m \u001b[0mformat\u001b[0m\u001b[0;34m=\u001b[0m\u001b[0;34m'%Y/%m/%d'\u001b[0m\u001b[0;34m)\u001b[0m\u001b[0;34m\u001b[0m\u001b[0;34m\u001b[0m\u001b[0m\n\u001b[0m\u001b[1;32m      3\u001b[0m \u001b[0mmy_date_2\u001b[0m \u001b[0;34m=\u001b[0m \u001b[0mpd_to\u001b[0m\u001b[0;34m.\u001b[0m\u001b[0mdatetime\u001b[0m\u001b[0;34m(\u001b[0m\u001b[0mmy_string_2\u001b[0m\u001b[0;34m,\u001b[0m \u001b[0mformat\u001b[0m\u001b[0;34m=\u001b[0m\u001b[0;34m'%Y/%m/%d'\u001b[0m\u001b[0;34m)\u001b[0m\u001b[0;34m\u001b[0m\u001b[0;34m\u001b[0m\u001b[0m\n\u001b[1;32m      4\u001b[0m \u001b[0md\u001b[0m \u001b[0;34m=\u001b[0m \u001b[0mmy_date_2\u001b[0m \u001b[0;34m-\u001b[0m \u001b[0mmy_date_1\u001b[0m\u001b[0;34m\u001b[0m\u001b[0;34m\u001b[0m\u001b[0m\n\u001b[1;32m      5\u001b[0m \u001b[0md\u001b[0m\u001b[0;34m.\u001b[0m\u001b[0mdays\u001b[0m\u001b[0;34m\u001b[0m\u001b[0;34m\u001b[0m\u001b[0m\n",
      "\u001b[0;31mNameError\u001b[0m: name 'pd_to' is not defined"
     ]
    }
   ],
   "source": [
    "#Antwort\n",
    "my_date_1 = pd_to.datetime(my_string_1, format='%Y/%m/%d')\n",
    "my_date_2 = pd_to.datetime(my_string_2, format='%Y/%m/%d')\n",
    "d = my_date_2 - my_date_1\n",
    "d.days"
   ]
  },
  {
   "cell_type": "markdown",
   "metadata": {},
   "source": [
    "**Quiz:** Ich werde ab dem 1. Januar 2019 um 0:00 Uhr während 685648 Sekunden keinen Alkohol trinken. An welchem Datum greife ich wieder zum Glas?"
   ]
  },
  {
   "cell_type": "code",
   "execution_count": null,
   "metadata": {
    "collapsed": true
   },
   "outputs": [],
   "source": [
    "#Antwort\n"
   ]
  },
  {
   "cell_type": "markdown",
   "metadata": {},
   "source": [
    "## Hier und Jetzt"
   ]
  },
  {
   "cell_type": "markdown",
   "metadata": {},
   "source": [
    "Last but not least: eine Funktion, die uns das aktuelle Datum samt Zeit angibt:"
   ]
  },
  {
   "cell_type": "code",
   "execution_count": null,
   "metadata": {
    "collapsed": true
   },
   "outputs": [],
   "source": [
    "jetzt = datetime.today()"
   ]
  },
  {
   "cell_type": "code",
   "execution_count": null,
   "metadata": {
    "collapsed": true
   },
   "outputs": [],
   "source": [
    "jetzt"
   ]
  },
  {
   "cell_type": "markdown",
   "metadata": {},
   "source": [
    "Wir können dieses Datum wie jedes andere Datum auch anzeigen:"
   ]
  },
  {
   "cell_type": "code",
   "execution_count": null,
   "metadata": {
    "collapsed": true
   },
   "outputs": [],
   "source": [
    "jetzt.strftime(format='%Y-%m-%d: %H:%M:%S')"
   ]
  },
  {
   "cell_type": "markdown",
   "metadata": {},
   "source": [
    "Wir können auch damit herumrechnen:"
   ]
  },
  {
   "cell_type": "code",
   "execution_count": null,
   "metadata": {
    "collapsed": true
   },
   "outputs": [],
   "source": [
    "d = timedelta(days=1)"
   ]
  },
  {
   "cell_type": "code",
   "execution_count": null,
   "metadata": {
    "collapsed": true
   },
   "outputs": [],
   "source": [
    "(jetzt - d).strftime(format='%Y-%m-%d: %H:%M:%S')"
   ]
  },
  {
   "cell_type": "code",
   "execution_count": null,
   "metadata": {
    "collapsed": true
   },
   "outputs": [],
   "source": []
  }
 ],
 "metadata": {
  "kernelspec": {
   "display_name": "Python 3",
   "language": "python",
   "name": "python3"
  },
  "language_info": {
   "codemirror_mode": {
    "name": "ipython",
    "version": 3
   },
   "file_extension": ".py",
   "mimetype": "text/x-python",
   "name": "python",
   "nbconvert_exporter": "python",
   "pygments_lexer": "ipython3",
   "version": "3.7.4"
  }
 },
 "nbformat": 4,
 "nbformat_minor": 2
}
