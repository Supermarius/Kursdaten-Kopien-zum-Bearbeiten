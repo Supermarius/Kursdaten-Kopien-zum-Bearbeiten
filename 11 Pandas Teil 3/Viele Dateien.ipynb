{
 "cells": [
  {
   "cell_type": "markdown",
   "metadata": {},
   "source": [
    "# Viele Dateien"
   ]
  },
  {
   "cell_type": "markdown",
   "metadata": {},
   "source": [
    "**Inhalt:** Massenverarbeitung von gescrapten Zeitreihen\n",
    "\n",
    "**Nötige Skills:** Daten explorieren, Time+Date Basics\n",
    "\n",
    "**Lernziele:**\n",
    "- Pandas in Kombination mit Scraping\n",
    "- Öffnen und zusammenfügen von vielen Dateien (Glob)\n",
    "- Umstrukturierung von Dataframes (Pivot)\n",
    "- Plotting Level 4 (Small Multiples)"
   ]
  },
  {
   "cell_type": "markdown",
   "metadata": {},
   "source": [
    "## Das Beispiel"
   ]
  },
  {
   "cell_type": "markdown",
   "metadata": {},
   "source": [
    "Wir interessieren uns in diesem Notebook für Krypto-Coins.\n",
    "\n",
    "Die Webseite https://coinmarketcap.com/ führt Marktdaten zu den hundert wichtigsten Coins auf.\n",
    "\n",
    "Mit einem einfachen Scraper werden wir diese Daten beschaffen.\n",
    "\n",
    "Der Pfad zum Projektordner heisst `dataprojects/Krypto/`.\n",
    "\n",
    "Zu jeder Kryptowährung haben wir ein csv-Datenfile im Unterordner `data/`."
   ]
  },
  {
   "cell_type": "markdown",
   "metadata": {},
   "source": [
    "## Vorbereitung"
   ]
  },
  {
   "cell_type": "code",
   "execution_count": 10,
   "metadata": {},
   "outputs": [],
   "source": [
    "import pandas as pd"
   ]
  },
  {
   "cell_type": "code",
   "execution_count": 11,
   "metadata": {},
   "outputs": [],
   "source": [
    "import numpy as np"
   ]
  },
  {
   "cell_type": "code",
   "execution_count": 12,
   "metadata": {},
   "outputs": [],
   "source": [
    "import re"
   ]
  },
  {
   "cell_type": "code",
   "execution_count": 13,
   "metadata": {},
   "outputs": [],
   "source": [
    "import glob"
   ]
  },
  {
   "cell_type": "code",
   "execution_count": 14,
   "metadata": {},
   "outputs": [],
   "source": [
    "%matplotlib inline"
   ]
  },
  {
   "cell_type": "markdown",
   "metadata": {},
   "source": [
    "## Daten laden\n",
    "\n",
    "**In diesem Teil hat es einige neue Funktionen drin, die wir noch nicht kennen. Sie können sich einfach durchklicken.**"
   ]
  },
  {
   "cell_type": "markdown",
   "metadata": {},
   "source": [
    "### Einlesen 1: ein einzelnes File"
   ]
  },
  {
   "cell_type": "markdown",
   "metadata": {},
   "source": [
    "Zu jeder Kryptowährung gibt es eine Datei mit den Kursdaten. Wir laden testweise eines davon:"
   ]
  },
  {
   "cell_type": "code",
   "execution_count": 15,
   "metadata": {},
   "outputs": [],
   "source": [
    "path = 'dataprojects/Krypto/'"
   ]
  },
  {
   "cell_type": "code",
   "execution_count": 16,
   "metadata": {},
   "outputs": [],
   "source": [
    "df = pd.read_csv(path + 'data/Bitcoin.csv')"
   ]
  },
  {
   "cell_type": "code",
   "execution_count": 17,
   "metadata": {},
   "outputs": [
    {
     "data": {
      "text/html": [
       "<div>\n",
       "<style scoped>\n",
       "    .dataframe tbody tr th:only-of-type {\n",
       "        vertical-align: middle;\n",
       "    }\n",
       "\n",
       "    .dataframe tbody tr th {\n",
       "        vertical-align: top;\n",
       "    }\n",
       "\n",
       "    .dataframe thead th {\n",
       "        text-align: right;\n",
       "    }\n",
       "</style>\n",
       "<table border=\"1\" class=\"dataframe\">\n",
       "  <thead>\n",
       "    <tr style=\"text-align: right;\">\n",
       "      <th></th>\n",
       "      <th>date</th>\n",
       "      <th>open</th>\n",
       "      <th>high</th>\n",
       "      <th>low</th>\n",
       "      <th>close</th>\n",
       "      <th>volume</th>\n",
       "      <th>marketcap</th>\n",
       "    </tr>\n",
       "  </thead>\n",
       "  <tbody>\n",
       "    <tr>\n",
       "      <td>0</td>\n",
       "      <td>Oct 12, 2019</td>\n",
       "      <td>8315.66</td>\n",
       "      <td>8415.24</td>\n",
       "      <td>8313.34</td>\n",
       "      <td>8336.56</td>\n",
       "      <td>14,532,641,605</td>\n",
       "      <td>149,965,767,624</td>\n",
       "    </tr>\n",
       "    <tr>\n",
       "      <td>1</td>\n",
       "      <td>Oct 11, 2019</td>\n",
       "      <td>8585.26</td>\n",
       "      <td>8721.78</td>\n",
       "      <td>8316.18</td>\n",
       "      <td>8321.76</td>\n",
       "      <td>19,604,381,101</td>\n",
       "      <td>149,685,618,275</td>\n",
       "    </tr>\n",
       "  </tbody>\n",
       "</table>\n",
       "</div>"
      ],
      "text/plain": [
       "           date     open     high      low    close          volume  \\\n",
       "0  Oct 12, 2019  8315.66  8415.24  8313.34  8336.56  14,532,641,605   \n",
       "1  Oct 11, 2019  8585.26  8721.78  8316.18  8321.76  19,604,381,101   \n",
       "\n",
       "         marketcap  \n",
       "0  149,965,767,624  \n",
       "1  149,685,618,275  "
      ]
     },
     "execution_count": 17,
     "metadata": {},
     "output_type": "execute_result"
    }
   ],
   "source": [
    "df.head(2)"
   ]
  },
  {
   "cell_type": "markdown",
   "metadata": {},
   "source": [
    "Das DF ist 366 Einträge lang (da zu 365 + 1 Tagen Daten vorliegen)"
   ]
  },
  {
   "cell_type": "code",
   "execution_count": 18,
   "metadata": {},
   "outputs": [
    {
     "data": {
      "text/plain": [
       "366"
      ]
     },
     "execution_count": 18,
     "metadata": {},
     "output_type": "execute_result"
    }
   ],
   "source": [
    "len(df)"
   ]
  },
  {
   "cell_type": "markdown",
   "metadata": {},
   "source": [
    "Theoretisch könnten wir diesen Code jetzt für jede der 100 Währungen manuell wiederholen.\n",
    "\n",
    "Doch das ist umständlich, wir wollen automatisch alle Währungen laden."
   ]
  },
  {
   "cell_type": "markdown",
   "metadata": {},
   "source": [
    "### Einlesen 2: Alle Files auf einmal"
   ]
  },
  {
   "cell_type": "markdown",
   "metadata": {},
   "source": [
    "**Schritt 1: Liste von Dateinamen erstellen**"
   ]
  },
  {
   "cell_type": "markdown",
   "metadata": {},
   "source": [
    "Wir starten damit, dass wir das Verzeichnis durchsuchen, in dem alle Kryptowährungs-Daten abgelegt sind.\n",
    "\n",
    "Dazu benutzen wir `glob`, ein praktisches Tool aus der Standard Library: https://docs.python.org/3/library/glob.html"
   ]
  },
  {
   "cell_type": "code",
   "execution_count": 19,
   "metadata": {},
   "outputs": [],
   "source": [
    "filenames = glob.glob(path + 'data/*.csv')"
   ]
  },
  {
   "cell_type": "markdown",
   "metadata": {},
   "source": [
    "So machen wir uns eine Liste, die jedes einzelne File samt dem Pfad enthält."
   ]
  },
  {
   "cell_type": "code",
   "execution_count": 32,
   "metadata": {},
   "outputs": [
    {
     "data": {
      "text/plain": [
       "100"
      ]
     },
     "execution_count": 32,
     "metadata": {},
     "output_type": "execute_result"
    }
   ],
   "source": [
    "len(filenames)"
   ]
  },
  {
   "cell_type": "markdown",
   "metadata": {},
   "source": [
    "Wir haben nun eine Liste von allen Dateinamen. Die ersten zwei Einträge sind:"
   ]
  },
  {
   "cell_type": "code",
   "execution_count": 33,
   "metadata": {},
   "outputs": [
    {
     "data": {
      "text/plain": [
       "['dataprojects/Krypto/data/BitCapitalVendor.csv',\n",
       " 'dataprojects/Krypto/data/XMax.csv']"
      ]
     },
     "execution_count": 33,
     "metadata": {},
     "output_type": "execute_result"
    }
   ],
   "source": [
    "filenames[0:2]"
   ]
  },
  {
   "cell_type": "markdown",
   "metadata": {},
   "source": [
    "**Schritt 2: Liste von Dataframes anhand der Dateinamen**"
   ]
  },
  {
   "cell_type": "markdown",
   "metadata": {},
   "source": [
    "Nun lesen wir jede einzelne Datei aus der Liste ein - und zwar in eine **Liste von Dataframes**.\n",
    "\n",
    "Diese Liste nennen wir `dfs[]`. Sie wird 100 Einträge haben, jedes davon ein Dataframe."
   ]
  },
  {
   "cell_type": "code",
   "execution_count": 34,
   "metadata": {},
   "outputs": [],
   "source": [
    "dfs = []"
   ]
  },
  {
   "cell_type": "markdown",
   "metadata": {},
   "source": [
    "Zum Einlesen benutzen wir **list comprehension**...\n",
    "Das macht folgendes: Es ist wie ein Loop mit vorangestellter Operation, die mit jedem Element in einer Liste etwas macht – und wenn man das Ganze in [] einpackt, dann macht Python aus dem Ergebnis dieses Loops gleich eine neue Liste!"
   ]
  },
  {
   "cell_type": "code",
   "execution_count": 35,
   "metadata": {},
   "outputs": [],
   "source": [
    "dfs = [pd.read_csv(filename) for filename in filenames]"
   ]
  },
  {
   "cell_type": "markdown",
   "metadata": {},
   "source": [
    "Jetzt haben wir eine Liste voller Dataframes!"
   ]
  },
  {
   "cell_type": "code",
   "execution_count": 36,
   "metadata": {},
   "outputs": [
    {
     "data": {
      "text/html": [
       "<div>\n",
       "<style scoped>\n",
       "    .dataframe tbody tr th:only-of-type {\n",
       "        vertical-align: middle;\n",
       "    }\n",
       "\n",
       "    .dataframe tbody tr th {\n",
       "        vertical-align: top;\n",
       "    }\n",
       "\n",
       "    .dataframe thead th {\n",
       "        text-align: right;\n",
       "    }\n",
       "</style>\n",
       "<table border=\"1\" class=\"dataframe\">\n",
       "  <thead>\n",
       "    <tr style=\"text-align: right;\">\n",
       "      <th></th>\n",
       "      <th>date</th>\n",
       "      <th>open</th>\n",
       "      <th>high</th>\n",
       "      <th>low</th>\n",
       "      <th>close</th>\n",
       "      <th>volume</th>\n",
       "      <th>marketcap</th>\n",
       "    </tr>\n",
       "  </thead>\n",
       "  <tbody>\n",
       "    <tr>\n",
       "      <td>0</td>\n",
       "      <td>Oct 12, 2019</td>\n",
       "      <td>0.042286</td>\n",
       "      <td>0.043125</td>\n",
       "      <td>0.040426</td>\n",
       "      <td>0.040929</td>\n",
       "      <td>1,173,745</td>\n",
       "      <td>36,475,731</td>\n",
       "    </tr>\n",
       "    <tr>\n",
       "      <td>1</td>\n",
       "      <td>Oct 11, 2019</td>\n",
       "      <td>0.043115</td>\n",
       "      <td>0.043170</td>\n",
       "      <td>0.040623</td>\n",
       "      <td>0.042298</td>\n",
       "      <td>1,173,758</td>\n",
       "      <td>37,695,631</td>\n",
       "    </tr>\n",
       "  </tbody>\n",
       "</table>\n",
       "</div>"
      ],
      "text/plain": [
       "           date      open      high       low     close     volume   marketcap\n",
       "0  Oct 12, 2019  0.042286  0.043125  0.040426  0.040929  1,173,745  36,475,731\n",
       "1  Oct 11, 2019  0.043115  0.043170  0.040623  0.042298  1,173,758  37,695,631"
      ]
     },
     "execution_count": 36,
     "metadata": {},
     "output_type": "execute_result"
    }
   ],
   "source": [
    "dfs[0].head(2)"
   ]
  },
  {
   "cell_type": "markdown",
   "metadata": {},
   "source": [
    "**Schritt 3: Zu jedem Dataframe den Währungsnamen hinzufügen**"
   ]
  },
  {
   "cell_type": "markdown",
   "metadata": {},
   "source": [
    "Die einzelnen Dataframes in der Liste enthalten die Marktdaten. Doch sie enthalten selbst keine Information darüber, zu welcher Kryptowährung die Daten gehören. Wir führen zu dem Zweck in jedes Dataframe noch eine zusätzliche Spalte hinzu mit dem Namen der Währung. "
   ]
  },
  {
   "cell_type": "markdown",
   "metadata": {},
   "source": [
    "Praktisch ist zu diesem Zweck die Python-Funktion `zip()`. Sie fügt zwei separate Listen – hier: die Dataframes und die Dateinamen – wie ein Reissverschluss zusammen, so dass wir gleich durch beide aufs Mal loopen können."
   ]
  },
  {
   "cell_type": "code",
   "execution_count": 39,
   "metadata": {},
   "outputs": [],
   "source": [
    "for df, filename in zip(dfs, filenames):\n",
    "    # füge in jedem Dataframe eine neue Spalte \"Currency\" hinzu, die den Währungsnamen aus dem Filename enthält\n",
    "    df['currency'] = filename\n",
    "    df['currency'] = df['currency'].str.extract('/data/(.+).csv')"
   ]
  },
  {
   "cell_type": "code",
   "execution_count": 40,
   "metadata": {},
   "outputs": [
    {
     "data": {
      "text/html": [
       "<div>\n",
       "<style scoped>\n",
       "    .dataframe tbody tr th:only-of-type {\n",
       "        vertical-align: middle;\n",
       "    }\n",
       "\n",
       "    .dataframe tbody tr th {\n",
       "        vertical-align: top;\n",
       "    }\n",
       "\n",
       "    .dataframe thead th {\n",
       "        text-align: right;\n",
       "    }\n",
       "</style>\n",
       "<table border=\"1\" class=\"dataframe\">\n",
       "  <thead>\n",
       "    <tr style=\"text-align: right;\">\n",
       "      <th></th>\n",
       "      <th>date</th>\n",
       "      <th>open</th>\n",
       "      <th>high</th>\n",
       "      <th>low</th>\n",
       "      <th>close</th>\n",
       "      <th>volume</th>\n",
       "      <th>marketcap</th>\n",
       "      <th>currency</th>\n",
       "    </tr>\n",
       "  </thead>\n",
       "  <tbody>\n",
       "    <tr>\n",
       "      <td>0</td>\n",
       "      <td>Oct 12, 2019</td>\n",
       "      <td>0.042286</td>\n",
       "      <td>0.043125</td>\n",
       "      <td>0.040426</td>\n",
       "      <td>0.040929</td>\n",
       "      <td>1,173,745</td>\n",
       "      <td>36,475,731</td>\n",
       "      <td>BitCapitalVendor</td>\n",
       "    </tr>\n",
       "    <tr>\n",
       "      <td>1</td>\n",
       "      <td>Oct 11, 2019</td>\n",
       "      <td>0.043115</td>\n",
       "      <td>0.043170</td>\n",
       "      <td>0.040623</td>\n",
       "      <td>0.042298</td>\n",
       "      <td>1,173,758</td>\n",
       "      <td>37,695,631</td>\n",
       "      <td>BitCapitalVendor</td>\n",
       "    </tr>\n",
       "  </tbody>\n",
       "</table>\n",
       "</div>"
      ],
      "text/plain": [
       "           date      open      high       low     close     volume  \\\n",
       "0  Oct 12, 2019  0.042286  0.043125  0.040426  0.040929  1,173,745   \n",
       "1  Oct 11, 2019  0.043115  0.043170  0.040623  0.042298  1,173,758   \n",
       "\n",
       "    marketcap          currency  \n",
       "0  36,475,731  BitCapitalVendor  \n",
       "1  37,695,631  BitCapitalVendor  "
      ]
     },
     "execution_count": 40,
     "metadata": {},
     "output_type": "execute_result"
    }
   ],
   "source": [
    "dfs[0].head(2)"
   ]
  },
  {
   "cell_type": "markdown",
   "metadata": {},
   "source": [
    "**Schritt 4: Die DFs untereinander in ein einziges DF reihen**"
   ]
  },
  {
   "cell_type": "markdown",
   "metadata": {},
   "source": [
    "Nun fügen wir alle Dataframes zu einem einzigen, sehr langen Dataframe zusammen.\n",
    "\n",
    "Dazu benutzen wir die Funktion `pd.concat()`: https://pandas.pydata.org/pandas-docs/stable/generated/pandas.concat.html"
   ]
  },
  {
   "cell_type": "code",
   "execution_count": 41,
   "metadata": {},
   "outputs": [],
   "source": [
    "df_all = pd.concat(dfs, ignore_index=True)"
   ]
  },
  {
   "cell_type": "markdown",
   "metadata": {},
   "source": [
    "Das resultierende DF ist nun 100x länger als die einzelnen zuvor:"
   ]
  },
  {
   "cell_type": "code",
   "execution_count": 50,
   "metadata": {},
   "outputs": [
    {
     "data": {
      "text/plain": [
       "(34567, 8)"
      ]
     },
     "execution_count": 50,
     "metadata": {},
     "output_type": "execute_result"
    }
   ],
   "source": [
    "df_all.shape"
   ]
  },
  {
   "cell_type": "code",
   "execution_count": 51,
   "metadata": {},
   "outputs": [
    {
     "data": {
      "text/html": [
       "<div>\n",
       "<style scoped>\n",
       "    .dataframe tbody tr th:only-of-type {\n",
       "        vertical-align: middle;\n",
       "    }\n",
       "\n",
       "    .dataframe tbody tr th {\n",
       "        vertical-align: top;\n",
       "    }\n",
       "\n",
       "    .dataframe thead th {\n",
       "        text-align: right;\n",
       "    }\n",
       "</style>\n",
       "<table border=\"1\" class=\"dataframe\">\n",
       "  <thead>\n",
       "    <tr style=\"text-align: right;\">\n",
       "      <th></th>\n",
       "      <th>date</th>\n",
       "      <th>open</th>\n",
       "      <th>high</th>\n",
       "      <th>low</th>\n",
       "      <th>close</th>\n",
       "      <th>volume</th>\n",
       "      <th>marketcap</th>\n",
       "      <th>currency</th>\n",
       "    </tr>\n",
       "  </thead>\n",
       "  <tbody>\n",
       "    <tr>\n",
       "      <td>0</td>\n",
       "      <td>Oct 12, 2019</td>\n",
       "      <td>0.042286</td>\n",
       "      <td>0.043125</td>\n",
       "      <td>0.040426</td>\n",
       "      <td>0.040929</td>\n",
       "      <td>1,173,745</td>\n",
       "      <td>36,475,731</td>\n",
       "      <td>BitCapitalVendor</td>\n",
       "    </tr>\n",
       "    <tr>\n",
       "      <td>1</td>\n",
       "      <td>Oct 11, 2019</td>\n",
       "      <td>0.043115</td>\n",
       "      <td>0.043170</td>\n",
       "      <td>0.040623</td>\n",
       "      <td>0.042298</td>\n",
       "      <td>1,173,758</td>\n",
       "      <td>37,695,631</td>\n",
       "      <td>BitCapitalVendor</td>\n",
       "    </tr>\n",
       "  </tbody>\n",
       "</table>\n",
       "</div>"
      ],
      "text/plain": [
       "           date      open      high       low     close     volume  \\\n",
       "0  Oct 12, 2019  0.042286  0.043125  0.040426  0.040929  1,173,745   \n",
       "1  Oct 11, 2019  0.043115  0.043170  0.040623  0.042298  1,173,758   \n",
       "\n",
       "    marketcap          currency  \n",
       "0  36,475,731  BitCapitalVendor  \n",
       "1  37,695,631  BitCapitalVendor  "
      ]
     },
     "execution_count": 51,
     "metadata": {},
     "output_type": "execute_result"
    }
   ],
   "source": [
    "df_all.head(2)"
   ]
  },
  {
   "cell_type": "code",
   "execution_count": 52,
   "metadata": {},
   "outputs": [
    {
     "data": {
      "text/html": [
       "<div>\n",
       "<style scoped>\n",
       "    .dataframe tbody tr th:only-of-type {\n",
       "        vertical-align: middle;\n",
       "    }\n",
       "\n",
       "    .dataframe tbody tr th {\n",
       "        vertical-align: top;\n",
       "    }\n",
       "\n",
       "    .dataframe thead th {\n",
       "        text-align: right;\n",
       "    }\n",
       "</style>\n",
       "<table border=\"1\" class=\"dataframe\">\n",
       "  <thead>\n",
       "    <tr style=\"text-align: right;\">\n",
       "      <th></th>\n",
       "      <th>date</th>\n",
       "      <th>open</th>\n",
       "      <th>high</th>\n",
       "      <th>low</th>\n",
       "      <th>close</th>\n",
       "      <th>volume</th>\n",
       "      <th>marketcap</th>\n",
       "      <th>currency</th>\n",
       "    </tr>\n",
       "  </thead>\n",
       "  <tbody>\n",
       "    <tr>\n",
       "      <td>34565</td>\n",
       "      <td>Oct 13, 2018</td>\n",
       "      <td>0.174794</td>\n",
       "      <td>0.177004</td>\n",
       "      <td>0.173345</td>\n",
       "      <td>0.176677</td>\n",
       "      <td>3,610,690</td>\n",
       "      <td>177,118,564</td>\n",
       "      <td>Bytom</td>\n",
       "    </tr>\n",
       "    <tr>\n",
       "      <td>34566</td>\n",
       "      <td>Oct 12, 2018</td>\n",
       "      <td>0.167734</td>\n",
       "      <td>0.177526</td>\n",
       "      <td>0.165599</td>\n",
       "      <td>0.174445</td>\n",
       "      <td>19,126,300</td>\n",
       "      <td>174,880,986</td>\n",
       "      <td>Bytom</td>\n",
       "    </tr>\n",
       "  </tbody>\n",
       "</table>\n",
       "</div>"
      ],
      "text/plain": [
       "               date      open      high       low     close      volume  \\\n",
       "34565  Oct 13, 2018  0.174794  0.177004  0.173345  0.176677   3,610,690   \n",
       "34566  Oct 12, 2018  0.167734  0.177526  0.165599  0.174445  19,126,300   \n",
       "\n",
       "         marketcap currency  \n",
       "34565  177,118,564    Bytom  \n",
       "34566  174,880,986    Bytom  "
      ]
     },
     "execution_count": 52,
     "metadata": {},
     "output_type": "execute_result"
    }
   ],
   "source": [
    "df_all.tail(2)"
   ]
  },
  {
   "cell_type": "code",
   "execution_count": 53,
   "metadata": {},
   "outputs": [
    {
     "data": {
      "text/plain": [
       "date          object\n",
       "open         float64\n",
       "high         float64\n",
       "low          float64\n",
       "close        float64\n",
       "volume        object\n",
       "marketcap     object\n",
       "currency      object\n",
       "dtype: object"
      ]
     },
     "execution_count": 53,
     "metadata": {},
     "output_type": "execute_result"
    }
   ],
   "source": [
    "df_all.dtypes"
   ]
  },
  {
   "cell_type": "markdown",
   "metadata": {},
   "source": [
    "Wir haben nun ein ellenlanges Dataframe. What next?"
   ]
  },
  {
   "cell_type": "markdown",
   "metadata": {},
   "source": [
    "### Daten arrangieren"
   ]
  },
  {
   "cell_type": "markdown",
   "metadata": {},
   "source": [
    "Das hängt davon ab, was wir mit den Daten genau tun wollen.\n",
    "\n",
    "Eine Option wäre: die verschiedenen Währungen miteinander zu vergleichen. Und zwar anhand der Schlusskurse.\n",
    "\n",
    "Dazu müssen wir das Dataframe leicht umstellen, mit `pivot()`: https://pandas.pydata.org/pandas-docs/stable/generated/pandas.DataFrame.pivot.html"
   ]
  },
  {
   "cell_type": "code",
   "execution_count": 54,
   "metadata": {},
   "outputs": [],
   "source": [
    "df_pivoted = df_all.pivot(index='date', columns='currency', values='close')"
   ]
  },
  {
   "cell_type": "markdown",
   "metadata": {},
   "source": [
    "Mit `pivot()` haben wir folgendes gemacht:\n",
    "- Statt im \"Long\"-Format sind die Daten nun im \"Wide\"-Format\n",
    "- Das heisst in diesem Fall: Wir haben es anhand der Währungen rearrangiert (`columns='currency'`)\n",
    "- Die Währungen stehen jetzt nicht mehr *untereinander*, sondern *nebeneinander*\n",
    "- Die Info, die wir für jede Währung ausgewählt haben, ist der Schlusskurs `values='Close'`)\n",
    "- Das DF ist jetzt wieder nur noch 366 Zeilen lang.\n",
    "- Index jeder Zeile ist ein Datum (`index='date'`)"
   ]
  },
  {
   "cell_type": "code",
   "execution_count": 55,
   "metadata": {},
   "outputs": [
    {
     "data": {
      "text/plain": [
       "(366, 100)"
      ]
     },
     "execution_count": 55,
     "metadata": {},
     "output_type": "execute_result"
    }
   ],
   "source": [
    "df_pivoted.shape"
   ]
  },
  {
   "cell_type": "markdown",
   "metadata": {},
   "source": [
    "Nun verfügen wir über einen Index, bei dem eine Zeile jeweils einem einzigartigen Zeitpunkt entspricht.\n",
    "\n",
    "Wir verschönern die Indexspalte noch etwas:"
   ]
  },
  {
   "cell_type": "code",
   "execution_count": 56,
   "metadata": {},
   "outputs": [],
   "source": [
    "df_pivoted.rename_axis(None, inplace=True)"
   ]
  },
  {
   "cell_type": "code",
   "execution_count": 57,
   "metadata": {
    "scrolled": true
   },
   "outputs": [
    {
     "data": {
      "text/html": [
       "<div>\n",
       "<style scoped>\n",
       "    .dataframe tbody tr th:only-of-type {\n",
       "        vertical-align: middle;\n",
       "    }\n",
       "\n",
       "    .dataframe tbody tr th {\n",
       "        vertical-align: top;\n",
       "    }\n",
       "\n",
       "    .dataframe thead th {\n",
       "        text-align: right;\n",
       "    }\n",
       "</style>\n",
       "<table border=\"1\" class=\"dataframe\">\n",
       "  <thead>\n",
       "    <tr style=\"text-align: right;\">\n",
       "      <th>currency</th>\n",
       "      <th>0x</th>\n",
       "      <th>ABBC Coin</th>\n",
       "      <th>Aeternity</th>\n",
       "      <th>Algorand</th>\n",
       "      <th>Ardor</th>\n",
       "      <th>Augur</th>\n",
       "      <th>Aurora</th>\n",
       "      <th>Basic Attenti...</th>\n",
       "      <th>Binance Coin</th>\n",
       "      <th>BitCapitalVendor</th>\n",
       "      <th>...</th>\n",
       "      <th>VeChain</th>\n",
       "      <th>Verge</th>\n",
       "      <th>Waves</th>\n",
       "      <th>XMax</th>\n",
       "      <th>XRP</th>\n",
       "      <th>ZB</th>\n",
       "      <th>Zcash</th>\n",
       "      <th>Zcoin</th>\n",
       "      <th>Zilliqa</th>\n",
       "      <th>aelf</th>\n",
       "    </tr>\n",
       "  </thead>\n",
       "  <tbody>\n",
       "    <tr>\n",
       "      <td>Apr 01, 2019</td>\n",
       "      <td>0.333060</td>\n",
       "      <td>0.174615</td>\n",
       "      <td>0.535463</td>\n",
       "      <td>NaN</td>\n",
       "      <td>0.082073</td>\n",
       "      <td>15.81</td>\n",
       "      <td>0.013118</td>\n",
       "      <td>0.284441</td>\n",
       "      <td>17.95</td>\n",
       "      <td>0.020534</td>\n",
       "      <td>...</td>\n",
       "      <td>0.006285</td>\n",
       "      <td>0.007409</td>\n",
       "      <td>2.89</td>\n",
       "      <td>0.000213</td>\n",
       "      <td>0.312747</td>\n",
       "      <td>0.356519</td>\n",
       "      <td>62.42</td>\n",
       "      <td>7.80</td>\n",
       "      <td>0.020646</td>\n",
       "      <td>0.186018</td>\n",
       "    </tr>\n",
       "    <tr>\n",
       "      <td>Apr 02, 2019</td>\n",
       "      <td>0.376557</td>\n",
       "      <td>0.187213</td>\n",
       "      <td>0.588288</td>\n",
       "      <td>NaN</td>\n",
       "      <td>0.087155</td>\n",
       "      <td>17.62</td>\n",
       "      <td>0.014222</td>\n",
       "      <td>0.321107</td>\n",
       "      <td>19.79</td>\n",
       "      <td>0.020990</td>\n",
       "      <td>...</td>\n",
       "      <td>0.007243</td>\n",
       "      <td>0.008337</td>\n",
       "      <td>3.09</td>\n",
       "      <td>0.000262</td>\n",
       "      <td>0.351499</td>\n",
       "      <td>0.340334</td>\n",
       "      <td>69.94</td>\n",
       "      <td>8.27</td>\n",
       "      <td>0.022510</td>\n",
       "      <td>0.197836</td>\n",
       "    </tr>\n",
       "  </tbody>\n",
       "</table>\n",
       "<p>2 rows × 100 columns</p>\n",
       "</div>"
      ],
      "text/plain": [
       "currency            0x  ABBC Coin  Aeternity  Algorand     Ardor  Augur  \\\n",
       "Apr 01, 2019  0.333060   0.174615   0.535463       NaN  0.082073  15.81   \n",
       "Apr 02, 2019  0.376557   0.187213   0.588288       NaN  0.087155  17.62   \n",
       "\n",
       "currency        Aurora  Basic Attenti...  Binance Coin  BitCapitalVendor  ...  \\\n",
       "Apr 01, 2019  0.013118          0.284441         17.95          0.020534  ...   \n",
       "Apr 02, 2019  0.014222          0.321107         19.79          0.020990  ...   \n",
       "\n",
       "currency       VeChain     Verge  Waves      XMax       XRP        ZB  Zcash  \\\n",
       "Apr 01, 2019  0.006285  0.007409   2.89  0.000213  0.312747  0.356519  62.42   \n",
       "Apr 02, 2019  0.007243  0.008337   3.09  0.000262  0.351499  0.340334  69.94   \n",
       "\n",
       "currency      Zcoin   Zilliqa      aelf  \n",
       "Apr 01, 2019   7.80  0.020646  0.186018  \n",
       "Apr 02, 2019   8.27  0.022510  0.197836  \n",
       "\n",
       "[2 rows x 100 columns]"
      ]
     },
     "execution_count": 57,
     "metadata": {},
     "output_type": "execute_result"
    }
   ],
   "source": [
    "df_pivoted.head(2)"
   ]
  },
  {
   "cell_type": "markdown",
   "metadata": {
    "collapsed": true
   },
   "source": [
    "Wir haben nun ein sauber formatiertes Dataframe mit hundert Spalten, die für jede Kryptowährung, sofern sie zum betreffenden Zeitpunkt existierte, einen Handelskurs enthält.\n",
    "\n",
    "**Grossartig! Wir sind damit bereit für die Datenanalyse. Ab hier sind Sie an der Reihe...**"
   ]
  },
  {
   "cell_type": "markdown",
   "metadata": {},
   "source": [
    "## Analyse"
   ]
  },
  {
   "cell_type": "markdown",
   "metadata": {},
   "source": [
    "### Vorbereitung"
   ]
  },
  {
   "cell_type": "markdown",
   "metadata": {},
   "source": [
    "Remember: Mit welchem Typ von Daten haben wir es hier zu tun...?\n",
    "\n",
    "... genau: mit einer Zeitreihe.\n",
    "\n",
    "Um damit zu arbeiten, müssen wir den Text in der Indexspalte in ein echtes Datum umwandeln."
   ]
  },
  {
   "cell_type": "code",
   "execution_count": 59,
   "metadata": {},
   "outputs": [
    {
     "ename": "ValueError",
     "evalue": "time data 'Apr 01, 2019' does not match format '&b %d, %Y' (match)",
     "output_type": "error",
     "traceback": [
      "\u001b[0;31m---------------------------------------------------------------------------\u001b[0m",
      "\u001b[0;31mTypeError\u001b[0m                                 Traceback (most recent call last)",
      "\u001b[0;32m~/.virtualenvs/erstesVE/lib/python3.7/site-packages/pandas/core/tools/datetimes.py\u001b[0m in \u001b[0;36m_convert_listlike_datetimes\u001b[0;34m(arg, box, format, name, tz, unit, errors, infer_datetime_format, dayfirst, yearfirst, exact)\u001b[0m\n\u001b[1;32m    447\u001b[0m             \u001b[0;32mtry\u001b[0m\u001b[0;34m:\u001b[0m\u001b[0;34m\u001b[0m\u001b[0;34m\u001b[0m\u001b[0m\n\u001b[0;32m--> 448\u001b[0;31m                 \u001b[0mvalues\u001b[0m\u001b[0;34m,\u001b[0m \u001b[0mtz\u001b[0m \u001b[0;34m=\u001b[0m \u001b[0mconversion\u001b[0m\u001b[0;34m.\u001b[0m\u001b[0mdatetime_to_datetime64\u001b[0m\u001b[0;34m(\u001b[0m\u001b[0marg\u001b[0m\u001b[0;34m)\u001b[0m\u001b[0;34m\u001b[0m\u001b[0;34m\u001b[0m\u001b[0m\n\u001b[0m\u001b[1;32m    449\u001b[0m                 \u001b[0;32mreturn\u001b[0m \u001b[0mDatetimeIndex\u001b[0m\u001b[0;34m.\u001b[0m\u001b[0m_simple_new\u001b[0m\u001b[0;34m(\u001b[0m\u001b[0mvalues\u001b[0m\u001b[0;34m,\u001b[0m \u001b[0mname\u001b[0m\u001b[0;34m=\u001b[0m\u001b[0mname\u001b[0m\u001b[0;34m,\u001b[0m \u001b[0mtz\u001b[0m\u001b[0;34m=\u001b[0m\u001b[0mtz\u001b[0m\u001b[0;34m)\u001b[0m\u001b[0;34m\u001b[0m\u001b[0;34m\u001b[0m\u001b[0m\n",
      "\u001b[0;32mpandas/_libs/tslibs/conversion.pyx\u001b[0m in \u001b[0;36mpandas._libs.tslibs.conversion.datetime_to_datetime64\u001b[0;34m()\u001b[0m\n",
      "\u001b[0;31mTypeError\u001b[0m: Unrecognized value type: <class 'str'>",
      "\nDuring handling of the above exception, another exception occurred:\n",
      "\u001b[0;31mValueError\u001b[0m                                Traceback (most recent call last)",
      "\u001b[0;32m<ipython-input-59-c617f4d711a1>\u001b[0m in \u001b[0;36m<module>\u001b[0;34m\u001b[0m\n\u001b[0;32m----> 1\u001b[0;31m \u001b[0mdf_pivoted\u001b[0m \u001b[0;34m=\u001b[0m \u001b[0mpd\u001b[0m\u001b[0;34m.\u001b[0m\u001b[0mto_datetime\u001b[0m\u001b[0;34m(\u001b[0m\u001b[0mdf_pivoted\u001b[0m\u001b[0;34m.\u001b[0m\u001b[0mindex\u001b[0m\u001b[0;34m,\u001b[0m \u001b[0mformat\u001b[0m \u001b[0;34m=\u001b[0m \u001b[0;34m\"&b %d, %Y\"\u001b[0m\u001b[0;34m)\u001b[0m\u001b[0;34m\u001b[0m\u001b[0;34m\u001b[0m\u001b[0m\n\u001b[0m",
      "\u001b[0;32m~/.virtualenvs/erstesVE/lib/python3.7/site-packages/pandas/util/_decorators.py\u001b[0m in \u001b[0;36mwrapper\u001b[0;34m(*args, **kwargs)\u001b[0m\n\u001b[1;32m    206\u001b[0m                 \u001b[0;32melse\u001b[0m\u001b[0;34m:\u001b[0m\u001b[0;34m\u001b[0m\u001b[0;34m\u001b[0m\u001b[0m\n\u001b[1;32m    207\u001b[0m                     \u001b[0mkwargs\u001b[0m\u001b[0;34m[\u001b[0m\u001b[0mnew_arg_name\u001b[0m\u001b[0;34m]\u001b[0m \u001b[0;34m=\u001b[0m \u001b[0mnew_arg_value\u001b[0m\u001b[0;34m\u001b[0m\u001b[0;34m\u001b[0m\u001b[0m\n\u001b[0;32m--> 208\u001b[0;31m             \u001b[0;32mreturn\u001b[0m \u001b[0mfunc\u001b[0m\u001b[0;34m(\u001b[0m\u001b[0;34m*\u001b[0m\u001b[0margs\u001b[0m\u001b[0;34m,\u001b[0m \u001b[0;34m**\u001b[0m\u001b[0mkwargs\u001b[0m\u001b[0;34m)\u001b[0m\u001b[0;34m\u001b[0m\u001b[0;34m\u001b[0m\u001b[0m\n\u001b[0m\u001b[1;32m    209\u001b[0m \u001b[0;34m\u001b[0m\u001b[0m\n\u001b[1;32m    210\u001b[0m         \u001b[0;32mreturn\u001b[0m \u001b[0mwrapper\u001b[0m\u001b[0;34m\u001b[0m\u001b[0;34m\u001b[0m\u001b[0m\n",
      "\u001b[0;32m~/.virtualenvs/erstesVE/lib/python3.7/site-packages/pandas/core/tools/datetimes.py\u001b[0m in \u001b[0;36mto_datetime\u001b[0;34m(arg, errors, dayfirst, yearfirst, utc, box, format, exact, unit, infer_datetime_format, origin, cache)\u001b[0m\n\u001b[1;32m    786\u001b[0m         \u001b[0;32melse\u001b[0m\u001b[0;34m:\u001b[0m\u001b[0;34m\u001b[0m\u001b[0;34m\u001b[0m\u001b[0m\n\u001b[1;32m    787\u001b[0m             \u001b[0mconvert_listlike\u001b[0m \u001b[0;34m=\u001b[0m \u001b[0mpartial\u001b[0m\u001b[0;34m(\u001b[0m\u001b[0mconvert_listlike\u001b[0m\u001b[0;34m,\u001b[0m \u001b[0mname\u001b[0m\u001b[0;34m=\u001b[0m\u001b[0marg\u001b[0m\u001b[0;34m.\u001b[0m\u001b[0mname\u001b[0m\u001b[0;34m)\u001b[0m\u001b[0;34m\u001b[0m\u001b[0;34m\u001b[0m\u001b[0m\n\u001b[0;32m--> 788\u001b[0;31m             \u001b[0mresult\u001b[0m \u001b[0;34m=\u001b[0m \u001b[0mconvert_listlike\u001b[0m\u001b[0;34m(\u001b[0m\u001b[0marg\u001b[0m\u001b[0;34m,\u001b[0m \u001b[0mbox\u001b[0m\u001b[0;34m,\u001b[0m \u001b[0mformat\u001b[0m\u001b[0;34m)\u001b[0m\u001b[0;34m\u001b[0m\u001b[0;34m\u001b[0m\u001b[0m\n\u001b[0m\u001b[1;32m    789\u001b[0m     \u001b[0;32melif\u001b[0m \u001b[0mis_list_like\u001b[0m\u001b[0;34m(\u001b[0m\u001b[0marg\u001b[0m\u001b[0;34m)\u001b[0m\u001b[0;34m:\u001b[0m\u001b[0;34m\u001b[0m\u001b[0;34m\u001b[0m\u001b[0m\n\u001b[1;32m    790\u001b[0m         \u001b[0mcache_array\u001b[0m \u001b[0;34m=\u001b[0m \u001b[0m_maybe_cache\u001b[0m\u001b[0;34m(\u001b[0m\u001b[0marg\u001b[0m\u001b[0;34m,\u001b[0m \u001b[0mformat\u001b[0m\u001b[0;34m,\u001b[0m \u001b[0mcache\u001b[0m\u001b[0;34m,\u001b[0m \u001b[0mconvert_listlike\u001b[0m\u001b[0;34m)\u001b[0m\u001b[0;34m\u001b[0m\u001b[0;34m\u001b[0m\u001b[0m\n",
      "\u001b[0;32m~/.virtualenvs/erstesVE/lib/python3.7/site-packages/pandas/core/tools/datetimes.py\u001b[0m in \u001b[0;36m_convert_listlike_datetimes\u001b[0;34m(arg, box, format, name, tz, unit, errors, infer_datetime_format, dayfirst, yearfirst, exact)\u001b[0m\n\u001b[1;32m    449\u001b[0m                 \u001b[0;32mreturn\u001b[0m \u001b[0mDatetimeIndex\u001b[0m\u001b[0;34m.\u001b[0m\u001b[0m_simple_new\u001b[0m\u001b[0;34m(\u001b[0m\u001b[0mvalues\u001b[0m\u001b[0;34m,\u001b[0m \u001b[0mname\u001b[0m\u001b[0;34m=\u001b[0m\u001b[0mname\u001b[0m\u001b[0;34m,\u001b[0m \u001b[0mtz\u001b[0m\u001b[0;34m=\u001b[0m\u001b[0mtz\u001b[0m\u001b[0;34m)\u001b[0m\u001b[0;34m\u001b[0m\u001b[0;34m\u001b[0m\u001b[0m\n\u001b[1;32m    450\u001b[0m             \u001b[0;32mexcept\u001b[0m \u001b[0;34m(\u001b[0m\u001b[0mValueError\u001b[0m\u001b[0;34m,\u001b[0m \u001b[0mTypeError\u001b[0m\u001b[0;34m)\u001b[0m\u001b[0;34m:\u001b[0m\u001b[0;34m\u001b[0m\u001b[0;34m\u001b[0m\u001b[0m\n\u001b[0;32m--> 451\u001b[0;31m                 \u001b[0;32mraise\u001b[0m \u001b[0me\u001b[0m\u001b[0;34m\u001b[0m\u001b[0;34m\u001b[0m\u001b[0m\n\u001b[0m\u001b[1;32m    452\u001b[0m \u001b[0;34m\u001b[0m\u001b[0m\n\u001b[1;32m    453\u001b[0m     \u001b[0;32mif\u001b[0m \u001b[0mresult\u001b[0m \u001b[0;32mis\u001b[0m \u001b[0;32mNone\u001b[0m\u001b[0;34m:\u001b[0m\u001b[0;34m\u001b[0m\u001b[0;34m\u001b[0m\u001b[0m\n",
      "\u001b[0;32m~/.virtualenvs/erstesVE/lib/python3.7/site-packages/pandas/core/tools/datetimes.py\u001b[0m in \u001b[0;36m_convert_listlike_datetimes\u001b[0;34m(arg, box, format, name, tz, unit, errors, infer_datetime_format, dayfirst, yearfirst, exact)\u001b[0m\n\u001b[1;32m    414\u001b[0m                 \u001b[0;32mtry\u001b[0m\u001b[0;34m:\u001b[0m\u001b[0;34m\u001b[0m\u001b[0;34m\u001b[0m\u001b[0m\n\u001b[1;32m    415\u001b[0m                     result, timezones = array_strptime(\n\u001b[0;32m--> 416\u001b[0;31m                         \u001b[0marg\u001b[0m\u001b[0;34m,\u001b[0m \u001b[0mformat\u001b[0m\u001b[0;34m,\u001b[0m \u001b[0mexact\u001b[0m\u001b[0;34m=\u001b[0m\u001b[0mexact\u001b[0m\u001b[0;34m,\u001b[0m \u001b[0merrors\u001b[0m\u001b[0;34m=\u001b[0m\u001b[0merrors\u001b[0m\u001b[0;34m\u001b[0m\u001b[0;34m\u001b[0m\u001b[0m\n\u001b[0m\u001b[1;32m    417\u001b[0m                     )\n\u001b[1;32m    418\u001b[0m                     \u001b[0;32mif\u001b[0m \u001b[0;34m\"%Z\"\u001b[0m \u001b[0;32min\u001b[0m \u001b[0mformat\u001b[0m \u001b[0;32mor\u001b[0m \u001b[0;34m\"%z\"\u001b[0m \u001b[0;32min\u001b[0m \u001b[0mformat\u001b[0m\u001b[0;34m:\u001b[0m\u001b[0;34m\u001b[0m\u001b[0;34m\u001b[0m\u001b[0m\n",
      "\u001b[0;32mpandas/_libs/tslibs/strptime.pyx\u001b[0m in \u001b[0;36mpandas._libs.tslibs.strptime.array_strptime\u001b[0;34m()\u001b[0m\n",
      "\u001b[0;31mValueError\u001b[0m: time data 'Apr 01, 2019' does not match format '&b %d, %Y' (match)"
     ]
    }
   ],
   "source": [
    "df_pivoted = pd.to_datetime(df_pivoted.index, format = \"&b %d, %Y\")"
   ]
  },
  {
   "cell_type": "markdown",
   "metadata": {},
   "source": [
    "Und wir müssen den Datums-Index aufsteigend sortieren."
   ]
  },
  {
   "cell_type": "code",
   "execution_count": null,
   "metadata": {},
   "outputs": [],
   "source": []
  },
  {
   "cell_type": "code",
   "execution_count": null,
   "metadata": {
    "scrolled": true
   },
   "outputs": [],
   "source": []
  },
  {
   "cell_type": "markdown",
   "metadata": {},
   "source": [
    "Die nächste Frage ist: Wie vergleichen wir diese Kurse? Was sagt es aus, wenn eine Währung an einem bestimmten Tag zu 0,1976 USD gehandelt wurde und eine andere zu 18,66 USD?"
   ]
  },
  {
   "cell_type": "markdown",
   "metadata": {
    "collapsed": true
   },
   "source": [
    "### Vergleichbarkeit herstellen"
   ]
  },
  {
   "cell_type": "markdown",
   "metadata": {},
   "source": [
    "Diverse Dinge würden sich hier anbieten:\n",
    "- zB `pct_change()` um die Veränderungen in den Kursen zu analysieren\n",
    "- oder eine indexierte Zeitreihe, die an einem bestimmten Tag bei 100 beginnt\n",
    "\n",
    "Wir wählen die zweite Variante. Und speichern dazu die erste Zeile separat ab."
   ]
  },
  {
   "cell_type": "code",
   "execution_count": null,
   "metadata": {},
   "outputs": [],
   "source": []
  },
  {
   "cell_type": "markdown",
   "metadata": {},
   "source": [
    "Dann teilen wir jede einzelne Zeile im Dataframe durch die erste Zeile. Und speichern als neues DF ab."
   ]
  },
  {
   "cell_type": "code",
   "execution_count": null,
   "metadata": {},
   "outputs": [],
   "source": []
  },
  {
   "cell_type": "markdown",
   "metadata": {},
   "source": [
    "Das neue Dataframe müsste nun indexiert auf 100 sein: Alle Währungen starten am gleichen Punkt.\n",
    "\n",
    "Stimmt das wirklich? Schauen Sie sich die ersten fünf Zeilen an, um sicher zu sein..."
   ]
  },
  {
   "cell_type": "code",
   "execution_count": null,
   "metadata": {},
   "outputs": [],
   "source": []
  },
  {
   "cell_type": "markdown",
   "metadata": {},
   "source": [
    "### Auswertung"
   ]
  },
  {
   "cell_type": "markdown",
   "metadata": {},
   "source": [
    "Anhand der letzten Reihe können wir ablesen, wie viel eine Währung in den 366 Tagen an Wert gewonnen oder verloren hat.\n",
    "\n",
    "Zeigen Sie die letzte Reihe an und speichern sie in einer neuen Series."
   ]
  },
  {
   "cell_type": "code",
   "execution_count": null,
   "metadata": {},
   "outputs": [],
   "source": []
  },
  {
   "cell_type": "markdown",
   "metadata": {},
   "source": [
    "Welche zehn Kryptowährungen haben am meisten Wert gewonnen?"
   ]
  },
  {
   "cell_type": "code",
   "execution_count": null,
   "metadata": {},
   "outputs": [],
   "source": []
  },
  {
   "cell_type": "markdown",
   "metadata": {},
   "source": [
    "Welche haben am meisten Wert verloren?"
   ]
  },
  {
   "cell_type": "code",
   "execution_count": null,
   "metadata": {},
   "outputs": [],
   "source": []
  },
  {
   "cell_type": "markdown",
   "metadata": {},
   "source": [
    "### Plots"
   ]
  },
  {
   "cell_type": "markdown",
   "metadata": {},
   "source": [
    "Erstellen Sie einen einfachen Linienplot mit den relativen Kursen aller Währungen (Start bei 100)."
   ]
  },
  {
   "cell_type": "code",
   "execution_count": null,
   "metadata": {},
   "outputs": [],
   "source": []
  },
  {
   "cell_type": "markdown",
   "metadata": {},
   "source": [
    "Wow, das sind ziemlich viele Linien! Beschränken wir uns mal auf zehn Kryptowährungen statt hundert.\n",
    "\n",
    "Wir finden dazu eine Liste, die wir praktischerweise von unserem Scraper noch auf die Seite gelegt haben...\n",
    "\n",
    "... sie ist gespeichert unter: `dataprojects/Krypto/currencies.csv`."
   ]
  },
  {
   "cell_type": "markdown",
   "metadata": {},
   "source": [
    "Laden Sie die Datei und zeigen Sie die ersten zehn Zeilen an."
   ]
  },
  {
   "cell_type": "code",
   "execution_count": null,
   "metadata": {},
   "outputs": [],
   "source": []
  },
  {
   "cell_type": "code",
   "execution_count": null,
   "metadata": {},
   "outputs": [],
   "source": []
  },
  {
   "cell_type": "markdown",
   "metadata": {},
   "source": [
    "Speichern Sie die ersten zehn Einträge der Spalte \"name\" separat ab."
   ]
  },
  {
   "cell_type": "code",
   "execution_count": null,
   "metadata": {},
   "outputs": [],
   "source": []
  },
  {
   "cell_type": "code",
   "execution_count": null,
   "metadata": {},
   "outputs": [],
   "source": []
  },
  {
   "cell_type": "markdown",
   "metadata": {},
   "source": [
    "Sie können die Spalten im Dataframe mit den relativen Kursen nun anhand dieser Liste filtern."
   ]
  },
  {
   "cell_type": "code",
   "execution_count": null,
   "metadata": {},
   "outputs": [],
   "source": []
  },
  {
   "cell_type": "markdown",
   "metadata": {},
   "source": [
    "Plotten Sie nun ausschliesslich die Entwicklung der zehn ausgewählten Währungen."
   ]
  },
  {
   "cell_type": "code",
   "execution_count": null,
   "metadata": {},
   "outputs": [],
   "source": []
  },
  {
   "cell_type": "markdown",
   "metadata": {},
   "source": [
    "Was fällt Ihnen auf?"
   ]
  },
  {
   "cell_type": "code",
   "execution_count": null,
   "metadata": {},
   "outputs": [],
   "source": [
    "# "
   ]
  },
  {
   "cell_type": "code",
   "execution_count": null,
   "metadata": {},
   "outputs": [],
   "source": []
  },
  {
   "cell_type": "code",
   "execution_count": null,
   "metadata": {},
   "outputs": [],
   "source": []
  },
  {
   "cell_type": "code",
   "execution_count": null,
   "metadata": {},
   "outputs": [],
   "source": []
  },
  {
   "cell_type": "code",
   "execution_count": null,
   "metadata": {},
   "outputs": [],
   "source": []
  },
  {
   "cell_type": "code",
   "execution_count": null,
   "metadata": {},
   "outputs": [],
   "source": []
  },
  {
   "cell_type": "markdown",
   "metadata": {
    "collapsed": true
   },
   "source": [
    "# Plotting Level 4"
   ]
  },
  {
   "cell_type": "markdown",
   "metadata": {},
   "source": [
    "**Hier geht es wieder gemütlicher zu und her - Sie können sich durchklicken und müssen nichts programmieren.**"
   ]
  },
  {
   "cell_type": "markdown",
   "metadata": {
    "collapsed": true
   },
   "source": [
    "Inhalt dieser Plotting-Lektion:\n",
    "\n",
    "- Wir lernen, wie \"Small Multiples\" geht\n",
    "- Wir sehen, wie man die matplotlib-Funktionen direkt benutzen kann."
   ]
  },
  {
   "cell_type": "markdown",
   "metadata": {},
   "source": [
    "Dazu importieren wir erstmal ein paar Libraries..."
   ]
  },
  {
   "cell_type": "code",
   "execution_count": null,
   "metadata": {},
   "outputs": [],
   "source": [
    "import matplotlib.pyplot as plt"
   ]
  },
  {
   "cell_type": "code",
   "execution_count": null,
   "metadata": {},
   "outputs": [],
   "source": [
    "import matplotlib.dates as mdates\n",
    "import matplotlib.ticker as ticker"
   ]
  },
  {
   "cell_type": "markdown",
   "metadata": {},
   "source": [
    "... und laden eine Datei, welche das Ergebnis der bisherigen Übung enthält (die relativen Kurse aller Währungen)."
   ]
  },
  {
   "cell_type": "code",
   "execution_count": null,
   "metadata": {},
   "outputs": [],
   "source": [
    "# df_pivoted_100.to_csv(path + 'Close_indexed_to_100.csv')"
   ]
  },
  {
   "cell_type": "code",
   "execution_count": null,
   "metadata": {},
   "outputs": [],
   "source": [
    "df_relative = pd.read_csv(path + 'Close_indexed_to_100.csv', index_col=0)\n",
    "df_relative.index = pd.to_datetime(df_relative.index)"
   ]
  },
  {
   "cell_type": "code",
   "execution_count": null,
   "metadata": {},
   "outputs": [],
   "source": []
  },
  {
   "cell_type": "markdown",
   "metadata": {},
   "source": [
    "### Ein Plot"
   ]
  },
  {
   "cell_type": "markdown",
   "metadata": {},
   "source": [
    "Starten wir zuerst mal mit einem Plots: Bitcoin.\n",
    "\n",
    "Technisch gesehen besteht jede Matplotlib-/Pandas-Grafik aus zwei Dingen:\n",
    "1. Eine \"figure\", also eine Abbildung, gewissermassen das Blatt Papier\n",
    "1. Ein \"subplot\", also der einzelne Plot selbst, pro \"Papier\" können es auch mehrere sein"
   ]
  },
  {
   "cell_type": "code",
   "execution_count": null,
   "metadata": {},
   "outputs": [],
   "source": [
    "# Wir erstellen beide Dinge in einem Atemzug: figure und subplot\n",
    "fig, ax = plt.subplots(figsize=(10,6))\n",
    "\n",
    "# Und füllen den Plot jetzt mit Inhalt:\n",
    "df_relative['Bitcoin'].plot(title=\"Bitcoin\", ax=ax)"
   ]
  },
  {
   "cell_type": "markdown",
   "metadata": {},
   "source": [
    "### Zwei Plots"
   ]
  },
  {
   "cell_type": "markdown",
   "metadata": {},
   "source": [
    "Als nächstes Plotten wir zwei Währungen auf derselben Figure: Bitcoin und Ethereum.\n",
    "\n",
    "Wir müssen uns dazu erneut zwei Dinge basteln:\n",
    "1. Eine \"figure\", also eine Abbildung\n",
    "1. Diverse \"subplots\" für die jeweiligen Währungen\n",
    "\n",
    "Dazu formatieren wir jetzt die x-Achse etwas speziell."
   ]
  },
  {
   "cell_type": "code",
   "execution_count": null,
   "metadata": {},
   "outputs": [],
   "source": [
    "# Zuerst kreieren wir nur die Figure\n",
    "fig = plt.figure(figsize=(12,3))\n",
    "\n",
    "# Danach die einzelnen Subplots\n",
    "ax1 = fig.add_subplot(1, 2, 1) # total 1 Zeile, total 2 Spalten, Subplot Nr. 1\n",
    "ax2 = fig.add_subplot(1, 2, 2) # total 1 Zeile, total 2 Spalten, Subplot Nr. 2\n",
    "\n",
    "# Und schliesslich füllen wir die Subplots mit Inhalt\n",
    "df_relative['Bitcoin'].plot(title=\"Bitcoin\", ax=ax1)\n",
    "df_relative['Ethereum'].plot(title=\"Ethereum\", ax=ax2)\n",
    "\n",
    "# Hier formatieren wir die x-Achse für Plot 1\n",
    "ax1.xaxis.set_major_locator(mdates.MonthLocator())\n",
    "ax1.xaxis.set_major_formatter(mdates.DateFormatter('%m'))\n",
    "ax1.xaxis.set_minor_locator(ticker.NullLocator())\n",
    "\n",
    "# Hier formatieren wir die x-Achse für Plot 2\n",
    "ax2.xaxis.set_major_locator(mdates.MonthLocator())\n",
    "ax2.xaxis.set_major_formatter(mdates.DateFormatter('%m'))\n",
    "ax2.xaxis.set_minor_locator(ticker.NullLocator())"
   ]
  },
  {
   "cell_type": "markdown",
   "metadata": {},
   "source": [
    "Einige Angaben dazu, wie man Zeitachsen formatieren kann, gibt es hier:\n",
    "- TickLocators: https://matplotlib.org/examples/ticks_and_spines/tick-locators.html\n",
    "- TickFormatters: https://matplotlib.org/gallery/ticks_and_spines/tick-formatters.html"
   ]
  },
  {
   "cell_type": "markdown",
   "metadata": {
    "collapsed": true
   },
   "source": [
    "### Sehr viele Plots"
   ]
  },
  {
   "cell_type": "markdown",
   "metadata": {},
   "source": [
    "Nun plotten wir sämtliche Währungen, die keine \"NaN\"-Werte enthalten, auf einmal.\n",
    "\n",
    "Dazu isolieren wir erst kurz die letzte Zeile."
   ]
  },
  {
   "cell_type": "code",
   "execution_count": null,
   "metadata": {},
   "outputs": [],
   "source": [
    "s_last = df_relative.iloc[-1]"
   ]
  },
  {
   "cell_type": "markdown",
   "metadata": {},
   "source": [
    "Wie viele Währungen sind nicht \"NaN\"?"
   ]
  },
  {
   "cell_type": "code",
   "execution_count": null,
   "metadata": {},
   "outputs": [],
   "source": [
    "anzahl_charts = s_last.notnull().sum()\n",
    "anzahl_charts"
   ]
  },
  {
   "cell_type": "markdown",
   "metadata": {},
   "source": [
    "Wir sortieren unsere Liste der Währungen anhand der letzten Zeile etwas:"
   ]
  },
  {
   "cell_type": "code",
   "execution_count": null,
   "metadata": {},
   "outputs": [],
   "source": [
    "sortierte_waehrungen = s_last[s_last.notnull()].sort_values(ascending=False)\n",
    "sortierte_waehrungen.head(2)"
   ]
  },
  {
   "cell_type": "markdown",
   "metadata": {},
   "source": [
    "Und wiederholen dann wiederum dasselbe Vorgehen wie vorher."
   ]
  },
  {
   "cell_type": "code",
   "execution_count": null,
   "metadata": {},
   "outputs": [],
   "source": [
    "# Eine Abbildung, die gross genug ist\n",
    "fig = plt.figure(figsize=(15,18))\n",
    "\n",
    "# Und nun, für jede einzelne Währung einen Subplot:\n",
    "for i, waehrung in enumerate(sortierte_waehrungen.index):\n",
    "    \n",
    "    # einen Subplot kreieren ... ()\n",
    "    ax = fig.add_subplot(11, 8, i + 1)\n",
    "\n",
    "    # ... und mit Inhalt füllen\n",
    "    df_pivoted_100[waehrung].plot(title=waehrung, ax=ax)\n",
    "    \n",
    "    # Auf Ticks verzichten wir hier ganz\n",
    "    ax.xaxis.set_major_locator(ticker.NullLocator())\n",
    "    ax.xaxis.set_minor_locator(ticker.NullLocator())"
   ]
  },
  {
   "cell_type": "markdown",
   "metadata": {},
   "source": [
    "Falls wir zusätzlich noch wollen, dass jeder Plot dieselbe y-Achse hat:"
   ]
  },
  {
   "cell_type": "code",
   "execution_count": null,
   "metadata": {},
   "outputs": [],
   "source": [
    "# Eine Abbildung, die gross genug ist\n",
    "fig = plt.figure(figsize=(15,18))\n",
    "\n",
    "# Und nun, für jede einzelne Währung:\n",
    "for i, waehrung in enumerate(sortierte_waehrungen.index):\n",
    "    \n",
    "    # einen Subplot kreieren ...\n",
    "    ax = fig.add_subplot(11, 8, i + 1)\n",
    "\n",
    "    # ... und mit Inhalt füllen\n",
    "    df_pivoted_100[waehrung].plot(title=waehrung, ax=ax)\n",
    "    \n",
    "    # Auf Ticks verzichten wir hier ganz\n",
    "    ax.xaxis.set_major_locator(ticker.NullLocator())\n",
    "    ax.xaxis.set_minor_locator(ticker.NullLocator())\n",
    "    \n",
    "    # Hier setzen wir eine einheitliche y-Achse (und schalten sie aus)\n",
    "    ax.set_ylim([0, 2500])\n",
    "    ax.yaxis.set_major_locator(ticker.NullLocator())"
   ]
  },
  {
   "cell_type": "markdown",
   "metadata": {},
   "source": [
    "### Aber es geht auch einfacher..."
   ]
  },
  {
   "cell_type": "markdown",
   "metadata": {},
   "source": [
    "Ha! Nachdem wir nun alles Manuell zusammengebastelt haben, mit Matplotlib, hier die gute Nachricht:\n",
    "\n",
    "*Wir können das mit wenigen Codezeilen auch direkt aus der Pandas-Plot()-Funktion haben :-)*\n",
    "\n",
    "Die entscheidenden Parameter in der `plot()`-Funktion sind hier:\n",
    "- `subplots=True` (zeichnet small multiples statt alles nur auf einem Chart)\n",
    "- `sharey=True` (alle Subplots sollen dieselbe y-Achse verwenden)"
   ]
  },
  {
   "cell_type": "code",
   "execution_count": null,
   "metadata": {
    "scrolled": false
   },
   "outputs": [],
   "source": [
    "axes = df_pivoted_100[sortierte_waehrungen.index].plot(subplots=True,layout=(11, 8), sharey=True, figsize=(15,18))\n",
    "\n",
    "axes[0,0].xaxis.set_major_locator(ticker.NullLocator())\n",
    "axes[0,0].xaxis.set_minor_locator(ticker.NullLocator())"
   ]
  },
  {
   "cell_type": "code",
   "execution_count": null,
   "metadata": {},
   "outputs": [],
   "source": []
  },
  {
   "cell_type": "code",
   "execution_count": null,
   "metadata": {},
   "outputs": [],
   "source": []
  },
  {
   "cell_type": "code",
   "execution_count": null,
   "metadata": {},
   "outputs": [],
   "source": []
  },
  {
   "cell_type": "code",
   "execution_count": null,
   "metadata": {},
   "outputs": [],
   "source": []
  },
  {
   "cell_type": "code",
   "execution_count": null,
   "metadata": {},
   "outputs": [],
   "source": []
  },
  {
   "cell_type": "markdown",
   "metadata": {},
   "source": [
    "# Übung"
   ]
  },
  {
   "cell_type": "markdown",
   "metadata": {},
   "source": [
    "**In dieser letzten Sektion haben Sie nochmals Gelegenheit, alles zu üben – Daten arrangieren, analysieren, plotten**"
   ]
  },
  {
   "cell_type": "markdown",
   "metadata": {
    "collapsed": true
   },
   "source": [
    "Hier schauen wir uns nicht mehr die Handelskurse, sondern die Handelsvolumen an! Also: Wie viel von den einzelnen Kryptowährungen an einem bestimmten Tag gekfauft und verkauft wurde (gemessen in USD)."
   ]
  },
  {
   "cell_type": "markdown",
   "metadata": {},
   "source": [
    "Schauen Sie sich nochmals das Dataframe `df_all` an, das wir im Verlauf des Notebooks erstellt haben - es enthält alle Informationen, die wir brauchen, ist aber noch relativ unstrukturiert."
   ]
  },
  {
   "cell_type": "code",
   "execution_count": null,
   "metadata": {},
   "outputs": [],
   "source": [
    "df_all.head(2)"
   ]
  },
  {
   "cell_type": "markdown",
   "metadata": {
    "collapsed": true
   },
   "source": [
    "Welche Spalte interessiert uns? Müssen wir noch etwas daran machen?"
   ]
  },
  {
   "cell_type": "markdown",
   "metadata": {},
   "source": [
    "### Daten arrangieren"
   ]
  },
  {
   "cell_type": "markdown",
   "metadata": {},
   "source": [
    "Unternehmen Sie die nötigen Schritte, um mit der Spalte arbeiten zu können. Sie sollten am Ende eine Spalte haben, die nicht mehr als Object, sondern als Float formatiert ist.\n",
    "\n",
    "Tipp: Speichern Sie alle Modifikationen in einer neuen Spalte ab, damit das Original unverändert bleibt."
   ]
  },
  {
   "cell_type": "code",
   "execution_count": null,
   "metadata": {},
   "outputs": [],
   "source": []
  },
  {
   "cell_type": "code",
   "execution_count": null,
   "metadata": {},
   "outputs": [],
   "source": []
  },
  {
   "cell_type": "code",
   "execution_count": null,
   "metadata": {},
   "outputs": [],
   "source": []
  },
  {
   "cell_type": "markdown",
   "metadata": {
    "collapsed": true
   },
   "source": [
    "Nun wollen wir die Daten umgliedern:\n",
    "- Für jedes Datum wollen wir eine Zeile\n",
    "- Für jede Kryptowährung eine Spalte\n",
    "- Wir interessieren uns für die Handelsvolumen"
   ]
  },
  {
   "cell_type": "code",
   "execution_count": null,
   "metadata": {},
   "outputs": [],
   "source": []
  },
  {
   "cell_type": "code",
   "execution_count": null,
   "metadata": {},
   "outputs": [],
   "source": []
  },
  {
   "cell_type": "markdown",
   "metadata": {
    "collapsed": true
   },
   "source": [
    "Formatieren Sie die Werte in der Index-Spalte als Datetime-Objekte und sortieren Sie das Dataframe nach Datum."
   ]
  },
  {
   "cell_type": "code",
   "execution_count": null,
   "metadata": {},
   "outputs": [],
   "source": []
  },
  {
   "cell_type": "code",
   "execution_count": null,
   "metadata": {},
   "outputs": [],
   "source": []
  },
  {
   "cell_type": "code",
   "execution_count": null,
   "metadata": {},
   "outputs": [],
   "source": []
  },
  {
   "cell_type": "markdown",
   "metadata": {},
   "source": [
    "### Analyse"
   ]
  },
  {
   "cell_type": "markdown",
   "metadata": {},
   "source": [
    "Wir machen in dieser Sektion einige einfache Auswertungen und repetieren einige Befehle, u.a. aus dem Time Series Sheet."
   ]
  },
  {
   "cell_type": "markdown",
   "metadata": {},
   "source": [
    "**Top-10**: Welches waren, im Schnitt, die zehn meistgehandelten Währungen? Liste und Chart."
   ]
  },
  {
   "cell_type": "code",
   "execution_count": null,
   "metadata": {},
   "outputs": [],
   "source": []
  },
  {
   "cell_type": "code",
   "execution_count": null,
   "metadata": {},
   "outputs": [],
   "source": []
  },
  {
   "cell_type": "markdown",
   "metadata": {},
   "source": [
    "Welches waren die zehn Währungen, bei denen das Volumen in absoluten Zahlen am meisten geschwankt ist? (Standardabweichung)"
   ]
  },
  {
   "cell_type": "code",
   "execution_count": null,
   "metadata": {},
   "outputs": [],
   "source": []
  },
  {
   "cell_type": "markdown",
   "metadata": {},
   "source": [
    "Sieht so aus, als wären es dieselben zehn Währungen.\n",
    "\n",
    "Können wir angeben, welche von ihnen relativ die grössten Schwankungen hatten, also im Vergleich zum Handelsvolumen?"
   ]
  },
  {
   "cell_type": "code",
   "execution_count": null,
   "metadata": {},
   "outputs": [],
   "source": []
  },
  {
   "cell_type": "code",
   "execution_count": null,
   "metadata": {},
   "outputs": [],
   "source": []
  },
  {
   "cell_type": "code",
   "execution_count": null,
   "metadata": {},
   "outputs": [],
   "source": []
  },
  {
   "cell_type": "code",
   "execution_count": null,
   "metadata": {},
   "outputs": [],
   "source": []
  },
  {
   "cell_type": "markdown",
   "metadata": {},
   "source": [
    "**Bitcoin vs Ethereum**"
   ]
  },
  {
   "cell_type": "markdown",
   "metadata": {},
   "source": [
    "Erstellen Sie einen Chart mit dem wöchentlichen Umsatztotal von Bitcoin und Ethereum!\n",
    "\n",
    "Tipp: Resampling benutzen!"
   ]
  },
  {
   "cell_type": "code",
   "execution_count": null,
   "metadata": {},
   "outputs": [],
   "source": []
  },
  {
   "cell_type": "markdown",
   "metadata": {},
   "source": [
    "In welchem der letzten 12 Monate wurde insgesamt am meisten mit Bitcoin gehandelt? Mit Ethereum?"
   ]
  },
  {
   "cell_type": "code",
   "execution_count": null,
   "metadata": {},
   "outputs": [],
   "source": []
  },
  {
   "cell_type": "code",
   "execution_count": null,
   "metadata": {},
   "outputs": [],
   "source": []
  },
  {
   "cell_type": "markdown",
   "metadata": {},
   "source": [
    "Wie viel Bitcoin und Ethereum wird im Durchschnitt an den sieben Wochentagen gehandelt? Barchart."
   ]
  },
  {
   "cell_type": "code",
   "execution_count": null,
   "metadata": {},
   "outputs": [],
   "source": []
  },
  {
   "cell_type": "markdown",
   "metadata": {
    "collapsed": true
   },
   "source": [
    "**Small Multiples**: Hier erstellen wir einen Plot, ähnlich wie oben"
   ]
  },
  {
   "cell_type": "markdown",
   "metadata": {},
   "source": [
    "Kreieren Sie zuerst eine Liste von Währungen:\n",
    "- Alle Währungen, die am letzten Handelstag einen Eintrag haben\n",
    "- Sortiert in absteigender Reihenfolge nach dem Handelsvolumen\n",
    "- Wir wählen nur die zehn grössten aus"
   ]
  },
  {
   "cell_type": "code",
   "execution_count": null,
   "metadata": {},
   "outputs": [],
   "source": []
  },
  {
   "cell_type": "code",
   "execution_count": null,
   "metadata": {},
   "outputs": [],
   "source": []
  },
  {
   "cell_type": "code",
   "execution_count": null,
   "metadata": {},
   "outputs": [],
   "source": []
  },
  {
   "cell_type": "markdown",
   "metadata": {
    "collapsed": true
   },
   "source": [
    "Und jetzt: Small Multiples plotten! Überlegen Sie sich:\n",
    "- Wie viele Subplots braucht es, wie sollen sie angeordnet sein?\n",
    "- Wie gross muss die Abbildung insgesamt sein?\n",
    "- Was ist eine sinnvolle Einstellung für die Y-Achse?"
   ]
  },
  {
   "cell_type": "code",
   "execution_count": null,
   "metadata": {
    "scrolled": false
   },
   "outputs": [],
   "source": []
  },
  {
   "cell_type": "markdown",
   "metadata": {
    "collapsed": true
   },
   "source": [
    "Alternative syntax dafür:"
   ]
  },
  {
   "cell_type": "code",
   "execution_count": null,
   "metadata": {},
   "outputs": [],
   "source": []
  },
  {
   "cell_type": "code",
   "execution_count": null,
   "metadata": {},
   "outputs": [],
   "source": []
  }
 ],
 "metadata": {
  "kernelspec": {
   "display_name": "Python 3",
   "language": "python",
   "name": "python3"
  },
  "language_info": {
   "codemirror_mode": {
    "name": "ipython",
    "version": 3
   },
   "file_extension": ".py",
   "mimetype": "text/x-python",
   "name": "python",
   "nbconvert_exporter": "python",
   "pygments_lexer": "ipython3",
   "version": "3.7.4"
  }
 },
 "nbformat": 4,
 "nbformat_minor": 2
}
