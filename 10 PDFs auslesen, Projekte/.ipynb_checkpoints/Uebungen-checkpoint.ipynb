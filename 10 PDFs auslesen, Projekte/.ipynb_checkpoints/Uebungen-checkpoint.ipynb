{
 "cells": [
  {
   "cell_type": "code",
   "execution_count": null,
   "metadata": {},
   "outputs": [
    {
     "name": "stdout",
     "output_type": "stream",
     "text": [
      "Uninstalling xlrd-0.7.1:\r\n",
      "  Would remove:\r\n",
      "    /usr/local/bin/runxlrd.py\r\n",
      "    /usr/local/lib/python3.7/site-packages/xlrd-0.7.1.dist-info/*\r\n",
      "    /usr/local/lib/python3.7/site-packages/xlrd/*\r\n",
      "Proceed (y/n)? "
     ]
    }
   ],
   "source": [
    "!pip uninstall xlrd"
   ]
  },
  {
   "cell_type": "code",
   "execution_count": null,
   "metadata": {},
   "outputs": [],
   "source": []
  },
  {
   "cell_type": "code",
   "execution_count": null,
   "metadata": {},
   "outputs": [],
   "source": [
    "!pip install xlrd==1.2.0"
   ]
  },
  {
   "cell_type": "code",
   "execution_count": 22,
   "metadata": {},
   "outputs": [
    {
     "name": "stdout",
     "output_type": "stream",
     "text": [
      "Requirement already satisfied: textract in /usr/local/lib/python3.7/site-packages (1.6.3)\n",
      "Requirement already satisfied: six==1.12.0 in /usr/local/lib/python3.7/site-packages (from textract) (1.12.0)\n",
      "Requirement already satisfied: SpeechRecognition==3.8.1 in /usr/local/lib/python3.7/site-packages (from textract) (3.8.1)\n",
      "Requirement already satisfied: argcomplete==1.10.0 in /usr/local/lib/python3.7/site-packages (from textract) (1.10.0)\n",
      "Requirement already satisfied: docx2txt==0.8 in /usr/local/lib/python3.7/site-packages (from textract) (0.8)\n",
      "Requirement already satisfied: pdfminer.six==20181108 in /usr/local/lib/python3.7/site-packages (from textract) (20181108)\n",
      "Requirement already satisfied: EbookLib==0.17.1 in /usr/local/lib/python3.7/site-packages (from textract) (0.17.1)\n",
      "Requirement already satisfied: python-pptx==0.6.18 in /usr/local/lib/python3.7/site-packages (from textract) (0.6.18)\n",
      "Requirement already satisfied: beautifulsoup4==4.8.0 in /usr/local/lib/python3.7/site-packages (from textract) (4.8.0)\n",
      "Requirement already satisfied: chardet==3.0.4 in /usr/local/lib/python3.7/site-packages (from textract) (3.0.4)\n",
      "Requirement already satisfied: extract-msg==0.23.1 in /usr/local/lib/python3.7/site-packages (from textract) (0.23.1)\n",
      "Requirement already satisfied: xlrd==1.2.0 in /usr/local/lib/python3.7/site-packages (from textract) (1.2.0)\n",
      "Requirement already satisfied: sortedcontainers in /usr/local/lib/python3.7/site-packages (from pdfminer.six==20181108->textract) (2.1.0)\n",
      "Requirement already satisfied: pycryptodome in /usr/local/lib/python3.7/site-packages (from pdfminer.six==20181108->textract) (3.9.0)\n",
      "Requirement already satisfied: lxml in /usr/local/lib/python3.7/site-packages (from EbookLib==0.17.1->textract) (4.4.1)\n",
      "Requirement already satisfied: XlsxWriter>=0.5.7 in /usr/local/lib/python3.7/site-packages (from python-pptx==0.6.18->textract) (1.2.1)\n",
      "Requirement already satisfied: Pillow>=3.3.2 in /usr/local/lib/python3.7/site-packages (from python-pptx==0.6.18->textract) (6.1.0)\n",
      "Requirement already satisfied: soupsieve>=1.2 in /usr/local/lib/python3.7/site-packages (from beautifulsoup4==4.8.0->textract) (1.9.3)\n",
      "Requirement already satisfied: olefile==0.46 in /usr/local/lib/python3.7/site-packages (from extract-msg==0.23.1->textract) (0.46)\n",
      "Requirement already satisfied: imapclient==2.1.0 in /usr/local/lib/python3.7/site-packages (from extract-msg==0.23.1->textract) (2.1.0)\n",
      "Requirement already satisfied: tzlocal==1.5.1 in /usr/local/lib/python3.7/site-packages (from extract-msg==0.23.1->textract) (1.5.1)\n",
      "Requirement already satisfied: pytz in /usr/local/lib/python3.7/site-packages (from tzlocal==1.5.1->extract-msg==0.23.1->textract) (2019.2)\n"
     ]
    }
   ],
   "source": [
    "!pip install textract"
   ]
  },
  {
   "cell_type": "code",
   "execution_count": 23,
   "metadata": {},
   "outputs": [
    {
     "name": "stdout",
     "output_type": "stream",
     "text": [
      "Requirement already satisfied: camelot in /usr/local/lib/python3.7/site-packages (12.6.29)\n",
      "Requirement already satisfied: chardet>=1.0.1 in /usr/local/lib/python3.7/site-packages (from camelot) (3.0.4)\n",
      "Requirement already satisfied: Jinja2>=2.5.5 in /usr/local/lib/python3.7/site-packages (from camelot) (2.10.1)\n",
      "Collecting xlrd==0.7.1 (from camelot)\n",
      "Requirement already satisfied: SQLAlchemy<0.8.0,>=0.7.7 in /usr/local/lib/python3.7/site-packages (from camelot) (0.7.10)\n",
      "Requirement already satisfied: xlwt==0.7.2 in /usr/local/lib/python3.7/site-packages (from camelot) (0.7.2)\n",
      "Requirement already satisfied: Elixir>=0.7.1 in /usr/local/lib/python3.7/site-packages (from camelot) (0.7.1)\n",
      "Requirement already satisfied: sqlalchemy-migrate>=0.7.1 in /usr/local/lib/python3.7/site-packages (from camelot) (0.12.0)\n",
      "Requirement already satisfied: MarkupSafe>=0.23 in /usr/local/lib/python3.7/site-packages (from Jinja2>=2.5.5->camelot) (1.1.1)\n",
      "Requirement already satisfied: six>=1.7.0 in /usr/local/lib/python3.7/site-packages (from sqlalchemy-migrate>=0.7.1->camelot) (1.12.0)\n",
      "Requirement already satisfied: Tempita>=0.4 in /usr/local/lib/python3.7/site-packages (from sqlalchemy-migrate>=0.7.1->camelot) (0.5.2)\n",
      "Requirement already satisfied: sqlparse in /usr/local/lib/python3.7/site-packages (from sqlalchemy-migrate>=0.7.1->camelot) (0.3.0)\n",
      "Requirement already satisfied: decorator in /usr/local/lib/python3.7/site-packages (from sqlalchemy-migrate>=0.7.1->camelot) (4.4.0)\n",
      "Requirement already satisfied: pbr>=1.8 in /usr/local/lib/python3.7/site-packages (from sqlalchemy-migrate>=0.7.1->camelot) (5.4.3)\n",
      "\u001b[31mERROR: textract 1.6.3 has requirement xlrd==1.2.0, but you'll have xlrd 0.7.1 which is incompatible.\u001b[0m\n",
      "Installing collected packages: xlrd\n",
      "  Found existing installation: xlrd 1.2.0\n",
      "    Uninstalling xlrd-1.2.0:\n",
      "      Successfully uninstalled xlrd-1.2.0\n",
      "Successfully installed xlrd-0.7.1\n"
     ]
    }
   ],
   "source": [
    "!pip install camelot"
   ]
  },
  {
   "cell_type": "code",
   "execution_count": 12,
   "metadata": {},
   "outputs": [
    {
     "ename": "ModuleNotFoundError",
     "evalue": "No module named 'camelot'",
     "output_type": "error",
     "traceback": [
      "\u001b[0;31m---------------------------------------------------------------------------\u001b[0m",
      "\u001b[0;31mModuleNotFoundError\u001b[0m                       Traceback (most recent call last)",
      "\u001b[0;32m<ipython-input-12-679d8f55abf0>\u001b[0m in \u001b[0;36m<module>\u001b[0;34m\u001b[0m\n\u001b[0;32m----> 1\u001b[0;31m \u001b[0;32mimport\u001b[0m \u001b[0mcamelot\u001b[0m\u001b[0;34m\u001b[0m\u001b[0;34m\u001b[0m\u001b[0m\n\u001b[0m",
      "\u001b[0;31mModuleNotFoundError\u001b[0m: No module named 'camelot'"
     ]
    }
   ],
   "source": [
    "import camelot"
   ]
  },
  {
   "cell_type": "code",
   "execution_count": null,
   "metadata": {},
   "outputs": [],
   "source": [
    "tables = camelot.read_pdf (\"'https://www.police.be.ch/police/de/index/ueber-uns/kantonspolizei/statistik/Verkehrsstatistik.assetref/dam/documents/POM/Police/de/Statistik/Bericht_110%20ohne%20AB_AS%20Gemeinden-Stand%202018%20%28D%29.pdf', pages = \"1\"\")"
   ]
  }
 ],
 "metadata": {
  "kernelspec": {
   "display_name": "Python 3",
   "language": "python",
   "name": "python3"
  },
  "language_info": {
   "codemirror_mode": {
    "name": "ipython",
    "version": 3
   },
   "file_extension": ".py",
   "mimetype": "text/x-python",
   "name": "python",
   "nbconvert_exporter": "python",
   "pygments_lexer": "ipython3",
   "version": "3.7.3"
  }
 },
 "nbformat": 4,
 "nbformat_minor": 2
}
