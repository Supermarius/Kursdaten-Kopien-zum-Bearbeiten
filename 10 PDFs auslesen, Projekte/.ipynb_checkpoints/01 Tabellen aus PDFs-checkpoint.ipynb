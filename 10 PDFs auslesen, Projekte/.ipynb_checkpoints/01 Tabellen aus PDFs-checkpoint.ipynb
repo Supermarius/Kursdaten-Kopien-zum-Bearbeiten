{
 "cells": [
  {
   "cell_type": "code",
   "execution_count": null,
   "metadata": {},
   "outputs": [],
   "source": [
    "import camelot\n",
    "import tabula\n",
    "import pandas as pd"
   ]
  },
  {
   "cell_type": "markdown",
   "metadata": {},
   "source": [
    "### Die Dokumentation ist hier"
   ]
  },
  {
   "cell_type": "markdown",
   "metadata": {},
   "source": [
    "Hier ist die Dokumentation von [Camelot](https://camelot-py.readthedocs.io/en/master/)"
   ]
  },
  {
   "cell_type": "markdown",
   "metadata": {},
   "source": [
    "### Wir arbeiten mit den Unfällen, die Sandra interessieren"
   ]
  },
  {
   "cell_type": "code",
   "execution_count": null,
   "metadata": {},
   "outputs": [],
   "source": [
    "#Kein Resultat \n",
    "tables = camelot.read_pdf('https://www.police.be.ch/police/de/index/ueber-uns/kantonspolizei/statistik/Verkehrsstatistik.assetref/dam/documents/POM/Police/de/Statistik/Bericht_110%20ohne%20AB_AS%20Gemeinden-Stand%202018%20%28D%29.pdf', pages = \"1\") \n",
    "tables\n",
    "#Ansteuern können wir die Tabelle auch mit der url selber:\n",
    "#https://www.police.be.ch/police/de/index/ueber-uns/kantonspolizei/statistik/Verkehrsstatistik.assetref/dam/documents/POM/Police/de/Statistik/Bericht_110%20ohne%20AB_AS%20Gemeinden-Stand%202018%20%28D%29.pdf"
   ]
  },
  {
   "cell_type": "code",
   "execution_count": null,
   "metadata": {},
   "outputs": [],
   "source": [
    "#Kein Resultat > hinten flavor='lattice' einfügen > dann sucht er nach dem Rahmen einer Tabelle\n",
    "tables = camelot.read_pdf('https://www.police.be.ch/police/de/index/ueber-uns/kantonspolizei/statistik/Verkehrsstatistik.assetref/dam/documents/POM/Police/de/Statistik/Bericht_110%20ohne%20AB_AS%20Gemeinden-Stand%202018%20%28D%29.pdf', flavor='lattice', pages = \"1\") \n",
    "tables\n",
    "#funktioniert immer noch nicht > flavor=\"stream\", dan sucht er nach Buchstaben mit bestimmtem Abstand, um so Tabelle zu erkennen."
   ]
  },
  {
   "cell_type": "code",
   "execution_count": null,
   "metadata": {},
   "outputs": [],
   "source": [
    "#Resultat, hurrah!\n",
    "tables = camelot.read_pdf('https://www.police.be.ch/police/de/index/ueber-uns/kantonspolizei/statistik/Verkehrsstatistik.assetref/dam/documents/POM/Police/de/Statistik/Bericht_110%20ohne%20AB_AS%20Gemeinden-Stand%202018%20%28D%29.pdf', flavor='stream', pages = \"1\") \n",
    "tables"
   ]
  },
  {
   "cell_type": "code",
   "execution_count": null,
   "metadata": {},
   "outputs": [],
   "source": [
    "#hmm, Aber nur mit einer unvollständigen Tabelle :-/\n",
    "tables[0]\n",
    "# deshalb nutzen wir eine funktion, um das Ding imit dem Camelot-Befehl .df einen Pandas-DataFrame umzuwandeln:\n",
    "tables[0].df\n",
    "# immer noch nicht ganz vollständig"
   ]
  },
  {
   "cell_type": "code",
   "execution_count": null,
   "metadata": {},
   "outputs": [],
   "source": [
    "#Wir müssen dem Code sagen, wo er überall nachschauen muss. Nämlich auf der ganzen Seite. \n",
    "#Deshalb hinten in URL Standardzahlen für A4-Seite eingeben: table_areas=['0,842,595,0']\n",
    "#zusätzlich: pages=\"all\" statt \"1\", dann holt er alle Seiten\n",
    "tables_stream = camelot.read_pdf(\"https://www.police.be.ch/police/de/index/ueber-uns/kantonspolizei/statistik/Verkehrsstatistik.assetref/dam/documents/POM/Police/de/Statistik/Bericht_110%20ohne%20AB_AS%20Gemeinden-Stand%202018%20%28D%29.pdf\", flavor='stream', pages='all', table_areas=['0,842,595,0'])\n",
    "#Das Ergebnis ist eine Liste von Tabellen, die man wie jede Liste ansteuern kann:\n",
    "#zum Beispiel: tables_stream[0] (für die erste Tabelle)\n",
    "#Die zeigt es dann aber noch nicht sauber an, sondern erst, wenn wir wieder den Camelot-Befehl .df anwenden:\n",
    "#zum Beispiel: tables_stream[0].df"
   ]
  },
  {
   "cell_type": "markdown",
   "metadata": {},
   "source": [
    "## Datenbereinigung "
   ]
  },
  {
   "cell_type": "code",
   "execution_count": null,
   "metadata": {},
   "outputs": [],
   "source": [
    "# Nun müssen alle Tabelln zusammengeführt werden. Aber wie soll eine einzelne aussehen?\n",
    "test_df = tables_stream[3].df"
   ]
  },
  {
   "cell_type": "code",
   "execution_count": null,
   "metadata": {},
   "outputs": [],
   "source": [
    "#Ab der 8 Zeile, weil in den ersten nur Güsel drin ist\n",
    "data = test_df[9:]\n",
    "# Alerings fehlen nun noch die headers der Columns, deshalb!"
   ]
  },
  {
   "cell_type": "code",
   "execution_count": null,
   "metadata": {},
   "outputs": [],
   "source": [
    "headers = ['Gemeinde', 'Sachschaden', 'Personenschaden', 'Getötete', \n",
    "           'Schwerverletzte', 'Lebensbedrohlich Verletzte', \n",
    "           'Erheblich Verletzte', 'Leichtverletzte']"
   ]
  },
  {
   "cell_type": "code",
   "execution_count": null,
   "metadata": {},
   "outputs": [],
   "source": [
    "data.columns = headers\n",
    "# Dieser Befehl (Columnen umzubenennen) benötigt immer eine Liste. (Sogar wenn es nur um eine einzelne geht.)"
   ]
  },
  {
   "cell_type": "code",
   "execution_count": null,
   "metadata": {},
   "outputs": [],
   "source": [
    "data.head()"
   ]
  },
  {
   "cell_type": "markdown",
   "metadata": {},
   "source": [
    "### Und nun hängen wir alls zusammen"
   ]
  },
  {
   "cell_type": "code",
   "execution_count": null,
   "metadata": {},
   "outputs": [],
   "source": [
    "#eine leere df bauen\n",
    "ff = pd.DataFrame()\n",
    "headers = ['Gemeinde', 'Sachschaden', 'Personenschaden', 'Getötete', \n",
    "           'Schwerverletzte', 'Lebensbedrohlich Verletzte', \n",
    "           'Erheblich Verletzte', 'Leichtverletzte']\n",
    "\n",
    "#Und nun durch alles iterieren\n",
    "#https://pandas.pydata.org/pandas-docs/stable/user_guide/merging.html\n",
    "for number in range(0,8):\n",
    "    temp = tables_stream[number].df #\n",
    "    #hier schneiden wir die ersten 9 Zeilen weg, weil dort nur Müll drin ist:\n",
    "    temp = temp[9:]\n",
    "    temp.columns = headers\n",
    "    #frames ist eine Variabel für eine Liste, die beide Frames enthält, die im folgenden Schritt zusammengefügt werden.\n",
    "    frames = [ff, temp]\n",
    "    #jetzt kommt der Vereinigungsbefehl pd.concat(), der die beiden Frames zusammenklebt\n",
    "    ff = pd.concat(frames)\n",
    "    #man könnte das auch ohne Variable formulieren: ff = pd.concat([ff, temp])"
   ]
  },
  {
   "cell_type": "code",
   "execution_count": null,
   "metadata": {},
   "outputs": [],
   "source": [
    "ff.info()\n",
    "#Das ist ein Pandas-Befehl, der ein bisschen mehr zeigt als .dtypes"
   ]
  },
  {
   "cell_type": "code",
   "execution_count": null,
   "metadata": {},
   "outputs": [],
   "source": [
    "## Mit leeren Strings umgehen\n",
    "\n",
    "#Hier definiere ich meine eigene Funktion clean, die leeere Felder durch 0 ersetzt\n",
    "def clean(elem):\n",
    "    if elem == \"\":\n",
    "        return 0\n",
    "    else:\n",
    "        return elem\n",
    "    \n",
    "# jetzt kommt der .applymap-Befehl, der bedeutet: geh jedes Feld des Dataframes durch und mach dort was (hier: meine Funktion \"clean\") \n",
    "ff = ff.applymap(clean)"
   ]
  },
  {
   "cell_type": "code",
   "execution_count": null,
   "metadata": {},
   "outputs": [],
   "source": [
    "## Die Gemeinden zwischenzeitlich löschen und dann wieder reinnehmen, nachdem die gesamte Tabelle in Zahlen ungewandelt ist:\n",
    "#Ich speichere zunächst die Kolumne mit den Geindenamen in einer Varibel:\n",
    "gem = ff['Gemeinde'] \n",
    "\n",
    "#mit dem del lösche ich die gesamte Spalte mit den Gemeindenamen \n",
    "del ff['Gemeinde']\n",
    "ff = ff.astype(int)\n",
    "#Jetzt eränze ich die Tabelle wieder um die zwischengespeicherten Gemeindenamen \n",
    "ff['Gemeinde'] = gem\n",
    "\n",
    "# Jetzt mache ich eine Kopie der geputzten Tabelle, wobei ich die Kolumnen (per Headers-Liste) anders anordne.\n",
    "# Kopie, weil in der geputzten Tabelle die Gemeinden nun in der letzten Kolumne waren\n",
    "ff = ff[['Gemeinde', 'Sachschaden', 'Personenschaden', 'Getötete', \n",
    "           'Schwerverletzte', 'Lebensbedrohlich Verletzte', \n",
    "           'Erheblich Verletzte', 'Leichtverletzte']].copy() ##Reihenfolge"
   ]
  },
  {
   "cell_type": "code",
   "execution_count": null,
   "metadata": {},
   "outputs": [],
   "source": [
    "#index anpassen\n",
    "ff = ff.reset_index()\n",
    "del ff['index']"
   ]
  },
  {
   "cell_type": "code",
   "execution_count": null,
   "metadata": {},
   "outputs": [],
   "source": [
    "ff"
   ]
  },
  {
   "cell_type": "code",
   "execution_count": null,
   "metadata": {},
   "outputs": [],
   "source": [
    "ff.sort_values(by='Sachschaden', ascending=False)"
   ]
  }
 ],
 "metadata": {
  "kernelspec": {
   "display_name": "Python 3",
   "language": "python",
   "name": "python3"
  },
  "language_info": {
   "codemirror_mode": {
    "name": "ipython",
    "version": 3
   },
   "file_extension": ".py",
   "mimetype": "text/x-python",
   "name": "python",
   "nbconvert_exporter": "python",
   "pygments_lexer": "ipython3",
   "version": "3.7.3"
  }
 },
 "nbformat": 4,
 "nbformat_minor": 2
}
