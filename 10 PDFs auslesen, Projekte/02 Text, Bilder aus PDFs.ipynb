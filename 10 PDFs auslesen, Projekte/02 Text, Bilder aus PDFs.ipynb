{
 "cells": [
  {
   "cell_type": "markdown",
   "metadata": {},
   "source": [
    "# Bereiten wir das Script vor"
   ]
  },
  {
   "cell_type": "code",
   "execution_count": 1,
   "metadata": {},
   "outputs": [],
   "source": [
    "#Imports\n",
    "import os #amcht Liste aus allen Dokumenten, die in einem Folder sind > nützlich, um files in Serie zu bearbeiten \n",
    "import tqdm #Fortschritt der Berechnung anzeign (für aufwendige Operationen)\n",
    "import textract # zieht Text aus PDFs\n",
    "import pandas as pd"
   ]
  },
  {
   "cell_type": "markdown",
   "metadata": {},
   "source": [
    "## Vorbereitung"
   ]
  },
  {
   "cell_type": "code",
   "execution_count": 2,
   "metadata": {},
   "outputs": [],
   "source": [
    "#Als Vorbereitung, machen aus dem Inhalt des Folders eine Liste. Es handelt sich hierbei\n",
    "#um eine Liste aller pdfs im Ordner pdfs. Es sind die Swissmedic Recalls (#ImplantFiles)\n",
    "pdfs = os.listdir('pdfs')\n",
    "#os.listdir() macht eine Liste der Files im Folder Folders, dessen Pfad in der Klammer() angegeben ist  "
   ]
  },
  {
   "cell_type": "code",
   "execution_count": 3,
   "metadata": {},
   "outputs": [
    {
     "data": {
      "text/plain": [
       "['Vk_20180514_49documents0.pdf',\n",
       " 'Vk_20180522_02documents1.pdf',\n",
       " 'Vk_20180413_17documents3.pdf',\n",
       " 'Vk_20180525_03documents1.pdf',\n",
       " 'Vk_20180529_02documents2.pdf',\n",
       " 'Vk_20180517_02documents2.pdf',\n",
       " 'Vk_20180517_02documents3.pdf',\n",
       " 'Vk_20180525_03documents0.pdf',\n",
       " 'Vk_20180413_17documents2.pdf',\n",
       " 'Vk_20180522_02documents0.pdf']"
      ]
     },
     "execution_count": 3,
     "metadata": {},
     "output_type": "execute_result"
    }
   ],
   "source": [
    "#erste 10 Einträge der Liste anzeigen:\n",
    "pdfs[0:10]"
   ]
  },
  {
   "cell_type": "markdown",
   "metadata": {},
   "source": [
    "## Fortschritt anzeigen"
   ]
  },
  {
   "cell_type": "code",
   "execution_count": 4,
   "metadata": {},
   "outputs": [
    {
     "name": "stderr",
     "output_type": "stream",
     "text": [
      "100%|██████████| 10000000/10000000 [00:04<00:00, 2411300.30it/s]\n"
     ]
    }
   ],
   "source": [
    "#hier wird das Fortschritts-Anzeige-Tool tqdm geladen\n",
    "from tqdm import tqdm\n",
    "\n",
    "#wenn man dann tqdm an dieser Stelle in den Loop einbaut, zeigt er den Fortschritt an\n",
    "for i in tqdm(range(10000000)): #100000000000\n",
    "    elem = i"
   ]
  },
  {
   "cell_type": "markdown",
   "metadata": {},
   "source": [
    "## Ein File auslesen"
   ]
  },
  {
   "cell_type": "code",
   "execution_count": 5,
   "metadata": {},
   "outputs": [],
   "source": [
    "# textract: häufigster Befehl ist .process, in Klammer der Pfad zum zu verarbeitende File \n",
    "#(hier unter Verwendung der zuvor generierten PDF-Dateien-Liste, Pfad-Anfang + Datei[x])\n",
    "text = textract.process(\"pdfs/\"+pdfs[1]) \n",
    "#falls es nicht klappt, die Klammer  ergänzen: textract.process(\"pdfs/\"+pdfs[1], method='pdfminer', encoding='ISO-8859-1')\n",
    "#method='pdfminer' = nach Text suchen, 'tesseract' wäre Bildersuche\n",
    "#encoding='ISO-8859-1' = Französische Sonderzeichen wie é usw. richtig lesen, andere ISO im Netz"
   ]
  },
  {
   "cell_type": "code",
   "execution_count": 6,
   "metadata": {},
   "outputs": [
    {
     "data": {
      "text/plain": [
       "'b\"Schuchmann GmbH & Co. KG \\\\xc2\\\\xb7 D\\\\xc3\\\\xbctestra\\\\xc3\\\\x9fe 3 \\\\xc2\\\\xb7 49205 Hasbergen\\\\n\\\\nHasbergen, le 25/05/2018\\\\nInformation urgente relative \\\\xc3\\\\xa0 la s\\\\xc3\\\\xa9curit\\\\xc3\\\\xa9 \\\\xe2\\\\x80\\\\x93 Retrait/remplacement support de poign\\\\xc3\\\\xa9e\\\\nMALTE (T. 2-4), MALTE Outdoor (T. 2+3) et MARCY (T. 2+3)\\\\nMesdames, Messieurs,\\\\nnous avons pour principe de livrer des produits de qualit\\\\xc3\\\\xa9 sup\\\\xc3\\\\xa9rieure et donc conformes aux\\\\nexigences de qualit\\\\xc3\\\\xa9 de fabrication et de s\\\\xc3\\\\xa9curit\\\\xc3\\\\xa9 de production. C\\\\xe2\\\\x80\\\\x99est pourquoi nos produits\\\\nsont soumis en permanence \\\\xc3\\\\xa0 des tests effectu\\\\xc3\\\\xa9s en interne par notre entreprise mais \\\\xc3\\\\xa9galement par des laboratoires de contr\\\\xc3\\\\xb4le accr\\\\xc3\\\\xa9dit\\\\xc3\\\\xa9s selon les normes en vigueur.\\\\nCes tests simulent les sollicitations auxquelles les produits seront soumis plus tard et nous\\\\ndonnent, en tant que fabricant, l\\\\xe2\\\\x80\\\\x99assurance d\\\\xc3\\\\xa9\\\\xef\\\\xac\\\\x81nitive que nous pouvons les commercialiser.\\\\nMalheureusement, l\\\\xe2\\\\x80\\\\x99usage r\\\\xc3\\\\xa9el de nos d\\\\xc3\\\\xa9ambulateurs MALTE, MALTE Outdoor et MARCY a montr\\\\xc3\\\\xa9 que les sollicitations d\\\\xc3\\\\xa9passent en\\\\npartie celles de la simulation et qu\\\\xe2\\\\x80\\\\x99elles ont caus\\\\xc3\\\\xa9 la rupture d\\\\xe2\\\\x80\\\\x99un des\\\\ncomposants. Il s\\\\xe2\\\\x80\\\\x99agit du support de poign\\\\xc3\\\\xa9e qui \\\\xc3\\\\xa9tablit la jonction\\\\ncentrale entre la poign\\\\xc3\\\\xa9e et le cadre de base : la combinaison de la\\\\nqualit\\\\xc3\\\\xa9 du mat\\\\xc3\\\\xa9riau et du proc\\\\xc3\\\\xa9d\\\\xc3\\\\xa9 d\\\\xe2\\\\x80\\\\x99assemblage appliqu\\\\xc3\\\\xa9 n\\\\xe2\\\\x80\\\\x99a pas\\\\nr\\\\xc3\\\\xa9sist\\\\xc3\\\\xa9 aux pics de sollicitation qui se sont pr\\\\xc3\\\\xa9sent\\\\xc3\\\\xa9s (voir Fig. A).\\\\n\\\\nFig. A\\\\n\\\\nLes d\\\\xc3\\\\xa9g\\\\xc3\\\\xa2ts, ainsi que le risque \\\\xc3\\\\xa9lev\\\\xc3\\\\xa9 qui en r\\\\xc3\\\\xa9sulte pour l\\\\xe2\\\\x80\\\\x99utilisateur, nous ont engag\\\\xc3\\\\xa9s \\\\xc3\\\\xa0 effectuer un retrait ou un remplacement de la pi\\\\xc3\\\\xa8ce concern\\\\xc3\\\\xa9e sur les produits mentionn\\\\xc3\\\\xa9s.\\\\n\\\\xc3\\\\x80 cet effet, nous avons d\\\\xc3\\\\xa9velopp\\\\xc3\\\\xa9 une nouvelle poign\\\\xc3\\\\xa9e fabriqu\\\\xc3\\\\xa9e\\\\nselon un proc\\\\xc3\\\\xa9d\\\\xc3\\\\xa9 d\\\\xe2\\\\x80\\\\x99assemblage sp\\\\xc3\\\\xa9cial. Des pro\\\\xef\\\\xac\\\\x81l\\\\xc3\\\\xa9s encore mieux\\\\nrenforc\\\\xc3\\\\xa9s et un usinage ad\\\\xc3\\\\xa9quat garantissent d\\\\xc3\\\\xa8s maintenant une\\\\naugmentation \\\\xc3\\\\xa0 200 pour cents de la stabilit\\\\xc3\\\\xa9. La cons\\\\xc3\\\\xa9quence d\\\\xe2\\\\x80\\\\x99un\\\\nexc\\\\xc3\\\\xa9dent de sollicitation ne serait donc plus une rupture, mais seulement une d\\\\xc3\\\\xa9formation (voir Fig. B).\\\\nNous joignons \\\\xc3\\\\xa0 la pr\\\\xc3\\\\xa9sente une vue d\\\\xe2\\\\x80\\\\x99ensemble des produits con- Fig. B\\\\ncern\\\\xc3\\\\xa9s par ce retrait / remplacement et qui ont \\\\xc3\\\\xa9t\\\\xc3\\\\xa9 distribu\\\\xc3\\\\xa9s par votre entreprise.\\\\n\\\\nSchuchmann GmbH & Co. KG\\\\nD\\\\xc3\\\\xbctestra\\\\xc3\\\\x9fe 3 \\\\xc2\\\\xb7 49205 Hasbergen\\\\nTel. +49 (0) 5405 / 909 - 0 \\\\xc2\\\\xb7 Fax +49 (0) 5405 / 909 - 109\\\\ninfo@schuchmann-reha.de \\\\xc2\\\\xb7 www.schuchmann-reha.de\\\\nSitz Hasbergen \\\\xc2\\\\xb7 Amtsgericht Osnabr\\\\xc3\\\\xbcck HR A 200125\\\\nUSt-IdNr.: DE 152362451 \\\\xc2\\\\xb7 FA Osnabr\\\\xc3\\\\xbcck Land\\\\n\\\\nPers\\\\xc3\\\\xb6nlich haftende Gesellschafterin:\\\\nSchuchmann Verwaltungs GmbH\\\\nSitz Hasbergen\\\\nAmtsgericht Osnabr\\\\xc3\\\\xbcck HR B 200041\\\\nGesch\\\\xc3\\\\xa4ftsf\\\\xc3\\\\xbchrer: Miriam Schuchmann \\\\xc2\\\\xb7\\\\nTorsten Schuchmann \\\\xc2\\\\xb7 Lars Siebert\\\\n\\\\nSparkasse Osnabr\\\\xc3\\\\xbcck\\\\nBIC: NOLADE22XXX\\\\nIBAN: DE31 2655 0105 0000 6163 59\\\\nVolksbank Osnabr\\\\xc3\\\\xbcck\\\\nBIC: GENODEF1OSV\\\\nIBAN: DE60 2659 0025 1183 1189 00\\\\n\\\\n\\\\x0cSchuchmann GmbH & Co. KG \\\\xc2\\\\xb7 D\\\\xc3\\\\xbctestra\\\\xc3\\\\x9fe 3 \\\\xc2\\\\xb7 49205 Hasbergen\\\\n\\\\nVeuillez remplacer les poign\\\\xc3\\\\xa9es sur les produits correspondants le plus rapidement possible,\\\\nau plus tard d\\\\xe2\\\\x80\\\\x99ici le 30/08/2018. Vous pouvez commander facilement et gratuitement les pi\\\\xc3\\\\xa8ces\\\\nrequises pour le remplacement \\\\xc3\\\\xa0 l\\\\xe2\\\\x80\\\\x99aide du formulaire de commande ci-joint. Le remplacement\\\\ndure seulement env. 10 minutes sur les d\\\\xc3\\\\xa9ambulateurs sans frein fonctionnel ou env. 30 minutes sur les mod\\\\xc3\\\\xa8les avec frein fonctionnel. Une notice de montage ad\\\\xc3\\\\xa9quate sera jointe \\\\xc3\\\\xa0 la\\\\nlivraison des composants.\\\\n\\\\xc3\\\\x89tant tenus de surveiller en cons\\\\xc3\\\\xa9quence le retrait / remplacement, nous vous prions \\\\xc3\\\\xa9galement de bien vouloir nous communiquer sur ce m\\\\xc3\\\\xaame formulaire l\\\\xe2\\\\x80\\\\x99\\\\xc3\\\\xa9tat du produit et, le cas\\\\n\\\\xc3\\\\xa9ch\\\\xc3\\\\xa9ant, la date de la transformation du produit.\\\\nEn vous remerciant par avance pour votre soutien, nous tenons \\\\xc3\\\\xa0 vous pr\\\\xc3\\\\xa9senter nos excuses\\\\npour les complications survenues malgr\\\\xc3\\\\xa9 toutes les mesures qui ont \\\\xc3\\\\xa9t\\\\xc3\\\\xa9 prises \\\\xc3\\\\xa0 l\\\\xe2\\\\x80\\\\x99avance pour\\\\nles \\\\xc3\\\\xa9viter.\\\\nIl va de soi que, nous sommes pr\\\\xc3\\\\xaats \\\\xc3\\\\xa0 r\\\\xc3\\\\xa9pondre \\\\xc3\\\\xa0 toutes vos questions. Notre personnel de\\\\nvente ainsi que notre service int\\\\xc3\\\\xa9rieur se tiennent \\\\xc3\\\\xa0 votre disposition. Pour la coordination du\\\\nremplacement, veuillez vous adresser \\\\xc3\\\\xa0 Monsieur Torsten Schuchmann :\\\\n\\\\xe2\\\\x80\\\\xa2\\\\n\\\\xe2\\\\x80\\\\xa2\\\\n\\\\nT\\\\xc3\\\\xa9l. : +49 (0) 54 05 / 90 9-0\\\\nou par e-mail : QM@schuchmann-reha.de.\\\\n\\\\nCordialement\\\\nL\\'\\\\xc3\\\\xa9quipe Schuchmann\\\\n\\\\nSchuchmann GmbH & Co. KG\\\\nD\\\\xc3\\\\xbctestra\\\\xc3\\\\x9fe 3 \\\\xc2\\\\xb7 49205 Hasbergen\\\\nTel. +49 (0) 5405 / 909 - 0 \\\\xc2\\\\xb7 Fax +49 (0) 5405 / 909 - 109\\\\ninfo@schuchmann-reha.de \\\\xc2\\\\xb7 www.schuchmann-reha.de\\\\nSitz Hasbergen \\\\xc2\\\\xb7 Amtsgericht Osnabr\\\\xc3\\\\xbcck HR A 200125\\\\nUSt-IdNr.: DE 152362451 \\\\xc2\\\\xb7 FA Osnabr\\\\xc3\\\\xbcck Land\\\\n\\\\nPers\\\\xc3\\\\xb6nlich haftende Gesellschafterin:\\\\nSchuchmann Verwaltungs GmbH\\\\nSitz Hasbergen\\\\nAmtsgericht Osnabr\\\\xc3\\\\xbcck HR B 200041\\\\nGesch\\\\xc3\\\\xa4ftsf\\\\xc3\\\\xbchrer: Miriam Schuchmann \\\\xc2\\\\xb7\\\\nTorsten Schuchmann \\\\xc2\\\\xb7 Lars Siebert\\\\n\\\\nSparkasse Osnabr\\\\xc3\\\\xbcck\\\\nBIC: NOLADE22XXX\\\\nIBAN: DE31 2655 0105 0000 6163 59\\\\nVolksbank Osnabr\\\\xc3\\\\xbcck\\\\nBIC: GENODEF1OSV\\\\nIBAN: DE60 2659 0025 1183 1189 00\\\\n\\\\n\\\\x0c\"'"
      ]
     },
     "execution_count": 6,
     "metadata": {},
     "output_type": "execute_result"
    }
   ],
   "source": [
    "#nweil das Resultat den Typ \"Bite\" hat, muss mand das Format in String umwandeln – und schon ist es lesbar:\n",
    "str(text)"
   ]
  },
  {
   "cell_type": "code",
   "execution_count": null,
   "metadata": {},
   "outputs": [],
   "source": []
  },
  {
   "cell_type": "markdown",
   "metadata": {},
   "source": [
    "## Alle Files auslesen"
   ]
  },
  {
   "cell_type": "code",
   "execution_count": 7,
   "metadata": {
    "scrolled": true
   },
   "outputs": [
    {
     "name": "stderr",
     "output_type": "stream",
     "text": [
      "100%|██████████| 82/82 [02:38<00:00,  1.93s/it]\n"
     ]
    }
   ],
   "source": [
    "lst = []\n",
    "mistakes = []\n",
    "for pdf in tqdm(pdfs):\n",
    "    try:\n",
    "        text = textract.process(\"pdfs/\"+pdf, method='pdfminer', encoding='ISO-8859-1')\n",
    "        lst.append(text)\n",
    "    except:\n",
    "        mistakes.append(pdf)"
   ]
  },
  {
   "cell_type": "code",
   "execution_count": 8,
   "metadata": {},
   "outputs": [
    {
     "data": {
      "text/plain": [
       "['Vk_20180517_12documents0.pdf']"
      ]
     },
     "execution_count": 8,
     "metadata": {},
     "output_type": "execute_result"
    }
   ],
   "source": [
    "mistakes"
   ]
  },
  {
   "cell_type": "markdown",
   "metadata": {},
   "source": [
    "## Bilder auslesen und in Text umwandeln"
   ]
  },
  {
   "cell_type": "code",
   "execution_count": 9,
   "metadata": {},
   "outputs": [],
   "source": [
    "text = textract.process(\"pdfs/\"+pdfs[0], method='tesseract') #Nicht ideal, aber gut"
   ]
  },
  {
   "cell_type": "code",
   "execution_count": 10,
   "metadata": {},
   "outputs": [
    {
     "data": {
      "text/plain": [
       "b'dical\\n\\nWassenburg Medical B.V.\\nEdisonnng 9\\n\\n6669 NA DODEWAARD\\nTHE NETHERLANDS\\n\\nT +31 (0)488 700 500\\n\\nF +31 (0)488 453 685\\n\\n| DRINGEND: SICHERHEITSHINWE See\"\\n\\nRUCKRUF VON KANALVERBINDUNGS-\\n\\nMATERIAL\\nWASSENBURG\\xc2\\xae REINIGUNGS- UND DESINFEKTIONSGERAT\\nENDOSKOPIE\\n\\nPRODUKTNAME: WASSENBURG\\xc2\\xae WD440, WD440 PT, WD415 Reinigungs- und\\nDesinfektionsgerat Endoskopie\\n\\nDATUM: 22. Mai 2018\\n\\nHANDLUNGSTYP: _ Sicherheitsmassnahme\\n\\nZU HANDEN VON:  Abteilungsleiter fir Dekontamination / Endoskopie\\n\\nAngaben zu betroffenen Geraten:\\n\\nBei einigen Chargen der Kanalverbindungen fur die Verbindung von Endoskopen in WASSENBURG\\xc2\\xae\\nEndoskop-Reinigungs- und Desinfektionsgeraten wurde ein Defekt festgestellt, infolgedessen einige\\nVerbindungsstucke wahrend der Endoskopaufbereitung auseinanderfallen k\\xc3\\xa9nnen,\\n\\nDie betroffenen Artikel und Chargen k\\xc3\\xa9nnen der folgenden Tabelle entnommen werden,\\n\\n \\n\\n \\n\\n \\n\\n \\n\\n \\n\\n \\n\\n \\n\\n \\n\\n \\n\\n \\n\\n \\n\\n \\n\\n \\n\\n \\n\\n \\n\\n \\n\\n \\n\\n \\n\\n \\n\\n   \\n\\n \\n\\n  \\n\\n \\n\\n \\n\\n \\n\\n \\n\\n \\n\\nArtikelnummer Chargennummer Beschreibung\\n08493104 6015402 Wasserflaschenverbinder Fujinon\\n08493104 5015723 Wasserflaschenverbinder Fujinon\\n08527001 5013839 Luft-Wasserverbinder Pentax\\n08527001 5015726 Luft-Wasserverbinder Pentax\\n09005103 5015897 oder 40008444 | Kanaltrenner Olympus\\n09005103 5015953 oder 40008463 | Kanaltrenner Olympus\\n09009104 \\xc2\\xa7015537 oder 40000061 | Kanaltrenner Olympus\\n09010103 | 5015498 oder 40000031 | Kanaltrenner Olympus\\n09010103 5015499 oder 40000032 | Kanaltrenner Olympus\\n09010103 5015859 oder 40008439 | Kanaltrenner Olympus\\n09062108 5016413 oder 40008485 | Kanaltrenner Pentax\\n09068105 5015246 Kanaltrenner Fujinon\\n09135103 5010787 Kanaltrenner Pentax\\n09136103 5015620 oder 40000075 | Kanaltrenner Pentax\\n09136103 5015621 oder 40000076 | Kanaltrenner Pentax\\n09438001 5013388 Kanaltrenner Fujinon\\n951660 5015600 oder 40000068 | Kanaltrenner Fujinon\\n952507 5013797 Kanaltrenner Fujinon\\n952641 5016261 oder 40008481 | Kanaltrenner Pentax\\n\\n \\n\\n \\n\\n \\n\\nDie obengenannten Chargen werden seit dem 01. Dezember 2017 hergestellt.\\n\\nSICHERHE!TSHINWEIS | ZVE22GM01 V18006 | SEITE 1 VON 3\\n\\n \\n\\x0cWaSSCnBURG\\nETO\\n\\nical\\n\\nProblembeschreibung:\\n\\nBei allen obengenannten Verbindungsstiicken, ausgenommen Artikel 08493104 und 08527001, gibt es zwei\\nDefekte, wenn das Verbindungsstiick wahrend des Endoskop-Prozesses auseinanderfallt:\\n\\n1. Unvollstandige Teilung der Luft-Wasserkanale\\n\\n2. Ausfall der Kontrolle der Biopsie-/Ansaug-Blockierungserkennung durch Leck am Ansaugventil\\n\\nIm Falle von Artikel 08493104 kann eine Leckage am Wasserflaschenverbinder zu einem Defekt der\\nKontrolle der Blockierungserkennung im Wasserkanal fahren.\\n\\nIm Fatle von Artikel 08527001 kann eine Leckage am Luft-Wasserventil zu einem Defekt der Kontrolle der\\nBlockierungserkennung im Luftkanal fuhren.\\n\\nEine Endoskopaufbereitung mit einem defekten VerbindungsstUck kann zu einer mangeinden Aufbereitung\\nder internen Endoskopkandale filhren.\\n\\nEin Zerfall der Verbindungskanale kann wahrend der visuellen Verbindungskontrolle am Ende des\\nAufbereitungszyklus festgestellt werden; das Endoskop sollte anschliessend gem\\xc3\\xa9ss Gebrauchsanweisung\\nwiederholt gereinigt und desinfiziert werden. Ein Risiko flr die Patienten kann entstehen, wenn die\\nEndoskopaufbereitung nicht mit einem intakten Verbindungsstiick wiederholt und ein Zerfall des\\nVerbindungsstticks vom Benutzer nicht erfasst wird.\\n\\nAus diesem Grund ruft Wassenburg die obengenannten Chargen zurtick. Die betroffenen Artikel werden\\nersetzt. Aufgrund momentaner Lieferschwierigkeiten, die ausserhalb unserer Kontrolle liegen, ist eine\\nVerz\\xc3\\xa9gerung der Verbindungsstiicke zu erwarten. Wassenburg tut alles in seiner Macht Stehende, um die\\nVerz\\xc3\\xa9gerungen so kurz wie m\\xc3\\xa9glich zu halten.\\n\\nVom Benutzer zu ergreifende Massnahmen:\\n\\n1. Uberprifen Sie die Verbindungssets der vorliegenden, obengenannten Artikel. Die Verbindungsstucke\\nsind mit der Artikel- sowie der Chargennummer versehen.\\n\\n2. Setzen Sie sich mit Ihrem Wassenburg-Lieferanten zwecks eines Ersatzteils in Verbindung.\\n\\n3. Stellen Sie sofort die Benutzung der obengenannten Verbindungssticke ein.\\n\\n4, Wir empfehlen, vor und nach jedem Aufbereitungszyklus zu Uberpriifen, ob alle Teile des\\nVerbindungsstucks sicher befestigt sind, falls eine Benutzung der Verbindungsstucke vor Erhalt eines\\nErsatzteils unvermeidbar ist. Falls ein Teil des betroffenen Verbindungsstticks locker ist, darf das\\nVerbindungsstick nicht langer benutzt werden. Das Endoskop, das mit einem lockeren Verbindungsstick\\naufbereitet wurde, muss vor Benutzung an einem Patienten noch einmal aufbereitet werden. Wassenburg\\nkann garantieren, dass das Verbindungssttick weiterhin korrekt funktioniert, wenn alle Teile des\\nbetroffenen Verbindungsstticks sicher befestigt sind.\\n\\n5. Dekontaminieren Sie den/die betroffenen Artikel und senden Sie Ihn zuriick an Ihren Wassenburg-\\nLieferanten.\\n\\nWeiterleitung dieses Sicherheitshinweises:\\n\\nDieser Sicherheitshinweis muss an alle betroffenen Personen innerhalb Ihres Unternehmens oder eines\\nanderen Unternehmens, an das potenziell betroffene Gerate gesandt wurden, weitergeleitet werden.\\n\\nBitte leiten Sie diesen Hinweis an andere Unternehmen weiter, die diese Massnahme ebenfalls betrifft.\\n\\nBitte beachten Sie diesen Sicherheitshinweis und die resultierenden Massnahmen fur einen angemessenen\\nZeitraum, um einen Erfolg der Sicherheitsmassnahme zu gewahileisten.\\n\\nSICHERHEITSHINWEIS | ZVE2Z2GM01 V18006] SEITE 2 VON 3\\n\\x0cWasScCnBURG\\n\\nmedical\\n\\n \\n\\nAnsprechpartner:\\n\\nDominik Lenz\\n\\nMositech AG\\nRotzenbihistrasse 55\\n8957 Spreitenbach\\n\\n+41 (0) 58 596 51 50\\ngominik.lenz@mositech.ch\\n\\nDer Unterzeichnende bestatigt, dass diese Mitteilung der entsprechenden Aufsichtsbeh\\xc3\\xa9rde gemeldet\\nwurde.\\n\\nWassenburg Medical B.V.\\n\\n \\n\\nDr. Patrick Vronen\\nRegulatory Affairs Manager\\n\\nSICHERHEITSHINWEIS | ZVE22GMO01 V18005 | SEITE 3 VON 3\\n\\x0c'"
      ]
     },
     "execution_count": 10,
     "metadata": {},
     "output_type": "execute_result"
    }
   ],
   "source": [
    "text"
   ]
  },
  {
   "cell_type": "markdown",
   "metadata": {},
   "source": [
    "## Alles zusammen"
   ]
  },
  {
   "cell_type": "code",
   "execution_count": 11,
   "metadata": {
    "scrolled": true
   },
   "outputs": [
    {
     "name": "stderr",
     "output_type": "stream",
     "text": [
      "100%|██████████| 82/82 [04:43<00:00,  3.46s/it]\n"
     ]
    }
   ],
   "source": [
    "#Rohe Analyse\n",
    "for pdf in tqdm(pdfs):\n",
    "    try:\n",
    "        text = textract.process(\"pdfs/\"+pdf, method='pdfminer', encoding='ISO-8859-1')\n",
    "        #hiermit haue ich die \"\\n\"-Zeielnumbrüche raus aus dem Text\n",
    "        #man könnte auch schreiben text = str(text).replace(\"\\n\", \" \"), abr diese Variante ist sicherer\n",
    "        text = text.decode(\"ISO-8859-1\").replace(\"\\n\", \" \")\n",
    "        if len(text) < 40:\n",
    "        # weil ich festgestellt habe, dass die kürzeren Bilder sind\n",
    "            #wenn man weiss, welche Sprache, kann man hier auch language = \"deu\" verwenden statt encoding \"ISO...\"\n",
    "            text = textract.process(\"pdfs/\"+pdf, method='tesseract', encoding =\"ISO-8859-1\")\n",
    "            text = text.decode(\"ISO-8859-1\").replace(\"\\n\", \" \")\n",
    "            \n",
    "        mini_dict = {'Text':text,\n",
    "                     'File':pdf}\n",
    "        #in diesen Minidict trage ich jeweils den Titel und den File-Inhalt ein\n",
    "        \n",
    "        lst.append(mini_dict)\n",
    "    except:\n",
    "        mini_dict = {'Text':'Fehlermeldung',\n",
    "                     'File':pdf}\n",
    "        lst.append(mini_dict)"
   ]
  },
  {
   "cell_type": "code",
   "execution_count": 17,
   "metadata": {},
   "outputs": [
    {
     "data": {
      "text/plain": [
       "0    object\n",
       "dtype: object"
      ]
     },
     "execution_count": 17,
     "metadata": {},
     "output_type": "execute_result"
    }
   ],
   "source": [
    "df = pd.DataFrame(lst)\n",
    "df.dtypes"
   ]
  },
  {
   "cell_type": "code",
   "execution_count": null,
   "metadata": {},
   "outputs": [],
   "source": [
    "# Jetzt kann ich zum Beispiel eine Spalte machen, in der ich die Länger der einzelnen Texte anschreibe:\n",
    "#hier die Funktion, die die Länge von jedem eingegebenen Element misst und sie rausspuckt\n",
    "def lengt(elem)\n",
    "    elem = len(elem)\n",
    "    return elem\n",
    "\n",
    "df[\"Textlänge\"] = df[\"Text\"].apply(length)"
   ]
  },
  {
   "cell_type": "code",
   "execution_count": 13,
   "metadata": {},
   "outputs": [
    {
     "ename": "KeyError",
     "evalue": "'File'",
     "output_type": "error",
     "traceback": [
      "\u001b[0;31m---------------------------------------------------------------------------\u001b[0m",
      "\u001b[0;31mKeyError\u001b[0m                                  Traceback (most recent call last)",
      "\u001b[0;32m~/.virtualenvs/erstesVE/lib/python3.7/site-packages/pandas/core/indexes/base.py\u001b[0m in \u001b[0;36mget_loc\u001b[0;34m(self, key, method, tolerance)\u001b[0m\n\u001b[1;32m   2896\u001b[0m             \u001b[0;32mtry\u001b[0m\u001b[0;34m:\u001b[0m\u001b[0;34m\u001b[0m\u001b[0;34m\u001b[0m\u001b[0m\n\u001b[0;32m-> 2897\u001b[0;31m                 \u001b[0;32mreturn\u001b[0m \u001b[0mself\u001b[0m\u001b[0;34m.\u001b[0m\u001b[0m_engine\u001b[0m\u001b[0;34m.\u001b[0m\u001b[0mget_loc\u001b[0m\u001b[0;34m(\u001b[0m\u001b[0mkey\u001b[0m\u001b[0;34m)\u001b[0m\u001b[0;34m\u001b[0m\u001b[0;34m\u001b[0m\u001b[0m\n\u001b[0m\u001b[1;32m   2898\u001b[0m             \u001b[0;32mexcept\u001b[0m \u001b[0mKeyError\u001b[0m\u001b[0;34m:\u001b[0m\u001b[0;34m\u001b[0m\u001b[0;34m\u001b[0m\u001b[0m\n",
      "\u001b[0;32mpandas/_libs/index.pyx\u001b[0m in \u001b[0;36mpandas._libs.index.IndexEngine.get_loc\u001b[0;34m()\u001b[0m\n",
      "\u001b[0;32mpandas/_libs/index.pyx\u001b[0m in \u001b[0;36mpandas._libs.index.IndexEngine.get_loc\u001b[0;34m()\u001b[0m\n",
      "\u001b[0;32mpandas/_libs/index_class_helper.pxi\u001b[0m in \u001b[0;36mpandas._libs.index.Int64Engine._check_type\u001b[0;34m()\u001b[0m\n",
      "\u001b[0;31mKeyError\u001b[0m: 'File'",
      "\nDuring handling of the above exception, another exception occurred:\n",
      "\u001b[0;31mKeyError\u001b[0m                                  Traceback (most recent call last)",
      "\u001b[0;32m<ipython-input-13-bd0b745238ee>\u001b[0m in \u001b[0;36m<module>\u001b[0;34m\u001b[0m\n\u001b[1;32m      4\u001b[0m     \u001b[0melem\u001b[0m \u001b[0;34m=\u001b[0m \u001b[0melem\u001b[0m\u001b[0;34m[\u001b[0m\u001b[0;36m3\u001b[0m\u001b[0;34m:\u001b[0m\u001b[0;36m11\u001b[0m\u001b[0;34m]\u001b[0m\u001b[0;34m\u001b[0m\u001b[0;34m\u001b[0m\u001b[0m\n\u001b[1;32m      5\u001b[0m     \u001b[0;32mreturn\u001b[0m \u001b[0melem\u001b[0m\u001b[0;34m\u001b[0m\u001b[0;34m\u001b[0m\u001b[0m\n\u001b[0;32m----> 6\u001b[0;31m \u001b[0mdf\u001b[0m\u001b[0;34m[\u001b[0m\u001b[0;34m'date'\u001b[0m\u001b[0;34m]\u001b[0m \u001b[0;34m=\u001b[0m \u001b[0mdf\u001b[0m\u001b[0;34m[\u001b[0m\u001b[0;34m'File'\u001b[0m\u001b[0;34m]\u001b[0m\u001b[0;34m.\u001b[0m\u001b[0mapply\u001b[0m\u001b[0;34m(\u001b[0m\u001b[0mdate\u001b[0m\u001b[0;34m)\u001b[0m\u001b[0;34m\u001b[0m\u001b[0;34m\u001b[0m\u001b[0m\n\u001b[0m\u001b[1;32m      7\u001b[0m \u001b[0mdf\u001b[0m\u001b[0;34m[\u001b[0m\u001b[0;34m'date'\u001b[0m\u001b[0;34m]\u001b[0m \u001b[0;34m=\u001b[0m \u001b[0mpd\u001b[0m\u001b[0;34m.\u001b[0m\u001b[0mto_datetime\u001b[0m\u001b[0;34m(\u001b[0m\u001b[0mdf\u001b[0m\u001b[0;34m[\u001b[0m\u001b[0;34m'date'\u001b[0m\u001b[0;34m]\u001b[0m\u001b[0;34m,\u001b[0m \u001b[0mformat\u001b[0m\u001b[0;34m=\u001b[0m\u001b[0;34m'%Y%m%d'\u001b[0m\u001b[0;34m)\u001b[0m\u001b[0;34m\u001b[0m\u001b[0;34m\u001b[0m\u001b[0m\n\u001b[1;32m      8\u001b[0m \u001b[0mdf\u001b[0m\u001b[0;34m.\u001b[0m\u001b[0mindex\u001b[0m \u001b[0;34m=\u001b[0m \u001b[0mdf\u001b[0m\u001b[0;34m[\u001b[0m\u001b[0;34m'date'\u001b[0m\u001b[0;34m]\u001b[0m\u001b[0;34m\u001b[0m\u001b[0;34m\u001b[0m\u001b[0m\n",
      "\u001b[0;32m~/.virtualenvs/erstesVE/lib/python3.7/site-packages/pandas/core/frame.py\u001b[0m in \u001b[0;36m__getitem__\u001b[0;34m(self, key)\u001b[0m\n\u001b[1;32m   2978\u001b[0m             \u001b[0;32mif\u001b[0m \u001b[0mself\u001b[0m\u001b[0;34m.\u001b[0m\u001b[0mcolumns\u001b[0m\u001b[0;34m.\u001b[0m\u001b[0mnlevels\u001b[0m \u001b[0;34m>\u001b[0m \u001b[0;36m1\u001b[0m\u001b[0;34m:\u001b[0m\u001b[0;34m\u001b[0m\u001b[0;34m\u001b[0m\u001b[0m\n\u001b[1;32m   2979\u001b[0m                 \u001b[0;32mreturn\u001b[0m \u001b[0mself\u001b[0m\u001b[0;34m.\u001b[0m\u001b[0m_getitem_multilevel\u001b[0m\u001b[0;34m(\u001b[0m\u001b[0mkey\u001b[0m\u001b[0;34m)\u001b[0m\u001b[0;34m\u001b[0m\u001b[0;34m\u001b[0m\u001b[0m\n\u001b[0;32m-> 2980\u001b[0;31m             \u001b[0mindexer\u001b[0m \u001b[0;34m=\u001b[0m \u001b[0mself\u001b[0m\u001b[0;34m.\u001b[0m\u001b[0mcolumns\u001b[0m\u001b[0;34m.\u001b[0m\u001b[0mget_loc\u001b[0m\u001b[0;34m(\u001b[0m\u001b[0mkey\u001b[0m\u001b[0;34m)\u001b[0m\u001b[0;34m\u001b[0m\u001b[0;34m\u001b[0m\u001b[0m\n\u001b[0m\u001b[1;32m   2981\u001b[0m             \u001b[0;32mif\u001b[0m \u001b[0mis_integer\u001b[0m\u001b[0;34m(\u001b[0m\u001b[0mindexer\u001b[0m\u001b[0;34m)\u001b[0m\u001b[0;34m:\u001b[0m\u001b[0;34m\u001b[0m\u001b[0;34m\u001b[0m\u001b[0m\n\u001b[1;32m   2982\u001b[0m                 \u001b[0mindexer\u001b[0m \u001b[0;34m=\u001b[0m \u001b[0;34m[\u001b[0m\u001b[0mindexer\u001b[0m\u001b[0;34m]\u001b[0m\u001b[0;34m\u001b[0m\u001b[0;34m\u001b[0m\u001b[0m\n",
      "\u001b[0;32m~/.virtualenvs/erstesVE/lib/python3.7/site-packages/pandas/core/indexes/range.py\u001b[0m in \u001b[0;36mget_loc\u001b[0;34m(self, key, method, tolerance)\u001b[0m\n\u001b[1;32m    377\u001b[0m             \u001b[0;32mexcept\u001b[0m \u001b[0mValueError\u001b[0m\u001b[0;34m:\u001b[0m\u001b[0;34m\u001b[0m\u001b[0;34m\u001b[0m\u001b[0m\n\u001b[1;32m    378\u001b[0m                 \u001b[0;32mraise\u001b[0m \u001b[0mKeyError\u001b[0m\u001b[0;34m(\u001b[0m\u001b[0mkey\u001b[0m\u001b[0;34m)\u001b[0m\u001b[0;34m\u001b[0m\u001b[0;34m\u001b[0m\u001b[0m\n\u001b[0;32m--> 379\u001b[0;31m         \u001b[0;32mreturn\u001b[0m \u001b[0msuper\u001b[0m\u001b[0;34m(\u001b[0m\u001b[0;34m)\u001b[0m\u001b[0;34m.\u001b[0m\u001b[0mget_loc\u001b[0m\u001b[0;34m(\u001b[0m\u001b[0mkey\u001b[0m\u001b[0;34m,\u001b[0m \u001b[0mmethod\u001b[0m\u001b[0;34m=\u001b[0m\u001b[0mmethod\u001b[0m\u001b[0;34m,\u001b[0m \u001b[0mtolerance\u001b[0m\u001b[0;34m=\u001b[0m\u001b[0mtolerance\u001b[0m\u001b[0;34m)\u001b[0m\u001b[0;34m\u001b[0m\u001b[0;34m\u001b[0m\u001b[0m\n\u001b[0m\u001b[1;32m    380\u001b[0m \u001b[0;34m\u001b[0m\u001b[0m\n\u001b[1;32m    381\u001b[0m     \u001b[0;34m@\u001b[0m\u001b[0mAppender\u001b[0m\u001b[0;34m(\u001b[0m\u001b[0m_index_shared_docs\u001b[0m\u001b[0;34m[\u001b[0m\u001b[0;34m\"get_indexer\"\u001b[0m\u001b[0;34m]\u001b[0m\u001b[0;34m)\u001b[0m\u001b[0;34m\u001b[0m\u001b[0;34m\u001b[0m\u001b[0m\n",
      "\u001b[0;32m~/.virtualenvs/erstesVE/lib/python3.7/site-packages/pandas/core/indexes/base.py\u001b[0m in \u001b[0;36mget_loc\u001b[0;34m(self, key, method, tolerance)\u001b[0m\n\u001b[1;32m   2897\u001b[0m                 \u001b[0;32mreturn\u001b[0m \u001b[0mself\u001b[0m\u001b[0;34m.\u001b[0m\u001b[0m_engine\u001b[0m\u001b[0;34m.\u001b[0m\u001b[0mget_loc\u001b[0m\u001b[0;34m(\u001b[0m\u001b[0mkey\u001b[0m\u001b[0;34m)\u001b[0m\u001b[0;34m\u001b[0m\u001b[0;34m\u001b[0m\u001b[0m\n\u001b[1;32m   2898\u001b[0m             \u001b[0;32mexcept\u001b[0m \u001b[0mKeyError\u001b[0m\u001b[0;34m:\u001b[0m\u001b[0;34m\u001b[0m\u001b[0;34m\u001b[0m\u001b[0m\n\u001b[0;32m-> 2899\u001b[0;31m                 \u001b[0;32mreturn\u001b[0m \u001b[0mself\u001b[0m\u001b[0;34m.\u001b[0m\u001b[0m_engine\u001b[0m\u001b[0;34m.\u001b[0m\u001b[0mget_loc\u001b[0m\u001b[0;34m(\u001b[0m\u001b[0mself\u001b[0m\u001b[0;34m.\u001b[0m\u001b[0m_maybe_cast_indexer\u001b[0m\u001b[0;34m(\u001b[0m\u001b[0mkey\u001b[0m\u001b[0;34m)\u001b[0m\u001b[0;34m)\u001b[0m\u001b[0;34m\u001b[0m\u001b[0;34m\u001b[0m\u001b[0m\n\u001b[0m\u001b[1;32m   2900\u001b[0m         \u001b[0mindexer\u001b[0m \u001b[0;34m=\u001b[0m \u001b[0mself\u001b[0m\u001b[0;34m.\u001b[0m\u001b[0mget_indexer\u001b[0m\u001b[0;34m(\u001b[0m\u001b[0;34m[\u001b[0m\u001b[0mkey\u001b[0m\u001b[0;34m]\u001b[0m\u001b[0;34m,\u001b[0m \u001b[0mmethod\u001b[0m\u001b[0;34m=\u001b[0m\u001b[0mmethod\u001b[0m\u001b[0;34m,\u001b[0m \u001b[0mtolerance\u001b[0m\u001b[0;34m=\u001b[0m\u001b[0mtolerance\u001b[0m\u001b[0;34m)\u001b[0m\u001b[0;34m\u001b[0m\u001b[0;34m\u001b[0m\u001b[0m\n\u001b[1;32m   2901\u001b[0m         \u001b[0;32mif\u001b[0m \u001b[0mindexer\u001b[0m\u001b[0;34m.\u001b[0m\u001b[0mndim\u001b[0m \u001b[0;34m>\u001b[0m \u001b[0;36m1\u001b[0m \u001b[0;32mor\u001b[0m \u001b[0mindexer\u001b[0m\u001b[0;34m.\u001b[0m\u001b[0msize\u001b[0m \u001b[0;34m>\u001b[0m \u001b[0;36m1\u001b[0m\u001b[0;34m:\u001b[0m\u001b[0;34m\u001b[0m\u001b[0;34m\u001b[0m\u001b[0m\n",
      "\u001b[0;32mpandas/_libs/index.pyx\u001b[0m in \u001b[0;36mpandas._libs.index.IndexEngine.get_loc\u001b[0;34m()\u001b[0m\n",
      "\u001b[0;32mpandas/_libs/index.pyx\u001b[0m in \u001b[0;36mpandas._libs.index.IndexEngine.get_loc\u001b[0;34m()\u001b[0m\n",
      "\u001b[0;32mpandas/_libs/index_class_helper.pxi\u001b[0m in \u001b[0;36mpandas._libs.index.Int64Engine._check_type\u001b[0;34m()\u001b[0m\n",
      "\u001b[0;31mKeyError\u001b[0m: 'File'"
     ]
    }
   ],
   "source": [
    "#Erste Säuberung\n",
    "df = pd.DataFrame(lst)\n",
    "def date(elem):\n",
    "    elem = elem[3:11]\n",
    "    return elem\n",
    "df['date'] = df['File'].apply(date)\n",
    "df['date'] = pd.to_datetime(df['date'], format='%Y%m%d')\n",
    "df.index = df['date']\n",
    "#Suchen wir noch nach Implantaten\n",
    "df['implant'] = df['Text'].str.contains('implant')\n",
    "df.to_csv('datafile.csv')"
   ]
  },
  {
   "cell_type": "code",
   "execution_count": null,
   "metadata": {},
   "outputs": [],
   "source": []
  }
 ],
 "metadata": {
  "kernelspec": {
   "display_name": "Python 3",
   "language": "python",
   "name": "python3"
  },
  "language_info": {
   "codemirror_mode": {
    "name": "ipython",
    "version": 3
   },
   "file_extension": ".py",
   "mimetype": "text/x-python",
   "name": "python",
   "nbconvert_exporter": "python",
   "pygments_lexer": "ipython3",
   "version": "3.7.4"
  }
 },
 "nbformat": 4,
 "nbformat_minor": 2
}
