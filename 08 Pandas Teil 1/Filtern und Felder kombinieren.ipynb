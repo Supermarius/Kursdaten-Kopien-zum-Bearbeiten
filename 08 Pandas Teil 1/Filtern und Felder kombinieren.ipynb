{
 "cells": [
  {
   "cell_type": "markdown",
   "metadata": {},
   "source": [
    "# Filtern und Felder kombinieren"
   ]
  },
  {
   "cell_type": "markdown",
   "metadata": {},
   "source": [
    "**Inhalt:** Die Nadel im Heuhaufen finden\n",
    "\n",
    "**Nötige Skills:** Erste Schritte mit Pandas\n",
    "\n",
    "**Lernziele:**\n",
    "- Einträge im Datenset finden, basierend auf Kriterien\n",
    "- Nan kennenlernen\n",
    "- Neue Datenfelder generieren\n",
    "- Plotting Level 1"
   ]
  },
  {
   "cell_type": "markdown",
   "metadata": {},
   "source": [
    "# Das Beispiel"
   ]
  },
  {
   "cell_type": "markdown",
   "metadata": {},
   "source": [
    "Die besten NBA-Basketball-Spieler aller Zeiten.\n",
    "\n",
    "Quelle/Beschreibung: https://stats.nba.com/alltime-leaders/\n",
    "\n",
    "Die Daten haben wir manuell kopiert und an diesem Ort hier abgelegt: `dataprojects/nba-players`"
   ]
  },
  {
   "cell_type": "markdown",
   "metadata": {},
   "source": [
    "## Vorbereitung"
   ]
  },
  {
   "cell_type": "code",
   "execution_count": 1,
   "metadata": {},
   "outputs": [],
   "source": [
    "import pandas as pd"
   ]
  },
  {
   "cell_type": "code",
   "execution_count": 2,
   "metadata": {},
   "outputs": [],
   "source": [
    "%matplotlib inline"
   ]
  },
  {
   "cell_type": "markdown",
   "metadata": {},
   "source": [
    "## Datenfile laden"
   ]
  },
  {
   "cell_type": "markdown",
   "metadata": {},
   "source": [
    "Wo ist die Datei?"
   ]
  },
  {
   "cell_type": "code",
   "execution_count": 3,
   "metadata": {},
   "outputs": [],
   "source": [
    "path = 'dataprojects/nba-players/alltime.xlsx'"
   ]
  },
  {
   "cell_type": "markdown",
   "metadata": {},
   "source": [
    "Für den Import von Excel-Dateien nutzen wir die Funktion `read_excel()`"
   ]
  },
  {
   "cell_type": "code",
   "execution_count": 4,
   "metadata": {},
   "outputs": [],
   "source": [
    "df = pd.read_excel(path)"
   ]
  },
  {
   "cell_type": "markdown",
   "metadata": {},
   "source": [
    "## Überblick verschaffen"
   ]
  },
  {
   "cell_type": "markdown",
   "metadata": {},
   "source": [
    "Wie immer zu Beginn, checken wir die Struktur und Länge des Datensets ab"
   ]
  },
  {
   "cell_type": "markdown",
   "metadata": {},
   "source": [
    "- erste drei Reihen"
   ]
  },
  {
   "cell_type": "code",
   "execution_count": 5,
   "metadata": {},
   "outputs": [
    {
     "data": {
      "text/html": [
       "<div>\n",
       "<style scoped>\n",
       "    .dataframe tbody tr th:only-of-type {\n",
       "        vertical-align: middle;\n",
       "    }\n",
       "\n",
       "    .dataframe tbody tr th {\n",
       "        vertical-align: top;\n",
       "    }\n",
       "\n",
       "    .dataframe thead th {\n",
       "        text-align: right;\n",
       "    }\n",
       "</style>\n",
       "<table border=\"1\" class=\"dataframe\">\n",
       "  <thead>\n",
       "    <tr style=\"text-align: right;\">\n",
       "      <th></th>\n",
       "      <th>#</th>\n",
       "      <th>Player</th>\n",
       "      <th>GP</th>\n",
       "      <th>MIN</th>\n",
       "      <th>PTS</th>\n",
       "      <th>FGM</th>\n",
       "      <th>FGA</th>\n",
       "      <th>FG%</th>\n",
       "      <th>3PM</th>\n",
       "      <th>3PA</th>\n",
       "      <th>...</th>\n",
       "      <th>FT%</th>\n",
       "      <th>OREB</th>\n",
       "      <th>DREB</th>\n",
       "      <th>REB</th>\n",
       "      <th>AST</th>\n",
       "      <th>STL</th>\n",
       "      <th>BLK</th>\n",
       "      <th>TOV</th>\n",
       "      <th>eFG%</th>\n",
       "      <th>TS%</th>\n",
       "    </tr>\n",
       "  </thead>\n",
       "  <tbody>\n",
       "    <tr>\n",
       "      <th>0</th>\n",
       "      <td>1</td>\n",
       "      <td>Kareem Abdul-Jabbar</td>\n",
       "      <td>1560</td>\n",
       "      <td>57446</td>\n",
       "      <td>38387</td>\n",
       "      <td>15837</td>\n",
       "      <td>28307</td>\n",
       "      <td>55.9</td>\n",
       "      <td>1</td>\n",
       "      <td>18</td>\n",
       "      <td>...</td>\n",
       "      <td>72.1</td>\n",
       "      <td>2975</td>\n",
       "      <td>9394</td>\n",
       "      <td>17440</td>\n",
       "      <td>5660</td>\n",
       "      <td>1160</td>\n",
       "      <td>3189</td>\n",
       "      <td>2527</td>\n",
       "      <td>55.9</td>\n",
       "      <td>59.2</td>\n",
       "    </tr>\n",
       "    <tr>\n",
       "      <th>1</th>\n",
       "      <td>2</td>\n",
       "      <td>Karl Malone</td>\n",
       "      <td>1476</td>\n",
       "      <td>54852</td>\n",
       "      <td>36928</td>\n",
       "      <td>13528</td>\n",
       "      <td>26210</td>\n",
       "      <td>51.6</td>\n",
       "      <td>85</td>\n",
       "      <td>310</td>\n",
       "      <td>...</td>\n",
       "      <td>74.2</td>\n",
       "      <td>3562</td>\n",
       "      <td>11406</td>\n",
       "      <td>14968</td>\n",
       "      <td>5248</td>\n",
       "      <td>2085</td>\n",
       "      <td>1145</td>\n",
       "      <td>4524</td>\n",
       "      <td>51.8</td>\n",
       "      <td>57.7</td>\n",
       "    </tr>\n",
       "    <tr>\n",
       "      <th>2</th>\n",
       "      <td>3</td>\n",
       "      <td>Kobe Bryant</td>\n",
       "      <td>1346</td>\n",
       "      <td>48643</td>\n",
       "      <td>33643</td>\n",
       "      <td>11719</td>\n",
       "      <td>26200</td>\n",
       "      <td>44.7</td>\n",
       "      <td>1827</td>\n",
       "      <td>5546</td>\n",
       "      <td>...</td>\n",
       "      <td>83.7</td>\n",
       "      <td>1499</td>\n",
       "      <td>5548</td>\n",
       "      <td>7047</td>\n",
       "      <td>6306</td>\n",
       "      <td>1944</td>\n",
       "      <td>640</td>\n",
       "      <td>4010</td>\n",
       "      <td>48.2</td>\n",
       "      <td>55.0</td>\n",
       "    </tr>\n",
       "  </tbody>\n",
       "</table>\n",
       "<p>3 rows × 23 columns</p>\n",
       "</div>"
      ],
      "text/plain": [
       "   #               Player    GP    MIN    PTS    FGM    FGA   FG%   3PM   3PA  \\\n",
       "0  1  Kareem Abdul-Jabbar  1560  57446  38387  15837  28307  55.9     1    18   \n",
       "1  2          Karl Malone  1476  54852  36928  13528  26210  51.6    85   310   \n",
       "2  3          Kobe Bryant  1346  48643  33643  11719  26200  44.7  1827  5546   \n",
       "\n",
       "   ...   FT%  OREB   DREB    REB   AST   STL   BLK   TOV  eFG%   TS%  \n",
       "0  ...  72.1  2975   9394  17440  5660  1160  3189  2527  55.9  59.2  \n",
       "1  ...  74.2  3562  11406  14968  5248  2085  1145  4524  51.8  57.7  \n",
       "2  ...  83.7  1499   5548   7047  6306  1944   640  4010  48.2  55.0  \n",
       "\n",
       "[3 rows x 23 columns]"
      ]
     },
     "execution_count": 5,
     "metadata": {},
     "output_type": "execute_result"
    }
   ],
   "source": [
    "df.head(3)"
   ]
  },
  {
   "cell_type": "markdown",
   "metadata": {},
   "source": [
    "- Anzahl der Zeilen und Spalten"
   ]
  },
  {
   "cell_type": "code",
   "execution_count": 6,
   "metadata": {},
   "outputs": [
    {
     "data": {
      "text/plain": [
       "(1238, 23)"
      ]
     },
     "execution_count": 6,
     "metadata": {},
     "output_type": "execute_result"
    }
   ],
   "source": [
    "df.shape"
   ]
  },
  {
   "cell_type": "markdown",
   "metadata": {},
   "source": [
    "- Spaltennamen und Datentypen"
   ]
  },
  {
   "cell_type": "code",
   "execution_count": 7,
   "metadata": {},
   "outputs": [
    {
     "data": {
      "text/plain": [
       "#           int64\n",
       "Player     object\n",
       "GP          int64\n",
       "MIN         int64\n",
       "PTS         int64\n",
       "FGM         int64\n",
       "FGA         int64\n",
       "FG%       float64\n",
       "3PM        object\n",
       "3PA        object\n",
       "3P%        object\n",
       "FTM         int64\n",
       "FTA         int64\n",
       "FT%       float64\n",
       "OREB       object\n",
       "DREB       object\n",
       "REB         int64\n",
       "AST         int64\n",
       "STL        object\n",
       "BLK        object\n",
       "TOV        object\n",
       "eFG%      float64\n",
       "TS%       float64\n",
       "dtype: object"
      ]
     },
     "execution_count": 7,
     "metadata": {},
     "output_type": "execute_result"
    }
   ],
   "source": [
    "df.dtypes"
   ]
  },
  {
   "cell_type": "markdown",
   "metadata": {},
   "source": [
    "## Wer ist der beste Basketballspieler aller Zeiten?"
   ]
  },
  {
   "cell_type": "markdown",
   "metadata": {},
   "source": [
    "Diese Leitfrage wird uns durch dieses Notebook begleiten.\n",
    "\n",
    "Für die NBA ist offensichtlich klar: Es ist **Kareem Abdul-Jabbar**.\n",
    "\n",
    "Das zeigt sich, wenn wir nochmals die obersten drei Zeilen anzeigen:"
   ]
  },
  {
   "cell_type": "code",
   "execution_count": null,
   "metadata": {},
   "outputs": [],
   "source": [
    "df.head(3)"
   ]
  },
  {
   "cell_type": "markdown",
   "metadata": {},
   "source": [
    "Doch: basierend auf welcher Metrik kommt die NBA zu diesem Schluss?\n",
    "    \n",
    "Gibt es auch noch andere Varianten, diese Rangliste zu erstellen?\n",
    "\n",
    "Und vor allem: Wo zur Hölle ist **Michael Jordan**??"
   ]
  },
  {
   "cell_type": "markdown",
   "metadata": {},
   "source": [
    "## Einträge filtern"
   ]
  },
  {
   "cell_type": "markdown",
   "metadata": {},
   "source": [
    "### Die erste Suche"
   ]
  },
  {
   "cell_type": "markdown",
   "metadata": {},
   "source": [
    "Die Syntax, mit dem man in Pandas einzelne Einträge aus dem Datenset herausfiltert, funktioniert, wie nicht anders zu erwarten, mit eckigen Klammern."
   ]
  },
  {
   "cell_type": "code",
   "execution_count": 17,
   "metadata": {},
   "outputs": [
    {
     "data": {
      "text/html": [
       "<div>\n",
       "<style scoped>\n",
       "    .dataframe tbody tr th:only-of-type {\n",
       "        vertical-align: middle;\n",
       "    }\n",
       "\n",
       "    .dataframe tbody tr th {\n",
       "        vertical-align: top;\n",
       "    }\n",
       "\n",
       "    .dataframe thead th {\n",
       "        text-align: right;\n",
       "    }\n",
       "</style>\n",
       "<table border=\"1\" class=\"dataframe\">\n",
       "  <thead>\n",
       "    <tr style=\"text-align: right;\">\n",
       "      <th></th>\n",
       "      <th>#</th>\n",
       "      <th>Player</th>\n",
       "      <th>GP</th>\n",
       "      <th>MIN</th>\n",
       "      <th>PTS</th>\n",
       "      <th>FGM</th>\n",
       "      <th>FGA</th>\n",
       "      <th>FG%</th>\n",
       "      <th>3PM</th>\n",
       "      <th>3PA</th>\n",
       "      <th>...</th>\n",
       "      <th>FT%</th>\n",
       "      <th>OREB</th>\n",
       "      <th>DREB</th>\n",
       "      <th>REB</th>\n",
       "      <th>AST</th>\n",
       "      <th>STL</th>\n",
       "      <th>BLK</th>\n",
       "      <th>TOV</th>\n",
       "      <th>eFG%</th>\n",
       "      <th>TS%</th>\n",
       "    </tr>\n",
       "  </thead>\n",
       "  <tbody>\n",
       "    <tr>\n",
       "      <th>3</th>\n",
       "      <td>4</td>\n",
       "      <td>Michael Jordan</td>\n",
       "      <td>1072</td>\n",
       "      <td>41010</td>\n",
       "      <td>32292</td>\n",
       "      <td>12192</td>\n",
       "      <td>24537</td>\n",
       "      <td>49.7</td>\n",
       "      <td>581</td>\n",
       "      <td>1778</td>\n",
       "      <td>...</td>\n",
       "      <td>83.5</td>\n",
       "      <td>1668</td>\n",
       "      <td>5004</td>\n",
       "      <td>6672</td>\n",
       "      <td>5633</td>\n",
       "      <td>2514</td>\n",
       "      <td>893</td>\n",
       "      <td>2924</td>\n",
       "      <td>50.9</td>\n",
       "      <td>56.9</td>\n",
       "    </tr>\n",
       "  </tbody>\n",
       "</table>\n",
       "<p>1 rows × 23 columns</p>\n",
       "</div>"
      ],
      "text/plain": [
       "   #          Player    GP    MIN    PTS    FGM    FGA   FG%  3PM   3PA  ...  \\\n",
       "3  4  Michael Jordan  1072  41010  32292  12192  24537  49.7  581  1778  ...   \n",
       "\n",
       "    FT%  OREB  DREB   REB   AST   STL  BLK   TOV  eFG%   TS%  \n",
       "3  83.5  1668  5004  6672  5633  2514  893  2924  50.9  56.9  \n",
       "\n",
       "[1 rows x 23 columns]"
      ]
     },
     "execution_count": 17,
     "metadata": {},
     "output_type": "execute_result"
    }
   ],
   "source": [
    "df[df['Player'] == 'Michael Jordan']"
   ]
  },
  {
   "cell_type": "markdown",
   "metadata": {},
   "source": [
    "Michael Jordan steht also auf Rang vier der ewigen Bestenliste der NBA (der Rang ist in der ersten Spalte mit dem Titel \"`#`\" angegeben)"
   ]
  },
  {
   "cell_type": "markdown",
   "metadata": {},
   "source": [
    "Schauen wir uns diesen Code etwas genauer an. Zuerst den inneren Teil:"
   ]
  },
  {
   "cell_type": "code",
   "execution_count": 10,
   "metadata": {},
   "outputs": [
    {
     "data": {
      "text/plain": [
       "0       False\n",
       "1       False\n",
       "2       False\n",
       "3        True\n",
       "4       False\n",
       "5       False\n",
       "6       False\n",
       "7       False\n",
       "8       False\n",
       "9       False\n",
       "10      False\n",
       "11      False\n",
       "12      False\n",
       "13      False\n",
       "14      False\n",
       "15      False\n",
       "16      False\n",
       "17      False\n",
       "18      False\n",
       "19      False\n",
       "20      False\n",
       "21      False\n",
       "22      False\n",
       "23      False\n",
       "24      False\n",
       "25      False\n",
       "26      False\n",
       "27      False\n",
       "28      False\n",
       "29      False\n",
       "        ...  \n",
       "1208    False\n",
       "1209    False\n",
       "1210    False\n",
       "1211    False\n",
       "1212    False\n",
       "1213    False\n",
       "1214    False\n",
       "1215    False\n",
       "1216    False\n",
       "1217    False\n",
       "1218    False\n",
       "1219    False\n",
       "1220    False\n",
       "1221    False\n",
       "1222    False\n",
       "1223    False\n",
       "1224    False\n",
       "1225    False\n",
       "1226    False\n",
       "1227    False\n",
       "1228    False\n",
       "1229    False\n",
       "1230    False\n",
       "1231    False\n",
       "1232    False\n",
       "1233    False\n",
       "1234    False\n",
       "1235    False\n",
       "1236    False\n",
       "1237    False\n",
       "Name: Player, Length: 1238, dtype: bool"
      ]
     },
     "execution_count": 10,
     "metadata": {},
     "output_type": "execute_result"
    }
   ],
   "source": [
    "df['Player'] == 'Michael Jordan'"
   ]
  },
  {
   "cell_type": "markdown",
   "metadata": {},
   "source": [
    "Was ist das für ein Datentyp?"
   ]
  },
  {
   "cell_type": "code",
   "execution_count": 11,
   "metadata": {},
   "outputs": [
    {
     "data": {
      "text/plain": [
       "pandas.core.series.Series"
      ]
     },
     "execution_count": 11,
     "metadata": {},
     "output_type": "execute_result"
    }
   ],
   "source": [
    "type(df['Player'] == 'Michael Jordan')"
   ]
  },
  {
   "cell_type": "markdown",
   "metadata": {},
   "source": [
    "Speichern wir nun diese Serie in einer separaten Variable ab ..."
   ]
  },
  {
   "cell_type": "code",
   "execution_count": 12,
   "metadata": {},
   "outputs": [],
   "source": [
    "jordan = df['Player'] == 'Michael Jordan'"
   ]
  },
  {
   "cell_type": "markdown",
   "metadata": {},
   "source": [
    "... und setzen wir diese Variable nochmals in den äusseren Ausdruck ein:"
   ]
  },
  {
   "cell_type": "code",
   "execution_count": 13,
   "metadata": {},
   "outputs": [
    {
     "data": {
      "text/html": [
       "<div>\n",
       "<style scoped>\n",
       "    .dataframe tbody tr th:only-of-type {\n",
       "        vertical-align: middle;\n",
       "    }\n",
       "\n",
       "    .dataframe tbody tr th {\n",
       "        vertical-align: top;\n",
       "    }\n",
       "\n",
       "    .dataframe thead th {\n",
       "        text-align: right;\n",
       "    }\n",
       "</style>\n",
       "<table border=\"1\" class=\"dataframe\">\n",
       "  <thead>\n",
       "    <tr style=\"text-align: right;\">\n",
       "      <th></th>\n",
       "      <th>#</th>\n",
       "      <th>Player</th>\n",
       "      <th>GP</th>\n",
       "      <th>MIN</th>\n",
       "      <th>PTS</th>\n",
       "      <th>FGM</th>\n",
       "      <th>FGA</th>\n",
       "      <th>FG%</th>\n",
       "      <th>3PM</th>\n",
       "      <th>3PA</th>\n",
       "      <th>...</th>\n",
       "      <th>FT%</th>\n",
       "      <th>OREB</th>\n",
       "      <th>DREB</th>\n",
       "      <th>REB</th>\n",
       "      <th>AST</th>\n",
       "      <th>STL</th>\n",
       "      <th>BLK</th>\n",
       "      <th>TOV</th>\n",
       "      <th>eFG%</th>\n",
       "      <th>TS%</th>\n",
       "    </tr>\n",
       "  </thead>\n",
       "  <tbody>\n",
       "    <tr>\n",
       "      <th>3</th>\n",
       "      <td>4</td>\n",
       "      <td>Michael Jordan</td>\n",
       "      <td>1072</td>\n",
       "      <td>41010</td>\n",
       "      <td>32292</td>\n",
       "      <td>12192</td>\n",
       "      <td>24537</td>\n",
       "      <td>49.7</td>\n",
       "      <td>581</td>\n",
       "      <td>1778</td>\n",
       "      <td>...</td>\n",
       "      <td>83.5</td>\n",
       "      <td>1668</td>\n",
       "      <td>5004</td>\n",
       "      <td>6672</td>\n",
       "      <td>5633</td>\n",
       "      <td>2514</td>\n",
       "      <td>893</td>\n",
       "      <td>2924</td>\n",
       "      <td>50.9</td>\n",
       "      <td>56.9</td>\n",
       "    </tr>\n",
       "  </tbody>\n",
       "</table>\n",
       "<p>1 rows × 23 columns</p>\n",
       "</div>"
      ],
      "text/plain": [
       "   #          Player    GP    MIN    PTS    FGM    FGA   FG%  3PM   3PA  ...  \\\n",
       "3  4  Michael Jordan  1072  41010  32292  12192  24537  49.7  581  1778  ...   \n",
       "\n",
       "    FT%  OREB  DREB   REB   AST   STL  BLK   TOV  eFG%   TS%  \n",
       "3  83.5  1668  5004  6672  5633  2514  893  2924  50.9  56.9  \n",
       "\n",
       "[1 rows x 23 columns]"
      ]
     },
     "execution_count": 13,
     "metadata": {},
     "output_type": "execute_result"
    }
   ],
   "source": [
    "df[jordan]"
   ]
  },
  {
   "cell_type": "markdown",
   "metadata": {},
   "source": [
    "Fassen wir zusammen:\n",
    "- Wir picken uns zuerst eine Serie heraus: `df['Player']`\n",
    "- Dann testen wir jedes Element der Serie mit einem Vergleichsoperator `df['Player'] == 'Michael Jordan'`\n",
    "- Es entsteht dabei eine neue Serie mit True/False-Einträgen (boolean)\n",
    "- Nun \"filtern\" wir das dataframe mit dieser True/False-Serie: `df[..`(False-False-True-False)`...]`"
   ]
  },
  {
   "cell_type": "markdown",
   "metadata": {},
   "source": [
    "### Filtern mit Vergleichsoperatoren"
   ]
  },
  {
   "cell_type": "markdown",
   "metadata": {},
   "source": [
    "Es gibt diverse Vergleichsoperatoren:\n",
    "- `==` gleich\n",
    "- `<` kleiner als\n",
    "- `<=` kleiner gleich\n",
    "- `>` grösser als\n",
    "- `>=` grösser gleich\n",
    "- `!=` nicht gleich"
   ]
  },
  {
   "cell_type": "markdown",
   "metadata": {},
   "source": [
    "**Beispiel:** Alle Spieler, die mehr als 1500 Spiele absolviert haben"
   ]
  },
  {
   "cell_type": "code",
   "execution_count": 14,
   "metadata": {},
   "outputs": [
    {
     "data": {
      "text/html": [
       "<div>\n",
       "<style scoped>\n",
       "    .dataframe tbody tr th:only-of-type {\n",
       "        vertical-align: middle;\n",
       "    }\n",
       "\n",
       "    .dataframe tbody tr th {\n",
       "        vertical-align: top;\n",
       "    }\n",
       "\n",
       "    .dataframe thead th {\n",
       "        text-align: right;\n",
       "    }\n",
       "</style>\n",
       "<table border=\"1\" class=\"dataframe\">\n",
       "  <thead>\n",
       "    <tr style=\"text-align: right;\">\n",
       "      <th></th>\n",
       "      <th>#</th>\n",
       "      <th>Player</th>\n",
       "      <th>GP</th>\n",
       "      <th>MIN</th>\n",
       "      <th>PTS</th>\n",
       "      <th>FGM</th>\n",
       "      <th>FGA</th>\n",
       "      <th>FG%</th>\n",
       "      <th>3PM</th>\n",
       "      <th>3PA</th>\n",
       "      <th>...</th>\n",
       "      <th>FT%</th>\n",
       "      <th>OREB</th>\n",
       "      <th>DREB</th>\n",
       "      <th>REB</th>\n",
       "      <th>AST</th>\n",
       "      <th>STL</th>\n",
       "      <th>BLK</th>\n",
       "      <th>TOV</th>\n",
       "      <th>eFG%</th>\n",
       "      <th>TS%</th>\n",
       "    </tr>\n",
       "  </thead>\n",
       "  <tbody>\n",
       "    <tr>\n",
       "      <th>0</th>\n",
       "      <td>1</td>\n",
       "      <td>Kareem Abdul-Jabbar</td>\n",
       "      <td>1560</td>\n",
       "      <td>57446</td>\n",
       "      <td>38387</td>\n",
       "      <td>15837</td>\n",
       "      <td>28307</td>\n",
       "      <td>55.9</td>\n",
       "      <td>1</td>\n",
       "      <td>18</td>\n",
       "      <td>...</td>\n",
       "      <td>72.1</td>\n",
       "      <td>2975</td>\n",
       "      <td>9394</td>\n",
       "      <td>17440</td>\n",
       "      <td>5660</td>\n",
       "      <td>1160</td>\n",
       "      <td>3189</td>\n",
       "      <td>2527</td>\n",
       "      <td>55.9</td>\n",
       "      <td>59.2</td>\n",
       "    </tr>\n",
       "    <tr>\n",
       "      <th>26</th>\n",
       "      <td>27</td>\n",
       "      <td>Robert Parish</td>\n",
       "      <td>1611</td>\n",
       "      <td>45704</td>\n",
       "      <td>23334</td>\n",
       "      <td>9614</td>\n",
       "      <td>17914</td>\n",
       "      <td>53.7</td>\n",
       "      <td>0</td>\n",
       "      <td>6</td>\n",
       "      <td>...</td>\n",
       "      <td>72.1</td>\n",
       "      <td>4598</td>\n",
       "      <td>10117</td>\n",
       "      <td>14715</td>\n",
       "      <td>2180</td>\n",
       "      <td>1219</td>\n",
       "      <td>2361</td>\n",
       "      <td>3183</td>\n",
       "      <td>53.7</td>\n",
       "      <td>57.1</td>\n",
       "    </tr>\n",
       "    <tr>\n",
       "      <th>44</th>\n",
       "      <td>45</td>\n",
       "      <td>John Stockton</td>\n",
       "      <td>1504</td>\n",
       "      <td>47766</td>\n",
       "      <td>19711</td>\n",
       "      <td>7039</td>\n",
       "      <td>13658</td>\n",
       "      <td>51.5</td>\n",
       "      <td>845</td>\n",
       "      <td>2202</td>\n",
       "      <td>...</td>\n",
       "      <td>82.6</td>\n",
       "      <td>966</td>\n",
       "      <td>3085</td>\n",
       "      <td>4051</td>\n",
       "      <td>15806</td>\n",
       "      <td>3265</td>\n",
       "      <td>315</td>\n",
       "      <td>4244</td>\n",
       "      <td>54.6</td>\n",
       "      <td>60.8</td>\n",
       "    </tr>\n",
       "  </tbody>\n",
       "</table>\n",
       "<p>3 rows × 23 columns</p>\n",
       "</div>"
      ],
      "text/plain": [
       "     #               Player    GP    MIN    PTS    FGM    FGA   FG%  3PM  \\\n",
       "0    1  Kareem Abdul-Jabbar  1560  57446  38387  15837  28307  55.9    1   \n",
       "26  27        Robert Parish  1611  45704  23334   9614  17914  53.7    0   \n",
       "44  45        John Stockton  1504  47766  19711   7039  13658  51.5  845   \n",
       "\n",
       "     3PA  ...   FT%  OREB   DREB    REB    AST   STL   BLK   TOV  eFG%   TS%  \n",
       "0     18  ...  72.1  2975   9394  17440   5660  1160  3189  2527  55.9  59.2  \n",
       "26     6  ...  72.1  4598  10117  14715   2180  1219  2361  3183  53.7  57.1  \n",
       "44  2202  ...  82.6   966   3085   4051  15806  3265   315  4244  54.6  60.8  \n",
       "\n",
       "[3 rows x 23 columns]"
      ]
     },
     "execution_count": 14,
     "metadata": {},
     "output_type": "execute_result"
    }
   ],
   "source": [
    "df[df['GP'] > 1500]"
   ]
  },
  {
   "cell_type": "markdown",
   "metadata": {},
   "source": [
    "**Beispiel:**: Alle Spieler, die mehr als 30'000 Punkte gesammelt haben"
   ]
  },
  {
   "cell_type": "code",
   "execution_count": 15,
   "metadata": {},
   "outputs": [
    {
     "data": {
      "text/html": [
       "<div>\n",
       "<style scoped>\n",
       "    .dataframe tbody tr th:only-of-type {\n",
       "        vertical-align: middle;\n",
       "    }\n",
       "\n",
       "    .dataframe tbody tr th {\n",
       "        vertical-align: top;\n",
       "    }\n",
       "\n",
       "    .dataframe thead th {\n",
       "        text-align: right;\n",
       "    }\n",
       "</style>\n",
       "<table border=\"1\" class=\"dataframe\">\n",
       "  <thead>\n",
       "    <tr style=\"text-align: right;\">\n",
       "      <th></th>\n",
       "      <th>#</th>\n",
       "      <th>Player</th>\n",
       "      <th>GP</th>\n",
       "      <th>MIN</th>\n",
       "      <th>PTS</th>\n",
       "      <th>FGM</th>\n",
       "      <th>FGA</th>\n",
       "      <th>FG%</th>\n",
       "      <th>3PM</th>\n",
       "      <th>3PA</th>\n",
       "      <th>...</th>\n",
       "      <th>FT%</th>\n",
       "      <th>OREB</th>\n",
       "      <th>DREB</th>\n",
       "      <th>REB</th>\n",
       "      <th>AST</th>\n",
       "      <th>STL</th>\n",
       "      <th>BLK</th>\n",
       "      <th>TOV</th>\n",
       "      <th>eFG%</th>\n",
       "      <th>TS%</th>\n",
       "    </tr>\n",
       "  </thead>\n",
       "  <tbody>\n",
       "    <tr>\n",
       "      <th>0</th>\n",
       "      <td>1</td>\n",
       "      <td>Kareem Abdul-Jabbar</td>\n",
       "      <td>1560</td>\n",
       "      <td>57446</td>\n",
       "      <td>38387</td>\n",
       "      <td>15837</td>\n",
       "      <td>28307</td>\n",
       "      <td>55.9</td>\n",
       "      <td>1</td>\n",
       "      <td>18</td>\n",
       "      <td>...</td>\n",
       "      <td>72.1</td>\n",
       "      <td>2975</td>\n",
       "      <td>9394</td>\n",
       "      <td>17440</td>\n",
       "      <td>5660</td>\n",
       "      <td>1160</td>\n",
       "      <td>3189</td>\n",
       "      <td>2527</td>\n",
       "      <td>55.9</td>\n",
       "      <td>59.2</td>\n",
       "    </tr>\n",
       "    <tr>\n",
       "      <th>1</th>\n",
       "      <td>2</td>\n",
       "      <td>Karl Malone</td>\n",
       "      <td>1476</td>\n",
       "      <td>54852</td>\n",
       "      <td>36928</td>\n",
       "      <td>13528</td>\n",
       "      <td>26210</td>\n",
       "      <td>51.6</td>\n",
       "      <td>85</td>\n",
       "      <td>310</td>\n",
       "      <td>...</td>\n",
       "      <td>74.2</td>\n",
       "      <td>3562</td>\n",
       "      <td>11406</td>\n",
       "      <td>14968</td>\n",
       "      <td>5248</td>\n",
       "      <td>2085</td>\n",
       "      <td>1145</td>\n",
       "      <td>4524</td>\n",
       "      <td>51.8</td>\n",
       "      <td>57.7</td>\n",
       "    </tr>\n",
       "    <tr>\n",
       "      <th>2</th>\n",
       "      <td>3</td>\n",
       "      <td>Kobe Bryant</td>\n",
       "      <td>1346</td>\n",
       "      <td>48643</td>\n",
       "      <td>33643</td>\n",
       "      <td>11719</td>\n",
       "      <td>26200</td>\n",
       "      <td>44.7</td>\n",
       "      <td>1827</td>\n",
       "      <td>5546</td>\n",
       "      <td>...</td>\n",
       "      <td>83.7</td>\n",
       "      <td>1499</td>\n",
       "      <td>5548</td>\n",
       "      <td>7047</td>\n",
       "      <td>6306</td>\n",
       "      <td>1944</td>\n",
       "      <td>640</td>\n",
       "      <td>4010</td>\n",
       "      <td>48.2</td>\n",
       "      <td>55.0</td>\n",
       "    </tr>\n",
       "    <tr>\n",
       "      <th>3</th>\n",
       "      <td>4</td>\n",
       "      <td>Michael Jordan</td>\n",
       "      <td>1072</td>\n",
       "      <td>41010</td>\n",
       "      <td>32292</td>\n",
       "      <td>12192</td>\n",
       "      <td>24537</td>\n",
       "      <td>49.7</td>\n",
       "      <td>581</td>\n",
       "      <td>1778</td>\n",
       "      <td>...</td>\n",
       "      <td>83.5</td>\n",
       "      <td>1668</td>\n",
       "      <td>5004</td>\n",
       "      <td>6672</td>\n",
       "      <td>5633</td>\n",
       "      <td>2514</td>\n",
       "      <td>893</td>\n",
       "      <td>2924</td>\n",
       "      <td>50.9</td>\n",
       "      <td>56.9</td>\n",
       "    </tr>\n",
       "    <tr>\n",
       "      <th>4</th>\n",
       "      <td>5</td>\n",
       "      <td>Wilt Chamberlain</td>\n",
       "      <td>1045</td>\n",
       "      <td>47859</td>\n",
       "      <td>31419</td>\n",
       "      <td>12681</td>\n",
       "      <td>23497</td>\n",
       "      <td>54.0</td>\n",
       "      <td>-</td>\n",
       "      <td>-</td>\n",
       "      <td>...</td>\n",
       "      <td>51.1</td>\n",
       "      <td>-</td>\n",
       "      <td>-</td>\n",
       "      <td>23924</td>\n",
       "      <td>4643</td>\n",
       "      <td>-</td>\n",
       "      <td>-</td>\n",
       "      <td>-</td>\n",
       "      <td>54.0</td>\n",
       "      <td>54.7</td>\n",
       "    </tr>\n",
       "    <tr>\n",
       "      <th>5</th>\n",
       "      <td>6</td>\n",
       "      <td>Dirk Nowitzki</td>\n",
       "      <td>1471</td>\n",
       "      <td>50572</td>\n",
       "      <td>31187</td>\n",
       "      <td>11034</td>\n",
       "      <td>23358</td>\n",
       "      <td>47.2</td>\n",
       "      <td>1918</td>\n",
       "      <td>5005</td>\n",
       "      <td>...</td>\n",
       "      <td>87.9</td>\n",
       "      <td>1463</td>\n",
       "      <td>9868</td>\n",
       "      <td>11331</td>\n",
       "      <td>3616</td>\n",
       "      <td>1201</td>\n",
       "      <td>1263</td>\n",
       "      <td>2476</td>\n",
       "      <td>51.3</td>\n",
       "      <td>57.8</td>\n",
       "    </tr>\n",
       "    <tr>\n",
       "      <th>6</th>\n",
       "      <td>7</td>\n",
       "      <td>LeBron James</td>\n",
       "      <td>1143</td>\n",
       "      <td>44297</td>\n",
       "      <td>31038</td>\n",
       "      <td>11280</td>\n",
       "      <td>22383</td>\n",
       "      <td>50.4</td>\n",
       "      <td>1616</td>\n",
       "      <td>4701</td>\n",
       "      <td>...</td>\n",
       "      <td>73.9</td>\n",
       "      <td>1386</td>\n",
       "      <td>7029</td>\n",
       "      <td>8415</td>\n",
       "      <td>8208</td>\n",
       "      <td>1865</td>\n",
       "      <td>888</td>\n",
       "      <td>3966</td>\n",
       "      <td>54.0</td>\n",
       "      <td>58.6</td>\n",
       "    </tr>\n",
       "  </tbody>\n",
       "</table>\n",
       "<p>7 rows × 23 columns</p>\n",
       "</div>"
      ],
      "text/plain": [
       "   #               Player    GP    MIN    PTS    FGM    FGA   FG%   3PM   3PA  \\\n",
       "0  1  Kareem Abdul-Jabbar  1560  57446  38387  15837  28307  55.9     1    18   \n",
       "1  2          Karl Malone  1476  54852  36928  13528  26210  51.6    85   310   \n",
       "2  3          Kobe Bryant  1346  48643  33643  11719  26200  44.7  1827  5546   \n",
       "3  4       Michael Jordan  1072  41010  32292  12192  24537  49.7   581  1778   \n",
       "4  5     Wilt Chamberlain  1045  47859  31419  12681  23497  54.0     -     -   \n",
       "5  6        Dirk Nowitzki  1471  50572  31187  11034  23358  47.2  1918  5005   \n",
       "6  7         LeBron James  1143  44297  31038  11280  22383  50.4  1616  4701   \n",
       "\n",
       "   ...   FT%  OREB   DREB    REB   AST   STL   BLK   TOV  eFG%   TS%  \n",
       "0  ...  72.1  2975   9394  17440  5660  1160  3189  2527  55.9  59.2  \n",
       "1  ...  74.2  3562  11406  14968  5248  2085  1145  4524  51.8  57.7  \n",
       "2  ...  83.7  1499   5548   7047  6306  1944   640  4010  48.2  55.0  \n",
       "3  ...  83.5  1668   5004   6672  5633  2514   893  2924  50.9  56.9  \n",
       "4  ...  51.1     -      -  23924  4643     -     -     -  54.0  54.7  \n",
       "5  ...  87.9  1463   9868  11331  3616  1201  1263  2476  51.3  57.8  \n",
       "6  ...  73.9  1386   7029   8415  8208  1865   888  3966  54.0  58.6  \n",
       "\n",
       "[7 rows x 23 columns]"
      ]
     },
     "execution_count": 15,
     "metadata": {},
     "output_type": "execute_result"
    }
   ],
   "source": [
    "df[df['PTS'] > 30000]"
   ]
  },
  {
   "cell_type": "markdown",
   "metadata": {},
   "source": [
    "(Hier wäre also das Kriterium, auf dem die NBA-Rangliste basiert!)"
   ]
  },
  {
   "cell_type": "markdown",
   "metadata": {},
   "source": [
    "### Logische Operatoren"
   ]
  },
  {
   "cell_type": "markdown",
   "metadata": {},
   "source": [
    "Und es gibt diverse logische Operatoren:\n",
    "- `&` logisches UND\n",
    "- `|` logisches ODER\n",
    "- `~` logisches NICHT\n",
    "\n",
    "Beim kombinieren, beachte die Klammern!"
   ]
  },
  {
   "cell_type": "markdown",
   "metadata": {},
   "source": [
    "**Beispiel**: Alle Spieler, die entweder Michael Jordan heissen oder mehr als 1500 Spiele absolviert haben"
   ]
  },
  {
   "cell_type": "code",
   "execution_count": 18,
   "metadata": {},
   "outputs": [
    {
     "data": {
      "text/html": [
       "<div>\n",
       "<style scoped>\n",
       "    .dataframe tbody tr th:only-of-type {\n",
       "        vertical-align: middle;\n",
       "    }\n",
       "\n",
       "    .dataframe tbody tr th {\n",
       "        vertical-align: top;\n",
       "    }\n",
       "\n",
       "    .dataframe thead th {\n",
       "        text-align: right;\n",
       "    }\n",
       "</style>\n",
       "<table border=\"1\" class=\"dataframe\">\n",
       "  <thead>\n",
       "    <tr style=\"text-align: right;\">\n",
       "      <th></th>\n",
       "      <th>#</th>\n",
       "      <th>Player</th>\n",
       "      <th>GP</th>\n",
       "      <th>MIN</th>\n",
       "      <th>PTS</th>\n",
       "      <th>FGM</th>\n",
       "      <th>FGA</th>\n",
       "      <th>FG%</th>\n",
       "      <th>3PM</th>\n",
       "      <th>3PA</th>\n",
       "      <th>...</th>\n",
       "      <th>FT%</th>\n",
       "      <th>OREB</th>\n",
       "      <th>DREB</th>\n",
       "      <th>REB</th>\n",
       "      <th>AST</th>\n",
       "      <th>STL</th>\n",
       "      <th>BLK</th>\n",
       "      <th>TOV</th>\n",
       "      <th>eFG%</th>\n",
       "      <th>TS%</th>\n",
       "    </tr>\n",
       "  </thead>\n",
       "  <tbody>\n",
       "    <tr>\n",
       "      <th>0</th>\n",
       "      <td>1</td>\n",
       "      <td>Kareem Abdul-Jabbar</td>\n",
       "      <td>1560</td>\n",
       "      <td>57446</td>\n",
       "      <td>38387</td>\n",
       "      <td>15837</td>\n",
       "      <td>28307</td>\n",
       "      <td>55.9</td>\n",
       "      <td>1</td>\n",
       "      <td>18</td>\n",
       "      <td>...</td>\n",
       "      <td>72.1</td>\n",
       "      <td>2975</td>\n",
       "      <td>9394</td>\n",
       "      <td>17440</td>\n",
       "      <td>5660</td>\n",
       "      <td>1160</td>\n",
       "      <td>3189</td>\n",
       "      <td>2527</td>\n",
       "      <td>55.9</td>\n",
       "      <td>59.2</td>\n",
       "    </tr>\n",
       "    <tr>\n",
       "      <th>3</th>\n",
       "      <td>4</td>\n",
       "      <td>Michael Jordan</td>\n",
       "      <td>1072</td>\n",
       "      <td>41010</td>\n",
       "      <td>32292</td>\n",
       "      <td>12192</td>\n",
       "      <td>24537</td>\n",
       "      <td>49.7</td>\n",
       "      <td>581</td>\n",
       "      <td>1778</td>\n",
       "      <td>...</td>\n",
       "      <td>83.5</td>\n",
       "      <td>1668</td>\n",
       "      <td>5004</td>\n",
       "      <td>6672</td>\n",
       "      <td>5633</td>\n",
       "      <td>2514</td>\n",
       "      <td>893</td>\n",
       "      <td>2924</td>\n",
       "      <td>50.9</td>\n",
       "      <td>56.9</td>\n",
       "    </tr>\n",
       "    <tr>\n",
       "      <th>26</th>\n",
       "      <td>27</td>\n",
       "      <td>Robert Parish</td>\n",
       "      <td>1611</td>\n",
       "      <td>45704</td>\n",
       "      <td>23334</td>\n",
       "      <td>9614</td>\n",
       "      <td>17914</td>\n",
       "      <td>53.7</td>\n",
       "      <td>0</td>\n",
       "      <td>6</td>\n",
       "      <td>...</td>\n",
       "      <td>72.1</td>\n",
       "      <td>4598</td>\n",
       "      <td>10117</td>\n",
       "      <td>14715</td>\n",
       "      <td>2180</td>\n",
       "      <td>1219</td>\n",
       "      <td>2361</td>\n",
       "      <td>3183</td>\n",
       "      <td>53.7</td>\n",
       "      <td>57.1</td>\n",
       "    </tr>\n",
       "    <tr>\n",
       "      <th>44</th>\n",
       "      <td>45</td>\n",
       "      <td>John Stockton</td>\n",
       "      <td>1504</td>\n",
       "      <td>47766</td>\n",
       "      <td>19711</td>\n",
       "      <td>7039</td>\n",
       "      <td>13658</td>\n",
       "      <td>51.5</td>\n",
       "      <td>845</td>\n",
       "      <td>2202</td>\n",
       "      <td>...</td>\n",
       "      <td>82.6</td>\n",
       "      <td>966</td>\n",
       "      <td>3085</td>\n",
       "      <td>4051</td>\n",
       "      <td>15806</td>\n",
       "      <td>3265</td>\n",
       "      <td>315</td>\n",
       "      <td>4244</td>\n",
       "      <td>54.6</td>\n",
       "      <td>60.8</td>\n",
       "    </tr>\n",
       "  </tbody>\n",
       "</table>\n",
       "<p>4 rows × 23 columns</p>\n",
       "</div>"
      ],
      "text/plain": [
       "     #               Player    GP    MIN    PTS    FGM    FGA   FG%  3PM  \\\n",
       "0    1  Kareem Abdul-Jabbar  1560  57446  38387  15837  28307  55.9    1   \n",
       "3    4       Michael Jordan  1072  41010  32292  12192  24537  49.7  581   \n",
       "26  27        Robert Parish  1611  45704  23334   9614  17914  53.7    0   \n",
       "44  45        John Stockton  1504  47766  19711   7039  13658  51.5  845   \n",
       "\n",
       "     3PA  ...   FT%  OREB   DREB    REB    AST   STL   BLK   TOV  eFG%   TS%  \n",
       "0     18  ...  72.1  2975   9394  17440   5660  1160  3189  2527  55.9  59.2  \n",
       "3   1778  ...  83.5  1668   5004   6672   5633  2514   893  2924  50.9  56.9  \n",
       "26     6  ...  72.1  4598  10117  14715   2180  1219  2361  3183  53.7  57.1  \n",
       "44  2202  ...  82.6   966   3085   4051  15806  3265   315  4244  54.6  60.8  \n",
       "\n",
       "[4 rows x 23 columns]"
      ]
     },
     "execution_count": 18,
     "metadata": {},
     "output_type": "execute_result"
    }
   ],
   "source": [
    "df[(df['Player'] == 'Michael Jordan') | (df['GP'] > 1500)]"
   ]
  },
  {
   "cell_type": "markdown",
   "metadata": {},
   "source": [
    "**Beispiel**: Alle Spieler, die nicht Michael Jordan heissen und nicht weniger als 30'000 Punkte gesammelt haben"
   ]
  },
  {
   "cell_type": "code",
   "execution_count": null,
   "metadata": {},
   "outputs": [],
   "source": [
    "df[~(df['Player'] == 'Michael Jordan') & ~(df['PTS'] < 30000)]\n",
    "# mit Alt+N macht man die Verneinung: ~, mit Alt+7 macht man das Oder: |"
   ]
  },
  {
   "cell_type": "markdown",
   "metadata": {},
   "source": [
    "**Quiz**: Finden Sie alle Spieler mit einer Wurfquote (FG%) von über 60 Prozent"
   ]
  },
  {
   "cell_type": "code",
   "execution_count": 23,
   "metadata": {},
   "outputs": [
    {
     "data": {
      "text/html": [
       "<div>\n",
       "<style scoped>\n",
       "    .dataframe tbody tr th:only-of-type {\n",
       "        vertical-align: middle;\n",
       "    }\n",
       "\n",
       "    .dataframe tbody tr th {\n",
       "        vertical-align: top;\n",
       "    }\n",
       "\n",
       "    .dataframe thead th {\n",
       "        text-align: right;\n",
       "    }\n",
       "</style>\n",
       "<table border=\"1\" class=\"dataframe\">\n",
       "  <thead>\n",
       "    <tr style=\"text-align: right;\">\n",
       "      <th></th>\n",
       "      <th>#</th>\n",
       "      <th>Player</th>\n",
       "      <th>GP</th>\n",
       "      <th>MIN</th>\n",
       "      <th>PTS</th>\n",
       "      <th>FGM</th>\n",
       "      <th>FGA</th>\n",
       "      <th>FG%</th>\n",
       "      <th>3PM</th>\n",
       "      <th>3PA</th>\n",
       "      <th>...</th>\n",
       "      <th>FT%</th>\n",
       "      <th>OREB</th>\n",
       "      <th>DREB</th>\n",
       "      <th>REB</th>\n",
       "      <th>AST</th>\n",
       "      <th>STL</th>\n",
       "      <th>BLK</th>\n",
       "      <th>TOV</th>\n",
       "      <th>eFG%</th>\n",
       "      <th>TS%</th>\n",
       "    </tr>\n",
       "  </thead>\n",
       "  <tbody>\n",
       "    <tr>\n",
       "      <th>583</th>\n",
       "      <td>584</td>\n",
       "      <td>DeAndre Jordan</td>\n",
       "      <td>750</td>\n",
       "      <td>21044</td>\n",
       "      <td>7078</td>\n",
       "      <td>2860</td>\n",
       "      <td>4252</td>\n",
       "      <td>67.3</td>\n",
       "      <td>1</td>\n",
       "      <td>11</td>\n",
       "      <td>...</td>\n",
       "      <td>44.6</td>\n",
       "      <td>2435</td>\n",
       "      <td>5553</td>\n",
       "      <td>7988</td>\n",
       "      <td>557</td>\n",
       "      <td>448</td>\n",
       "      <td>1277</td>\n",
       "      <td>982</td>\n",
       "      <td>67.3</td>\n",
       "      <td>63.3</td>\n",
       "    </tr>\n",
       "    <tr>\n",
       "      <th>1122</th>\n",
       "      <td>1123</td>\n",
       "      <td>Brandan Wright</td>\n",
       "      <td>428</td>\n",
       "      <td>6949</td>\n",
       "      <td>2976</td>\n",
       "      <td>1271</td>\n",
       "      <td>2095</td>\n",
       "      <td>60.7</td>\n",
       "      <td>0</td>\n",
       "      <td>12</td>\n",
       "      <td>...</td>\n",
       "      <td>67.4</td>\n",
       "      <td>586</td>\n",
       "      <td>974</td>\n",
       "      <td>1560</td>\n",
       "      <td>199</td>\n",
       "      <td>198</td>\n",
       "      <td>425</td>\n",
       "      <td>202</td>\n",
       "      <td>60.7</td>\n",
       "      <td>62.6</td>\n",
       "    </tr>\n",
       "  </tbody>\n",
       "</table>\n",
       "<p>2 rows × 23 columns</p>\n",
       "</div>"
      ],
      "text/plain": [
       "         #          Player   GP    MIN   PTS   FGM   FGA   FG% 3PM 3PA  ...  \\\n",
       "583    584  DeAndre Jordan  750  21044  7078  2860  4252  67.3   1  11  ...   \n",
       "1122  1123  Brandan Wright  428   6949  2976  1271  2095  60.7   0  12  ...   \n",
       "\n",
       "       FT%  OREB  DREB   REB  AST  STL   BLK  TOV  eFG%   TS%  \n",
       "583   44.6  2435  5553  7988  557  448  1277  982  67.3  63.3  \n",
       "1122  67.4   586   974  1560  199  198   425  202  60.7  62.6  \n",
       "\n",
       "[2 rows x 23 columns]"
      ]
     },
     "execution_count": 23,
     "metadata": {},
     "output_type": "execute_result"
    }
   ],
   "source": [
    "#Antwort\n",
    "df[df[\"FG%\"] > 60]"
   ]
  },
  {
   "cell_type": "markdown",
   "metadata": {},
   "source": [
    "**Quiz:** Finden Sie alle Spieler, die mehr als 10'000 Rebounds (REB) und mehr als 5000 Assists (AST) gesammelt haben"
   ]
  },
  {
   "cell_type": "code",
   "execution_count": 25,
   "metadata": {},
   "outputs": [
    {
     "data": {
      "text/html": [
       "<div>\n",
       "<style scoped>\n",
       "    .dataframe tbody tr th:only-of-type {\n",
       "        vertical-align: middle;\n",
       "    }\n",
       "\n",
       "    .dataframe tbody tr th {\n",
       "        vertical-align: top;\n",
       "    }\n",
       "\n",
       "    .dataframe thead th {\n",
       "        text-align: right;\n",
       "    }\n",
       "</style>\n",
       "<table border=\"1\" class=\"dataframe\">\n",
       "  <thead>\n",
       "    <tr style=\"text-align: right;\">\n",
       "      <th></th>\n",
       "      <th>#</th>\n",
       "      <th>Player</th>\n",
       "      <th>GP</th>\n",
       "      <th>MIN</th>\n",
       "      <th>PTS</th>\n",
       "      <th>FGM</th>\n",
       "      <th>FGA</th>\n",
       "      <th>FG%</th>\n",
       "      <th>3PM</th>\n",
       "      <th>3PA</th>\n",
       "      <th>...</th>\n",
       "      <th>FT%</th>\n",
       "      <th>OREB</th>\n",
       "      <th>DREB</th>\n",
       "      <th>REB</th>\n",
       "      <th>AST</th>\n",
       "      <th>STL</th>\n",
       "      <th>BLK</th>\n",
       "      <th>TOV</th>\n",
       "      <th>eFG%</th>\n",
       "      <th>TS%</th>\n",
       "    </tr>\n",
       "  </thead>\n",
       "  <tbody>\n",
       "    <tr>\n",
       "      <th>0</th>\n",
       "      <td>1</td>\n",
       "      <td>Kareem Abdul-Jabbar</td>\n",
       "      <td>1560</td>\n",
       "      <td>57446</td>\n",
       "      <td>38387</td>\n",
       "      <td>15837</td>\n",
       "      <td>28307</td>\n",
       "      <td>55.9</td>\n",
       "      <td>1</td>\n",
       "      <td>18</td>\n",
       "      <td>...</td>\n",
       "      <td>72.1</td>\n",
       "      <td>2975</td>\n",
       "      <td>9394</td>\n",
       "      <td>17440</td>\n",
       "      <td>5660</td>\n",
       "      <td>1160</td>\n",
       "      <td>3189</td>\n",
       "      <td>2527</td>\n",
       "      <td>55.9</td>\n",
       "      <td>59.2</td>\n",
       "    </tr>\n",
       "    <tr>\n",
       "      <th>1</th>\n",
       "      <td>2</td>\n",
       "      <td>Karl Malone</td>\n",
       "      <td>1476</td>\n",
       "      <td>54852</td>\n",
       "      <td>36928</td>\n",
       "      <td>13528</td>\n",
       "      <td>26210</td>\n",
       "      <td>51.6</td>\n",
       "      <td>85</td>\n",
       "      <td>310</td>\n",
       "      <td>...</td>\n",
       "      <td>74.2</td>\n",
       "      <td>3562</td>\n",
       "      <td>11406</td>\n",
       "      <td>14968</td>\n",
       "      <td>5248</td>\n",
       "      <td>2085</td>\n",
       "      <td>1145</td>\n",
       "      <td>4524</td>\n",
       "      <td>51.8</td>\n",
       "      <td>57.7</td>\n",
       "    </tr>\n",
       "    <tr>\n",
       "      <th>16</th>\n",
       "      <td>17</td>\n",
       "      <td>Kevin Garnett</td>\n",
       "      <td>1462</td>\n",
       "      <td>50412</td>\n",
       "      <td>26071</td>\n",
       "      <td>10505</td>\n",
       "      <td>21142</td>\n",
       "      <td>49.7</td>\n",
       "      <td>174</td>\n",
       "      <td>632</td>\n",
       "      <td>...</td>\n",
       "      <td>78.9</td>\n",
       "      <td>3209</td>\n",
       "      <td>11453</td>\n",
       "      <td>14662</td>\n",
       "      <td>5445</td>\n",
       "      <td>1859</td>\n",
       "      <td>2037</td>\n",
       "      <td>3179</td>\n",
       "      <td>50.1</td>\n",
       "      <td>54.6</td>\n",
       "    </tr>\n",
       "  </tbody>\n",
       "</table>\n",
       "<p>3 rows × 23 columns</p>\n",
       "</div>"
      ],
      "text/plain": [
       "     #               Player    GP    MIN    PTS    FGM    FGA   FG%  3PM  3PA  \\\n",
       "0    1  Kareem Abdul-Jabbar  1560  57446  38387  15837  28307  55.9    1   18   \n",
       "1    2          Karl Malone  1476  54852  36928  13528  26210  51.6   85  310   \n",
       "16  17        Kevin Garnett  1462  50412  26071  10505  21142  49.7  174  632   \n",
       "\n",
       "    ...   FT%  OREB   DREB    REB   AST   STL   BLK   TOV  eFG%   TS%  \n",
       "0   ...  72.1  2975   9394  17440  5660  1160  3189  2527  55.9  59.2  \n",
       "1   ...  74.2  3562  11406  14968  5248  2085  1145  4524  51.8  57.7  \n",
       "16  ...  78.9  3209  11453  14662  5445  1859  2037  3179  50.1  54.6  \n",
       "\n",
       "[3 rows x 23 columns]"
      ]
     },
     "execution_count": 25,
     "metadata": {},
     "output_type": "execute_result"
    }
   ],
   "source": [
    "#Antwort\n",
    "df[(df[\"REB\"] > 10000) & (df[\"AST\"] > 5000)]"
   ]
  },
  {
   "cell_type": "markdown",
   "metadata": {},
   "source": [
    "**Quiz:** Finden Sie alle Spieler, die weniger als 1000 Turnovers (Ballverluste, TOV) auf ihrem Konto haben und eine Dreipunktewurfquote (3P%) über 50 Prozent."
   ]
  },
  {
   "cell_type": "code",
   "execution_count": 29,
   "metadata": {},
   "outputs": [
    {
     "data": {
      "text/plain": [
       "0        5.6\n",
       "1       27.4\n",
       "2       32.9\n",
       "3       32.7\n",
       "4          -\n",
       "5       38.3\n",
       "6       34.4\n",
       "7        4.5\n",
       "8         10\n",
       "9       14.7\n",
       "10      20.2\n",
       "11         -\n",
       "12      31.9\n",
       "13      17.9\n",
       "14      36.8\n",
       "15         -\n",
       "16      27.5\n",
       "17      21.7\n",
       "18      34.7\n",
       "19      39.5\n",
       "20         -\n",
       "21      37.3\n",
       "22      15.2\n",
       "23        40\n",
       "24      31.3\n",
       "25      26.6\n",
       "26         0\n",
       "27      17.1\n",
       "28         -\n",
       "29      31.8\n",
       "        ... \n",
       "1208    30.2\n",
       "1209    27.8\n",
       "1210       0\n",
       "1211    38.4\n",
       "1212    37.3\n",
       "1213    31.8\n",
       "1214    35.5\n",
       "1215       0\n",
       "1216       0\n",
       "1217       0\n",
       "1218    33.3\n",
       "1219    18.8\n",
       "1220    16.7\n",
       "1221     8.3\n",
       "1222    29.2\n",
       "1223    36.1\n",
       "1224    33.8\n",
       "1225      21\n",
       "1226    34.4\n",
       "1227       0\n",
       "1228       0\n",
       "1229    29.2\n",
       "1230    20.6\n",
       "1231    16.7\n",
       "1232      25\n",
       "1233      10\n",
       "1234       0\n",
       "1235    33.3\n",
       "1236     6.3\n",
       "1237       0\n",
       "Name: 3P%, Length: 1238, dtype: object"
      ]
     },
     "execution_count": 29,
     "metadata": {},
     "output_type": "execute_result"
    }
   ],
   "source": [
    "df[\"3P%\"]"
   ]
  },
  {
   "cell_type": "code",
   "execution_count": 27,
   "metadata": {},
   "outputs": [
    {
     "ename": "TypeError",
     "evalue": "'<' not supported between instances of 'str' and 'int'",
     "output_type": "error",
     "traceback": [
      "\u001b[0;31m---------------------------------------------------------------------------\u001b[0m",
      "\u001b[0;31mTypeError\u001b[0m                                 Traceback (most recent call last)",
      "\u001b[0;32m<ipython-input-27-ed12953c227b>\u001b[0m in \u001b[0;36m<module>\u001b[0;34m\u001b[0m\n\u001b[1;32m      1\u001b[0m \u001b[0;31m#Antwort\u001b[0m\u001b[0;34m\u001b[0m\u001b[0;34m\u001b[0m\u001b[0;34m\u001b[0m\u001b[0m\n\u001b[0;32m----> 2\u001b[0;31m \u001b[0mdf\u001b[0m\u001b[0;34m[\u001b[0m\u001b[0;34m(\u001b[0m\u001b[0mdf\u001b[0m\u001b[0;34m[\u001b[0m\u001b[0;34m\"TOV\"\u001b[0m\u001b[0;34m]\u001b[0m \u001b[0;34m<\u001b[0m\u001b[0;36m1000\u001b[0m\u001b[0;34m)\u001b[0m \u001b[0;34m&\u001b[0m \u001b[0;34m(\u001b[0m\u001b[0mdf\u001b[0m\u001b[0;34m[\u001b[0m\u001b[0;34m\"3P%\"\u001b[0m\u001b[0;34m]\u001b[0m \u001b[0;34m>\u001b[0m \u001b[0;36m50\u001b[0m\u001b[0;34m)\u001b[0m\u001b[0;34m]\u001b[0m\u001b[0;34m\u001b[0m\u001b[0;34m\u001b[0m\u001b[0m\n\u001b[0m",
      "\u001b[0;32m//anaconda3/lib/python3.7/site-packages/pandas/core/ops.py\u001b[0m in \u001b[0;36mwrapper\u001b[0;34m(self, other, axis)\u001b[0m\n\u001b[1;32m   1764\u001b[0m \u001b[0;34m\u001b[0m\u001b[0m\n\u001b[1;32m   1765\u001b[0m             \u001b[0;32mwith\u001b[0m \u001b[0mnp\u001b[0m\u001b[0;34m.\u001b[0m\u001b[0merrstate\u001b[0m\u001b[0;34m(\u001b[0m\u001b[0mall\u001b[0m\u001b[0;34m=\u001b[0m\u001b[0;34m'ignore'\u001b[0m\u001b[0;34m)\u001b[0m\u001b[0;34m:\u001b[0m\u001b[0;34m\u001b[0m\u001b[0;34m\u001b[0m\u001b[0m\n\u001b[0;32m-> 1766\u001b[0;31m                 \u001b[0mres\u001b[0m \u001b[0;34m=\u001b[0m \u001b[0mna_op\u001b[0m\u001b[0;34m(\u001b[0m\u001b[0mvalues\u001b[0m\u001b[0;34m,\u001b[0m \u001b[0mother\u001b[0m\u001b[0;34m)\u001b[0m\u001b[0;34m\u001b[0m\u001b[0;34m\u001b[0m\u001b[0m\n\u001b[0m\u001b[1;32m   1767\u001b[0m             \u001b[0;32mif\u001b[0m \u001b[0mis_scalar\u001b[0m\u001b[0;34m(\u001b[0m\u001b[0mres\u001b[0m\u001b[0;34m)\u001b[0m\u001b[0;34m:\u001b[0m\u001b[0;34m\u001b[0m\u001b[0;34m\u001b[0m\u001b[0m\n\u001b[1;32m   1768\u001b[0m                 raise TypeError('Could not compare {typ} type with Series'\n",
      "\u001b[0;32m//anaconda3/lib/python3.7/site-packages/pandas/core/ops.py\u001b[0m in \u001b[0;36mna_op\u001b[0;34m(x, y)\u001b[0m\n\u001b[1;32m   1623\u001b[0m \u001b[0;34m\u001b[0m\u001b[0m\n\u001b[1;32m   1624\u001b[0m         \u001b[0;32mif\u001b[0m \u001b[0mis_object_dtype\u001b[0m\u001b[0;34m(\u001b[0m\u001b[0mx\u001b[0m\u001b[0;34m.\u001b[0m\u001b[0mdtype\u001b[0m\u001b[0;34m)\u001b[0m\u001b[0;34m:\u001b[0m\u001b[0;34m\u001b[0m\u001b[0;34m\u001b[0m\u001b[0m\n\u001b[0;32m-> 1625\u001b[0;31m             \u001b[0mresult\u001b[0m \u001b[0;34m=\u001b[0m \u001b[0m_comp_method_OBJECT_ARRAY\u001b[0m\u001b[0;34m(\u001b[0m\u001b[0mop\u001b[0m\u001b[0;34m,\u001b[0m \u001b[0mx\u001b[0m\u001b[0;34m,\u001b[0m \u001b[0my\u001b[0m\u001b[0;34m)\u001b[0m\u001b[0;34m\u001b[0m\u001b[0;34m\u001b[0m\u001b[0m\n\u001b[0m\u001b[1;32m   1626\u001b[0m \u001b[0;34m\u001b[0m\u001b[0m\n\u001b[1;32m   1627\u001b[0m         \u001b[0;32melif\u001b[0m \u001b[0mis_datetimelike_v_numeric\u001b[0m\u001b[0;34m(\u001b[0m\u001b[0mx\u001b[0m\u001b[0;34m,\u001b[0m \u001b[0my\u001b[0m\u001b[0;34m)\u001b[0m\u001b[0;34m:\u001b[0m\u001b[0;34m\u001b[0m\u001b[0;34m\u001b[0m\u001b[0m\n",
      "\u001b[0;32m//anaconda3/lib/python3.7/site-packages/pandas/core/ops.py\u001b[0m in \u001b[0;36m_comp_method_OBJECT_ARRAY\u001b[0;34m(op, x, y)\u001b[0m\n\u001b[1;32m   1601\u001b[0m         \u001b[0mresult\u001b[0m \u001b[0;34m=\u001b[0m \u001b[0mlibops\u001b[0m\u001b[0;34m.\u001b[0m\u001b[0mvec_compare\u001b[0m\u001b[0;34m(\u001b[0m\u001b[0mx\u001b[0m\u001b[0;34m,\u001b[0m \u001b[0my\u001b[0m\u001b[0;34m,\u001b[0m \u001b[0mop\u001b[0m\u001b[0;34m)\u001b[0m\u001b[0;34m\u001b[0m\u001b[0;34m\u001b[0m\u001b[0m\n\u001b[1;32m   1602\u001b[0m     \u001b[0;32melse\u001b[0m\u001b[0;34m:\u001b[0m\u001b[0;34m\u001b[0m\u001b[0;34m\u001b[0m\u001b[0m\n\u001b[0;32m-> 1603\u001b[0;31m         \u001b[0mresult\u001b[0m \u001b[0;34m=\u001b[0m \u001b[0mlibops\u001b[0m\u001b[0;34m.\u001b[0m\u001b[0mscalar_compare\u001b[0m\u001b[0;34m(\u001b[0m\u001b[0mx\u001b[0m\u001b[0;34m,\u001b[0m \u001b[0my\u001b[0m\u001b[0;34m,\u001b[0m \u001b[0mop\u001b[0m\u001b[0;34m)\u001b[0m\u001b[0;34m\u001b[0m\u001b[0;34m\u001b[0m\u001b[0m\n\u001b[0m\u001b[1;32m   1604\u001b[0m     \u001b[0;32mreturn\u001b[0m \u001b[0mresult\u001b[0m\u001b[0;34m\u001b[0m\u001b[0;34m\u001b[0m\u001b[0m\n\u001b[1;32m   1605\u001b[0m \u001b[0;34m\u001b[0m\u001b[0m\n",
      "\u001b[0;32mpandas/_libs/ops.pyx\u001b[0m in \u001b[0;36mpandas._libs.ops.scalar_compare\u001b[0;34m()\u001b[0m\n",
      "\u001b[0;31mTypeError\u001b[0m: '<' not supported between instances of 'str' and 'int'"
     ]
    }
   ],
   "source": [
    "#Antwort\n",
    "df[(df[\"TOV\"] <1000) & (df[\"3P%\"] > 50)]"
   ]
  },
  {
   "cell_type": "markdown",
   "metadata": {},
   "source": [
    "**Oops!**\n",
    "\n",
    "Was ging hier schief??"
   ]
  },
  {
   "cell_type": "markdown",
   "metadata": {},
   "source": [
    "Pandas sagt: `TypeError`. Was kann das heissen?\n",
    "\n",
    "Checken wir nochmals die Datentypen."
   ]
  },
  {
   "cell_type": "code",
   "execution_count": 30,
   "metadata": {},
   "outputs": [
    {
     "data": {
      "text/plain": [
       "#           int64\n",
       "Player     object\n",
       "GP          int64\n",
       "MIN         int64\n",
       "PTS         int64\n",
       "FGM         int64\n",
       "FGA         int64\n",
       "FG%       float64\n",
       "3PM        object\n",
       "3PA        object\n",
       "3P%        object\n",
       "FTM         int64\n",
       "FTA         int64\n",
       "FT%       float64\n",
       "OREB       object\n",
       "DREB       object\n",
       "REB         int64\n",
       "AST         int64\n",
       "STL        object\n",
       "BLK        object\n",
       "TOV        object\n",
       "eFG%      float64\n",
       "TS%       float64\n",
       "dtype: object"
      ]
     },
     "execution_count": 30,
     "metadata": {},
     "output_type": "execute_result"
    }
   ],
   "source": [
    "df.dtypes"
   ]
  },
  {
   "cell_type": "markdown",
   "metadata": {},
   "source": [
    "Offensichtlich wurden einige Spalten als `object` und nicht als `int64` oder `float64` erfasst.\n",
    "\n",
    "Zum Beispiel eben die Spalte TOV. Schauen wir sie nochmals genauer an."
   ]
  },
  {
   "cell_type": "code",
   "execution_count": 31,
   "metadata": {},
   "outputs": [
    {
     "data": {
      "text/plain": [
       "0       2527\n",
       "1       4524\n",
       "2       4010\n",
       "3       2924\n",
       "4          -\n",
       "5       2476\n",
       "6       3966\n",
       "7       3310\n",
       "8       3804\n",
       "9       1358\n",
       "10      3667\n",
       "11         -\n",
       "12      2669\n",
       "13      3381\n",
       "14      3532\n",
       "15       204\n",
       "16      3179\n",
       "17      2821\n",
       "18      2824\n",
       "19      2409\n",
       "20         -\n",
       "21      2509\n",
       "22      3537\n",
       "23      2709\n",
       "24      3262\n",
       "25      3376\n",
       "26      3183\n",
       "27      2503\n",
       "28         -\n",
       "29      2977\n",
       "        ... \n",
       "1208     476\n",
       "1209     331\n",
       "1210     384\n",
       "1211     428\n",
       "1212     253\n",
       "1213     217\n",
       "1214     321\n",
       "1215     386\n",
       "1216     487\n",
       "1217     249\n",
       "1218     340\n",
       "1219     355\n",
       "1220     543\n",
       "1221     258\n",
       "1222     325\n",
       "1223     255\n",
       "1224     236\n",
       "1225     451\n",
       "1226     341\n",
       "1227     299\n",
       "1228     253\n",
       "1229     226\n",
       "1230     168\n",
       "1231     355\n",
       "1232     308\n",
       "1233     231\n",
       "1234     227\n",
       "1235     250\n",
       "1236     206\n",
       "1237     273\n",
       "Name: TOV, Length: 1238, dtype: object"
      ]
     },
     "execution_count": 31,
     "metadata": {},
     "output_type": "execute_result"
    }
   ],
   "source": [
    "df['TOV']"
   ]
  },
  {
   "cell_type": "markdown",
   "metadata": {},
   "source": [
    "Einige Spieler haben bei TOV keine Zahlen drin, sondern fehlende Werte: -\n",
    "\n",
    "Wir müssen das korrigieren."
   ]
  },
  {
   "cell_type": "markdown",
   "metadata": {},
   "source": [
    "## Introducing: nan"
   ]
  },
  {
   "cell_type": "markdown",
   "metadata": {},
   "source": [
    "Pandas hat für fehlende Werte kein Sonderzeichen, sondern einen speziellen Datentyp: nan (not a number)"
   ]
  },
  {
   "cell_type": "markdown",
   "metadata": {},
   "source": [
    "Wir müssen irgendwie dafür sorgen, dass die Bindestriche in dieser Tabelle durch nan's ersetzt werden.\n",
    "\n",
    "Nur so werden wir die Kalkulationen für die betreffenden Felder ausführen können."
   ]
  },
  {
   "cell_type": "markdown",
   "metadata": {},
   "source": [
    "Es gibt diverse Tricks, um Daten zu putzen und fehlende Werte als nan zu klassifizieren.\n",
    "\n",
    "Der einfachste: Die Daten einfach nochmal neu öffnen, mit einer speziellen Zusatzangabe: `na_values`"
   ]
  },
  {
   "cell_type": "code",
   "execution_count": 32,
   "metadata": {},
   "outputs": [],
   "source": [
    "df = pd.read_excel(path, na_values='-')"
   ]
  },
  {
   "cell_type": "markdown",
   "metadata": {},
   "source": [
    "Et voilà: Hier sind unsere Datentypen"
   ]
  },
  {
   "cell_type": "code",
   "execution_count": 33,
   "metadata": {},
   "outputs": [
    {
     "data": {
      "text/plain": [
       "#           int64\n",
       "Player     object\n",
       "GP          int64\n",
       "MIN         int64\n",
       "PTS         int64\n",
       "FGM         int64\n",
       "FGA         int64\n",
       "FG%       float64\n",
       "3PM       float64\n",
       "3PA       float64\n",
       "3P%       float64\n",
       "FTM         int64\n",
       "FTA         int64\n",
       "FT%       float64\n",
       "OREB      float64\n",
       "DREB      float64\n",
       "REB         int64\n",
       "AST         int64\n",
       "STL       float64\n",
       "BLK       float64\n",
       "TOV       float64\n",
       "eFG%      float64\n",
       "TS%       float64\n",
       "dtype: object"
      ]
     },
     "execution_count": 33,
     "metadata": {},
     "output_type": "execute_result"
    }
   ],
   "source": [
    "df.dtypes"
   ]
  },
  {
   "cell_type": "markdown",
   "metadata": {},
   "source": [
    "Und hier unsere Spieler mit weniger als 1000 Turnovers und Dreipunktewurfquote über 50 Prozent."
   ]
  },
  {
   "cell_type": "code",
   "execution_count": 34,
   "metadata": {},
   "outputs": [
    {
     "data": {
      "text/html": [
       "<div>\n",
       "<style scoped>\n",
       "    .dataframe tbody tr th:only-of-type {\n",
       "        vertical-align: middle;\n",
       "    }\n",
       "\n",
       "    .dataframe tbody tr th {\n",
       "        vertical-align: top;\n",
       "    }\n",
       "\n",
       "    .dataframe thead th {\n",
       "        text-align: right;\n",
       "    }\n",
       "</style>\n",
       "<table border=\"1\" class=\"dataframe\">\n",
       "  <thead>\n",
       "    <tr style=\"text-align: right;\">\n",
       "      <th></th>\n",
       "      <th>#</th>\n",
       "      <th>Player</th>\n",
       "      <th>GP</th>\n",
       "      <th>MIN</th>\n",
       "      <th>PTS</th>\n",
       "      <th>FGM</th>\n",
       "      <th>FGA</th>\n",
       "      <th>FG%</th>\n",
       "      <th>3PM</th>\n",
       "      <th>3PA</th>\n",
       "      <th>...</th>\n",
       "      <th>FT%</th>\n",
       "      <th>OREB</th>\n",
       "      <th>DREB</th>\n",
       "      <th>REB</th>\n",
       "      <th>AST</th>\n",
       "      <th>STL</th>\n",
       "      <th>BLK</th>\n",
       "      <th>TOV</th>\n",
       "      <th>eFG%</th>\n",
       "      <th>TS%</th>\n",
       "    </tr>\n",
       "  </thead>\n",
       "  <tbody>\n",
       "    <tr>\n",
       "      <th>111</th>\n",
       "      <td>112</td>\n",
       "      <td>Pete Maravich</td>\n",
       "      <td>658</td>\n",
       "      <td>24316</td>\n",
       "      <td>15948</td>\n",
       "      <td>6187</td>\n",
       "      <td>14025</td>\n",
       "      <td>44.1</td>\n",
       "      <td>10.0</td>\n",
       "      <td>15.0</td>\n",
       "      <td>...</td>\n",
       "      <td>82.0</td>\n",
       "      <td>426.0</td>\n",
       "      <td>1421.0</td>\n",
       "      <td>2747</td>\n",
       "      <td>3563</td>\n",
       "      <td>587.0</td>\n",
       "      <td>108.0</td>\n",
       "      <td>530.0</td>\n",
       "      <td>44.1</td>\n",
       "      <td>50.0</td>\n",
       "    </tr>\n",
       "  </tbody>\n",
       "</table>\n",
       "<p>1 rows × 23 columns</p>\n",
       "</div>"
      ],
      "text/plain": [
       "       #         Player   GP    MIN    PTS   FGM    FGA   FG%   3PM   3PA  \\\n",
       "111  112  Pete Maravich  658  24316  15948  6187  14025  44.1  10.0  15.0   \n",
       "\n",
       "     ...   FT%   OREB    DREB   REB   AST    STL    BLK    TOV  eFG%   TS%  \n",
       "111  ...  82.0  426.0  1421.0  2747  3563  587.0  108.0  530.0  44.1  50.0  \n",
       "\n",
       "[1 rows x 23 columns]"
      ]
     },
     "execution_count": 34,
     "metadata": {},
     "output_type": "execute_result"
    }
   ],
   "source": [
    "df[(df['TOV'] < 1000) & (df['3P%'] > 50)]"
   ]
  },
  {
   "cell_type": "markdown",
   "metadata": {},
   "source": [
    "Wow, **Pete Maravich** ist der einzige Spieler, der das geschafft hat! Er ist der beste Spieler der NBA aller Zeiten!!"
   ]
  },
  {
   "cell_type": "markdown",
   "metadata": {},
   "source": [
    "Hier ein Video von Pete Maravich: https://www.youtube.com/watch?v=cL74uXq5l2o\n",
    "\n",
    "... allerdings hat Pete Maravich auch nur in 658 Spielen gespielt, deutlich weniger als Kareem Abdul-Jabbar mit seinen 1560 Spielen."
   ]
  },
  {
   "cell_type": "markdown",
   "metadata": {},
   "source": [
    "Wie wäre es also mit einem neuen Kriterium: Ballverluste pro Spiel? Wer schneidet hier besser ab, Maravich oder Abdul-Jabbar?"
   ]
  },
  {
   "cell_type": "markdown",
   "metadata": {},
   "source": [
    "## Neue Spalten erstellen"
   ]
  },
  {
   "cell_type": "markdown",
   "metadata": {},
   "source": [
    "Bislang haben wir unsere Vergleiche mit bestehenden Spalten angestellt. Nun müssen wir eine neue Spalte erstellen."
   ]
  },
  {
   "cell_type": "markdown",
   "metadata": {},
   "source": [
    "Wir nennen sie \"TOV%\" und sagen Pandas, dafür die Anzahl der Ballverluste durch die Anzahl der Spiele zu dividieren."
   ]
  },
  {
   "cell_type": "code",
   "execution_count": 36,
   "metadata": {},
   "outputs": [],
   "source": [
    "df['TOV%'] = df['TOV'] / df['GP']"
   ]
  },
  {
   "cell_type": "markdown",
   "metadata": {},
   "source": [
    "Schaun wir mal, wer nun besser abschneidet: Pete Maravich oder Kareem Abdul-Jabbar?"
   ]
  },
  {
   "cell_type": "code",
   "execution_count": 37,
   "metadata": {},
   "outputs": [
    {
     "data": {
      "text/html": [
       "<div>\n",
       "<style scoped>\n",
       "    .dataframe tbody tr th:only-of-type {\n",
       "        vertical-align: middle;\n",
       "    }\n",
       "\n",
       "    .dataframe tbody tr th {\n",
       "        vertical-align: top;\n",
       "    }\n",
       "\n",
       "    .dataframe thead th {\n",
       "        text-align: right;\n",
       "    }\n",
       "</style>\n",
       "<table border=\"1\" class=\"dataframe\">\n",
       "  <thead>\n",
       "    <tr style=\"text-align: right;\">\n",
       "      <th></th>\n",
       "      <th>#</th>\n",
       "      <th>Player</th>\n",
       "      <th>GP</th>\n",
       "      <th>MIN</th>\n",
       "      <th>PTS</th>\n",
       "      <th>FGM</th>\n",
       "      <th>FGA</th>\n",
       "      <th>FG%</th>\n",
       "      <th>3PM</th>\n",
       "      <th>3PA</th>\n",
       "      <th>...</th>\n",
       "      <th>OREB</th>\n",
       "      <th>DREB</th>\n",
       "      <th>REB</th>\n",
       "      <th>AST</th>\n",
       "      <th>STL</th>\n",
       "      <th>BLK</th>\n",
       "      <th>TOV</th>\n",
       "      <th>eFG%</th>\n",
       "      <th>TS%</th>\n",
       "      <th>TOV%</th>\n",
       "    </tr>\n",
       "  </thead>\n",
       "  <tbody>\n",
       "    <tr>\n",
       "      <th>0</th>\n",
       "      <td>1</td>\n",
       "      <td>Kareem Abdul-Jabbar</td>\n",
       "      <td>1560</td>\n",
       "      <td>57446</td>\n",
       "      <td>38387</td>\n",
       "      <td>15837</td>\n",
       "      <td>28307</td>\n",
       "      <td>55.9</td>\n",
       "      <td>1.0</td>\n",
       "      <td>18.0</td>\n",
       "      <td>...</td>\n",
       "      <td>2975.0</td>\n",
       "      <td>9394.0</td>\n",
       "      <td>17440</td>\n",
       "      <td>5660</td>\n",
       "      <td>1160.0</td>\n",
       "      <td>3189.0</td>\n",
       "      <td>2527.0</td>\n",
       "      <td>55.9</td>\n",
       "      <td>59.2</td>\n",
       "      <td>1.619872</td>\n",
       "    </tr>\n",
       "    <tr>\n",
       "      <th>111</th>\n",
       "      <td>112</td>\n",
       "      <td>Pete Maravich</td>\n",
       "      <td>658</td>\n",
       "      <td>24316</td>\n",
       "      <td>15948</td>\n",
       "      <td>6187</td>\n",
       "      <td>14025</td>\n",
       "      <td>44.1</td>\n",
       "      <td>10.0</td>\n",
       "      <td>15.0</td>\n",
       "      <td>...</td>\n",
       "      <td>426.0</td>\n",
       "      <td>1421.0</td>\n",
       "      <td>2747</td>\n",
       "      <td>3563</td>\n",
       "      <td>587.0</td>\n",
       "      <td>108.0</td>\n",
       "      <td>530.0</td>\n",
       "      <td>44.1</td>\n",
       "      <td>50.0</td>\n",
       "      <td>0.805471</td>\n",
       "    </tr>\n",
       "  </tbody>\n",
       "</table>\n",
       "<p>2 rows × 24 columns</p>\n",
       "</div>"
      ],
      "text/plain": [
       "       #               Player    GP    MIN    PTS    FGM    FGA   FG%   3PM  \\\n",
       "0      1  Kareem Abdul-Jabbar  1560  57446  38387  15837  28307  55.9   1.0   \n",
       "111  112        Pete Maravich   658  24316  15948   6187  14025  44.1  10.0   \n",
       "\n",
       "      3PA  ...    OREB    DREB    REB   AST     STL     BLK     TOV  eFG%  \\\n",
       "0    18.0  ...  2975.0  9394.0  17440  5660  1160.0  3189.0  2527.0  55.9   \n",
       "111  15.0  ...   426.0  1421.0   2747  3563   587.0   108.0   530.0  44.1   \n",
       "\n",
       "      TS%      TOV%  \n",
       "0    59.2  1.619872  \n",
       "111  50.0  0.805471  \n",
       "\n",
       "[2 rows x 24 columns]"
      ]
     },
     "execution_count": 37,
     "metadata": {},
     "output_type": "execute_result"
    }
   ],
   "source": [
    "df[(df['Player'] == 'Pete Maravich') | (df['Player'] == 'Kareem Abdul-Jabbar')]"
   ]
  },
  {
   "cell_type": "markdown",
   "metadata": {},
   "source": [
    "Wir können die üblichen mathematischen Operatoren verwenden, um auf diese Weise Spalten zu erzeugen:\n",
    "- `+`, `-`, `*`, `/`, `**`, `%`, `//` (die komplette Liste der Operatoren: https://www.tutorialspoint.com/python/python_basic_operators.htm)"
   ]
  },
  {
   "cell_type": "markdown",
   "metadata": {},
   "source": [
    "**Quiz:** Erstellen Sie eine neue Spalte (\"TOT\") mit dem Total der Rebounds, Assists, Steals und Blocks, die ein Spieler in seiner Karriere gesammelt hat."
   ]
  },
  {
   "cell_type": "code",
   "execution_count": 48,
   "metadata": {},
   "outputs": [],
   "source": [
    "#Antwort\n",
    "df[\"TOT\"] = df[\"REB\"] + df[\"AST\"] + df[\"STL\"] + df[\"BLK\"]\n",
    "df[\"TOTpG\"] = (df[\"REB\"] / df[\"GP\"] + df[\"AST\"] / df[\"GP\"] + df[\"STL\"] / df[\"GP\"] + df[\"BLK\"] / df[\"GP\"])"
   ]
  },
  {
   "cell_type": "markdown",
   "metadata": {},
   "source": [
    "**Quiz:** Welche zehn Spieler haben die grössten Tot-Werte aller Zeiten?"
   ]
  },
  {
   "cell_type": "code",
   "execution_count": 49,
   "metadata": {},
   "outputs": [
    {
     "data": {
      "text/html": [
       "<div>\n",
       "<style scoped>\n",
       "    .dataframe tbody tr th:only-of-type {\n",
       "        vertical-align: middle;\n",
       "    }\n",
       "\n",
       "    .dataframe tbody tr th {\n",
       "        vertical-align: top;\n",
       "    }\n",
       "\n",
       "    .dataframe thead th {\n",
       "        text-align: right;\n",
       "    }\n",
       "</style>\n",
       "<table border=\"1\" class=\"dataframe\">\n",
       "  <thead>\n",
       "    <tr style=\"text-align: right;\">\n",
       "      <th></th>\n",
       "      <th>#</th>\n",
       "      <th>Player</th>\n",
       "      <th>GP</th>\n",
       "      <th>MIN</th>\n",
       "      <th>PTS</th>\n",
       "      <th>FGM</th>\n",
       "      <th>FGA</th>\n",
       "      <th>FG%</th>\n",
       "      <th>3PM</th>\n",
       "      <th>3PA</th>\n",
       "      <th>...</th>\n",
       "      <th>REB</th>\n",
       "      <th>AST</th>\n",
       "      <th>STL</th>\n",
       "      <th>BLK</th>\n",
       "      <th>TOV</th>\n",
       "      <th>eFG%</th>\n",
       "      <th>TS%</th>\n",
       "      <th>TOV%</th>\n",
       "      <th>TOT</th>\n",
       "      <th>TOTpG</th>\n",
       "    </tr>\n",
       "  </thead>\n",
       "  <tbody>\n",
       "    <tr>\n",
       "      <th>76</th>\n",
       "      <td>77</td>\n",
       "      <td>Magic Johnson</td>\n",
       "      <td>906</td>\n",
       "      <td>33245</td>\n",
       "      <td>17707</td>\n",
       "      <td>6211</td>\n",
       "      <td>11951</td>\n",
       "      <td>52.0</td>\n",
       "      <td>325.0</td>\n",
       "      <td>1074.0</td>\n",
       "      <td>...</td>\n",
       "      <td>6559</td>\n",
       "      <td>10141</td>\n",
       "      <td>1724.0</td>\n",
       "      <td>374.0</td>\n",
       "      <td>3506.0</td>\n",
       "      <td>53.3</td>\n",
       "      <td>61.0</td>\n",
       "      <td>3.869757</td>\n",
       "      <td>18798.0</td>\n",
       "      <td>20.748344</td>\n",
       "    </tr>\n",
       "    <tr>\n",
       "      <th>163</th>\n",
       "      <td>163</td>\n",
       "      <td>Jerry Lucas</td>\n",
       "      <td>829</td>\n",
       "      <td>32131</td>\n",
       "      <td>14053</td>\n",
       "      <td>5709</td>\n",
       "      <td>11441</td>\n",
       "      <td>49.9</td>\n",
       "      <td>NaN</td>\n",
       "      <td>NaN</td>\n",
       "      <td>...</td>\n",
       "      <td>12942</td>\n",
       "      <td>2730</td>\n",
       "      <td>28.0</td>\n",
       "      <td>24.0</td>\n",
       "      <td>NaN</td>\n",
       "      <td>49.9</td>\n",
       "      <td>54.4</td>\n",
       "      <td>NaN</td>\n",
       "      <td>15724.0</td>\n",
       "      <td>18.967431</td>\n",
       "    </tr>\n",
       "    <tr>\n",
       "      <th>32</th>\n",
       "      <td>33</td>\n",
       "      <td>Larry Bird</td>\n",
       "      <td>897</td>\n",
       "      <td>34443</td>\n",
       "      <td>21791</td>\n",
       "      <td>8591</td>\n",
       "      <td>17334</td>\n",
       "      <td>49.6</td>\n",
       "      <td>649.0</td>\n",
       "      <td>1727.0</td>\n",
       "      <td>...</td>\n",
       "      <td>8974</td>\n",
       "      <td>5695</td>\n",
       "      <td>1556.0</td>\n",
       "      <td>755.0</td>\n",
       "      <td>2816.0</td>\n",
       "      <td>51.4</td>\n",
       "      <td>56.4</td>\n",
       "      <td>3.139353</td>\n",
       "      <td>16980.0</td>\n",
       "      <td>18.929766</td>\n",
       "    </tr>\n",
       "    <tr>\n",
       "      <th>317</th>\n",
       "      <td>318</td>\n",
       "      <td>Wes Unseld</td>\n",
       "      <td>984</td>\n",
       "      <td>35832</td>\n",
       "      <td>10624</td>\n",
       "      <td>4369</td>\n",
       "      <td>8586</td>\n",
       "      <td>50.9</td>\n",
       "      <td>3.0</td>\n",
       "      <td>6.0</td>\n",
       "      <td>...</td>\n",
       "      <td>13769</td>\n",
       "      <td>3822</td>\n",
       "      <td>628.0</td>\n",
       "      <td>367.0</td>\n",
       "      <td>579.0</td>\n",
       "      <td>50.9</td>\n",
       "      <td>53.7</td>\n",
       "      <td>0.588415</td>\n",
       "      <td>18586.0</td>\n",
       "      <td>18.888211</td>\n",
       "    </tr>\n",
       "    <tr>\n",
       "      <th>179</th>\n",
       "      <td>180</td>\n",
       "      <td>Dave Cowens</td>\n",
       "      <td>766</td>\n",
       "      <td>29565</td>\n",
       "      <td>13516</td>\n",
       "      <td>5744</td>\n",
       "      <td>12499</td>\n",
       "      <td>46.0</td>\n",
       "      <td>1.0</td>\n",
       "      <td>14.0</td>\n",
       "      <td>...</td>\n",
       "      <td>10444</td>\n",
       "      <td>2910</td>\n",
       "      <td>599.0</td>\n",
       "      <td>488.0</td>\n",
       "      <td>543.0</td>\n",
       "      <td>46.0</td>\n",
       "      <td>49.6</td>\n",
       "      <td>0.708877</td>\n",
       "      <td>14441.0</td>\n",
       "      <td>18.852480</td>\n",
       "    </tr>\n",
       "    <tr>\n",
       "      <th>10</th>\n",
       "      <td>11</td>\n",
       "      <td>Hakeem Olajuwon</td>\n",
       "      <td>1238</td>\n",
       "      <td>44218</td>\n",
       "      <td>26946</td>\n",
       "      <td>10749</td>\n",
       "      <td>20991</td>\n",
       "      <td>51.2</td>\n",
       "      <td>25.0</td>\n",
       "      <td>124.0</td>\n",
       "      <td>...</td>\n",
       "      <td>13748</td>\n",
       "      <td>3058</td>\n",
       "      <td>2162.0</td>\n",
       "      <td>3830.0</td>\n",
       "      <td>3667.0</td>\n",
       "      <td>51.3</td>\n",
       "      <td>55.3</td>\n",
       "      <td>2.962036</td>\n",
       "      <td>22798.0</td>\n",
       "      <td>18.415186</td>\n",
       "    </tr>\n",
       "    <tr>\n",
       "      <th>153</th>\n",
       "      <td>154</td>\n",
       "      <td>Nate Thurmond</td>\n",
       "      <td>964</td>\n",
       "      <td>35881</td>\n",
       "      <td>14437</td>\n",
       "      <td>5521</td>\n",
       "      <td>13105</td>\n",
       "      <td>42.1</td>\n",
       "      <td>NaN</td>\n",
       "      <td>NaN</td>\n",
       "      <td>...</td>\n",
       "      <td>14464</td>\n",
       "      <td>2575</td>\n",
       "      <td>125.0</td>\n",
       "      <td>553.0</td>\n",
       "      <td>NaN</td>\n",
       "      <td>42.1</td>\n",
       "      <td>47.0</td>\n",
       "      <td>NaN</td>\n",
       "      <td>17717.0</td>\n",
       "      <td>18.378631</td>\n",
       "    </tr>\n",
       "    <tr>\n",
       "      <th>25</th>\n",
       "      <td>26</td>\n",
       "      <td>Charles Barkley</td>\n",
       "      <td>1073</td>\n",
       "      <td>39331</td>\n",
       "      <td>23757</td>\n",
       "      <td>8435</td>\n",
       "      <td>15605</td>\n",
       "      <td>54.1</td>\n",
       "      <td>538.0</td>\n",
       "      <td>2020.0</td>\n",
       "      <td>...</td>\n",
       "      <td>12546</td>\n",
       "      <td>4215</td>\n",
       "      <td>1648.0</td>\n",
       "      <td>888.0</td>\n",
       "      <td>3376.0</td>\n",
       "      <td>55.8</td>\n",
       "      <td>61.2</td>\n",
       "      <td>3.146319</td>\n",
       "      <td>19297.0</td>\n",
       "      <td>17.984157</td>\n",
       "    </tr>\n",
       "    <tr>\n",
       "      <th>0</th>\n",
       "      <td>1</td>\n",
       "      <td>Kareem Abdul-Jabbar</td>\n",
       "      <td>1560</td>\n",
       "      <td>57446</td>\n",
       "      <td>38387</td>\n",
       "      <td>15837</td>\n",
       "      <td>28307</td>\n",
       "      <td>55.9</td>\n",
       "      <td>1.0</td>\n",
       "      <td>18.0</td>\n",
       "      <td>...</td>\n",
       "      <td>17440</td>\n",
       "      <td>5660</td>\n",
       "      <td>1160.0</td>\n",
       "      <td>3189.0</td>\n",
       "      <td>2527.0</td>\n",
       "      <td>55.9</td>\n",
       "      <td>59.2</td>\n",
       "      <td>1.619872</td>\n",
       "      <td>27449.0</td>\n",
       "      <td>17.595513</td>\n",
       "    </tr>\n",
       "    <tr>\n",
       "      <th>37</th>\n",
       "      <td>38</td>\n",
       "      <td>David Robinson</td>\n",
       "      <td>987</td>\n",
       "      <td>34273</td>\n",
       "      <td>20790</td>\n",
       "      <td>7365</td>\n",
       "      <td>14221</td>\n",
       "      <td>51.8</td>\n",
       "      <td>25.0</td>\n",
       "      <td>100.0</td>\n",
       "      <td>...</td>\n",
       "      <td>10497</td>\n",
       "      <td>2441</td>\n",
       "      <td>1388.0</td>\n",
       "      <td>2954.0</td>\n",
       "      <td>2417.0</td>\n",
       "      <td>51.9</td>\n",
       "      <td>58.3</td>\n",
       "      <td>2.448835</td>\n",
       "      <td>17280.0</td>\n",
       "      <td>17.507599</td>\n",
       "    </tr>\n",
       "  </tbody>\n",
       "</table>\n",
       "<p>10 rows × 26 columns</p>\n",
       "</div>"
      ],
      "text/plain": [
       "       #               Player    GP    MIN    PTS    FGM    FGA   FG%    3PM  \\\n",
       "76    77        Magic Johnson   906  33245  17707   6211  11951  52.0  325.0   \n",
       "163  163          Jerry Lucas   829  32131  14053   5709  11441  49.9    NaN   \n",
       "32    33           Larry Bird   897  34443  21791   8591  17334  49.6  649.0   \n",
       "317  318           Wes Unseld   984  35832  10624   4369   8586  50.9    3.0   \n",
       "179  180          Dave Cowens   766  29565  13516   5744  12499  46.0    1.0   \n",
       "10    11      Hakeem Olajuwon  1238  44218  26946  10749  20991  51.2   25.0   \n",
       "153  154        Nate Thurmond   964  35881  14437   5521  13105  42.1    NaN   \n",
       "25    26      Charles Barkley  1073  39331  23757   8435  15605  54.1  538.0   \n",
       "0      1  Kareem Abdul-Jabbar  1560  57446  38387  15837  28307  55.9    1.0   \n",
       "37    38       David Robinson   987  34273  20790   7365  14221  51.8   25.0   \n",
       "\n",
       "        3PA  ...    REB    AST     STL     BLK     TOV  eFG%   TS%      TOV%  \\\n",
       "76   1074.0  ...   6559  10141  1724.0   374.0  3506.0  53.3  61.0  3.869757   \n",
       "163     NaN  ...  12942   2730    28.0    24.0     NaN  49.9  54.4       NaN   \n",
       "32   1727.0  ...   8974   5695  1556.0   755.0  2816.0  51.4  56.4  3.139353   \n",
       "317     6.0  ...  13769   3822   628.0   367.0   579.0  50.9  53.7  0.588415   \n",
       "179    14.0  ...  10444   2910   599.0   488.0   543.0  46.0  49.6  0.708877   \n",
       "10    124.0  ...  13748   3058  2162.0  3830.0  3667.0  51.3  55.3  2.962036   \n",
       "153     NaN  ...  14464   2575   125.0   553.0     NaN  42.1  47.0       NaN   \n",
       "25   2020.0  ...  12546   4215  1648.0   888.0  3376.0  55.8  61.2  3.146319   \n",
       "0      18.0  ...  17440   5660  1160.0  3189.0  2527.0  55.9  59.2  1.619872   \n",
       "37    100.0  ...  10497   2441  1388.0  2954.0  2417.0  51.9  58.3  2.448835   \n",
       "\n",
       "         TOT      TOTpG  \n",
       "76   18798.0  20.748344  \n",
       "163  15724.0  18.967431  \n",
       "32   16980.0  18.929766  \n",
       "317  18586.0  18.888211  \n",
       "179  14441.0  18.852480  \n",
       "10   22798.0  18.415186  \n",
       "153  17717.0  18.378631  \n",
       "25   19297.0  17.984157  \n",
       "0    27449.0  17.595513  \n",
       "37   17280.0  17.507599  \n",
       "\n",
       "[10 rows x 26 columns]"
      ]
     },
     "execution_count": 49,
     "metadata": {},
     "output_type": "execute_result"
    }
   ],
   "source": [
    "#Antwort\n",
    "df.sort_values(\"TOTpG\", ascending = False).head(10)"
   ]
  },
  {
   "cell_type": "markdown",
   "metadata": {},
   "source": [
    "## Sortieren nach bestimmten Kriterien"
   ]
  },
  {
   "cell_type": "markdown",
   "metadata": {},
   "source": [
    "Wir haben die Funktion `sort_values()` bereits kennengelernt beim Sortieren von einfachen Serien.\n",
    "\n",
    "Nun benutzen wir sie, um ganze Dataframes zu sortieren. Dabei müssen wir jeweils angeben, nach welchen Spalten wir sortieren wollen und in welcher Richtung wir die Einträge anzeigen lassen."
   ]
  },
  {
   "cell_type": "markdown",
   "metadata": {},
   "source": [
    "**Beispiel:** Sortieren nach der Anzahl Ballverluste pro Spiel, mit der tiefsten Quote zuerst (wir zeigen nur die ersten 10 Einträge an)"
   ]
  },
  {
   "cell_type": "code",
   "execution_count": 50,
   "metadata": {},
   "outputs": [
    {
     "data": {
      "text/html": [
       "<div>\n",
       "<style scoped>\n",
       "    .dataframe tbody tr th:only-of-type {\n",
       "        vertical-align: middle;\n",
       "    }\n",
       "\n",
       "    .dataframe tbody tr th {\n",
       "        vertical-align: top;\n",
       "    }\n",
       "\n",
       "    .dataframe thead th {\n",
       "        text-align: right;\n",
       "    }\n",
       "</style>\n",
       "<table border=\"1\" class=\"dataframe\">\n",
       "  <thead>\n",
       "    <tr style=\"text-align: right;\">\n",
       "      <th></th>\n",
       "      <th>#</th>\n",
       "      <th>Player</th>\n",
       "      <th>GP</th>\n",
       "      <th>MIN</th>\n",
       "      <th>PTS</th>\n",
       "      <th>FGM</th>\n",
       "      <th>FGA</th>\n",
       "      <th>FG%</th>\n",
       "      <th>3PM</th>\n",
       "      <th>3PA</th>\n",
       "      <th>...</th>\n",
       "      <th>REB</th>\n",
       "      <th>AST</th>\n",
       "      <th>STL</th>\n",
       "      <th>BLK</th>\n",
       "      <th>TOV</th>\n",
       "      <th>eFG%</th>\n",
       "      <th>TS%</th>\n",
       "      <th>TOV%</th>\n",
       "      <th>TOT</th>\n",
       "      <th>TOTpG</th>\n",
       "    </tr>\n",
       "  </thead>\n",
       "  <tbody>\n",
       "    <tr>\n",
       "      <th>1103</th>\n",
       "      <td>1104</td>\n",
       "      <td>Steve Kuberski</td>\n",
       "      <td>568</td>\n",
       "      <td>7897</td>\n",
       "      <td>3114</td>\n",
       "      <td>1254</td>\n",
       "      <td>3005</td>\n",
       "      <td>41.7</td>\n",
       "      <td>NaN</td>\n",
       "      <td>NaN</td>\n",
       "      <td>...</td>\n",
       "      <td>2146</td>\n",
       "      <td>338</td>\n",
       "      <td>38.0</td>\n",
       "      <td>28.0</td>\n",
       "      <td>2.0</td>\n",
       "      <td>41.7</td>\n",
       "      <td>46.4</td>\n",
       "      <td>0.003521</td>\n",
       "      <td>2550.0</td>\n",
       "      <td>4.489437</td>\n",
       "    </tr>\n",
       "    <tr>\n",
       "      <th>890</th>\n",
       "      <td>891</td>\n",
       "      <td>Zaid Abdul-Aziz</td>\n",
       "      <td>505</td>\n",
       "      <td>11023</td>\n",
       "      <td>4557</td>\n",
       "      <td>1769</td>\n",
       "      <td>4138</td>\n",
       "      <td>42.8</td>\n",
       "      <td>NaN</td>\n",
       "      <td>NaN</td>\n",
       "      <td>...</td>\n",
       "      <td>4065</td>\n",
       "      <td>601</td>\n",
       "      <td>131.0</td>\n",
       "      <td>205.0</td>\n",
       "      <td>11.0</td>\n",
       "      <td>42.8</td>\n",
       "      <td>47.9</td>\n",
       "      <td>0.021782</td>\n",
       "      <td>5002.0</td>\n",
       "      <td>9.904950</td>\n",
       "    </tr>\n",
       "    <tr>\n",
       "      <th>1099</th>\n",
       "      <td>1099</td>\n",
       "      <td>Dale Schlueter</td>\n",
       "      <td>586</td>\n",
       "      <td>9624</td>\n",
       "      <td>3130</td>\n",
       "      <td>1176</td>\n",
       "      <td>2366</td>\n",
       "      <td>49.7</td>\n",
       "      <td>NaN</td>\n",
       "      <td>NaN</td>\n",
       "      <td>...</td>\n",
       "      <td>3034</td>\n",
       "      <td>920</td>\n",
       "      <td>67.0</td>\n",
       "      <td>91.0</td>\n",
       "      <td>15.0</td>\n",
       "      <td>49.7</td>\n",
       "      <td>54.5</td>\n",
       "      <td>0.025597</td>\n",
       "      <td>4112.0</td>\n",
       "      <td>7.017065</td>\n",
       "    </tr>\n",
       "    <tr>\n",
       "      <th>1159</th>\n",
       "      <td>1160</td>\n",
       "      <td>Dave Wohl</td>\n",
       "      <td>410</td>\n",
       "      <td>8142</td>\n",
       "      <td>2553</td>\n",
       "      <td>1015</td>\n",
       "      <td>2361</td>\n",
       "      <td>43.0</td>\n",
       "      <td>NaN</td>\n",
       "      <td>NaN</td>\n",
       "      <td>...</td>\n",
       "      <td>558</td>\n",
       "      <td>1397</td>\n",
       "      <td>219.0</td>\n",
       "      <td>18.0</td>\n",
       "      <td>16.0</td>\n",
       "      <td>43.0</td>\n",
       "      <td>47.9</td>\n",
       "      <td>0.039024</td>\n",
       "      <td>2192.0</td>\n",
       "      <td>5.346341</td>\n",
       "    </tr>\n",
       "    <tr>\n",
       "      <th>885</th>\n",
       "      <td>886</td>\n",
       "      <td>Tom Boerwinkle</td>\n",
       "      <td>635</td>\n",
       "      <td>14387</td>\n",
       "      <td>4596</td>\n",
       "      <td>1863</td>\n",
       "      <td>4109</td>\n",
       "      <td>45.3</td>\n",
       "      <td>NaN</td>\n",
       "      <td>NaN</td>\n",
       "      <td>...</td>\n",
       "      <td>5745</td>\n",
       "      <td>2007</td>\n",
       "      <td>110.0</td>\n",
       "      <td>138.0</td>\n",
       "      <td>26.0</td>\n",
       "      <td>45.3</td>\n",
       "      <td>49.1</td>\n",
       "      <td>0.040945</td>\n",
       "      <td>8000.0</td>\n",
       "      <td>12.598425</td>\n",
       "    </tr>\n",
       "    <tr>\n",
       "      <th>226</th>\n",
       "      <td>227</td>\n",
       "      <td>Cazzie Russell</td>\n",
       "      <td>817</td>\n",
       "      <td>22213</td>\n",
       "      <td>12377</td>\n",
       "      <td>5172</td>\n",
       "      <td>11154</td>\n",
       "      <td>46.4</td>\n",
       "      <td>NaN</td>\n",
       "      <td>NaN</td>\n",
       "      <td>...</td>\n",
       "      <td>3068</td>\n",
       "      <td>1838</td>\n",
       "      <td>239.0</td>\n",
       "      <td>33.0</td>\n",
       "      <td>35.0</td>\n",
       "      <td>46.4</td>\n",
       "      <td>50.6</td>\n",
       "      <td>0.042840</td>\n",
       "      <td>5178.0</td>\n",
       "      <td>6.337821</td>\n",
       "    </tr>\n",
       "    <tr>\n",
       "      <th>258</th>\n",
       "      <td>259</td>\n",
       "      <td>Dick Snyder</td>\n",
       "      <td>964</td>\n",
       "      <td>25676</td>\n",
       "      <td>11755</td>\n",
       "      <td>4890</td>\n",
       "      <td>10019</td>\n",
       "      <td>48.8</td>\n",
       "      <td>NaN</td>\n",
       "      <td>NaN</td>\n",
       "      <td>...</td>\n",
       "      <td>2732</td>\n",
       "      <td>2767</td>\n",
       "      <td>300.0</td>\n",
       "      <td>157.0</td>\n",
       "      <td>84.0</td>\n",
       "      <td>48.8</td>\n",
       "      <td>53.1</td>\n",
       "      <td>0.087137</td>\n",
       "      <td>5956.0</td>\n",
       "      <td>6.178423</td>\n",
       "    </tr>\n",
       "    <tr>\n",
       "      <th>932</th>\n",
       "      <td>933</td>\n",
       "      <td>Howard Porter</td>\n",
       "      <td>457</td>\n",
       "      <td>8534</td>\n",
       "      <td>4215</td>\n",
       "      <td>1838</td>\n",
       "      <td>3922</td>\n",
       "      <td>46.9</td>\n",
       "      <td>NaN</td>\n",
       "      <td>NaN</td>\n",
       "      <td>...</td>\n",
       "      <td>1872</td>\n",
       "      <td>211</td>\n",
       "      <td>156.0</td>\n",
       "      <td>212.0</td>\n",
       "      <td>55.0</td>\n",
       "      <td>46.9</td>\n",
       "      <td>50.0</td>\n",
       "      <td>0.120350</td>\n",
       "      <td>2451.0</td>\n",
       "      <td>5.363239</td>\n",
       "    </tr>\n",
       "    <tr>\n",
       "      <th>1089</th>\n",
       "      <td>1090</td>\n",
       "      <td>Willie Norwood</td>\n",
       "      <td>430</td>\n",
       "      <td>7341</td>\n",
       "      <td>3209</td>\n",
       "      <td>1218</td>\n",
       "      <td>2494</td>\n",
       "      <td>48.8</td>\n",
       "      <td>NaN</td>\n",
       "      <td>NaN</td>\n",
       "      <td>...</td>\n",
       "      <td>1597</td>\n",
       "      <td>364</td>\n",
       "      <td>218.0</td>\n",
       "      <td>22.0</td>\n",
       "      <td>56.0</td>\n",
       "      <td>48.8</td>\n",
       "      <td>53.8</td>\n",
       "      <td>0.130233</td>\n",
       "      <td>2201.0</td>\n",
       "      <td>5.118605</td>\n",
       "    </tr>\n",
       "    <tr>\n",
       "      <th>887</th>\n",
       "      <td>888</td>\n",
       "      <td>Curtis Perry</td>\n",
       "      <td>480</td>\n",
       "      <td>13656</td>\n",
       "      <td>4578</td>\n",
       "      <td>1904</td>\n",
       "      <td>4188</td>\n",
       "      <td>45.5</td>\n",
       "      <td>NaN</td>\n",
       "      <td>NaN</td>\n",
       "      <td>...</td>\n",
       "      <td>4239</td>\n",
       "      <td>906</td>\n",
       "      <td>379.0</td>\n",
       "      <td>291.0</td>\n",
       "      <td>63.0</td>\n",
       "      <td>45.5</td>\n",
       "      <td>49.0</td>\n",
       "      <td>0.131250</td>\n",
       "      <td>5815.0</td>\n",
       "      <td>12.114583</td>\n",
       "    </tr>\n",
       "  </tbody>\n",
       "</table>\n",
       "<p>10 rows × 26 columns</p>\n",
       "</div>"
      ],
      "text/plain": [
       "         #           Player   GP    MIN    PTS   FGM    FGA   FG%  3PM  3PA  \\\n",
       "1103  1104   Steve Kuberski  568   7897   3114  1254   3005  41.7  NaN  NaN   \n",
       "890    891  Zaid Abdul-Aziz  505  11023   4557  1769   4138  42.8  NaN  NaN   \n",
       "1099  1099   Dale Schlueter  586   9624   3130  1176   2366  49.7  NaN  NaN   \n",
       "1159  1160        Dave Wohl  410   8142   2553  1015   2361  43.0  NaN  NaN   \n",
       "885    886   Tom Boerwinkle  635  14387   4596  1863   4109  45.3  NaN  NaN   \n",
       "226    227   Cazzie Russell  817  22213  12377  5172  11154  46.4  NaN  NaN   \n",
       "258    259      Dick Snyder  964  25676  11755  4890  10019  48.8  NaN  NaN   \n",
       "932    933    Howard Porter  457   8534   4215  1838   3922  46.9  NaN  NaN   \n",
       "1089  1090   Willie Norwood  430   7341   3209  1218   2494  48.8  NaN  NaN   \n",
       "887    888     Curtis Perry  480  13656   4578  1904   4188  45.5  NaN  NaN   \n",
       "\n",
       "      ...   REB   AST    STL    BLK   TOV  eFG%   TS%      TOV%     TOT  \\\n",
       "1103  ...  2146   338   38.0   28.0   2.0  41.7  46.4  0.003521  2550.0   \n",
       "890   ...  4065   601  131.0  205.0  11.0  42.8  47.9  0.021782  5002.0   \n",
       "1099  ...  3034   920   67.0   91.0  15.0  49.7  54.5  0.025597  4112.0   \n",
       "1159  ...   558  1397  219.0   18.0  16.0  43.0  47.9  0.039024  2192.0   \n",
       "885   ...  5745  2007  110.0  138.0  26.0  45.3  49.1  0.040945  8000.0   \n",
       "226   ...  3068  1838  239.0   33.0  35.0  46.4  50.6  0.042840  5178.0   \n",
       "258   ...  2732  2767  300.0  157.0  84.0  48.8  53.1  0.087137  5956.0   \n",
       "932   ...  1872   211  156.0  212.0  55.0  46.9  50.0  0.120350  2451.0   \n",
       "1089  ...  1597   364  218.0   22.0  56.0  48.8  53.8  0.130233  2201.0   \n",
       "887   ...  4239   906  379.0  291.0  63.0  45.5  49.0  0.131250  5815.0   \n",
       "\n",
       "          TOTpG  \n",
       "1103   4.489437  \n",
       "890    9.904950  \n",
       "1099   7.017065  \n",
       "1159   5.346341  \n",
       "885   12.598425  \n",
       "226    6.337821  \n",
       "258    6.178423  \n",
       "932    5.363239  \n",
       "1089   5.118605  \n",
       "887   12.114583  \n",
       "\n",
       "[10 rows x 26 columns]"
      ]
     },
     "execution_count": 50,
     "metadata": {},
     "output_type": "execute_result"
    }
   ],
   "source": [
    "df.sort_values('TOV%').head(10)"
   ]
  },
  {
   "cell_type": "markdown",
   "metadata": {},
   "source": [
    "**Beispiel:** Sortieren nach der Wurfquote pro Spiel, mit der höchsten Quote zuerst (wir zeigen nur die ersten 10 Einträge an)"
   ]
  },
  {
   "cell_type": "code",
   "execution_count": 51,
   "metadata": {},
   "outputs": [
    {
     "data": {
      "text/html": [
       "<div>\n",
       "<style scoped>\n",
       "    .dataframe tbody tr th:only-of-type {\n",
       "        vertical-align: middle;\n",
       "    }\n",
       "\n",
       "    .dataframe tbody tr th {\n",
       "        vertical-align: top;\n",
       "    }\n",
       "\n",
       "    .dataframe thead th {\n",
       "        text-align: right;\n",
       "    }\n",
       "</style>\n",
       "<table border=\"1\" class=\"dataframe\">\n",
       "  <thead>\n",
       "    <tr style=\"text-align: right;\">\n",
       "      <th></th>\n",
       "      <th>#</th>\n",
       "      <th>Player</th>\n",
       "      <th>GP</th>\n",
       "      <th>MIN</th>\n",
       "      <th>PTS</th>\n",
       "      <th>FGM</th>\n",
       "      <th>FGA</th>\n",
       "      <th>FG%</th>\n",
       "      <th>3PM</th>\n",
       "      <th>3PA</th>\n",
       "      <th>...</th>\n",
       "      <th>REB</th>\n",
       "      <th>AST</th>\n",
       "      <th>STL</th>\n",
       "      <th>BLK</th>\n",
       "      <th>TOV</th>\n",
       "      <th>eFG%</th>\n",
       "      <th>TS%</th>\n",
       "      <th>TOV%</th>\n",
       "      <th>TOT</th>\n",
       "      <th>TOTpG</th>\n",
       "    </tr>\n",
       "  </thead>\n",
       "  <tbody>\n",
       "    <tr>\n",
       "      <th>583</th>\n",
       "      <td>584</td>\n",
       "      <td>DeAndre Jordan</td>\n",
       "      <td>750</td>\n",
       "      <td>21044</td>\n",
       "      <td>7078</td>\n",
       "      <td>2860</td>\n",
       "      <td>4252</td>\n",
       "      <td>67.3</td>\n",
       "      <td>1.0</td>\n",
       "      <td>11.0</td>\n",
       "      <td>...</td>\n",
       "      <td>7988</td>\n",
       "      <td>557</td>\n",
       "      <td>448.0</td>\n",
       "      <td>1277.0</td>\n",
       "      <td>982.0</td>\n",
       "      <td>67.3</td>\n",
       "      <td>63.3</td>\n",
       "      <td>1.309333</td>\n",
       "      <td>10270.0</td>\n",
       "      <td>13.693333</td>\n",
       "    </tr>\n",
       "    <tr>\n",
       "      <th>1122</th>\n",
       "      <td>1123</td>\n",
       "      <td>Brandan Wright</td>\n",
       "      <td>428</td>\n",
       "      <td>6949</td>\n",
       "      <td>2976</td>\n",
       "      <td>1271</td>\n",
       "      <td>2095</td>\n",
       "      <td>60.7</td>\n",
       "      <td>0.0</td>\n",
       "      <td>12.0</td>\n",
       "      <td>...</td>\n",
       "      <td>1560</td>\n",
       "      <td>199</td>\n",
       "      <td>198.0</td>\n",
       "      <td>425.0</td>\n",
       "      <td>202.0</td>\n",
       "      <td>60.7</td>\n",
       "      <td>62.6</td>\n",
       "      <td>0.471963</td>\n",
       "      <td>2382.0</td>\n",
       "      <td>5.565421</td>\n",
       "    </tr>\n",
       "    <tr>\n",
       "      <th>123</th>\n",
       "      <td>124</td>\n",
       "      <td>Artis Gilmore</td>\n",
       "      <td>909</td>\n",
       "      <td>29685</td>\n",
       "      <td>15579</td>\n",
       "      <td>5732</td>\n",
       "      <td>9570</td>\n",
       "      <td>59.9</td>\n",
       "      <td>1.0</td>\n",
       "      <td>13.0</td>\n",
       "      <td>...</td>\n",
       "      <td>9161</td>\n",
       "      <td>1777</td>\n",
       "      <td>470.0</td>\n",
       "      <td>1747.0</td>\n",
       "      <td>2347.0</td>\n",
       "      <td>59.9</td>\n",
       "      <td>64.3</td>\n",
       "      <td>2.581958</td>\n",
       "      <td>13155.0</td>\n",
       "      <td>14.471947</td>\n",
       "    </tr>\n",
       "    <tr>\n",
       "      <th>397</th>\n",
       "      <td>398</td>\n",
       "      <td>Tyson Chandler</td>\n",
       "      <td>1079</td>\n",
       "      <td>30528</td>\n",
       "      <td>9302</td>\n",
       "      <td>3483</td>\n",
       "      <td>5847</td>\n",
       "      <td>59.6</td>\n",
       "      <td>0.0</td>\n",
       "      <td>10.0</td>\n",
       "      <td>...</td>\n",
       "      <td>10094</td>\n",
       "      <td>924</td>\n",
       "      <td>603.0</td>\n",
       "      <td>1304.0</td>\n",
       "      <td>1606.0</td>\n",
       "      <td>59.6</td>\n",
       "      <td>62.5</td>\n",
       "      <td>1.488415</td>\n",
       "      <td>12925.0</td>\n",
       "      <td>11.978684</td>\n",
       "    </tr>\n",
       "    <tr>\n",
       "      <th>1085</th>\n",
       "      <td>1086</td>\n",
       "      <td>Andris Biedrins</td>\n",
       "      <td>516</td>\n",
       "      <td>11147</td>\n",
       "      <td>3247</td>\n",
       "      <td>1432</td>\n",
       "      <td>2409</td>\n",
       "      <td>59.4</td>\n",
       "      <td>0.0</td>\n",
       "      <td>2.0</td>\n",
       "      <td>...</td>\n",
       "      <td>3631</td>\n",
       "      <td>467</td>\n",
       "      <td>331.0</td>\n",
       "      <td>580.0</td>\n",
       "      <td>479.0</td>\n",
       "      <td>59.4</td>\n",
       "      <td>59.1</td>\n",
       "      <td>0.928295</td>\n",
       "      <td>5009.0</td>\n",
       "      <td>9.707364</td>\n",
       "    </tr>\n",
       "    <tr>\n",
       "      <th>1210</th>\n",
       "      <td>1211</td>\n",
       "      <td>Ryan Hollins</td>\n",
       "      <td>518</td>\n",
       "      <td>6134</td>\n",
       "      <td>1913</td>\n",
       "      <td>687</td>\n",
       "      <td>1177</td>\n",
       "      <td>58.4</td>\n",
       "      <td>0.0</td>\n",
       "      <td>1.0</td>\n",
       "      <td>...</td>\n",
       "      <td>1140</td>\n",
       "      <td>151</td>\n",
       "      <td>94.0</td>\n",
       "      <td>271.0</td>\n",
       "      <td>384.0</td>\n",
       "      <td>58.4</td>\n",
       "      <td>62.0</td>\n",
       "      <td>0.741313</td>\n",
       "      <td>1656.0</td>\n",
       "      <td>3.196911</td>\n",
       "    </tr>\n",
       "    <tr>\n",
       "      <th>69</th>\n",
       "      <td>70</td>\n",
       "      <td>Dwight Howard</td>\n",
       "      <td>1035</td>\n",
       "      <td>35755</td>\n",
       "      <td>17999</td>\n",
       "      <td>6494</td>\n",
       "      <td>11148</td>\n",
       "      <td>58.3</td>\n",
       "      <td>6.0</td>\n",
       "      <td>63.0</td>\n",
       "      <td>...</td>\n",
       "      <td>13101</td>\n",
       "      <td>1531</td>\n",
       "      <td>979.0</td>\n",
       "      <td>2047.0</td>\n",
       "      <td>3043.0</td>\n",
       "      <td>58.3</td>\n",
       "      <td>59.9</td>\n",
       "      <td>2.940097</td>\n",
       "      <td>17658.0</td>\n",
       "      <td>17.060870</td>\n",
       "    </tr>\n",
       "    <tr>\n",
       "      <th>7</th>\n",
       "      <td>8</td>\n",
       "      <td>Shaquille O'Neal</td>\n",
       "      <td>1207</td>\n",
       "      <td>41917</td>\n",
       "      <td>28596</td>\n",
       "      <td>11330</td>\n",
       "      <td>19457</td>\n",
       "      <td>58.2</td>\n",
       "      <td>1.0</td>\n",
       "      <td>22.0</td>\n",
       "      <td>...</td>\n",
       "      <td>13099</td>\n",
       "      <td>3026</td>\n",
       "      <td>739.0</td>\n",
       "      <td>2732.0</td>\n",
       "      <td>3310.0</td>\n",
       "      <td>58.2</td>\n",
       "      <td>58.6</td>\n",
       "      <td>2.742336</td>\n",
       "      <td>19596.0</td>\n",
       "      <td>16.235294</td>\n",
       "    </tr>\n",
       "    <tr>\n",
       "      <th>657</th>\n",
       "      <td>657</td>\n",
       "      <td>Mark West</td>\n",
       "      <td>1090</td>\n",
       "      <td>20215</td>\n",
       "      <td>6259</td>\n",
       "      <td>2528</td>\n",
       "      <td>4356</td>\n",
       "      <td>58.0</td>\n",
       "      <td>0.0</td>\n",
       "      <td>4.0</td>\n",
       "      <td>...</td>\n",
       "      <td>5347</td>\n",
       "      <td>428</td>\n",
       "      <td>326.0</td>\n",
       "      <td>1403.0</td>\n",
       "      <td>1208.0</td>\n",
       "      <td>58.0</td>\n",
       "      <td>59.2</td>\n",
       "      <td>1.108257</td>\n",
       "      <td>7504.0</td>\n",
       "      <td>6.884404</td>\n",
       "    </tr>\n",
       "    <tr>\n",
       "      <th>437</th>\n",
       "      <td>438</td>\n",
       "      <td>Darryl Dawkins</td>\n",
       "      <td>726</td>\n",
       "      <td>17235</td>\n",
       "      <td>8733</td>\n",
       "      <td>3477</td>\n",
       "      <td>6079</td>\n",
       "      <td>57.2</td>\n",
       "      <td>2.0</td>\n",
       "      <td>15.0</td>\n",
       "      <td>...</td>\n",
       "      <td>4432</td>\n",
       "      <td>917</td>\n",
       "      <td>345.0</td>\n",
       "      <td>1023.0</td>\n",
       "      <td>1621.0</td>\n",
       "      <td>57.2</td>\n",
       "      <td>60.5</td>\n",
       "      <td>2.232782</td>\n",
       "      <td>6717.0</td>\n",
       "      <td>9.252066</td>\n",
       "    </tr>\n",
       "  </tbody>\n",
       "</table>\n",
       "<p>10 rows × 26 columns</p>\n",
       "</div>"
      ],
      "text/plain": [
       "         #            Player    GP    MIN    PTS    FGM    FGA   FG%  3PM  \\\n",
       "583    584    DeAndre Jordan   750  21044   7078   2860   4252  67.3  1.0   \n",
       "1122  1123    Brandan Wright   428   6949   2976   1271   2095  60.7  0.0   \n",
       "123    124     Artis Gilmore   909  29685  15579   5732   9570  59.9  1.0   \n",
       "397    398    Tyson Chandler  1079  30528   9302   3483   5847  59.6  0.0   \n",
       "1085  1086   Andris Biedrins   516  11147   3247   1432   2409  59.4  0.0   \n",
       "1210  1211      Ryan Hollins   518   6134   1913    687   1177  58.4  0.0   \n",
       "69      70     Dwight Howard  1035  35755  17999   6494  11148  58.3  6.0   \n",
       "7        8  Shaquille O'Neal  1207  41917  28596  11330  19457  58.2  1.0   \n",
       "657    657         Mark West  1090  20215   6259   2528   4356  58.0  0.0   \n",
       "437    438    Darryl Dawkins   726  17235   8733   3477   6079  57.2  2.0   \n",
       "\n",
       "       3PA  ...    REB   AST    STL     BLK     TOV  eFG%   TS%      TOV%  \\\n",
       "583   11.0  ...   7988   557  448.0  1277.0   982.0  67.3  63.3  1.309333   \n",
       "1122  12.0  ...   1560   199  198.0   425.0   202.0  60.7  62.6  0.471963   \n",
       "123   13.0  ...   9161  1777  470.0  1747.0  2347.0  59.9  64.3  2.581958   \n",
       "397   10.0  ...  10094   924  603.0  1304.0  1606.0  59.6  62.5  1.488415   \n",
       "1085   2.0  ...   3631   467  331.0   580.0   479.0  59.4  59.1  0.928295   \n",
       "1210   1.0  ...   1140   151   94.0   271.0   384.0  58.4  62.0  0.741313   \n",
       "69    63.0  ...  13101  1531  979.0  2047.0  3043.0  58.3  59.9  2.940097   \n",
       "7     22.0  ...  13099  3026  739.0  2732.0  3310.0  58.2  58.6  2.742336   \n",
       "657    4.0  ...   5347   428  326.0  1403.0  1208.0  58.0  59.2  1.108257   \n",
       "437   15.0  ...   4432   917  345.0  1023.0  1621.0  57.2  60.5  2.232782   \n",
       "\n",
       "          TOT      TOTpG  \n",
       "583   10270.0  13.693333  \n",
       "1122   2382.0   5.565421  \n",
       "123   13155.0  14.471947  \n",
       "397   12925.0  11.978684  \n",
       "1085   5009.0   9.707364  \n",
       "1210   1656.0   3.196911  \n",
       "69    17658.0  17.060870  \n",
       "7     19596.0  16.235294  \n",
       "657    7504.0   6.884404  \n",
       "437    6717.0   9.252066  \n",
       "\n",
       "[10 rows x 26 columns]"
      ]
     },
     "execution_count": 51,
     "metadata": {},
     "output_type": "execute_result"
    }
   ],
   "source": [
    "df.sort_values('FG%', ascending=False).head(10)"
   ]
  },
  {
   "cell_type": "markdown",
   "metadata": {},
   "source": [
    "Etwas nervig: Auch wenn wir nach einzelnen Kriterien sortieren, zeigt Pandas immer die ganze Tabelle an."
   ]
  },
  {
   "cell_type": "markdown",
   "metadata": {},
   "source": [
    "## Einzelne Spalten anzeigen"
   ]
  },
  {
   "cell_type": "markdown",
   "metadata": {},
   "source": [
    "Wir können dem entgegenwirken, indem wir nur einzelne Spalten aus dem Dataframe selektieren.\n",
    "\n",
    "Dazu geben wir eine Liste der Felder an, die wir anzeigen wollen."
   ]
  },
  {
   "cell_type": "markdown",
   "metadata": {},
   "source": [
    "**Beispiel:** Die fünf besten Spieler der Geschichte: Name, Punkte, Wurfquote, Ballverlustquote"
   ]
  },
  {
   "cell_type": "markdown",
   "metadata": {},
   "source": [
    "Zuerst die Liste..."
   ]
  },
  {
   "cell_type": "code",
   "execution_count": 52,
   "metadata": {},
   "outputs": [],
   "source": [
    "felderliste = ['Player', 'PTS', 'FG%', 'TOV%']"
   ]
  },
  {
   "cell_type": "markdown",
   "metadata": {},
   "source": [
    "... dann die Abfrage"
   ]
  },
  {
   "cell_type": "code",
   "execution_count": 53,
   "metadata": {},
   "outputs": [
    {
     "data": {
      "text/html": [
       "<div>\n",
       "<style scoped>\n",
       "    .dataframe tbody tr th:only-of-type {\n",
       "        vertical-align: middle;\n",
       "    }\n",
       "\n",
       "    .dataframe tbody tr th {\n",
       "        vertical-align: top;\n",
       "    }\n",
       "\n",
       "    .dataframe thead th {\n",
       "        text-align: right;\n",
       "    }\n",
       "</style>\n",
       "<table border=\"1\" class=\"dataframe\">\n",
       "  <thead>\n",
       "    <tr style=\"text-align: right;\">\n",
       "      <th></th>\n",
       "      <th>Player</th>\n",
       "      <th>PTS</th>\n",
       "      <th>FG%</th>\n",
       "      <th>TOV%</th>\n",
       "    </tr>\n",
       "  </thead>\n",
       "  <tbody>\n",
       "    <tr>\n",
       "      <th>0</th>\n",
       "      <td>Kareem Abdul-Jabbar</td>\n",
       "      <td>38387</td>\n",
       "      <td>55.9</td>\n",
       "      <td>1.619872</td>\n",
       "    </tr>\n",
       "    <tr>\n",
       "      <th>1</th>\n",
       "      <td>Karl Malone</td>\n",
       "      <td>36928</td>\n",
       "      <td>51.6</td>\n",
       "      <td>3.065041</td>\n",
       "    </tr>\n",
       "    <tr>\n",
       "      <th>2</th>\n",
       "      <td>Kobe Bryant</td>\n",
       "      <td>33643</td>\n",
       "      <td>44.7</td>\n",
       "      <td>2.979198</td>\n",
       "    </tr>\n",
       "    <tr>\n",
       "      <th>3</th>\n",
       "      <td>Michael Jordan</td>\n",
       "      <td>32292</td>\n",
       "      <td>49.7</td>\n",
       "      <td>2.727612</td>\n",
       "    </tr>\n",
       "    <tr>\n",
       "      <th>4</th>\n",
       "      <td>Wilt Chamberlain</td>\n",
       "      <td>31419</td>\n",
       "      <td>54.0</td>\n",
       "      <td>NaN</td>\n",
       "    </tr>\n",
       "  </tbody>\n",
       "</table>\n",
       "</div>"
      ],
      "text/plain": [
       "                Player    PTS   FG%      TOV%\n",
       "0  Kareem Abdul-Jabbar  38387  55.9  1.619872\n",
       "1          Karl Malone  36928  51.6  3.065041\n",
       "2          Kobe Bryant  33643  44.7  2.979198\n",
       "3       Michael Jordan  32292  49.7  2.727612\n",
       "4     Wilt Chamberlain  31419  54.0       NaN"
      ]
     },
     "execution_count": 53,
     "metadata": {},
     "output_type": "execute_result"
    }
   ],
   "source": [
    "df[felderliste].head(5)"
   ]
  },
  {
   "cell_type": "markdown",
   "metadata": {},
   "source": [
    "Oder beides in einem Schritt:"
   ]
  },
  {
   "cell_type": "code",
   "execution_count": 56,
   "metadata": {},
   "outputs": [
    {
     "data": {
      "text/html": [
       "<div>\n",
       "<style scoped>\n",
       "    .dataframe tbody tr th:only-of-type {\n",
       "        vertical-align: middle;\n",
       "    }\n",
       "\n",
       "    .dataframe tbody tr th {\n",
       "        vertical-align: top;\n",
       "    }\n",
       "\n",
       "    .dataframe thead th {\n",
       "        text-align: right;\n",
       "    }\n",
       "</style>\n",
       "<table border=\"1\" class=\"dataframe\">\n",
       "  <thead>\n",
       "    <tr style=\"text-align: right;\">\n",
       "      <th></th>\n",
       "      <th>Player</th>\n",
       "      <th>PTS</th>\n",
       "      <th>FG%</th>\n",
       "      <th>TOV%</th>\n",
       "    </tr>\n",
       "  </thead>\n",
       "  <tbody>\n",
       "    <tr>\n",
       "      <th>0</th>\n",
       "      <td>Kareem Abdul-Jabbar</td>\n",
       "      <td>38387</td>\n",
       "      <td>55.9</td>\n",
       "      <td>1.619872</td>\n",
       "    </tr>\n",
       "    <tr>\n",
       "      <th>1</th>\n",
       "      <td>Karl Malone</td>\n",
       "      <td>36928</td>\n",
       "      <td>51.6</td>\n",
       "      <td>3.065041</td>\n",
       "    </tr>\n",
       "    <tr>\n",
       "      <th>2</th>\n",
       "      <td>Kobe Bryant</td>\n",
       "      <td>33643</td>\n",
       "      <td>44.7</td>\n",
       "      <td>2.979198</td>\n",
       "    </tr>\n",
       "    <tr>\n",
       "      <th>3</th>\n",
       "      <td>Michael Jordan</td>\n",
       "      <td>32292</td>\n",
       "      <td>49.7</td>\n",
       "      <td>2.727612</td>\n",
       "    </tr>\n",
       "    <tr>\n",
       "      <th>4</th>\n",
       "      <td>Wilt Chamberlain</td>\n",
       "      <td>31419</td>\n",
       "      <td>54.0</td>\n",
       "      <td>NaN</td>\n",
       "    </tr>\n",
       "  </tbody>\n",
       "</table>\n",
       "</div>"
      ],
      "text/plain": [
       "                Player    PTS   FG%      TOV%\n",
       "0  Kareem Abdul-Jabbar  38387  55.9  1.619872\n",
       "1          Karl Malone  36928  51.6  3.065041\n",
       "2          Kobe Bryant  33643  44.7  2.979198\n",
       "3       Michael Jordan  32292  49.7  2.727612\n",
       "4     Wilt Chamberlain  31419  54.0       NaN"
      ]
     },
     "execution_count": 56,
     "metadata": {},
     "output_type": "execute_result"
    }
   ],
   "source": [
    "df[['Player', 'PTS', 'FG%', 'TOV%']].head(5)"
   ]
  },
  {
   "cell_type": "markdown",
   "metadata": {},
   "source": [
    "Wir haben nun alle Zutaten beisammen, um unsere eigentliche Frage zu beantworten:"
   ]
  },
  {
   "cell_type": "markdown",
   "metadata": {},
   "source": [
    "## Wer ist der beste Basketballer aller Zeiten?"
   ]
  },
  {
   "cell_type": "markdown",
   "metadata": {},
   "source": [
    "Natürlich erstellen wir dazu unsere eigene Kennzahl, anhand derer wir die Rangliste erstellen!"
   ]
  },
  {
   "cell_type": "markdown",
   "metadata": {},
   "source": [
    "**TODO:** Erfinden Sie eine eigene Kennzahl, basierend auf einer Kombination von bestehenden Statistiken (Wurfquote, Rebounds, etc.). Speichern Sie die Kennzahl in einer neuen Spalte namens \"KEN\" ab. Sortieren Sie die Spieler nach dieser Kennzahl und zeigen Sie die Top 10 in einer Tabelle mit den folgenden Spalten an: Name, KEN. Speichern Sie diese Tabelle in einem neuen Dataframe namens \"Top10\" ab."
   ]
  },
  {
   "cell_type": "code",
   "execution_count": 66,
   "metadata": {},
   "outputs": [],
   "source": [
    "# df['KEN'] erstellen\n",
    "df[\"KEN\"] = (df[\"PTS\"] / df[\"MIN\"] * df[\"FG%\"]) + df[\"REB\"] / df[\"MIN\"] + df[\"AST\"] / df[\"MIN\"] + df[\"STL\"] / df[\"GP\"] + df[\"BLK\"] / df[\"GP\"] - df[\"TOV\"] / df[\"GP\"]"
   ]
  },
  {
   "cell_type": "code",
   "execution_count": 67,
   "metadata": {},
   "outputs": [
    {
     "data": {
      "text/html": [
       "<div>\n",
       "<style scoped>\n",
       "    .dataframe tbody tr th:only-of-type {\n",
       "        vertical-align: middle;\n",
       "    }\n",
       "\n",
       "    .dataframe tbody tr th {\n",
       "        vertical-align: top;\n",
       "    }\n",
       "\n",
       "    .dataframe thead th {\n",
       "        text-align: right;\n",
       "    }\n",
       "</style>\n",
       "<table border=\"1\" class=\"dataframe\">\n",
       "  <thead>\n",
       "    <tr style=\"text-align: right;\">\n",
       "      <th></th>\n",
       "      <th>#</th>\n",
       "      <th>Player</th>\n",
       "      <th>GP</th>\n",
       "      <th>MIN</th>\n",
       "      <th>PTS</th>\n",
       "      <th>FGM</th>\n",
       "      <th>FGA</th>\n",
       "      <th>FG%</th>\n",
       "      <th>3PM</th>\n",
       "      <th>3PA</th>\n",
       "      <th>...</th>\n",
       "      <th>AST</th>\n",
       "      <th>STL</th>\n",
       "      <th>BLK</th>\n",
       "      <th>TOV</th>\n",
       "      <th>eFG%</th>\n",
       "      <th>TS%</th>\n",
       "      <th>TOV%</th>\n",
       "      <th>TOT</th>\n",
       "      <th>TOTpG</th>\n",
       "      <th>KEN</th>\n",
       "    </tr>\n",
       "  </thead>\n",
       "  <tbody>\n",
       "    <tr>\n",
       "      <th>7</th>\n",
       "      <td>8</td>\n",
       "      <td>Shaquille O'Neal</td>\n",
       "      <td>1207</td>\n",
       "      <td>41917</td>\n",
       "      <td>28596</td>\n",
       "      <td>11330</td>\n",
       "      <td>19457</td>\n",
       "      <td>58.2</td>\n",
       "      <td>1.0</td>\n",
       "      <td>22.0</td>\n",
       "      <td>...</td>\n",
       "      <td>3026</td>\n",
       "      <td>739.0</td>\n",
       "      <td>2732.0</td>\n",
       "      <td>3310.0</td>\n",
       "      <td>58.2</td>\n",
       "      <td>58.6</td>\n",
       "      <td>2.742336</td>\n",
       "      <td>19596.0</td>\n",
       "      <td>16.235294</td>\n",
       "      <td>40.222426</td>\n",
       "    </tr>\n",
       "    <tr>\n",
       "      <th>3</th>\n",
       "      <td>4</td>\n",
       "      <td>Michael Jordan</td>\n",
       "      <td>1072</td>\n",
       "      <td>41010</td>\n",
       "      <td>32292</td>\n",
       "      <td>12192</td>\n",
       "      <td>24537</td>\n",
       "      <td>49.7</td>\n",
       "      <td>581.0</td>\n",
       "      <td>1778.0</td>\n",
       "      <td>...</td>\n",
       "      <td>5633</td>\n",
       "      <td>2514.0</td>\n",
       "      <td>893.0</td>\n",
       "      <td>2924.0</td>\n",
       "      <td>50.9</td>\n",
       "      <td>56.9</td>\n",
       "      <td>2.727612</td>\n",
       "      <td>15712.0</td>\n",
       "      <td>14.656716</td>\n",
       "      <td>39.885268</td>\n",
       "    </tr>\n",
       "    <tr>\n",
       "      <th>39</th>\n",
       "      <td>40</td>\n",
       "      <td>George Gervin</td>\n",
       "      <td>791</td>\n",
       "      <td>26536</td>\n",
       "      <td>20708</td>\n",
       "      <td>8045</td>\n",
       "      <td>15747</td>\n",
       "      <td>51.1</td>\n",
       "      <td>77.0</td>\n",
       "      <td>259.0</td>\n",
       "      <td>...</td>\n",
       "      <td>2214</td>\n",
       "      <td>941.0</td>\n",
       "      <td>670.0</td>\n",
       "      <td>2137.0</td>\n",
       "      <td>51.3</td>\n",
       "      <td>57.2</td>\n",
       "      <td>2.701643</td>\n",
       "      <td>7432.0</td>\n",
       "      <td>9.395702</td>\n",
       "      <td>39.431484</td>\n",
       "    </tr>\n",
       "    <tr>\n",
       "      <th>0</th>\n",
       "      <td>1</td>\n",
       "      <td>Kareem Abdul-Jabbar</td>\n",
       "      <td>1560</td>\n",
       "      <td>57446</td>\n",
       "      <td>38387</td>\n",
       "      <td>15837</td>\n",
       "      <td>28307</td>\n",
       "      <td>55.9</td>\n",
       "      <td>1.0</td>\n",
       "      <td>18.0</td>\n",
       "      <td>...</td>\n",
       "      <td>5660</td>\n",
       "      <td>1160.0</td>\n",
       "      <td>3189.0</td>\n",
       "      <td>2527.0</td>\n",
       "      <td>55.9</td>\n",
       "      <td>59.2</td>\n",
       "      <td>1.619872</td>\n",
       "      <td>27449.0</td>\n",
       "      <td>17.595513</td>\n",
       "      <td>38.923986</td>\n",
       "    </tr>\n",
       "    <tr>\n",
       "      <th>381</th>\n",
       "      <td>382</td>\n",
       "      <td>Anthony Davis</td>\n",
       "      <td>410</td>\n",
       "      <td>14258</td>\n",
       "      <td>9607</td>\n",
       "      <td>3623</td>\n",
       "      <td>7004</td>\n",
       "      <td>51.7</td>\n",
       "      <td>133.0</td>\n",
       "      <td>431.0</td>\n",
       "      <td>...</td>\n",
       "      <td>764</td>\n",
       "      <td>551.0</td>\n",
       "      <td>986.0</td>\n",
       "      <td>757.0</td>\n",
       "      <td>52.7</td>\n",
       "      <td>58.3</td>\n",
       "      <td>1.846341</td>\n",
       "      <td>6535.0</td>\n",
       "      <td>15.939024</td>\n",
       "      <td>37.088293</td>\n",
       "    </tr>\n",
       "    <tr>\n",
       "      <th>27</th>\n",
       "      <td>28</td>\n",
       "      <td>Adrian Dantley</td>\n",
       "      <td>955</td>\n",
       "      <td>34151</td>\n",
       "      <td>23177</td>\n",
       "      <td>8169</td>\n",
       "      <td>15121</td>\n",
       "      <td>54.0</td>\n",
       "      <td>7.0</td>\n",
       "      <td>41.0</td>\n",
       "      <td>...</td>\n",
       "      <td>2830</td>\n",
       "      <td>944.0</td>\n",
       "      <td>150.0</td>\n",
       "      <td>2503.0</td>\n",
       "      <td>54.0</td>\n",
       "      <td>61.7</td>\n",
       "      <td>2.620942</td>\n",
       "      <td>9379.0</td>\n",
       "      <td>9.820942</td>\n",
       "      <td>35.414977</td>\n",
       "    </tr>\n",
       "    <tr>\n",
       "      <th>35</th>\n",
       "      <td>36</td>\n",
       "      <td>Kevin Durant</td>\n",
       "      <td>771</td>\n",
       "      <td>28603</td>\n",
       "      <td>20913</td>\n",
       "      <td>7093</td>\n",
       "      <td>14476</td>\n",
       "      <td>49.0</td>\n",
       "      <td>1433.0</td>\n",
       "      <td>3734.0</td>\n",
       "      <td>...</td>\n",
       "      <td>3029</td>\n",
       "      <td>890.0</td>\n",
       "      <td>857.0</td>\n",
       "      <td>2428.0</td>\n",
       "      <td>53.9</td>\n",
       "      <td>61.1</td>\n",
       "      <td>3.149157</td>\n",
       "      <td>10271.0</td>\n",
       "      <td>13.321660</td>\n",
       "      <td>35.240949</td>\n",
       "    </tr>\n",
       "    <tr>\n",
       "      <th>6</th>\n",
       "      <td>7</td>\n",
       "      <td>LeBron James</td>\n",
       "      <td>1143</td>\n",
       "      <td>44297</td>\n",
       "      <td>31038</td>\n",
       "      <td>11280</td>\n",
       "      <td>22383</td>\n",
       "      <td>50.4</td>\n",
       "      <td>1616.0</td>\n",
       "      <td>4701.0</td>\n",
       "      <td>...</td>\n",
       "      <td>8208</td>\n",
       "      <td>1865.0</td>\n",
       "      <td>888.0</td>\n",
       "      <td>3966.0</td>\n",
       "      <td>54.0</td>\n",
       "      <td>58.6</td>\n",
       "      <td>3.469816</td>\n",
       "      <td>19376.0</td>\n",
       "      <td>16.951881</td>\n",
       "      <td>34.628267</td>\n",
       "    </tr>\n",
       "    <tr>\n",
       "      <th>279</th>\n",
       "      <td>280</td>\n",
       "      <td>David Thompson</td>\n",
       "      <td>509</td>\n",
       "      <td>16305</td>\n",
       "      <td>11264</td>\n",
       "      <td>4213</td>\n",
       "      <td>8365</td>\n",
       "      <td>50.4</td>\n",
       "      <td>23.0</td>\n",
       "      <td>83.0</td>\n",
       "      <td>...</td>\n",
       "      <td>1631</td>\n",
       "      <td>459.0</td>\n",
       "      <td>407.0</td>\n",
       "      <td>1129.0</td>\n",
       "      <td>50.5</td>\n",
       "      <td>56.6</td>\n",
       "      <td>2.218075</td>\n",
       "      <td>4418.0</td>\n",
       "      <td>8.679764</td>\n",
       "      <td>34.519032</td>\n",
       "    </tr>\n",
       "    <tr>\n",
       "      <th>60</th>\n",
       "      <td>61</td>\n",
       "      <td>Bob McAdoo</td>\n",
       "      <td>852</td>\n",
       "      <td>28327</td>\n",
       "      <td>18787</td>\n",
       "      <td>7420</td>\n",
       "      <td>14751</td>\n",
       "      <td>50.3</td>\n",
       "      <td>3.0</td>\n",
       "      <td>37.0</td>\n",
       "      <td>...</td>\n",
       "      <td>1951</td>\n",
       "      <td>751.0</td>\n",
       "      <td>1147.0</td>\n",
       "      <td>1223.0</td>\n",
       "      <td>50.3</td>\n",
       "      <td>55.1</td>\n",
       "      <td>1.435446</td>\n",
       "      <td>11897.0</td>\n",
       "      <td>13.963615</td>\n",
       "      <td>34.505146</td>\n",
       "    </tr>\n",
       "  </tbody>\n",
       "</table>\n",
       "<p>10 rows × 27 columns</p>\n",
       "</div>"
      ],
      "text/plain": [
       "       #               Player    GP    MIN    PTS    FGM    FGA   FG%     3PM  \\\n",
       "7      8     Shaquille O'Neal  1207  41917  28596  11330  19457  58.2     1.0   \n",
       "3      4       Michael Jordan  1072  41010  32292  12192  24537  49.7   581.0   \n",
       "39    40        George Gervin   791  26536  20708   8045  15747  51.1    77.0   \n",
       "0      1  Kareem Abdul-Jabbar  1560  57446  38387  15837  28307  55.9     1.0   \n",
       "381  382        Anthony Davis   410  14258   9607   3623   7004  51.7   133.0   \n",
       "27    28       Adrian Dantley   955  34151  23177   8169  15121  54.0     7.0   \n",
       "35    36         Kevin Durant   771  28603  20913   7093  14476  49.0  1433.0   \n",
       "6      7         LeBron James  1143  44297  31038  11280  22383  50.4  1616.0   \n",
       "279  280       David Thompson   509  16305  11264   4213   8365  50.4    23.0   \n",
       "60    61           Bob McAdoo   852  28327  18787   7420  14751  50.3     3.0   \n",
       "\n",
       "        3PA  ...   AST     STL     BLK     TOV  eFG%   TS%      TOV%      TOT  \\\n",
       "7      22.0  ...  3026   739.0  2732.0  3310.0  58.2  58.6  2.742336  19596.0   \n",
       "3    1778.0  ...  5633  2514.0   893.0  2924.0  50.9  56.9  2.727612  15712.0   \n",
       "39    259.0  ...  2214   941.0   670.0  2137.0  51.3  57.2  2.701643   7432.0   \n",
       "0      18.0  ...  5660  1160.0  3189.0  2527.0  55.9  59.2  1.619872  27449.0   \n",
       "381   431.0  ...   764   551.0   986.0   757.0  52.7  58.3  1.846341   6535.0   \n",
       "27     41.0  ...  2830   944.0   150.0  2503.0  54.0  61.7  2.620942   9379.0   \n",
       "35   3734.0  ...  3029   890.0   857.0  2428.0  53.9  61.1  3.149157  10271.0   \n",
       "6    4701.0  ...  8208  1865.0   888.0  3966.0  54.0  58.6  3.469816  19376.0   \n",
       "279    83.0  ...  1631   459.0   407.0  1129.0  50.5  56.6  2.218075   4418.0   \n",
       "60     37.0  ...  1951   751.0  1147.0  1223.0  50.3  55.1  1.435446  11897.0   \n",
       "\n",
       "         TOTpG        KEN  \n",
       "7    16.235294  40.222426  \n",
       "3    14.656716  39.885268  \n",
       "39    9.395702  39.431484  \n",
       "0    17.595513  38.923986  \n",
       "381  15.939024  37.088293  \n",
       "27    9.820942  35.414977  \n",
       "35   13.321660  35.240949  \n",
       "6    16.951881  34.628267  \n",
       "279   8.679764  34.519032  \n",
       "60   13.963615  34.505146  \n",
       "\n",
       "[10 rows x 27 columns]"
      ]
     },
     "execution_count": 67,
     "metadata": {},
     "output_type": "execute_result"
    }
   ],
   "source": [
    "# df nach 'KEN' sortieren, Top 10\n",
    "df.sort_values('KEN', ascending=False).head(10)"
   ]
  },
  {
   "cell_type": "code",
   "execution_count": 70,
   "metadata": {},
   "outputs": [],
   "source": [
    "# Liste in neuem dataframe 'Top10' speichern (nur Spielername und KEN)\n",
    "Top10 = df.sort_values('KEN', ascending=False).head(10)[[\"Player\", \"KEN\"]]"
   ]
  },
  {
   "cell_type": "markdown",
   "metadata": {},
   "source": [
    "**Und:** Wer ist der beste NBA-Spieler aller Zeiten?"
   ]
  },
  {
   "cell_type": "code",
   "execution_count": 72,
   "metadata": {},
   "outputs": [],
   "source": [
    "#Antwort\n",
    "### Shaq!"
   ]
  },
  {
   "cell_type": "markdown",
   "metadata": {},
   "source": [
    "## Resultat speichern"
   ]
  },
  {
   "cell_type": "markdown",
   "metadata": {},
   "source": [
    "Um die Tabelle weiter zu verwenden, zum Beispiel für einen Graph in einem anderen Programm, können wir sie exportieren. Wir gehen dabei ähnlich vor wie beim öffnen, nur umgekehrt. Wir wählen dazu das Datenformat csv."
   ]
  },
  {
   "cell_type": "code",
   "execution_count": 73,
   "metadata": {},
   "outputs": [],
   "source": [
    "path = 'dataprojects/nba-players/meine-alltimeliste.csv'"
   ]
  },
  {
   "cell_type": "markdown",
   "metadata": {},
   "source": [
    "Wichtig: Wenn wir den Index nicht mitspeichern wollen (das sind die fetten Zahlen am Rand), müssen wir das mitteilen."
   ]
  },
  {
   "cell_type": "code",
   "execution_count": 74,
   "metadata": {},
   "outputs": [],
   "source": [
    "Top10.to_csv(path, index=False)"
   ]
  },
  {
   "cell_type": "markdown",
   "metadata": {},
   "source": [
    "**Check: **Hat es funktioniert?"
   ]
  },
  {
   "cell_type": "code",
   "execution_count": 75,
   "metadata": {},
   "outputs": [],
   "source": [
    "check = pd.read_csv(path)"
   ]
  },
  {
   "cell_type": "code",
   "execution_count": 76,
   "metadata": {},
   "outputs": [
    {
     "data": {
      "text/html": [
       "<div>\n",
       "<style scoped>\n",
       "    .dataframe tbody tr th:only-of-type {\n",
       "        vertical-align: middle;\n",
       "    }\n",
       "\n",
       "    .dataframe tbody tr th {\n",
       "        vertical-align: top;\n",
       "    }\n",
       "\n",
       "    .dataframe thead th {\n",
       "        text-align: right;\n",
       "    }\n",
       "</style>\n",
       "<table border=\"1\" class=\"dataframe\">\n",
       "  <thead>\n",
       "    <tr style=\"text-align: right;\">\n",
       "      <th></th>\n",
       "      <th>Player</th>\n",
       "      <th>KEN</th>\n",
       "    </tr>\n",
       "  </thead>\n",
       "  <tbody>\n",
       "    <tr>\n",
       "      <th>0</th>\n",
       "      <td>Shaquille O'Neal</td>\n",
       "      <td>40.222426</td>\n",
       "    </tr>\n",
       "    <tr>\n",
       "      <th>1</th>\n",
       "      <td>Michael Jordan</td>\n",
       "      <td>39.885268</td>\n",
       "    </tr>\n",
       "    <tr>\n",
       "      <th>2</th>\n",
       "      <td>George Gervin</td>\n",
       "      <td>39.431484</td>\n",
       "    </tr>\n",
       "    <tr>\n",
       "      <th>3</th>\n",
       "      <td>Kareem Abdul-Jabbar</td>\n",
       "      <td>38.923986</td>\n",
       "    </tr>\n",
       "    <tr>\n",
       "      <th>4</th>\n",
       "      <td>Anthony Davis</td>\n",
       "      <td>37.088293</td>\n",
       "    </tr>\n",
       "    <tr>\n",
       "      <th>5</th>\n",
       "      <td>Adrian Dantley</td>\n",
       "      <td>35.414977</td>\n",
       "    </tr>\n",
       "    <tr>\n",
       "      <th>6</th>\n",
       "      <td>Kevin Durant</td>\n",
       "      <td>35.240949</td>\n",
       "    </tr>\n",
       "    <tr>\n",
       "      <th>7</th>\n",
       "      <td>LeBron James</td>\n",
       "      <td>34.628267</td>\n",
       "    </tr>\n",
       "    <tr>\n",
       "      <th>8</th>\n",
       "      <td>David Thompson</td>\n",
       "      <td>34.519032</td>\n",
       "    </tr>\n",
       "    <tr>\n",
       "      <th>9</th>\n",
       "      <td>Bob McAdoo</td>\n",
       "      <td>34.505146</td>\n",
       "    </tr>\n",
       "  </tbody>\n",
       "</table>\n",
       "</div>"
      ],
      "text/plain": [
       "                Player        KEN\n",
       "0     Shaquille O'Neal  40.222426\n",
       "1       Michael Jordan  39.885268\n",
       "2        George Gervin  39.431484\n",
       "3  Kareem Abdul-Jabbar  38.923986\n",
       "4        Anthony Davis  37.088293\n",
       "5       Adrian Dantley  35.414977\n",
       "6         Kevin Durant  35.240949\n",
       "7         LeBron James  34.628267\n",
       "8       David Thompson  34.519032\n",
       "9           Bob McAdoo  34.505146"
      ]
     },
     "execution_count": 76,
     "metadata": {},
     "output_type": "execute_result"
    }
   ],
   "source": [
    "check"
   ]
  },
  {
   "cell_type": "markdown",
   "metadata": {},
   "source": [
    "## Plotting Level 2"
   ]
  },
  {
   "cell_type": "markdown",
   "metadata": {},
   "source": [
    "Es gibt nicht nur Bar- und Linecharts, sondern auch weitere Chartformate, die sich in Pandas recht praktisch generieren lassen."
   ]
  },
  {
   "cell_type": "markdown",
   "metadata": {},
   "source": [
    "### Histogramme"
   ]
  },
  {
   "cell_type": "markdown",
   "metadata": {},
   "source": [
    "Eine nette Funktion, um ein Datenset zu analysieren, sind Histogramme. Mit ihnen können wir ziemlich schnell sichtbar machen, wie die Werte in einer bestimmten Spalte verteilt sind.\n",
    "\n",
    "Pandas stellt dazu die Funktion `hist()` zur Verfügung."
   ]
  },
  {
   "cell_type": "markdown",
   "metadata": {},
   "source": [
    "**Beispiel:** Die Anzahl Punkte, die ein Spieler in seiner Karriere gesammelt hat."
   ]
  },
  {
   "cell_type": "code",
   "execution_count": 83,
   "metadata": {},
   "outputs": [
    {
     "data": {
      "text/plain": [
       "<matplotlib.axes._subplots.AxesSubplot at 0x120801630>"
      ]
     },
     "execution_count": 83,
     "metadata": {},
     "output_type": "execute_result"
    },
    {
     "data": {
      "image/png": "[encoded data removed]",
      "text/plain": [
       "<Figure size 432x288 with 1 Axes>"
      ]
     },
     "metadata": {
      "needs_background": "light"
     },
     "output_type": "display_data"
    }
   ],
   "source": [
    "df['PTS'].hist()"
   ]
  },
  {
   "cell_type": "markdown",
   "metadata": {},
   "source": [
    "Mit dem Parameter `bins` können wir das Histogramm feingliedriger gestalten:"
   ]
  },
  {
   "cell_type": "code",
   "execution_count": 91,
   "metadata": {},
   "outputs": [
    {
     "data": {
      "text/plain": [
       "<matplotlib.axes._subplots.AxesSubplot at 0x12108a3c8>"
      ]
     },
     "execution_count": 91,
     "metadata": {},
     "output_type": "execute_result"
    },
    {
     "data": {
      "image/png": "[encoded data removed]",
      "text/plain": [
       "<Figure size 432x288 with 1 Axes>"
      ]
     },
     "metadata": {
      "needs_background": "light"
     },
     "output_type": "display_data"
    }
   ],
   "source": [
    "df['PTS'].hist(bins=50)"
   ]
  },
  {
   "cell_type": "markdown",
   "metadata": {},
   "source": [
    "Man sieht: Die Verteilung der Punkte ist ziemlich linksschief. Die allermeisten Spieler haben zwischen 5000 und 15000 Punkten gesammelt. Über 25'000 sind nur die wenigsten gekommen."
   ]
  },
  {
   "cell_type": "markdown",
   "metadata": {},
   "source": [
    "**Quiz:** Plotten Sie die eigene Alltime-Kennzahl in einem Histogramm. Ist die Verteilung ähnlich?"
   ]
  },
  {
   "cell_type": "code",
   "execution_count": 93,
   "metadata": {},
   "outputs": [
    {
     "data": {
      "text/plain": [
       "<matplotlib.axes._subplots.AxesSubplot at 0x1214949e8>"
      ]
     },
     "execution_count": 93,
     "metadata": {},
     "output_type": "execute_result"
    },
    {
     "data": {
      "image/png": "[encoded data removed]",
      "text/plain": [
       "<Figure size 432x288 with 1 Axes>"
      ]
     },
     "metadata": {
      "needs_background": "light"
     },
     "output_type": "display_data"
    }
   ],
   "source": [
    "df['KEN'].hist(bins=50)"
   ]
  },
  {
   "cell_type": "markdown",
   "metadata": {},
   "source": [
    "### Scatterplot"
   ]
  },
  {
   "cell_type": "markdown",
   "metadata": {},
   "source": [
    "Scatterplots eignen sich für den Vergleich von zwei Spalten. Man erhält mit ihnen rasch eine Idee davon, ob die Werte in einer Spalte mit der anderen Spalte in Zusammenhang stehen."
   ]
  },
  {
   "cell_type": "markdown",
   "metadata": {},
   "source": [
    "**Beispiel:** Die Anzahl gesammelter Punkte und die Wurfquote"
   ]
  },
  {
   "cell_type": "code",
   "execution_count": 96,
   "metadata": {},
   "outputs": [
    {
     "data": {
      "text/plain": [
       "<matplotlib.axes._subplots.AxesSubplot at 0x121594da0>"
      ]
     },
     "execution_count": 96,
     "metadata": {},
     "output_type": "execute_result"
    },
    {
     "data": {
      "image/png": "[encoded data removed]",
      "text/plain": [
       "<Figure size 432x288 with 1 Axes>"
      ]
     },
     "metadata": {
      "needs_background": "light"
     },
     "output_type": "display_data"
    }
   ],
   "source": [
    "df.plot(kind='scatter', x='PTS', y='FG%')"
   ]
  },
  {
   "cell_type": "code",
   "execution_count": 97,
   "metadata": {},
   "outputs": [
    {
     "data": {
      "text/plain": [
       "<matplotlib.axes._subplots.AxesSubplot at 0x1218deda0>"
      ]
     },
     "execution_count": 97,
     "metadata": {},
     "output_type": "execute_result"
    },
    {
     "data": {
      "image/png": "[encoded data removed]",
      "text/plain": [
       "<Figure size 432x288 with 1 Axes>"
      ]
     },
     "metadata": {
      "needs_background": "light"
     },
     "output_type": "display_data"
    }
   ],
   "source": [
    "df[\"PpMin\"] = df[\"PTS\"] / df[\"MIN\"]\n",
    "df.plot(kind='scatter', x='PpMin', y='FG%')"
   ]
  },
  {
   "cell_type": "markdown",
   "metadata": {},
   "source": [
    "Man sieht: Auch Spieler mit einer mittelguten Wurfquote haben es im Lauf ihrer Karriere zu grossen Punktesammlern gebracht."
   ]
  },
  {
   "cell_type": "markdown",
   "metadata": {},
   "source": [
    "**Quiz:** Erforschen Sie den Zusammenhang zwischen den total gesammelten Punkten und Ihrer eigenen Kennzahl in einem Scatterplot!"
   ]
  },
  {
   "cell_type": "code",
   "execution_count": 95,
   "metadata": {},
   "outputs": [
    {
     "data": {
      "text/plain": [
       "<matplotlib.axes._subplots.AxesSubplot at 0x121744358>"
      ]
     },
     "execution_count": 95,
     "metadata": {},
     "output_type": "execute_result"
    },
    {
     "data": {
      "image/png": "[encoded data removed]",
      "text/plain": [
       "<Figure size 432x288 with 1 Axes>"
      ]
     },
     "metadata": {
      "needs_background": "light"
     },
     "output_type": "display_data"
    }
   ],
   "source": [
    "#Plot\n",
    "df.plot(kind='scatter', x='PTS', y='KEN')"
   ]
  },
  {
   "cell_type": "markdown",
   "metadata": {
    "collapsed": true
   },
   "source": [
    "Wir können den Scatterplot auch noch schöner darstellen:\n",
    "\n",
    "- mit Punkten in unterschiedlicher Grösse, entsprechend der Anzahl Punkte, die ein Spieler gesammelt hat"
   ]
  },
  {
   "cell_type": "code",
   "execution_count": 114,
   "metadata": {},
   "outputs": [],
   "source": [
    "area = df['PTS'] / 500\n",
    "# \"/500 macht einfach Kreisradien künstlich kleiner\"\n",
    "\n",
    "area = 500 / df['PTS'].max() * df[\"PTS\"]\n",
    "# Wenn mans so schreibt, dann legt man die Maximalgrösse (die Grösse des grössten Punkts) auf 500 fest"
   ]
  },
  {
   "cell_type": "markdown",
   "metadata": {},
   "source": [
    "- und grösser. Wir untersuchen: Gibt es einen Zusammenhang zwischen KEN und der Anzahl Spiele, die ein Spieler geamcht hat?"
   ]
  },
  {
   "cell_type": "code",
   "execution_count": 115,
   "metadata": {},
   "outputs": [
    {
     "data": {
      "text/plain": [
       "<matplotlib.axes._subplots.AxesSubplot at 0x1222dc240>"
      ]
     },
     "execution_count": 115,
     "metadata": {},
     "output_type": "execute_result"
    },
    {
     "data": {
      "image/png": "[encoded data removed]",
      "text/plain": [
       "<Figure size 720x504 with 1 Axes>"
      ]
     },
     "metadata": {
      "needs_background": "light"
     },
     "output_type": "display_data"
    }
   ],
   "source": [
    "df.plot(kind='scatter', x='GP', y='KEN', s=area, alpha=0.5, figsize=(10,7))"
   ]
  },
  {
   "cell_type": "markdown",
   "metadata": {},
   "source": [
    "**Quiz:** Untersuchen Sie, wie die Wurfquote (FG%), die Freiwurfquote (FT%) und Ihre eigene Kennzahl zusammenhängen. Stellen Sie das Ergebnis in einem Scatterplot dar."
   ]
  },
  {
   "cell_type": "code",
   "execution_count": 117,
   "metadata": {},
   "outputs": [
    {
     "data": {
      "text/plain": [
       "<matplotlib.axes._subplots.AxesSubplot at 0x122c2cc18>"
      ]
     },
     "execution_count": 117,
     "metadata": {},
     "output_type": "execute_result"
    },
    {
     "data": {
      "image/png": "[encoded data removed]",
      "text/plain": [
       "<Figure size 720x504 with 1 Axes>"
      ]
     },
     "metadata": {
      "needs_background": "light"
     },
     "output_type": "display_data"
    }
   ],
   "source": [
    "#Plot\n",
    "dot = 400 / df[\"KEN\"].max() * df[\"KEN\"]\n",
    "\n",
    "df.plot(kind=\"scatter\", x=\"FG%\", y= \"FT%\", s= dot, alpha=0.5, figsize = (10,7))"
   ]
  },
  {
   "cell_type": "code",
   "execution_count": null,
   "metadata": {},
   "outputs": [],
   "source": []
  },
  {
   "cell_type": "code",
   "execution_count": null,
   "metadata": {},
   "outputs": [],
   "source": []
  }
 ],
 "metadata": {
  "kernelspec": {
   "display_name": "Python 3",
   "language": "python",
   "name": "python3"
  },
  "language_info": {
   "codemirror_mode": {
    "name": "ipython",
    "version": 3
   },
   "file_extension": ".py",
   "mimetype": "text/x-python",
   "name": "python",
   "nbconvert_exporter": "python",
   "pygments_lexer": "ipython3",
   "version": "3.7.4"
  }
 },
 "nbformat": 4,
 "nbformat_minor": 2
}
